{
 "cells": [
  {
   "cell_type": "code",
   "execution_count": 1,
   "metadata": {},
   "outputs": [],
   "source": [
    "import pandas as pd\n",
    "import numpy as np\n",
    "import matplotlib.pyplot as plt"
   ]
  },
  {
   "cell_type": "code",
   "execution_count": 65,
   "metadata": {},
   "outputs": [],
   "source": [
    "train = pd.read_csv('../moblie_data/train_clean.csv')\n",
    "test = pd.read_csv('../moblie_data/test_clean.csv')\n",
    "train = train.iloc[:,1:]\n",
    "test = test.iloc[:,1:]"
   ]
  },
  {
   "cell_type": "code",
   "execution_count": 33,
   "metadata": {},
   "outputs": [],
   "source": [
    "pd.options.display.max_columns = 100"
   ]
  },
  {
   "cell_type": "code",
   "execution_count": 36,
   "metadata": {},
   "outputs": [],
   "source": [
    "train_1 = train[train.service_type == 1]\n",
    "train_4 = train[train.service_type == 4]\n",
    "test_1 = test[test.service_type == 1]\n",
    "test_4 = test[test.service_type == 4]"
   ]
  },
  {
   "cell_type": "code",
   "execution_count": 44,
   "metadata": {},
   "outputs": [
    {
     "name": "stdout",
     "output_type": "stream",
     "text": [
      "<class 'pandas.core.frame.DataFrame'>\n",
      "RangeIndex: 612652 entries, 0 to 612651\n",
      "Data columns (total 27 columns):\n",
      "service_type              612652 non-null int64\n",
      "is_mix_service            612652 non-null int64\n",
      "online_time               612652 non-null int64\n",
      "1_total_fee               612652 non-null float64\n",
      "2_total_fee               612648 non-null float64\n",
      "3_total_fee               612651 non-null float64\n",
      "4_total_fee               612652 non-null float64\n",
      "month_traffic             612652 non-null float64\n",
      "many_over_bill            612652 non-null int64\n",
      "contract_type             612652 non-null int64\n",
      "contract_time             611652 non-null float64\n",
      "is_promise_low_consume    612652 non-null int64\n",
      "net_service               612652 non-null int64\n",
      "pay_times                 612652 non-null int64\n",
      "pay_num                   612652 non-null float64\n",
      "last_month_traffic        612652 non-null float64\n",
      "local_trafffic_month      612652 non-null float64\n",
      "local_caller_time         612652 non-null float64\n",
      "service1_caller_time      612652 non-null float64\n",
      "service2_caller_time      612652 non-null float64\n",
      "gender                    612652 non-null int64\n",
      "age                       594649 non-null float64\n",
      "complaint_level           612652 non-null int64\n",
      "former_complaint_num      612652 non-null int64\n",
      "former_complaint_fee      612652 non-null float64\n",
      "current_service           612652 non-null int64\n",
      "user_id                   612652 non-null object\n",
      "dtypes: float64(14), int64(12), object(1)\n",
      "memory usage: 126.2+ MB\n"
     ]
    }
   ],
   "source": [
    "train.info()"
   ]
  },
  {
   "cell_type": "code",
   "execution_count": 45,
   "metadata": {},
   "outputs": [
    {
     "name": "stdout",
     "output_type": "stream",
     "text": [
      "<class 'pandas.core.frame.DataFrame'>\n",
      "RangeIndex: 262565 entries, 0 to 262564\n",
      "Data columns (total 26 columns):\n",
      "service_type              262565 non-null int64\n",
      "is_mix_service            262565 non-null int64\n",
      "online_time               262565 non-null int64\n",
      "1_total_fee               262565 non-null float64\n",
      "2_total_fee               262564 non-null float64\n",
      "3_total_fee               262563 non-null float64\n",
      "4_total_fee               262565 non-null float64\n",
      "month_traffic             262565 non-null float64\n",
      "many_over_bill            262565 non-null int64\n",
      "contract_type             262565 non-null int64\n",
      "contract_time             262120 non-null float64\n",
      "is_promise_low_consume    262565 non-null int64\n",
      "net_service               262565 non-null int64\n",
      "pay_times                 262565 non-null int64\n",
      "pay_num                   262565 non-null float64\n",
      "last_month_traffic        262565 non-null float64\n",
      "local_trafffic_month      262565 non-null float64\n",
      "local_caller_time         262565 non-null float64\n",
      "service1_caller_time      262565 non-null float64\n",
      "service2_caller_time      262565 non-null float64\n",
      "gender                    262565 non-null int64\n",
      "age                       254921 non-null float64\n",
      "complaint_level           262565 non-null int64\n",
      "former_complaint_num      262565 non-null int64\n",
      "former_complaint_fee      262565 non-null int64\n",
      "user_id                   262565 non-null object\n",
      "dtypes: float64(13), int64(12), object(1)\n",
      "memory usage: 52.1+ MB\n"
     ]
    }
   ],
   "source": [
    "test.info()"
   ]
  },
  {
   "cell_type": "code",
   "execution_count": 38,
   "metadata": {
    "scrolled": false
   },
   "outputs": [
    {
     "data": {
      "text/plain": [
       "service_type              False\n",
       "is_mix_service            False\n",
       "online_time               False\n",
       "1_total_fee               False\n",
       "2_total_fee               False\n",
       "3_total_fee               False\n",
       "4_total_fee               False\n",
       "month_traffic             False\n",
       "many_over_bill            False\n",
       "contract_type             False\n",
       "contract_time             False\n",
       "is_promise_low_consume    False\n",
       "net_service               False\n",
       "pay_times                 False\n",
       "pay_num                   False\n",
       "last_month_traffic        False\n",
       "local_trafffic_month      False\n",
       "local_caller_time         False\n",
       "service1_caller_time      False\n",
       "service2_caller_time      False\n",
       "gender                    False\n",
       "age                        True\n",
       "complaint_level           False\n",
       "former_complaint_num      False\n",
       "former_complaint_fee      False\n",
       "current_service           False\n",
       "user_id                   False\n",
       "dtype: bool"
      ]
     },
     "execution_count": 38,
     "metadata": {},
     "output_type": "execute_result"
    }
   ],
   "source": [
    "train_1.isna().any()"
   ]
  },
  {
   "cell_type": "code",
   "execution_count": 39,
   "metadata": {},
   "outputs": [
    {
     "data": {
      "text/plain": [
       "service_type              False\n",
       "is_mix_service            False\n",
       "online_time               False\n",
       "1_total_fee               False\n",
       "2_total_fee               False\n",
       "3_total_fee                True\n",
       "4_total_fee               False\n",
       "month_traffic             False\n",
       "many_over_bill            False\n",
       "contract_type             False\n",
       "contract_time             False\n",
       "is_promise_low_consume    False\n",
       "net_service               False\n",
       "pay_times                 False\n",
       "pay_num                   False\n",
       "last_month_traffic        False\n",
       "local_trafffic_month      False\n",
       "local_caller_time         False\n",
       "service1_caller_time      False\n",
       "service2_caller_time      False\n",
       "gender                    False\n",
       "age                        True\n",
       "complaint_level           False\n",
       "former_complaint_num      False\n",
       "former_complaint_fee      False\n",
       "user_id                   False\n",
       "dtype: bool"
      ]
     },
     "execution_count": 39,
     "metadata": {},
     "output_type": "execute_result"
    }
   ],
   "source": [
    "test_1.isna().any()"
   ]
  },
  {
   "cell_type": "markdown",
   "metadata": {},
   "source": [
    "## total_fee处理"
   ]
  },
  {
   "cell_type": "code",
   "execution_count": 66,
   "metadata": {},
   "outputs": [],
   "source": [
    "#训练集直接删掉\n",
    "train = train[train['2_total_fee'].notna()]"
   ]
  },
  {
   "cell_type": "code",
   "execution_count": 67,
   "metadata": {},
   "outputs": [
    {
     "data": {
      "text/plain": [
       "(612648, 27)"
      ]
     },
     "execution_count": 67,
     "metadata": {},
     "output_type": "execute_result"
    }
   ],
   "source": [
    "train.shape"
   ]
  },
  {
   "cell_type": "code",
   "execution_count": 69,
   "metadata": {
    "scrolled": true
   },
   "outputs": [
    {
     "data": {
      "text/html": [
       "<div>\n",
       "<style scoped>\n",
       "    .dataframe tbody tr th:only-of-type {\n",
       "        vertical-align: middle;\n",
       "    }\n",
       "\n",
       "    .dataframe tbody tr th {\n",
       "        vertical-align: top;\n",
       "    }\n",
       "\n",
       "    .dataframe thead th {\n",
       "        text-align: right;\n",
       "    }\n",
       "</style>\n",
       "<table border=\"1\" class=\"dataframe\">\n",
       "  <thead>\n",
       "    <tr style=\"text-align: right;\">\n",
       "      <th></th>\n",
       "      <th>service_type</th>\n",
       "      <th>is_mix_service</th>\n",
       "      <th>online_time</th>\n",
       "      <th>1_total_fee</th>\n",
       "      <th>2_total_fee</th>\n",
       "      <th>3_total_fee</th>\n",
       "      <th>4_total_fee</th>\n",
       "      <th>month_traffic</th>\n",
       "      <th>many_over_bill</th>\n",
       "      <th>contract_type</th>\n",
       "      <th>contract_time</th>\n",
       "      <th>is_promise_low_consume</th>\n",
       "      <th>net_service</th>\n",
       "      <th>pay_times</th>\n",
       "      <th>pay_num</th>\n",
       "      <th>last_month_traffic</th>\n",
       "      <th>local_trafffic_month</th>\n",
       "      <th>local_caller_time</th>\n",
       "      <th>service1_caller_time</th>\n",
       "      <th>service2_caller_time</th>\n",
       "      <th>gender</th>\n",
       "      <th>age</th>\n",
       "      <th>complaint_level</th>\n",
       "      <th>former_complaint_num</th>\n",
       "      <th>former_complaint_fee</th>\n",
       "      <th>user_id</th>\n",
       "    </tr>\n",
       "  </thead>\n",
       "  <tbody>\n",
       "    <tr>\n",
       "      <th>131428</th>\n",
       "      <td>4</td>\n",
       "      <td>0</td>\n",
       "      <td>1</td>\n",
       "      <td>61.73</td>\n",
       "      <td>NaN</td>\n",
       "      <td>NaN</td>\n",
       "      <td>73.2</td>\n",
       "      <td>1027.356342</td>\n",
       "      <td>0</td>\n",
       "      <td>0</td>\n",
       "      <td>0.0</td>\n",
       "      <td>0</td>\n",
       "      <td>4</td>\n",
       "      <td>1</td>\n",
       "      <td>120.0</td>\n",
       "      <td>0.0</td>\n",
       "      <td>1027.40856</td>\n",
       "      <td>1.283333</td>\n",
       "      <td>1.283333</td>\n",
       "      <td>0.0</td>\n",
       "      <td>2</td>\n",
       "      <td>25.0</td>\n",
       "      <td>3</td>\n",
       "      <td>1</td>\n",
       "      <td>0</td>\n",
       "      <td>G2sq16HZSxYagKwL</td>\n",
       "    </tr>\n",
       "    <tr>\n",
       "      <th>131428</th>\n",
       "      <td>4</td>\n",
       "      <td>0</td>\n",
       "      <td>1</td>\n",
       "      <td>61.73</td>\n",
       "      <td>NaN</td>\n",
       "      <td>NaN</td>\n",
       "      <td>73.2</td>\n",
       "      <td>1027.356342</td>\n",
       "      <td>0</td>\n",
       "      <td>0</td>\n",
       "      <td>0.0</td>\n",
       "      <td>0</td>\n",
       "      <td>4</td>\n",
       "      <td>1</td>\n",
       "      <td>120.0</td>\n",
       "      <td>0.0</td>\n",
       "      <td>1027.40856</td>\n",
       "      <td>1.283333</td>\n",
       "      <td>1.283333</td>\n",
       "      <td>0.0</td>\n",
       "      <td>2</td>\n",
       "      <td>25.0</td>\n",
       "      <td>3</td>\n",
       "      <td>1</td>\n",
       "      <td>0</td>\n",
       "      <td>G2sq16HZSxYagKwL</td>\n",
       "    </tr>\n",
       "    <tr>\n",
       "      <th>170278</th>\n",
       "      <td>1</td>\n",
       "      <td>0</td>\n",
       "      <td>2</td>\n",
       "      <td>39.90</td>\n",
       "      <td>77.0</td>\n",
       "      <td>NaN</td>\n",
       "      <td>0.0</td>\n",
       "      <td>0.000000</td>\n",
       "      <td>0</td>\n",
       "      <td>0</td>\n",
       "      <td>0.0</td>\n",
       "      <td>0</td>\n",
       "      <td>4</td>\n",
       "      <td>1</td>\n",
       "      <td>30.0</td>\n",
       "      <td>0.0</td>\n",
       "      <td>0.00000</td>\n",
       "      <td>0.000000</td>\n",
       "      <td>6.833333</td>\n",
       "      <td>0.0</td>\n",
       "      <td>1</td>\n",
       "      <td>22.0</td>\n",
       "      <td>3</td>\n",
       "      <td>1</td>\n",
       "      <td>0</td>\n",
       "      <td>lVFau8U7twgrPSxL</td>\n",
       "    </tr>\n",
       "  </tbody>\n",
       "</table>\n",
       "</div>"
      ],
      "text/plain": [
       "        service_type  is_mix_service  online_time  1_total_fee  2_total_fee  \\\n",
       "131428             4               0            1        61.73          NaN   \n",
       "131428             4               0            1        61.73          NaN   \n",
       "170278             1               0            2        39.90         77.0   \n",
       "\n",
       "        3_total_fee  4_total_fee  month_traffic  many_over_bill  \\\n",
       "131428          NaN         73.2    1027.356342               0   \n",
       "131428          NaN         73.2    1027.356342               0   \n",
       "170278          NaN          0.0       0.000000               0   \n",
       "\n",
       "        contract_type  contract_time  is_promise_low_consume  net_service  \\\n",
       "131428              0            0.0                       0            4   \n",
       "131428              0            0.0                       0            4   \n",
       "170278              0            0.0                       0            4   \n",
       "\n",
       "        pay_times  pay_num  last_month_traffic  local_trafffic_month  \\\n",
       "131428          1    120.0                 0.0            1027.40856   \n",
       "131428          1    120.0                 0.0            1027.40856   \n",
       "170278          1     30.0                 0.0               0.00000   \n",
       "\n",
       "        local_caller_time  service1_caller_time  service2_caller_time  gender  \\\n",
       "131428           1.283333              1.283333                   0.0       2   \n",
       "131428           1.283333              1.283333                   0.0       2   \n",
       "170278           0.000000              6.833333                   0.0       1   \n",
       "\n",
       "         age  complaint_level  former_complaint_num  former_complaint_fee  \\\n",
       "131428  25.0                3                     1                     0   \n",
       "131428  25.0                3                     1                     0   \n",
       "170278  22.0                3                     1                     0   \n",
       "\n",
       "                 user_id  \n",
       "131428  G2sq16HZSxYagKwL  \n",
       "131428  G2sq16HZSxYagKwL  \n",
       "170278  lVFau8U7twgrPSxL  "
      ]
     },
     "execution_count": 69,
     "metadata": {},
     "output_type": "execute_result"
    }
   ],
   "source": [
    "test[test[['2_total_fee','3_total_fee']].isna().values==True]"
   ]
  },
  {
   "cell_type": "code",
   "execution_count": null,
   "metadata": {},
   "outputs": [],
   "source": [
    "#test填0 or 注释掉先不管\n",
    "#test[['2_total_fee','3_total_fee']]=test[['2_total_fee','3_total_fee']].fillna(0)"
   ]
  },
  {
   "cell_type": "markdown",
   "metadata": {},
   "source": [
    "## contract_time -1（NA）处理\n",
    "只有type4有缺失，大多数是828，用xgboost的结果预测就可以了"
   ]
  },
  {
   "cell_type": "code",
   "execution_count": 40,
   "metadata": {
    "scrolled": true
   },
   "outputs": [
    {
     "data": {
      "text/plain": [
       "0.0     386487\n",
       "12.0    115781\n",
       "24.0     72697\n",
       "36.0     16395\n",
       "10.0      3825\n",
       "13.0      3169\n",
       "30.0      2689\n",
       "23.0      1345\n",
       "11.0      1213\n",
       "26.0      1202\n",
       "15.0      1017\n",
       "18.0      1015\n",
       "8.0        991\n",
       "7.0        740\n",
       "34.0       676\n",
       "35.0       546\n",
       "16.0       406\n",
       "19.0       318\n",
       "17.0       257\n",
       "25.0       246\n",
       "20.0       184\n",
       "6.0        101\n",
       "29.0        67\n",
       "27.0        66\n",
       "21.0        44\n",
       "33.0        39\n",
       "31.0        32\n",
       "9.0         27\n",
       "14.0        21\n",
       "28.0        15\n",
       "32.0        13\n",
       "22.0        11\n",
       "45.0         3\n",
       "39.0         3\n",
       "48.0         3\n",
       "50.0         2\n",
       "52.0         2\n",
       "5.0          2\n",
       "37.0         1\n",
       "40.0         1\n",
       "Name: contract_time, dtype: int64"
      ]
     },
     "execution_count": 40,
     "metadata": {},
     "output_type": "execute_result"
    }
   ],
   "source": [
    "train.contract_time.value_counts()"
   ]
  },
  {
   "cell_type": "code",
   "execution_count": 46,
   "metadata": {
    "scrolled": true
   },
   "outputs": [
    {
     "data": {
      "text/plain": [
       "99999828    941\n",
       "99999825     17\n",
       "99999827     13\n",
       "89950166     10\n",
       "99999826      8\n",
       "89950167      7\n",
       "99999830      4\n",
       "Name: current_service, dtype: int64"
      ]
     },
     "execution_count": 46,
     "metadata": {},
     "output_type": "execute_result"
    }
   ],
   "source": [
    "train_ct_na = train[train.contract_time.isna()]\n",
    "train_ct_na.current_service.value_counts()"
   ]
  },
  {
   "cell_type": "markdown",
   "metadata": {},
   "source": [
    "## age NA（0 or 99）处理\n",
    "用rf预测"
   ]
  },
  {
   "cell_type": "code",
   "execution_count": 24,
   "metadata": {
    "scrolled": true
   },
   "outputs": [
    {
     "data": {
      "text/plain": [
       "False    594649\n",
       "True      18003\n",
       "Name: age, dtype: int64"
      ]
     },
     "execution_count": 24,
     "metadata": {},
     "output_type": "execute_result"
    }
   ],
   "source": [
    "train.age.isna().value_counts()"
   ]
  },
  {
   "cell_type": "code",
   "execution_count": 8,
   "metadata": {},
   "outputs": [
    {
     "data": {
      "text/plain": [
       "False    254921\n",
       "True       7644\n",
       "Name: age, dtype: int64"
      ]
     },
     "execution_count": 8,
     "metadata": {},
     "output_type": "execute_result"
    }
   ],
   "source": [
    "test.age.isna().value_counts()"
   ]
  },
  {
   "cell_type": "code",
   "execution_count": 60,
   "metadata": {},
   "outputs": [
    {
     "data": {
      "text/plain": [
       "array([[1.        , 0.00113572],\n",
       "       [0.00113572, 1.        ]])"
      ]
     },
     "execution_count": 60,
     "metadata": {},
     "output_type": "execute_result"
    }
   ],
   "source": [
    "np.corrcoef([train_1[train_1.age.notna()].age,train_1[train_1.age.notna()].contract_time])"
   ]
  },
  {
   "cell_type": "code",
   "execution_count": 72,
   "metadata": {},
   "outputs": [],
   "source": [
    "train_test = train.append(test, sort=False)\n",
    "age_notna = train_test[train_test.age.notna()]\n",
    "age_na = train_test[train_test.age.isna()]\n",
    "del train_test"
   ]
  },
  {
   "cell_type": "code",
   "execution_count": 79,
   "metadata": {},
   "outputs": [],
   "source": [
    "age_notna.dropna(subset=['2_total_fee','3_total_fee'],inplace=True)"
   ]
  },
  {
   "cell_type": "code",
   "execution_count": 83,
   "metadata": {},
   "outputs": [],
   "source": [
    "age_notna.drop(['contract_time','current_service', 'user_id','gender'],axis=1,inplace=True)\n",
    "age_na.drop(['contract_time','current_service', 'user_id','gender','age'],axis=1,inplace=True)"
   ]
  },
  {
   "cell_type": "code",
   "execution_count": 85,
   "metadata": {},
   "outputs": [
    {
     "data": {
      "text/plain": [
       "(849564, 23)"
      ]
     },
     "execution_count": 85,
     "metadata": {},
     "output_type": "execute_result"
    }
   ],
   "source": [
    "age_notna.shape"
   ]
  },
  {
   "cell_type": "code",
   "execution_count": 86,
   "metadata": {},
   "outputs": [
    {
     "data": {
      "text/plain": [
       "(25647, 22)"
      ]
     },
     "execution_count": 86,
     "metadata": {},
     "output_type": "execute_result"
    }
   ],
   "source": [
    "age_na.shape"
   ]
  },
  {
   "cell_type": "code",
   "execution_count": 89,
   "metadata": {},
   "outputs": [],
   "source": [
    "from sklearn import ensemble\n",
    "from sklearn import model_selection\n",
    "#from sklearn.ensemble import GradientBoostingRegressor\n",
    "from sklearn.ensemble import RandomForestRegressor\n",
    "\n",
    "def fill_missing_age(train, test):\n",
    "    X_train = train.drop('age', axis=1)\n",
    "    y_train = train['age']\n",
    "    X_test = test\n",
    "    \n",
    "    rf_reg = RandomForestRegressor()\n",
    "    rf_reg_param_grid = {'n_estimators': [200], 'max_depth': [5], 'random_state': [0]}\n",
    "    rf_reg_grid = model_selection.GridSearchCV(rf_reg, rf_reg_param_grid, cv=3,\n",
    "                                               n_jobs=25, verbose=2,\n",
    "                                               scoring='neg_mean_squared_error')\n",
    "    rf_reg_grid.fit(X_train, y_train)\n",
    "    print('Age feature Best RF Params:' + str(rf_reg_grid.best_params_))\n",
    "    print('Age feature Best RF Score:' + str(rf_reg_grid.best_score_))\n",
    "    print('RF Train Error for \"Age\" Feature Regressor' + str(rf_reg_grid.score(X_train, y_train)))\n",
    "    rf_age_test = rf_reg_grid.predict(X_test)\n",
    "    \n",
    "    return rf_age_test"
   ]
  },
  {
   "cell_type": "code",
   "execution_count": 90,
   "metadata": {},
   "outputs": [
    {
     "name": "stdout",
     "output_type": "stream",
     "text": [
      "Fitting 3 folds for each of 1 candidates, totalling 3 fits\n",
      "[CV] max_depth=5, n_estimators=200, random_state=0 ...................\n",
      "[CV] max_depth=5, n_estimators=200, random_state=0 ...................\n",
      "[CV] max_depth=5, n_estimators=200, random_state=0 ...................\n",
      "[CV] .... max_depth=5, n_estimators=200, random_state=0, total= 6.1min\n",
      "[CV] .... max_depth=5, n_estimators=200, random_state=0, total= 6.1min\n",
      "[CV] .... max_depth=5, n_estimators=200, random_state=0, total= 6.1min\n"
     ]
    },
    {
     "name": "stderr",
     "output_type": "stream",
     "text": [
      "[Parallel(n_jobs=25)]: Done   3 out of   3 | elapsed:  6.2min finished\n"
     ]
    },
    {
     "name": "stdout",
     "output_type": "stream",
     "text": [
      "Age feature Best RF Params:{'max_depth': 5, 'n_estimators': 200, 'random_state': 0}\n",
      "Age feature Best RF Score:-77.20912951391811\n",
      "RF Train Error for \"Age\" Feature Regressor-77.24508073823259\n"
     ]
    }
   ],
   "source": [
    "age_test = fill_missing_age(age_notna, age_na)"
   ]
  },
  {
   "cell_type": "code",
   "execution_count": 95,
   "metadata": {},
   "outputs": [],
   "source": [
    "pd.DataFrame(age_test).to_csv('rf_age_test.csv')"
   ]
  }
 ],
 "metadata": {
  "kernelspec": {
   "display_name": "Python 3",
   "language": "python",
   "name": "python3"
  },
  "language_info": {
   "codemirror_mode": {
    "name": "ipython",
    "version": 3
   },
   "file_extension": ".py",
   "mimetype": "text/x-python",
   "name": "python",
   "nbconvert_exporter": "python",
   "pygments_lexer": "ipython3",
   "version": "3.6.5"
  }
 },
 "nbformat": 4,
 "nbformat_minor": 2
}
