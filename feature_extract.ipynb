{
 "cells": [
  {
   "cell_type": "code",
   "execution_count": 1,
   "metadata": {},
   "outputs": [],
   "source": [
    "import pandas as pd\n",
    "import numpy as np\n",
    "import featuretools as ft"
   ]
  },
  {
   "cell_type": "code",
   "execution_count": 15,
   "metadata": {},
   "outputs": [],
   "source": [
    "pd.options.display.max_columns = 100"
   ]
  },
  {
   "cell_type": "code",
   "execution_count": 7,
   "metadata": {},
   "outputs": [],
   "source": [
    "train= pd.read_csv('../moblie_data/train_clean.csv')\n",
    "test = pd.read_csv('../moblie_data/test_clean.csv')\n",
    "train = train.iloc[:,1:]\n",
    "test = test.iloc[:,1:]"
   ]
  },
  {
   "cell_type": "code",
   "execution_count": 3,
   "metadata": {},
   "outputs": [],
   "source": [
    "train['current_service'] = train['current_service'].astype(int).astype(str)\n",
    "train['gender'] = train['gender'].astype(str)\n",
    "test['gender'] = test['gender'].astype(str)\n",
    "train[['contract_type','net_service','complaint_level']] = train[['contract_type','net_service','complaint_level']].astype(str)\n",
    "test[['contract_type','net_service','complaint_level']] = test[['contract_type','net_service','complaint_level']].astype(str)"
   ]
  },
  {
   "cell_type": "code",
   "execution_count": 4,
   "metadata": {},
   "outputs": [],
   "source": [
    "train_1 = train[train.service_type == 1].iloc[:,1:]\n",
    "#train_3 = train[train.service_type == 3].iloc[:,1:]\n",
    "train_4 = train[train.service_type == 4].iloc[:,1:]\n",
    "\n",
    "test_1 = test[test.service_type == 1].iloc[:,1:]\n",
    "#test_3 = test[test.service_type == 3].iloc[:,1:]\n",
    "test_4 = test[test.service_type == 4].iloc[:,1:]"
   ]
  },
  {
   "cell_type": "code",
   "execution_count": 10,
   "metadata": {},
   "outputs": [
    {
     "data": {
      "text/html": [
       "<div>\n",
       "<style scoped>\n",
       "    .dataframe tbody tr th:only-of-type {\n",
       "        vertical-align: middle;\n",
       "    }\n",
       "\n",
       "    .dataframe tbody tr th {\n",
       "        vertical-align: top;\n",
       "    }\n",
       "\n",
       "    .dataframe thead th {\n",
       "        text-align: right;\n",
       "    }\n",
       "</style>\n",
       "<table border=\"1\" class=\"dataframe\">\n",
       "  <thead>\n",
       "    <tr style=\"text-align: right;\">\n",
       "      <th></th>\n",
       "      <th>service_type</th>\n",
       "      <th>is_mix_service</th>\n",
       "      <th>online_time</th>\n",
       "      <th>1_total_fee</th>\n",
       "      <th>2_total_fee</th>\n",
       "      <th>3_total_fee</th>\n",
       "      <th>4_total_fee</th>\n",
       "      <th>month_traffic</th>\n",
       "      <th>many_over_bill</th>\n",
       "      <th>contract_type</th>\n",
       "      <th>...</th>\n",
       "      <th>local_caller_time</th>\n",
       "      <th>service1_caller_time</th>\n",
       "      <th>service2_caller_time</th>\n",
       "      <th>gender</th>\n",
       "      <th>age</th>\n",
       "      <th>complaint_level</th>\n",
       "      <th>former_complaint_num</th>\n",
       "      <th>former_complaint_fee</th>\n",
       "      <th>current_service</th>\n",
       "      <th>user_id</th>\n",
       "    </tr>\n",
       "  </thead>\n",
       "  <tbody>\n",
       "    <tr>\n",
       "      <th>0</th>\n",
       "      <td>4</td>\n",
       "      <td>0</td>\n",
       "      <td>85</td>\n",
       "      <td>295.96</td>\n",
       "      <td>296.20</td>\n",
       "      <td>296.00</td>\n",
       "      <td>296.80</td>\n",
       "      <td>3813.614698</td>\n",
       "      <td>0</td>\n",
       "      <td>1</td>\n",
       "      <td>...</td>\n",
       "      <td>108.100000</td>\n",
       "      <td>0.000000</td>\n",
       "      <td>564.366667</td>\n",
       "      <td>1</td>\n",
       "      <td>31.0</td>\n",
       "      <td>0</td>\n",
       "      <td>0</td>\n",
       "      <td>0.0</td>\n",
       "      <td>99999825.0</td>\n",
       "      <td>Gx4sJzcQog01UhZL</td>\n",
       "    </tr>\n",
       "    <tr>\n",
       "      <th>1</th>\n",
       "      <td>1</td>\n",
       "      <td>0</td>\n",
       "      <td>10</td>\n",
       "      <td>265.20</td>\n",
       "      <td>261.20</td>\n",
       "      <td>208.50</td>\n",
       "      <td>174.50</td>\n",
       "      <td>0.000000</td>\n",
       "      <td>1</td>\n",
       "      <td>0</td>\n",
       "      <td>...</td>\n",
       "      <td>240.100000</td>\n",
       "      <td>355.166667</td>\n",
       "      <td>0.000000</td>\n",
       "      <td>1</td>\n",
       "      <td>30.0</td>\n",
       "      <td>0</td>\n",
       "      <td>0</td>\n",
       "      <td>0.0</td>\n",
       "      <td>90063345.0</td>\n",
       "      <td>kEXrhTiug93DIcLG</td>\n",
       "    </tr>\n",
       "    <tr>\n",
       "      <th>2</th>\n",
       "      <td>1</td>\n",
       "      <td>0</td>\n",
       "      <td>12</td>\n",
       "      <td>44.50</td>\n",
       "      <td>70.20</td>\n",
       "      <td>69.00</td>\n",
       "      <td>61.40</td>\n",
       "      <td>2598.397406</td>\n",
       "      <td>0</td>\n",
       "      <td>0</td>\n",
       "      <td>...</td>\n",
       "      <td>27.666667</td>\n",
       "      <td>0.000000</td>\n",
       "      <td>98.416667</td>\n",
       "      <td>2</td>\n",
       "      <td>25.0</td>\n",
       "      <td>0</td>\n",
       "      <td>0</td>\n",
       "      <td>0.0</td>\n",
       "      <td>90109916.0</td>\n",
       "      <td>AouXr0EOUtSRdiYK</td>\n",
       "    </tr>\n",
       "    <tr>\n",
       "      <th>3</th>\n",
       "      <td>4</td>\n",
       "      <td>0</td>\n",
       "      <td>134</td>\n",
       "      <td>87.95</td>\n",
       "      <td>81.40</td>\n",
       "      <td>76.00</td>\n",
       "      <td>88.30</td>\n",
       "      <td>988.440563</td>\n",
       "      <td>0</td>\n",
       "      <td>0</td>\n",
       "      <td>...</td>\n",
       "      <td>89.900000</td>\n",
       "      <td>74.483333</td>\n",
       "      <td>121.833333</td>\n",
       "      <td>1</td>\n",
       "      <td>44.0</td>\n",
       "      <td>0</td>\n",
       "      <td>0</td>\n",
       "      <td>0.0</td>\n",
       "      <td>89950166.0</td>\n",
       "      <td>Yds7U30hnRZDiLtb</td>\n",
       "    </tr>\n",
       "    <tr>\n",
       "      <th>4</th>\n",
       "      <td>4</td>\n",
       "      <td>0</td>\n",
       "      <td>84</td>\n",
       "      <td>317.04</td>\n",
       "      <td>314.08</td>\n",
       "      <td>435.51</td>\n",
       "      <td>413.05</td>\n",
       "      <td>5885.800642</td>\n",
       "      <td>0</td>\n",
       "      <td>1</td>\n",
       "      <td>...</td>\n",
       "      <td>0.000000</td>\n",
       "      <td>35.100000</td>\n",
       "      <td>496.733333</td>\n",
       "      <td>1</td>\n",
       "      <td>31.0</td>\n",
       "      <td>2</td>\n",
       "      <td>1</td>\n",
       "      <td>0.0</td>\n",
       "      <td>99999825.0</td>\n",
       "      <td>OFDTSXrhN9Q2mbVw</td>\n",
       "    </tr>\n",
       "  </tbody>\n",
       "</table>\n",
       "<p>5 rows × 27 columns</p>\n",
       "</div>"
      ],
      "text/plain": [
       "   service_type  is_mix_service  online_time  1_total_fee  2_total_fee  \\\n",
       "0             4               0           85       295.96       296.20   \n",
       "1             1               0           10       265.20       261.20   \n",
       "2             1               0           12        44.50        70.20   \n",
       "3             4               0          134        87.95        81.40   \n",
       "4             4               0           84       317.04       314.08   \n",
       "\n",
       "   3_total_fee  4_total_fee  month_traffic  many_over_bill  contract_type  \\\n",
       "0       296.00       296.80    3813.614698               0              1   \n",
       "1       208.50       174.50       0.000000               1              0   \n",
       "2        69.00        61.40    2598.397406               0              0   \n",
       "3        76.00        88.30     988.440563               0              0   \n",
       "4       435.51       413.05    5885.800642               0              1   \n",
       "\n",
       "         ...         local_caller_time  service1_caller_time  \\\n",
       "0        ...                108.100000              0.000000   \n",
       "1        ...                240.100000            355.166667   \n",
       "2        ...                 27.666667              0.000000   \n",
       "3        ...                 89.900000             74.483333   \n",
       "4        ...                  0.000000             35.100000   \n",
       "\n",
       "   service2_caller_time  gender   age  complaint_level  former_complaint_num  \\\n",
       "0            564.366667       1  31.0                0                     0   \n",
       "1              0.000000       1  30.0                0                     0   \n",
       "2             98.416667       2  25.0                0                     0   \n",
       "3            121.833333       1  44.0                0                     0   \n",
       "4            496.733333       1  31.0                2                     1   \n",
       "\n",
       "   former_complaint_fee  current_service           user_id  \n",
       "0                   0.0       99999825.0  Gx4sJzcQog01UhZL  \n",
       "1                   0.0       90063345.0  kEXrhTiug93DIcLG  \n",
       "2                   0.0       90109916.0  AouXr0EOUtSRdiYK  \n",
       "3                   0.0       89950166.0  Yds7U30hnRZDiLtb  \n",
       "4                   0.0       99999825.0  OFDTSXrhN9Q2mbVw  \n",
       "\n",
       "[5 rows x 27 columns]"
      ]
     },
     "execution_count": 10,
     "metadata": {},
     "output_type": "execute_result"
    }
   ],
   "source": [
    "train.head()"
   ]
  },
  {
   "cell_type": "code",
   "execution_count": 13,
   "metadata": {},
   "outputs": [
    {
     "data": {
      "text/plain": [
       "(573965, 26)"
      ]
     },
     "execution_count": 13,
     "metadata": {},
     "output_type": "execute_result"
    }
   ],
   "source": [
    "train.iloc[:,:-1].drop_duplicates().shape"
   ]
  },
  {
   "cell_type": "code",
   "execution_count": 9,
   "metadata": {},
   "outputs": [
    {
     "data": {
      "text/plain": [
       "(612648, 27)"
      ]
     },
     "execution_count": 9,
     "metadata": {},
     "output_type": "execute_result"
    }
   ],
   "source": [
    "train.shape"
   ]
  }
 ],
 "metadata": {
  "kernelspec": {
   "display_name": "Python 3",
   "language": "python",
   "name": "python3"
  },
  "language_info": {
   "codemirror_mode": {
    "name": "ipython",
    "version": 3
   },
   "file_extension": ".py",
   "mimetype": "text/x-python",
   "name": "python",
   "nbconvert_exporter": "python",
   "pygments_lexer": "ipython3",
   "version": "3.6.5"
  }
 },
 "nbformat": 4,
 "nbformat_minor": 2
}
