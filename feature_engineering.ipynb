{
 "cells": [
  {
   "cell_type": "code",
<<<<<<< HEAD
   "execution_count": 11,
=======
   "execution_count": 3,
>>>>>>> 9fa2b48921550b951c93467d2d0ec077bf8ecbf2
   "metadata": {},
   "outputs": [],
   "source": [
    "import pandas as pd\n",
    "import numpy as np\n",
    "import matplotlib.pyplot as plt\n",
    "pd.options.display.max_columns = 100"
   ]
  },
  {
   "cell_type": "code",
<<<<<<< HEAD
   "execution_count": 12,
   "metadata": {},
   "outputs": [],
   "source": [
    "train = pd.read_csv('../mobile_new_data/train_clean.csv')\n",
    "test = pd.read_csv('../mobile_new_data/test_clean.csv')\n",
=======
   "execution_count": 65,
   "metadata": {},
   "outputs": [],
   "source": [
    "train = pd.read_csv('../moblie_data/train_clean.csv')\n",
    "test = pd.read_csv('../moblie_data/test_clean.csv')\n",
>>>>>>> 9fa2b48921550b951c93467d2d0ec077bf8ecbf2
    "train = train.iloc[:,1:]\n",
    "test = test.iloc[:,1:]"
   ]
  },
  {
   "cell_type": "code",
<<<<<<< HEAD
   "execution_count": 13,
=======
   "execution_count": 36,
>>>>>>> 9fa2b48921550b951c93467d2d0ec077bf8ecbf2
   "metadata": {},
   "outputs": [],
   "source": [
    "train_1 = train[train.service_type == 1]\n",
    "train_4 = train[train.service_type == 4]\n",
    "test_1 = test[test.service_type == 1]\n",
    "test_4 = test[test.service_type == 4]"
   ]
  },
  {
   "cell_type": "code",
<<<<<<< HEAD
   "execution_count": 14,
=======
   "execution_count": 44,
>>>>>>> 9fa2b48921550b951c93467d2d0ec077bf8ecbf2
   "metadata": {},
   "outputs": [
    {
     "name": "stdout",
     "output_type": "stream",
     "text": [
      "<class 'pandas.core.frame.DataFrame'>\n",
<<<<<<< HEAD
      "RangeIndex: 703427 entries, 0 to 703426\n",
      "Data columns (total 27 columns):\n",
      "service_type              703427 non-null int64\n",
      "is_mix_service            703427 non-null int64\n",
      "online_time               703427 non-null int64\n",
      "1_total_fee               703427 non-null float64\n",
      "2_total_fee               703426 non-null float64\n",
      "3_total_fee               703425 non-null float64\n",
      "4_total_fee               703427 non-null float64\n",
      "month_traffic             703427 non-null float64\n",
      "many_over_bill            703427 non-null int64\n",
      "contract_type             703427 non-null int64\n",
      "contract_time             701995 non-null float64\n",
      "is_promise_low_consume    703427 non-null int64\n",
      "net_service               703427 non-null int64\n",
      "pay_times                 703427 non-null int64\n",
      "pay_num                   703427 non-null float64\n",
      "last_month_traffic        703427 non-null float64\n",
      "local_trafffic_month      703427 non-null float64\n",
      "local_caller_time         703427 non-null float64\n",
      "service1_caller_time      703427 non-null float64\n",
      "service2_caller_time      703427 non-null float64\n",
      "gender                    703427 non-null int64\n",
      "age                       682656 non-null float64\n",
      "complaint_level           703427 non-null int64\n",
      "former_complaint_num      703427 non-null int64\n",
      "former_complaint_fee      703427 non-null float64\n",
      "current_service           703427 non-null int64\n",
      "user_id                   703427 non-null object\n",
      "dtypes: float64(14), int64(12), object(1)\n",
      "memory usage: 144.9+ MB\n"
=======
      "RangeIndex: 612652 entries, 0 to 612651\n",
      "Data columns (total 27 columns):\n",
      "service_type              612652 non-null int64\n",
      "is_mix_service            612652 non-null int64\n",
      "online_time               612652 non-null int64\n",
      "1_total_fee               612652 non-null float64\n",
      "2_total_fee               612648 non-null float64\n",
      "3_total_fee               612651 non-null float64\n",
      "4_total_fee               612652 non-null float64\n",
      "month_traffic             612652 non-null float64\n",
      "many_over_bill            612652 non-null int64\n",
      "contract_type             612652 non-null int64\n",
      "contract_time             611652 non-null float64\n",
      "is_promise_low_consume    612652 non-null int64\n",
      "net_service               612652 non-null int64\n",
      "pay_times                 612652 non-null int64\n",
      "pay_num                   612652 non-null float64\n",
      "last_month_traffic        612652 non-null float64\n",
      "local_trafffic_month      612652 non-null float64\n",
      "local_caller_time         612652 non-null float64\n",
      "service1_caller_time      612652 non-null float64\n",
      "service2_caller_time      612652 non-null float64\n",
      "gender                    612652 non-null int64\n",
      "age                       594649 non-null float64\n",
      "complaint_level           612652 non-null int64\n",
      "former_complaint_num      612652 non-null int64\n",
      "former_complaint_fee      612652 non-null float64\n",
      "current_service           612652 non-null int64\n",
      "user_id                   612652 non-null object\n",
      "dtypes: float64(14), int64(12), object(1)\n",
      "memory usage: 126.2+ MB\n"
>>>>>>> 9fa2b48921550b951c93467d2d0ec077bf8ecbf2
     ]
    }
   ],
   "source": [
    "train.info()"
   ]
  },
  {
   "cell_type": "code",
<<<<<<< HEAD
   "execution_count": 15,
=======
   "execution_count": 45,
>>>>>>> 9fa2b48921550b951c93467d2d0ec077bf8ecbf2
   "metadata": {},
   "outputs": [
    {
     "name": "stdout",
     "output_type": "stream",
     "text": [
      "<class 'pandas.core.frame.DataFrame'>\n",
<<<<<<< HEAD
      "RangeIndex: 200000 entries, 0 to 199999\n",
      "Data columns (total 26 columns):\n",
      "service_type              200000 non-null int64\n",
      "is_mix_service            200000 non-null int64\n",
      "online_time               200000 non-null int64\n",
      "1_total_fee               200000 non-null float64\n",
      "2_total_fee               199994 non-null float64\n",
      "3_total_fee               199996 non-null float64\n",
      "4_total_fee               200000 non-null float64\n",
      "month_traffic             200000 non-null float64\n",
      "many_over_bill            200000 non-null int64\n",
      "contract_type             200000 non-null int64\n",
      "contract_time             199984 non-null float64\n",
      "is_promise_low_consume    200000 non-null int64\n",
      "net_service               200000 non-null int64\n",
      "pay_times                 200000 non-null int64\n",
      "pay_num                   200000 non-null float64\n",
      "last_month_traffic        200000 non-null float64\n",
      "local_trafffic_month      200000 non-null float64\n",
      "local_caller_time         200000 non-null float64\n",
      "service1_caller_time      200000 non-null float64\n",
      "service2_caller_time      200000 non-null float64\n",
      "gender                    200000 non-null int64\n",
      "age                       198581 non-null float64\n",
      "complaint_level           200000 non-null int64\n",
      "former_complaint_num      200000 non-null int64\n",
      "former_complaint_fee      200000 non-null int64\n",
      "user_id                   200000 non-null object\n",
      "dtypes: float64(13), int64(12), object(1)\n",
      "memory usage: 39.7+ MB\n"
=======
      "RangeIndex: 262565 entries, 0 to 262564\n",
      "Data columns (total 26 columns):\n",
      "service_type              262565 non-null int64\n",
      "is_mix_service            262565 non-null int64\n",
      "online_time               262565 non-null int64\n",
      "1_total_fee               262565 non-null float64\n",
      "2_total_fee               262564 non-null float64\n",
      "3_total_fee               262563 non-null float64\n",
      "4_total_fee               262565 non-null float64\n",
      "month_traffic             262565 non-null float64\n",
      "many_over_bill            262565 non-null int64\n",
      "contract_type             262565 non-null int64\n",
      "contract_time             262120 non-null float64\n",
      "is_promise_low_consume    262565 non-null int64\n",
      "net_service               262565 non-null int64\n",
      "pay_times                 262565 non-null int64\n",
      "pay_num                   262565 non-null float64\n",
      "last_month_traffic        262565 non-null float64\n",
      "local_trafffic_month      262565 non-null float64\n",
      "local_caller_time         262565 non-null float64\n",
      "service1_caller_time      262565 non-null float64\n",
      "service2_caller_time      262565 non-null float64\n",
      "gender                    262565 non-null int64\n",
      "age                       254921 non-null float64\n",
      "complaint_level           262565 non-null int64\n",
      "former_complaint_num      262565 non-null int64\n",
      "former_complaint_fee      262565 non-null int64\n",
      "user_id                   262565 non-null object\n",
      "dtypes: float64(13), int64(12), object(1)\n",
      "memory usage: 52.1+ MB\n"
>>>>>>> 9fa2b48921550b951c93467d2d0ec077bf8ecbf2
     ]
    }
   ],
   "source": [
    "test.info()"
   ]
  },
  {
   "cell_type": "code",
<<<<<<< HEAD
   "execution_count": 19,
=======
   "execution_count": 38,
>>>>>>> 9fa2b48921550b951c93467d2d0ec077bf8ecbf2
   "metadata": {
    "scrolled": false
   },
   "outputs": [
    {
     "data": {
      "text/plain": [
       "service_type              False\n",
       "is_mix_service            False\n",
       "online_time               False\n",
       "1_total_fee               False\n",
<<<<<<< HEAD
       "2_total_fee                True\n",
       "3_total_fee                True\n",
=======
       "2_total_fee               False\n",
       "3_total_fee               False\n",
>>>>>>> 9fa2b48921550b951c93467d2d0ec077bf8ecbf2
       "4_total_fee               False\n",
       "month_traffic             False\n",
       "many_over_bill            False\n",
       "contract_type             False\n",
<<<<<<< HEAD
       "contract_time              True\n",
=======
       "contract_time             False\n",
>>>>>>> 9fa2b48921550b951c93467d2d0ec077bf8ecbf2
       "is_promise_low_consume    False\n",
       "net_service               False\n",
       "pay_times                 False\n",
       "pay_num                   False\n",
       "last_month_traffic        False\n",
       "local_trafffic_month      False\n",
       "local_caller_time         False\n",
       "service1_caller_time      False\n",
       "service2_caller_time      False\n",
       "gender                    False\n",
       "age                        True\n",
       "complaint_level           False\n",
       "former_complaint_num      False\n",
       "former_complaint_fee      False\n",
       "current_service           False\n",
       "user_id                   False\n",
       "dtype: bool"
      ]
     },
<<<<<<< HEAD
     "execution_count": 19,
=======
     "execution_count": 38,
>>>>>>> 9fa2b48921550b951c93467d2d0ec077bf8ecbf2
     "metadata": {},
     "output_type": "execute_result"
    }
   ],
   "source": [
<<<<<<< HEAD
    "train.isna().any()"
=======
    "train_1.isna().any()"
>>>>>>> 9fa2b48921550b951c93467d2d0ec077bf8ecbf2
   ]
  },
  {
   "cell_type": "code",
<<<<<<< HEAD
   "execution_count": 20,
=======
   "execution_count": 39,
>>>>>>> 9fa2b48921550b951c93467d2d0ec077bf8ecbf2
   "metadata": {},
   "outputs": [
    {
     "data": {
      "text/plain": [
       "service_type              False\n",
       "is_mix_service            False\n",
       "online_time               False\n",
       "1_total_fee               False\n",
<<<<<<< HEAD
       "2_total_fee                True\n",
=======
       "2_total_fee               False\n",
>>>>>>> 9fa2b48921550b951c93467d2d0ec077bf8ecbf2
       "3_total_fee                True\n",
       "4_total_fee               False\n",
       "month_traffic             False\n",
       "many_over_bill            False\n",
       "contract_type             False\n",
<<<<<<< HEAD
       "contract_time              True\n",
=======
       "contract_time             False\n",
>>>>>>> 9fa2b48921550b951c93467d2d0ec077bf8ecbf2
       "is_promise_low_consume    False\n",
       "net_service               False\n",
       "pay_times                 False\n",
       "pay_num                   False\n",
       "last_month_traffic        False\n",
       "local_trafffic_month      False\n",
       "local_caller_time         False\n",
       "service1_caller_time      False\n",
       "service2_caller_time      False\n",
       "gender                    False\n",
       "age                        True\n",
       "complaint_level           False\n",
       "former_complaint_num      False\n",
       "former_complaint_fee      False\n",
       "user_id                   False\n",
       "dtype: bool"
      ]
     },
<<<<<<< HEAD
     "execution_count": 20,
=======
     "execution_count": 39,
>>>>>>> 9fa2b48921550b951c93467d2d0ec077bf8ecbf2
     "metadata": {},
     "output_type": "execute_result"
    }
   ],
   "source": [
<<<<<<< HEAD
    "test.isna().any()"
=======
    "test_1.isna().any()"
>>>>>>> 9fa2b48921550b951c93467d2d0ec077bf8ecbf2
   ]
  },
  {
   "cell_type": "markdown",
   "metadata": {},
   "source": [
    "## total_fee处理"
   ]
  },
  {
   "cell_type": "code",
<<<<<<< HEAD
   "execution_count": 26,
=======
   "execution_count": 66,
>>>>>>> 9fa2b48921550b951c93467d2d0ec077bf8ecbf2
   "metadata": {},
   "outputs": [],
   "source": [
    "#训练集直接删掉\n",
<<<<<<< HEAD
    "train = train[train['2_total_fee'].notna()]\n",
    "train = train[train['3_total_fee'].notna()]"
=======
    "train = train[train['2_total_fee'].notna()]"
>>>>>>> 9fa2b48921550b951c93467d2d0ec077bf8ecbf2
   ]
  },
  {
   "cell_type": "code",
<<<<<<< HEAD
   "execution_count": 27,
=======
   "execution_count": 67,
>>>>>>> 9fa2b48921550b951c93467d2d0ec077bf8ecbf2
   "metadata": {},
   "outputs": [
    {
     "data": {
      "text/plain": [
<<<<<<< HEAD
       "(703425, 27)"
      ]
     },
     "execution_count": 27,
=======
       "(612648, 27)"
      ]
     },
     "execution_count": 67,
>>>>>>> 9fa2b48921550b951c93467d2d0ec077bf8ecbf2
     "metadata": {},
     "output_type": "execute_result"
    }
   ],
   "source": [
    "train.shape"
   ]
  },
  {
   "cell_type": "code",
<<<<<<< HEAD
   "execution_count": 28,
   "metadata": {},
   "outputs": [
    {
     "data": {
      "text/html": [
       "<div>\n",
       "<style scoped>\n",
       "    .dataframe tbody tr th:only-of-type {\n",
       "        vertical-align: middle;\n",
       "    }\n",
       "\n",
       "    .dataframe tbody tr th {\n",
       "        vertical-align: top;\n",
       "    }\n",
       "\n",
       "    .dataframe thead th {\n",
       "        text-align: right;\n",
       "    }\n",
       "</style>\n",
       "<table border=\"1\" class=\"dataframe\">\n",
       "  <thead>\n",
       "    <tr style=\"text-align: right;\">\n",
       "      <th></th>\n",
       "      <th>service_type</th>\n",
       "      <th>is_mix_service</th>\n",
       "      <th>online_time</th>\n",
       "      <th>1_total_fee</th>\n",
       "      <th>2_total_fee</th>\n",
       "      <th>3_total_fee</th>\n",
       "      <th>4_total_fee</th>\n",
       "      <th>month_traffic</th>\n",
       "      <th>many_over_bill</th>\n",
       "      <th>contract_type</th>\n",
       "      <th>contract_time</th>\n",
       "      <th>is_promise_low_consume</th>\n",
       "      <th>net_service</th>\n",
       "      <th>pay_times</th>\n",
       "      <th>pay_num</th>\n",
       "      <th>last_month_traffic</th>\n",
       "      <th>local_trafffic_month</th>\n",
       "      <th>local_caller_time</th>\n",
       "      <th>service1_caller_time</th>\n",
       "      <th>service2_caller_time</th>\n",
       "      <th>gender</th>\n",
       "      <th>age</th>\n",
       "      <th>complaint_level</th>\n",
       "      <th>former_complaint_num</th>\n",
       "      <th>former_complaint_fee</th>\n",
       "      <th>current_service</th>\n",
       "      <th>user_id</th>\n",
       "    </tr>\n",
       "  </thead>\n",
       "  <tbody>\n",
       "  </tbody>\n",
       "</table>\n",
       "</div>"
      ],
      "text/plain": [
       "Empty DataFrame\n",
       "Columns: [service_type, is_mix_service, online_time, 1_total_fee, 2_total_fee, 3_total_fee, 4_total_fee, month_traffic, many_over_bill, contract_type, contract_time, is_promise_low_consume, net_service, pay_times, pay_num, last_month_traffic, local_trafffic_month, local_caller_time, service1_caller_time, service2_caller_time, gender, age, complaint_level, former_complaint_num, former_complaint_fee, current_service, user_id]\n",
       "Index: []"
      ]
     },
     "execution_count": 28,
     "metadata": {},
     "output_type": "execute_result"
    }
   ],
   "source": [
    "train[train[['2_total_fee','3_total_fee']].isna().values==True]"
   ]
  },
  {
   "cell_type": "code",
   "execution_count": 29,
=======
   "execution_count": 69,
>>>>>>> 9fa2b48921550b951c93467d2d0ec077bf8ecbf2
   "metadata": {
    "scrolled": true
   },
   "outputs": [
    {
     "data": {
      "text/html": [
       "<div>\n",
       "<style scoped>\n",
       "    .dataframe tbody tr th:only-of-type {\n",
       "        vertical-align: middle;\n",
       "    }\n",
       "\n",
       "    .dataframe tbody tr th {\n",
       "        vertical-align: top;\n",
       "    }\n",
       "\n",
       "    .dataframe thead th {\n",
       "        text-align: right;\n",
       "    }\n",
       "</style>\n",
       "<table border=\"1\" class=\"dataframe\">\n",
       "  <thead>\n",
       "    <tr style=\"text-align: right;\">\n",
       "      <th></th>\n",
       "      <th>service_type</th>\n",
       "      <th>is_mix_service</th>\n",
       "      <th>online_time</th>\n",
       "      <th>1_total_fee</th>\n",
       "      <th>2_total_fee</th>\n",
       "      <th>3_total_fee</th>\n",
       "      <th>4_total_fee</th>\n",
       "      <th>month_traffic</th>\n",
       "      <th>many_over_bill</th>\n",
       "      <th>contract_type</th>\n",
       "      <th>contract_time</th>\n",
       "      <th>is_promise_low_consume</th>\n",
       "      <th>net_service</th>\n",
       "      <th>pay_times</th>\n",
       "      <th>pay_num</th>\n",
       "      <th>last_month_traffic</th>\n",
       "      <th>local_trafffic_month</th>\n",
       "      <th>local_caller_time</th>\n",
       "      <th>service1_caller_time</th>\n",
       "      <th>service2_caller_time</th>\n",
       "      <th>gender</th>\n",
       "      <th>age</th>\n",
       "      <th>complaint_level</th>\n",
       "      <th>former_complaint_num</th>\n",
       "      <th>former_complaint_fee</th>\n",
       "      <th>user_id</th>\n",
       "    </tr>\n",
       "  </thead>\n",
       "  <tbody>\n",
       "    <tr>\n",
<<<<<<< HEAD
       "      <th>2979</th>\n",
       "      <td>4</td>\n",
       "      <td>0</td>\n",
       "      <td>129</td>\n",
       "      <td>56.00</td>\n",
       "      <td>NaN</td>\n",
       "      <td>131.15</td>\n",
       "      <td>68.6</td>\n",
       "      <td>0.000000</td>\n",
       "      <td>0</td>\n",
       "      <td>0</td>\n",
       "      <td>0.0</td>\n",
       "      <td>0</td>\n",
       "      <td>4</td>\n",
       "      <td>6</td>\n",
       "      <td>60.00</td>\n",
       "      <td>0.000000</td>\n",
       "      <td>0.000000</td>\n",
       "      <td>38.450000</td>\n",
       "      <td>0.000000</td>\n",
       "      <td>52.133333</td>\n",
       "      <td>2</td>\n",
       "      <td>50.0</td>\n",
       "      <td>0</td>\n",
       "      <td>0</td>\n",
       "      <td>0</td>\n",
       "      <td>0KCWQDfuSn958liY</td>\n",
       "    </tr>\n",
       "    <tr>\n",
       "      <th>7088</th>\n",
       "      <td>4</td>\n",
       "      <td>0</td>\n",
       "      <td>73</td>\n",
       "      <td>164.60</td>\n",
       "      <td>NaN</td>\n",
       "      <td>0.00</td>\n",
       "      <td>0.0</td>\n",
       "      <td>884.007268</td>\n",
       "      <td>0</td>\n",
       "      <td>12</td>\n",
       "      <td>26.0</td>\n",
       "      <td>0</td>\n",
       "      <td>4</td>\n",
       "      <td>3</td>\n",
       "      <td>20.71</td>\n",
       "      <td>0.000000</td>\n",
       "      <td>884.440885</td>\n",
       "      <td>483.216667</td>\n",
       "      <td>326.333333</td>\n",
       "      <td>271.033333</td>\n",
       "      <td>1</td>\n",
       "      <td>39.0</td>\n",
       "      <td>0</td>\n",
       "      <td>0</td>\n",
       "      <td>0</td>\n",
       "      <td>1AJpOLFtkQ8scC6v</td>\n",
       "    </tr>\n",
       "    <tr>\n",
       "      <th>33236</th>\n",
       "      <td>4</td>\n",
       "      <td>0</td>\n",
       "      <td>14</td>\n",
       "      <td>106.00</td>\n",
       "      <td>NaN</td>\n",
       "      <td>NaN</td>\n",
       "      <td>0.0</td>\n",
       "      <td>662.309601</td>\n",
=======
       "      <th>131428</th>\n",
       "      <td>4</td>\n",
       "      <td>0</td>\n",
       "      <td>1</td>\n",
       "      <td>61.73</td>\n",
       "      <td>NaN</td>\n",
       "      <td>NaN</td>\n",
       "      <td>73.2</td>\n",
       "      <td>1027.356342</td>\n",
>>>>>>> 9fa2b48921550b951c93467d2d0ec077bf8ecbf2
       "      <td>0</td>\n",
       "      <td>0</td>\n",
       "      <td>0.0</td>\n",
       "      <td>0</td>\n",
       "      <td>4</td>\n",
<<<<<<< HEAD
       "      <td>4</td>\n",
       "      <td>1343.23</td>\n",
       "      <td>0.000000</td>\n",
       "      <td>662.854433</td>\n",
       "      <td>3.116667</td>\n",
       "      <td>0.000000</td>\n",
       "      <td>3.116667</td>\n",
       "      <td>2</td>\n",
       "      <td>28.0</td>\n",
       "      <td>0</td>\n",
       "      <td>0</td>\n",
       "      <td>0</td>\n",
       "      <td>5kFOWKrybPua1f0g</td>\n",
       "    </tr>\n",
       "    <tr>\n",
       "      <th>33236</th>\n",
       "      <td>4</td>\n",
       "      <td>0</td>\n",
       "      <td>14</td>\n",
       "      <td>106.00</td>\n",
       "      <td>NaN</td>\n",
       "      <td>NaN</td>\n",
       "      <td>0.0</td>\n",
       "      <td>662.309601</td>\n",
       "      <td>0</td>\n",
       "      <td>0</td>\n",
       "      <td>0.0</td>\n",
       "      <td>0</td>\n",
       "      <td>4</td>\n",
       "      <td>4</td>\n",
       "      <td>1343.23</td>\n",
       "      <td>0.000000</td>\n",
       "      <td>662.854433</td>\n",
       "      <td>3.116667</td>\n",
       "      <td>0.000000</td>\n",
       "      <td>3.116667</td>\n",
       "      <td>2</td>\n",
       "      <td>28.0</td>\n",
       "      <td>0</td>\n",
       "      <td>0</td>\n",
       "      <td>0</td>\n",
       "      <td>5kFOWKrybPua1f0g</td>\n",
       "    </tr>\n",
       "    <tr>\n",
       "      <th>46591</th>\n",
       "      <td>4</td>\n",
       "      <td>0</td>\n",
       "      <td>39</td>\n",
       "      <td>76.00</td>\n",
       "      <td>NaN</td>\n",
       "      <td>NaN</td>\n",
       "      <td>0.0</td>\n",
       "      <td>28.280148</td>\n",
       "      <td>0</td>\n",
       "      <td>0</td>\n",
       "      <td>0.0</td>\n",
       "      <td>0</td>\n",
       "      <td>4</td>\n",
       "      <td>1</td>\n",
       "      <td>273.08</td>\n",
       "      <td>0.000000</td>\n",
       "      <td>28.280147</td>\n",
       "      <td>0.000000</td>\n",
       "      <td>0.000000</td>\n",
       "      <td>0.000000</td>\n",
       "      <td>1</td>\n",
       "      <td>45.0</td>\n",
       "      <td>0</td>\n",
       "      <td>0</td>\n",
       "      <td>0</td>\n",
       "      <td>7R3VoSGcx2d54lv8</td>\n",
       "    </tr>\n",
       "    <tr>\n",
       "      <th>46591</th>\n",
       "      <td>4</td>\n",
       "      <td>0</td>\n",
       "      <td>39</td>\n",
       "      <td>76.00</td>\n",
       "      <td>NaN</td>\n",
       "      <td>NaN</td>\n",
       "      <td>0.0</td>\n",
       "      <td>28.280148</td>\n",
       "      <td>0</td>\n",
       "      <td>0</td>\n",
       "      <td>0.0</td>\n",
       "      <td>0</td>\n",
       "      <td>4</td>\n",
       "      <td>1</td>\n",
       "      <td>273.08</td>\n",
       "      <td>0.000000</td>\n",
       "      <td>28.280147</td>\n",
       "      <td>0.000000</td>\n",
       "      <td>0.000000</td>\n",
       "      <td>0.000000</td>\n",
       "      <td>1</td>\n",
       "      <td>45.0</td>\n",
       "      <td>0</td>\n",
       "      <td>0</td>\n",
       "      <td>0</td>\n",
       "      <td>7R3VoSGcx2d54lv8</td>\n",
       "    </tr>\n",
       "    <tr>\n",
       "      <th>77367</th>\n",
       "      <td>4</td>\n",
       "      <td>0</td>\n",
       "      <td>70</td>\n",
       "      <td>77.52</td>\n",
       "      <td>NaN</td>\n",
       "      <td>0.00</td>\n",
       "      <td>0.0</td>\n",
       "      <td>632.517405</td>\n",
=======
       "      <td>1</td>\n",
       "      <td>120.0</td>\n",
       "      <td>0.0</td>\n",
       "      <td>1027.40856</td>\n",
       "      <td>1.283333</td>\n",
       "      <td>1.283333</td>\n",
       "      <td>0.0</td>\n",
       "      <td>2</td>\n",
       "      <td>25.0</td>\n",
       "      <td>3</td>\n",
       "      <td>1</td>\n",
       "      <td>0</td>\n",
       "      <td>G2sq16HZSxYagKwL</td>\n",
       "    </tr>\n",
       "    <tr>\n",
       "      <th>131428</th>\n",
       "      <td>4</td>\n",
       "      <td>0</td>\n",
       "      <td>1</td>\n",
       "      <td>61.73</td>\n",
       "      <td>NaN</td>\n",
       "      <td>NaN</td>\n",
       "      <td>73.2</td>\n",
       "      <td>1027.356342</td>\n",
>>>>>>> 9fa2b48921550b951c93467d2d0ec077bf8ecbf2
       "      <td>0</td>\n",
       "      <td>0</td>\n",
       "      <td>0.0</td>\n",
       "      <td>0</td>\n",
       "      <td>4</td>\n",
       "      <td>1</td>\n",
<<<<<<< HEAD
       "      <td>100.00</td>\n",
       "      <td>0.000000</td>\n",
       "      <td>435.360487</td>\n",
       "      <td>2.066667</td>\n",
       "      <td>0.000000</td>\n",
       "      <td>2.066667</td>\n",
       "      <td>1</td>\n",
       "      <td>53.0</td>\n",
       "      <td>0</td>\n",
       "      <td>0</td>\n",
       "      <td>0</td>\n",
       "      <td>BIrOyiJC0LnjglmF</td>\n",
       "    </tr>\n",
       "    <tr>\n",
       "      <th>106865</th>\n",
       "      <td>4</td>\n",
       "      <td>0</td>\n",
       "      <td>62</td>\n",
       "      <td>76.00</td>\n",
       "      <td>NaN</td>\n",
       "      <td>0.00</td>\n",
       "      <td>0.0</td>\n",
       "      <td>70.271560</td>\n",
       "      <td>0</td>\n",
       "      <td>0</td>\n",
       "      <td>0.0</td>\n",
       "      <td>0</td>\n",
       "      <td>4</td>\n",
       "      <td>2</td>\n",
       "      <td>169.92</td>\n",
       "      <td>0.000000</td>\n",
       "      <td>70.358549</td>\n",
       "      <td>1.433333</td>\n",
       "      <td>0.000000</td>\n",
       "      <td>1.916667</td>\n",
       "      <td>1</td>\n",
       "      <td>66.0</td>\n",
       "      <td>0</td>\n",
       "      <td>0</td>\n",
       "      <td>0</td>\n",
       "      <td>DvOqPbiVJThu5ctg</td>\n",
       "    </tr>\n",
       "    <tr>\n",
       "      <th>128925</th>\n",
       "      <td>4</td>\n",
       "      <td>0</td>\n",
       "      <td>40</td>\n",
       "      <td>296.00</td>\n",
       "      <td>296.0</td>\n",
       "      <td>NaN</td>\n",
       "      <td>0.0</td>\n",
       "      <td>5541.529211</td>\n",
=======
       "      <td>120.0</td>\n",
       "      <td>0.0</td>\n",
       "      <td>1027.40856</td>\n",
       "      <td>1.283333</td>\n",
       "      <td>1.283333</td>\n",
       "      <td>0.0</td>\n",
       "      <td>2</td>\n",
       "      <td>25.0</td>\n",
       "      <td>3</td>\n",
       "      <td>1</td>\n",
       "      <td>0</td>\n",
       "      <td>G2sq16HZSxYagKwL</td>\n",
       "    </tr>\n",
       "    <tr>\n",
       "      <th>170278</th>\n",
       "      <td>1</td>\n",
       "      <td>0</td>\n",
       "      <td>2</td>\n",
       "      <td>39.90</td>\n",
       "      <td>77.0</td>\n",
       "      <td>NaN</td>\n",
       "      <td>0.0</td>\n",
       "      <td>0.000000</td>\n",
>>>>>>> 9fa2b48921550b951c93467d2d0ec077bf8ecbf2
       "      <td>0</td>\n",
       "      <td>0</td>\n",
       "      <td>0.0</td>\n",
       "      <td>0</td>\n",
       "      <td>4</td>\n",
       "      <td>1</td>\n",
<<<<<<< HEAD
       "      <td>300.00</td>\n",
       "      <td>1718.976696</td>\n",
       "      <td>0.000000</td>\n",
       "      <td>0.000000</td>\n",
       "      <td>0.000000</td>\n",
       "      <td>31.633333</td>\n",
       "      <td>1</td>\n",
       "      <td>36.0</td>\n",
       "      <td>0</td>\n",
       "      <td>0</td>\n",
       "      <td>0</td>\n",
       "      <td>Fqki4E1QZpmWM2eg</td>\n",
       "    </tr>\n",
       "    <tr>\n",
       "      <th>193313</th>\n",
       "      <td>4</td>\n",
       "      <td>0</td>\n",
       "      <td>28</td>\n",
       "      <td>76.00</td>\n",
       "      <td>76.0</td>\n",
       "      <td>NaN</td>\n",
       "      <td>0.0</td>\n",
       "      <td>134.711253</td>\n",
       "      <td>0</td>\n",
       "      <td>0</td>\n",
       "      <td>0.0</td>\n",
       "      <td>0</td>\n",
       "      <td>4</td>\n",
       "      <td>1</td>\n",
       "      <td>50.00</td>\n",
       "      <td>250.674590</td>\n",
       "      <td>98.718092</td>\n",
       "      <td>8.266667</td>\n",
       "      <td>0.000000</td>\n",
       "      <td>8.266667</td>\n",
       "      <td>2</td>\n",
       "      <td>37.0</td>\n",
       "      <td>0</td>\n",
       "      <td>0</td>\n",
       "      <td>0</td>\n",
       "      <td>L2NWJ3Z7glceBFDX</td>\n",
=======
       "      <td>30.0</td>\n",
       "      <td>0.0</td>\n",
       "      <td>0.00000</td>\n",
       "      <td>0.000000</td>\n",
       "      <td>6.833333</td>\n",
       "      <td>0.0</td>\n",
       "      <td>1</td>\n",
       "      <td>22.0</td>\n",
       "      <td>3</td>\n",
       "      <td>1</td>\n",
       "      <td>0</td>\n",
       "      <td>lVFau8U7twgrPSxL</td>\n",
>>>>>>> 9fa2b48921550b951c93467d2d0ec077bf8ecbf2
       "    </tr>\n",
       "  </tbody>\n",
       "</table>\n",
       "</div>"
      ],
      "text/plain": [
       "        service_type  is_mix_service  online_time  1_total_fee  2_total_fee  \\\n",
<<<<<<< HEAD
       "2979               4               0          129        56.00          NaN   \n",
       "7088               4               0           73       164.60          NaN   \n",
       "33236              4               0           14       106.00          NaN   \n",
       "33236              4               0           14       106.00          NaN   \n",
       "46591              4               0           39        76.00          NaN   \n",
       "46591              4               0           39        76.00          NaN   \n",
       "77367              4               0           70        77.52          NaN   \n",
       "106865             4               0           62        76.00          NaN   \n",
       "128925             4               0           40       296.00        296.0   \n",
       "193313             4               0           28        76.00         76.0   \n",
       "\n",
       "        3_total_fee  4_total_fee  month_traffic  many_over_bill  \\\n",
       "2979         131.15         68.6       0.000000               0   \n",
       "7088           0.00          0.0     884.007268               0   \n",
       "33236           NaN          0.0     662.309601               0   \n",
       "33236           NaN          0.0     662.309601               0   \n",
       "46591           NaN          0.0      28.280148               0   \n",
       "46591           NaN          0.0      28.280148               0   \n",
       "77367          0.00          0.0     632.517405               0   \n",
       "106865         0.00          0.0      70.271560               0   \n",
       "128925          NaN          0.0    5541.529211               0   \n",
       "193313          NaN          0.0     134.711253               0   \n",
       "\n",
       "        contract_type  contract_time  is_promise_low_consume  net_service  \\\n",
       "2979                0            0.0                       0            4   \n",
       "7088               12           26.0                       0            4   \n",
       "33236               0            0.0                       0            4   \n",
       "33236               0            0.0                       0            4   \n",
       "46591               0            0.0                       0            4   \n",
       "46591               0            0.0                       0            4   \n",
       "77367               0            0.0                       0            4   \n",
       "106865              0            0.0                       0            4   \n",
       "128925              0            0.0                       0            4   \n",
       "193313              0            0.0                       0            4   \n",
       "\n",
       "        pay_times  pay_num  last_month_traffic  local_trafffic_month  \\\n",
       "2979            6    60.00            0.000000              0.000000   \n",
       "7088            3    20.71            0.000000            884.440885   \n",
       "33236           4  1343.23            0.000000            662.854433   \n",
       "33236           4  1343.23            0.000000            662.854433   \n",
       "46591           1   273.08            0.000000             28.280147   \n",
       "46591           1   273.08            0.000000             28.280147   \n",
       "77367           1   100.00            0.000000            435.360487   \n",
       "106865          2   169.92            0.000000             70.358549   \n",
       "128925          1   300.00         1718.976696              0.000000   \n",
       "193313          1    50.00          250.674590             98.718092   \n",
       "\n",
       "        local_caller_time  service1_caller_time  service2_caller_time  gender  \\\n",
       "2979            38.450000              0.000000             52.133333       2   \n",
       "7088           483.216667            326.333333            271.033333       1   \n",
       "33236            3.116667              0.000000              3.116667       2   \n",
       "33236            3.116667              0.000000              3.116667       2   \n",
       "46591            0.000000              0.000000              0.000000       1   \n",
       "46591            0.000000              0.000000              0.000000       1   \n",
       "77367            2.066667              0.000000              2.066667       1   \n",
       "106865           1.433333              0.000000              1.916667       1   \n",
       "128925           0.000000              0.000000             31.633333       1   \n",
       "193313           8.266667              0.000000              8.266667       2   \n",
       "\n",
       "         age  complaint_level  former_complaint_num  former_complaint_fee  \\\n",
       "2979    50.0                0                     0                     0   \n",
       "7088    39.0                0                     0                     0   \n",
       "33236   28.0                0                     0                     0   \n",
       "33236   28.0                0                     0                     0   \n",
       "46591   45.0                0                     0                     0   \n",
       "46591   45.0                0                     0                     0   \n",
       "77367   53.0                0                     0                     0   \n",
       "106865  66.0                0                     0                     0   \n",
       "128925  36.0                0                     0                     0   \n",
       "193313  37.0                0                     0                     0   \n",
       "\n",
       "                 user_id  \n",
       "2979    0KCWQDfuSn958liY  \n",
       "7088    1AJpOLFtkQ8scC6v  \n",
       "33236   5kFOWKrybPua1f0g  \n",
       "33236   5kFOWKrybPua1f0g  \n",
       "46591   7R3VoSGcx2d54lv8  \n",
       "46591   7R3VoSGcx2d54lv8  \n",
       "77367   BIrOyiJC0LnjglmF  \n",
       "106865  DvOqPbiVJThu5ctg  \n",
       "128925  Fqki4E1QZpmWM2eg  \n",
       "193313  L2NWJ3Z7glceBFDX  "
      ]
     },
     "execution_count": 29,
=======
       "131428             4               0            1        61.73          NaN   \n",
       "131428             4               0            1        61.73          NaN   \n",
       "170278             1               0            2        39.90         77.0   \n",
       "\n",
       "        3_total_fee  4_total_fee  month_traffic  many_over_bill  \\\n",
       "131428          NaN         73.2    1027.356342               0   \n",
       "131428          NaN         73.2    1027.356342               0   \n",
       "170278          NaN          0.0       0.000000               0   \n",
       "\n",
       "        contract_type  contract_time  is_promise_low_consume  net_service  \\\n",
       "131428              0            0.0                       0            4   \n",
       "131428              0            0.0                       0            4   \n",
       "170278              0            0.0                       0            4   \n",
       "\n",
       "        pay_times  pay_num  last_month_traffic  local_trafffic_month  \\\n",
       "131428          1    120.0                 0.0            1027.40856   \n",
       "131428          1    120.0                 0.0            1027.40856   \n",
       "170278          1     30.0                 0.0               0.00000   \n",
       "\n",
       "        local_caller_time  service1_caller_time  service2_caller_time  gender  \\\n",
       "131428           1.283333              1.283333                   0.0       2   \n",
       "131428           1.283333              1.283333                   0.0       2   \n",
       "170278           0.000000              6.833333                   0.0       1   \n",
       "\n",
       "         age  complaint_level  former_complaint_num  former_complaint_fee  \\\n",
       "131428  25.0                3                     1                     0   \n",
       "131428  25.0                3                     1                     0   \n",
       "170278  22.0                3                     1                     0   \n",
       "\n",
       "                 user_id  \n",
       "131428  G2sq16HZSxYagKwL  \n",
       "131428  G2sq16HZSxYagKwL  \n",
       "170278  lVFau8U7twgrPSxL  "
      ]
     },
     "execution_count": 69,
>>>>>>> 9fa2b48921550b951c93467d2d0ec077bf8ecbf2
     "metadata": {},
     "output_type": "execute_result"
    }
   ],
   "source": [
    "test[test[['2_total_fee','3_total_fee']].isna().values==True]"
   ]
  },
  {
   "cell_type": "code",
   "execution_count": null,
   "metadata": {},
   "outputs": [],
   "source": [
    "#test填0 or 注释掉先不管\n",
    "#test[['2_total_fee','3_total_fee']]=test[['2_total_fee','3_total_fee']].fillna(0)"
   ]
  },
  {
   "cell_type": "markdown",
   "metadata": {},
   "source": [
    "## contract_time -1（NA）处理\n",
    "只有type4有缺失，大多数是828，用xgboost的结果预测就可以了"
   ]
  },
  {
   "cell_type": "code",
   "execution_count": 40,
   "metadata": {
    "scrolled": true
   },
   "outputs": [
    {
     "data": {
      "text/plain": [
       "0.0     386487\n",
       "12.0    115781\n",
       "24.0     72697\n",
       "36.0     16395\n",
       "10.0      3825\n",
       "13.0      3169\n",
       "30.0      2689\n",
       "23.0      1345\n",
       "11.0      1213\n",
       "26.0      1202\n",
       "15.0      1017\n",
       "18.0      1015\n",
       "8.0        991\n",
       "7.0        740\n",
       "34.0       676\n",
       "35.0       546\n",
       "16.0       406\n",
       "19.0       318\n",
       "17.0       257\n",
       "25.0       246\n",
       "20.0       184\n",
       "6.0        101\n",
       "29.0        67\n",
       "27.0        66\n",
       "21.0        44\n",
       "33.0        39\n",
       "31.0        32\n",
       "9.0         27\n",
       "14.0        21\n",
       "28.0        15\n",
       "32.0        13\n",
       "22.0        11\n",
       "45.0         3\n",
       "39.0         3\n",
       "48.0         3\n",
       "50.0         2\n",
       "52.0         2\n",
       "5.0          2\n",
       "37.0         1\n",
       "40.0         1\n",
       "Name: contract_time, dtype: int64"
      ]
     },
     "execution_count": 40,
     "metadata": {},
     "output_type": "execute_result"
    }
   ],
   "source": [
    "train.contract_time.value_counts()"
   ]
  },
  {
   "cell_type": "code",
   "execution_count": null,
   "metadata": {},
   "outputs": [],
   "source": [
    "plt.bar"
   ]
  },
  {
   "cell_type": "code",
<<<<<<< HEAD
   "execution_count": 30,
=======
   "execution_count": 46,
>>>>>>> 9fa2b48921550b951c93467d2d0ec077bf8ecbf2
   "metadata": {
    "scrolled": true
   },
   "outputs": [
    {
     "data": {
      "text/plain": [
<<<<<<< HEAD
       "99999828    1360\n",
       "99999825      23\n",
       "99999827      20\n",
       "89950166      12\n",
       "99999826       9\n",
       "89950167       5\n",
       "99999830       3\n",
       "Name: current_service, dtype: int64"
      ]
     },
     "execution_count": 30,
=======
       "99999828    941\n",
       "99999825     17\n",
       "99999827     13\n",
       "89950166     10\n",
       "99999826      8\n",
       "89950167      7\n",
       "99999830      4\n",
       "Name: current_service, dtype: int64"
      ]
     },
     "execution_count": 46,
>>>>>>> 9fa2b48921550b951c93467d2d0ec077bf8ecbf2
     "metadata": {},
     "output_type": "execute_result"
    }
   ],
   "source": [
    "train_ct_na = train[train.contract_time.isna()]\n",
    "train_ct_na.current_service.value_counts()"
   ]
  },
  {
   "cell_type": "markdown",
   "metadata": {},
   "source": [
    "## age NA（0 or 99）处理\n",
    "用rf预测"
   ]
  },
  {
   "cell_type": "code",
<<<<<<< HEAD
   "execution_count": 31,
=======
   "execution_count": 24,
>>>>>>> 9fa2b48921550b951c93467d2d0ec077bf8ecbf2
   "metadata": {
    "scrolled": true
   },
   "outputs": [
    {
     "data": {
      "text/plain": [
<<<<<<< HEAD
       "False    682654\n",
       "True      20771\n",
       "Name: age, dtype: int64"
      ]
     },
     "execution_count": 31,
=======
       "False    594649\n",
       "True      18003\n",
       "Name: age, dtype: int64"
      ]
     },
     "execution_count": 24,
>>>>>>> 9fa2b48921550b951c93467d2d0ec077bf8ecbf2
     "metadata": {},
     "output_type": "execute_result"
    }
   ],
   "source": [
    "train.age.isna().value_counts()"
   ]
  },
  {
   "cell_type": "code",
<<<<<<< HEAD
   "execution_count": 32,
=======
   "execution_count": 8,
>>>>>>> 9fa2b48921550b951c93467d2d0ec077bf8ecbf2
   "metadata": {},
   "outputs": [
    {
     "data": {
      "text/plain": [
<<<<<<< HEAD
       "False    198581\n",
       "True       1419\n",
       "Name: age, dtype: int64"
      ]
     },
     "execution_count": 32,
=======
       "False    254921\n",
       "True       7644\n",
       "Name: age, dtype: int64"
      ]
     },
     "execution_count": 8,
>>>>>>> 9fa2b48921550b951c93467d2d0ec077bf8ecbf2
     "metadata": {},
     "output_type": "execute_result"
    }
   ],
   "source": [
    "test.age.isna().value_counts()"
   ]
  },
  {
   "cell_type": "code",
<<<<<<< HEAD
   "execution_count": 35,
=======
   "execution_count": 60,
>>>>>>> 9fa2b48921550b951c93467d2d0ec077bf8ecbf2
   "metadata": {},
   "outputs": [
    {
     "data": {
      "text/plain": [
<<<<<<< HEAD
       "array([[1.00000000e+00, 8.25972732e-04],\n",
       "       [8.25972732e-04, 1.00000000e+00]])"
      ]
     },
     "execution_count": 35,
=======
       "array([[1.        , 0.00113572],\n",
       "       [0.00113572, 1.        ]])"
      ]
     },
     "execution_count": 60,
>>>>>>> 9fa2b48921550b951c93467d2d0ec077bf8ecbf2
     "metadata": {},
     "output_type": "execute_result"
    }
   ],
   "source": [
    "np.corrcoef([train_1[train_1.age.notna()].age,train_1[train_1.age.notna()].contract_time])"
   ]
  },
  {
   "cell_type": "code",
<<<<<<< HEAD
   "execution_count": 36,
=======
   "execution_count": 116,
>>>>>>> 9fa2b48921550b951c93467d2d0ec077bf8ecbf2
   "metadata": {},
   "outputs": [],
   "source": [
    "train_test = train.append(test, sort=False)\n",
    "age_notna = train_test[train_test.age.notna()]\n",
    "age_na = train_test[train_test.age.isna()]"
   ]
  },
  {
   "cell_type": "code",
<<<<<<< HEAD
   "execution_count": 37,
=======
   "execution_count": 117,
>>>>>>> 9fa2b48921550b951c93467d2d0ec077bf8ecbf2
   "metadata": {},
   "outputs": [
    {
     "name": "stderr",
     "output_type": "stream",
     "text": [
<<<<<<< HEAD
      "/home/fuyu/anaconda3/lib/python3.6/site-packages/ipykernel_launcher.py:1: SettingWithCopyWarning: \n",
=======
      "/Users/fu/anaconda3/lib/python3.6/site-packages/ipykernel_launcher.py:1: SettingWithCopyWarning: \n",
>>>>>>> 9fa2b48921550b951c93467d2d0ec077bf8ecbf2
      "A value is trying to be set on a copy of a slice from a DataFrame\n",
      "\n",
      "See the caveats in the documentation: http://pandas.pydata.org/pandas-docs/stable/indexing.html#indexing-view-versus-copy\n",
      "  \"\"\"Entry point for launching an IPython kernel.\n"
     ]
    }
   ],
   "source": [
    "age_notna.dropna(subset=['2_total_fee','3_total_fee'],inplace=True)"
   ]
  },
  {
   "cell_type": "code",
<<<<<<< HEAD
   "execution_count": 38,
=======
   "execution_count": 118,
>>>>>>> 9fa2b48921550b951c93467d2d0ec077bf8ecbf2
   "metadata": {},
   "outputs": [
    {
     "name": "stderr",
     "output_type": "stream",
     "text": [
<<<<<<< HEAD
      "/home/fuyu/anaconda3/lib/python3.6/site-packages/pandas/core/frame.py:3694: SettingWithCopyWarning: \n",
=======
      "/Users/fu/anaconda3/lib/python3.6/site-packages/pandas/core/frame.py:3694: SettingWithCopyWarning: \n",
>>>>>>> 9fa2b48921550b951c93467d2d0ec077bf8ecbf2
      "A value is trying to be set on a copy of a slice from a DataFrame\n",
      "\n",
      "See the caveats in the documentation: http://pandas.pydata.org/pandas-docs/stable/indexing.html#indexing-view-versus-copy\n",
      "  errors=errors)\n"
     ]
    }
   ],
   "source": [
    "age_notna.drop(['contract_time','current_service', 'user_id','gender'],axis=1,inplace=True)\n",
    "age_na.drop(['contract_time','current_service', 'user_id','gender','age'],axis=1,inplace=True)"
   ]
  },
  {
   "cell_type": "code",
<<<<<<< HEAD
   "execution_count": 39,
=======
   "execution_count": 119,
>>>>>>> 9fa2b48921550b951c93467d2d0ec077bf8ecbf2
   "metadata": {},
   "outputs": [
    {
     "data": {
      "text/plain": [
<<<<<<< HEAD
       "(881227, 23)"
      ]
     },
     "execution_count": 39,
=======
       "(849564, 23)"
      ]
     },
     "execution_count": 119,
>>>>>>> 9fa2b48921550b951c93467d2d0ec077bf8ecbf2
     "metadata": {},
     "output_type": "execute_result"
    }
   ],
   "source": [
    "age_notna.shape"
   ]
  },
  {
   "cell_type": "code",
<<<<<<< HEAD
   "execution_count": 40,
=======
   "execution_count": 120,
>>>>>>> 9fa2b48921550b951c93467d2d0ec077bf8ecbf2
   "metadata": {},
   "outputs": [
    {
     "data": {
      "text/plain": [
<<<<<<< HEAD
       "(22190, 22)"
      ]
     },
     "execution_count": 40,
=======
       "(25647, 22)"
      ]
     },
     "execution_count": 120,
>>>>>>> 9fa2b48921550b951c93467d2d0ec077bf8ecbf2
     "metadata": {},
     "output_type": "execute_result"
    }
   ],
   "source": [
    "age_na.shape"
   ]
  },
  {
   "cell_type": "code",
<<<<<<< HEAD
   "execution_count": 41,
=======
   "execution_count": 89,
>>>>>>> 9fa2b48921550b951c93467d2d0ec077bf8ecbf2
   "metadata": {},
   "outputs": [],
   "source": [
    "from sklearn import ensemble\n",
    "from sklearn import model_selection\n",
    "#from sklearn.ensemble import GradientBoostingRegressor\n",
    "from sklearn.ensemble import RandomForestRegressor\n",
    "\n",
    "def fill_missing_age(train, test):\n",
    "    X_train = train.drop('age', axis=1)\n",
    "    y_train = train['age']\n",
    "    X_test = test\n",
    "    \n",
    "    rf_reg = RandomForestRegressor()\n",
<<<<<<< HEAD
    "    rf_reg_param_grid = {'n_estimators': [100], 'max_depth': [6], 'random_state': [0]}\n",
=======
    "    rf_reg_param_grid = {'n_estimators': [200], 'max_depth': [5], 'random_state': [0]}\n",
>>>>>>> 9fa2b48921550b951c93467d2d0ec077bf8ecbf2
    "    rf_reg_grid = model_selection.GridSearchCV(rf_reg, rf_reg_param_grid, cv=3,\n",
    "                                               n_jobs=25, verbose=2,\n",
    "                                               scoring='neg_mean_squared_error')\n",
    "    rf_reg_grid.fit(X_train, y_train)\n",
    "    print('Age feature Best RF Params:' + str(rf_reg_grid.best_params_))\n",
    "    print('Age feature Best RF Score:' + str(rf_reg_grid.best_score_))\n",
    "    #print('RF Train Error for \"Age\" Feature Regressor' + str(rf_reg_grid.score(X_train, y_train)))\n",
    "    rf_age_test = rf_reg_grid.predict(X_test)\n",
    "    \n",
    "    return rf_age_test"
   ]
  },
  {
   "cell_type": "code",
<<<<<<< HEAD
   "execution_count": 42,
=======
   "execution_count": 90,
>>>>>>> 9fa2b48921550b951c93467d2d0ec077bf8ecbf2
   "metadata": {},
   "outputs": [
    {
     "name": "stdout",
     "output_type": "stream",
     "text": [
      "Fitting 3 folds for each of 1 candidates, totalling 3 fits\n",
<<<<<<< HEAD
      "[CV] max_depth=6, n_estimators=100, random_state=0 ...................\n",
      "[CV] max_depth=6, n_estimators=100, random_state=0 ...................\n",
      "[CV] max_depth=6, n_estimators=100, random_state=0 ...................\n",
      "[CV] .... max_depth=6, n_estimators=100, random_state=0, total=11.0min\n",
      "[CV] .... max_depth=6, n_estimators=100, random_state=0, total=11.2min\n",
      "[CV] .... max_depth=6, n_estimators=100, random_state=0, total=11.2min\n"
=======
      "[CV] max_depth=5, n_estimators=200, random_state=0 ...................\n",
      "[CV] max_depth=5, n_estimators=200, random_state=0 ...................\n",
      "[CV] max_depth=5, n_estimators=200, random_state=0 ...................\n",
      "[CV] .... max_depth=5, n_estimators=200, random_state=0, total= 6.1min\n",
      "[CV] .... max_depth=5, n_estimators=200, random_state=0, total= 6.1min\n",
      "[CV] .... max_depth=5, n_estimators=200, random_state=0, total= 6.1min\n"
>>>>>>> 9fa2b48921550b951c93467d2d0ec077bf8ecbf2
     ]
    },
    {
     "name": "stderr",
     "output_type": "stream",
     "text": [
<<<<<<< HEAD
      "[Parallel(n_jobs=25)]: Done   3 out of   3 | elapsed: 11.4min finished\n"
=======
      "[Parallel(n_jobs=25)]: Done   3 out of   3 | elapsed:  6.2min finished\n"
>>>>>>> 9fa2b48921550b951c93467d2d0ec077bf8ecbf2
     ]
    },
    {
     "name": "stdout",
     "output_type": "stream",
     "text": [
<<<<<<< HEAD
      "Age feature Best RF Params:{'max_depth': 6, 'n_estimators': 100, 'random_state': 0}\n",
      "Age feature Best RF Score:-72.61089268758029\n"
=======
      "Age feature Best RF Params:{'max_depth': 5, 'n_estimators': 200, 'random_state': 0}\n",
      "Age feature Best RF Score:-77.20912951391811\n",
      "RF Train Error for \"Age\" Feature Regressor-77.24508073823259\n"
>>>>>>> 9fa2b48921550b951c93467d2d0ec077bf8ecbf2
     ]
    }
   ],
   "source": [
    "age_test = fill_missing_age(age_notna, age_na)"
   ]
  },
  {
   "cell_type": "code",
<<<<<<< HEAD
   "execution_count": 43,
=======
   "execution_count": 95,
>>>>>>> 9fa2b48921550b951c93467d2d0ec077bf8ecbf2
   "metadata": {},
   "outputs": [],
   "source": [
    "pd.DataFrame(age_test).to_csv('rf_age_test.csv')"
   ]
  },
  {
   "cell_type": "code",
<<<<<<< HEAD
   "execution_count": 44,
=======
   "execution_count": 96,
>>>>>>> 9fa2b48921550b951c93467d2d0ec077bf8ecbf2
   "metadata": {},
   "outputs": [
    {
     "data": {
      "text/plain": [
<<<<<<< HEAD
       "array([40.4309209 , 35.12012263, 39.48771478, ..., 35.92524946,\n",
       "       39.51528346, 39.51528346])"
      ]
     },
     "execution_count": 44,
=======
       "array([38.01425075, 35.61603503, 29.6044371 , ..., 32.8464929 ,\n",
       "       35.61603503, 30.42367391])"
      ]
     },
     "execution_count": 96,
>>>>>>> 9fa2b48921550b951c93467d2d0ec077bf8ecbf2
     "metadata": {},
     "output_type": "execute_result"
    }
   ],
   "source": [
    "age_test"
   ]
  },
  {
   "cell_type": "code",
<<<<<<< HEAD
   "execution_count": 45,
=======
   "execution_count": 121,
>>>>>>> 9fa2b48921550b951c93467d2d0ec077bf8ecbf2
   "metadata": {},
   "outputs": [],
   "source": [
    "train_test.loc[(train_test.age.isnull()), 'age'] = age_test"
   ]
  },
  {
   "cell_type": "code",
<<<<<<< HEAD
   "execution_count": 46,
=======
   "execution_count": 123,
>>>>>>> 9fa2b48921550b951c93467d2d0ec077bf8ecbf2
   "metadata": {
    "scrolled": true
   },
   "outputs": [
    {
     "data": {
      "text/plain": [
       "service_type              False\n",
       "is_mix_service            False\n",
       "online_time               False\n",
       "1_total_fee               False\n",
       "2_total_fee                True\n",
       "3_total_fee                True\n",
       "4_total_fee               False\n",
       "month_traffic             False\n",
       "many_over_bill            False\n",
       "contract_type             False\n",
       "contract_time              True\n",
       "is_promise_low_consume    False\n",
       "net_service               False\n",
       "pay_times                 False\n",
       "pay_num                   False\n",
       "last_month_traffic        False\n",
       "local_trafffic_month      False\n",
       "local_caller_time         False\n",
       "service1_caller_time      False\n",
       "service2_caller_time      False\n",
       "gender                    False\n",
       "age                       False\n",
       "complaint_level           False\n",
       "former_complaint_num      False\n",
       "former_complaint_fee      False\n",
       "current_service            True\n",
       "user_id                   False\n",
       "dtype: bool"
      ]
     },
<<<<<<< HEAD
     "execution_count": 46,
=======
     "execution_count": 123,
>>>>>>> 9fa2b48921550b951c93467d2d0ec077bf8ecbf2
     "metadata": {},
     "output_type": "execute_result"
    }
   ],
   "source": [
    "train_test.isna().any()"
   ]
  },
  {
   "cell_type": "code",
<<<<<<< HEAD
   "execution_count": 47,
=======
   "execution_count": 127,
>>>>>>> 9fa2b48921550b951c93467d2d0ec077bf8ecbf2
   "metadata": {
    "scrolled": true
   },
   "outputs": [],
   "source": [
    "train_clean = pd.merge(train_test, pd.DataFrame(train.user_id), how='right')\n",
    "test_clean = pd.merge(train_test, pd.DataFrame(test.user_id), how='right')"
   ]
  },
  {
   "cell_type": "code",
<<<<<<< HEAD
   "execution_count": 48,
=======
   "execution_count": 128,
>>>>>>> 9fa2b48921550b951c93467d2d0ec077bf8ecbf2
   "metadata": {},
   "outputs": [
    {
     "data": {
      "text/plain": [
       "service_type              False\n",
       "is_mix_service            False\n",
       "online_time               False\n",
       "1_total_fee               False\n",
       "2_total_fee               False\n",
       "3_total_fee               False\n",
       "4_total_fee               False\n",
       "month_traffic             False\n",
       "many_over_bill            False\n",
       "contract_type             False\n",
       "contract_time              True\n",
       "is_promise_low_consume    False\n",
       "net_service               False\n",
       "pay_times                 False\n",
       "pay_num                   False\n",
       "last_month_traffic        False\n",
       "local_trafffic_month      False\n",
       "local_caller_time         False\n",
       "service1_caller_time      False\n",
       "service2_caller_time      False\n",
       "gender                    False\n",
       "age                       False\n",
       "complaint_level           False\n",
       "former_complaint_num      False\n",
       "former_complaint_fee      False\n",
       "current_service           False\n",
       "user_id                   False\n",
       "dtype: bool"
      ]
     },
<<<<<<< HEAD
     "execution_count": 48,
=======
     "execution_count": 128,
>>>>>>> 9fa2b48921550b951c93467d2d0ec077bf8ecbf2
     "metadata": {},
     "output_type": "execute_result"
    }
   ],
   "source": [
    "train_clean.isna().any()"
   ]
  },
  {
   "cell_type": "code",
<<<<<<< HEAD
   "execution_count": 49,
=======
   "execution_count": 129,
>>>>>>> 9fa2b48921550b951c93467d2d0ec077bf8ecbf2
   "metadata": {},
   "outputs": [
    {
     "data": {
      "text/plain": [
       "service_type              False\n",
       "is_mix_service            False\n",
       "online_time               False\n",
       "1_total_fee               False\n",
       "2_total_fee                True\n",
       "3_total_fee                True\n",
       "4_total_fee               False\n",
       "month_traffic             False\n",
       "many_over_bill            False\n",
       "contract_type             False\n",
       "contract_time              True\n",
       "is_promise_low_consume    False\n",
       "net_service               False\n",
       "pay_times                 False\n",
       "pay_num                   False\n",
       "last_month_traffic        False\n",
       "local_trafffic_month      False\n",
       "local_caller_time         False\n",
       "service1_caller_time      False\n",
       "service2_caller_time      False\n",
       "gender                    False\n",
       "age                       False\n",
       "complaint_level           False\n",
       "former_complaint_num      False\n",
       "former_complaint_fee      False\n",
       "current_service            True\n",
       "user_id                   False\n",
       "dtype: bool"
      ]
     },
<<<<<<< HEAD
     "execution_count": 49,
=======
     "execution_count": 129,
>>>>>>> 9fa2b48921550b951c93467d2d0ec077bf8ecbf2
     "metadata": {},
     "output_type": "execute_result"
    }
   ],
   "source": [
    "test_clean.isna().any()"
   ]
  },
  {
   "cell_type": "code",
<<<<<<< HEAD
   "execution_count": 50,
   "metadata": {},
   "outputs": [],
   "source": [
    "train_clean.to_csv('../mobile_new_data/train_clean.csv')\n",
    "test_clean.drop('current_service',axis=1).to_csv('../mobile_new_data/test_clean.csv')"
=======
   "execution_count": 131,
   "metadata": {},
   "outputs": [],
   "source": [
    "#train_clean.to_csv('../moblie_data/train_clean.csv')\n",
    "#test_clean.drop('current_service',axis=1).to_csv('../moblie_data/test_clean.csv')"
>>>>>>> 9fa2b48921550b951c93467d2d0ec077bf8ecbf2
   ]
  },
  {
   "cell_type": "markdown",
   "metadata": {},
   "source": [
    "# 其他变量"
   ]
  },
  {
   "cell_type": "code",
<<<<<<< HEAD
   "execution_count": 1,
=======
   "execution_count": 2,
>>>>>>> 9fa2b48921550b951c93467d2d0ec077bf8ecbf2
   "metadata": {},
   "outputs": [],
   "source": [
    "import pandas as pd\n",
    "import numpy as np\n",
    "import matplotlib.pyplot as plt\n",
<<<<<<< HEAD
    "#import seaborn as sns\n",
    "#from ggplot import *"
=======
    "import seaborn as sns\n",
    "##from ggplot import *"
>>>>>>> 9fa2b48921550b951c93467d2d0ec077bf8ecbf2
   ]
  },
  {
   "cell_type": "code",
   "execution_count": 81,
   "metadata": {
    "scrolled": true
   },
   "outputs": [
    {
     "name": "stderr",
     "output_type": "stream",
     "text": [
      "/Users/fu/anaconda3/lib/python3.6/site-packages/statsmodels/nonparametric/kde.py:488: RuntimeWarning: invalid value encountered in true_divide\n",
      "  binned = fast_linbin(X, a, b, gridsize) / (delta * nobs)\n",
      "/Users/fu/anaconda3/lib/python3.6/site-packages/statsmodels/nonparametric/kdetools.py:34: RuntimeWarning: invalid value encountered in double_scalars\n",
      "  FAC1 = 2*(np.pi*bw/RANGE)**2\n",
      "/Users/fu/anaconda3/lib/python3.6/site-packages/statsmodels/nonparametric/kde.py:448: RuntimeWarning: invalid value encountered in greater\n",
      "  X = X[np.logical_and(X > clip[0], X < clip[1])] # won't work for two columns.\n",
      "/Users/fu/anaconda3/lib/python3.6/site-packages/statsmodels/nonparametric/kde.py:448: RuntimeWarning: invalid value encountered in less\n",
      "  X = X[np.logical_and(X > clip[0], X < clip[1])] # won't work for two columns.\n"
     ]
    },
    {
     "data": {
      "text/plain": [
       "<seaborn.axisgrid.PairGrid at 0x136e54f60>"
      ]
     },
     "execution_count": 81,
     "metadata": {},
     "output_type": "execute_result"
    },
    {
     "data": {
      "image/png": "iVBORw0KGgoAAAANSUhEUgAABH0AAAQcCAYAAAAIvudLAAAABHNCSVQICAgIfAhkiAAAAAlwSFlzAAALEgAACxIB0t1+/AAAADl0RVh0U29mdHdhcmUAbWF0cGxvdGxpYiB2ZXJzaW9uIDIuMi4yLCBodHRwOi8vbWF0cGxvdGxpYi5vcmcvhp/UCwAAIABJREFUeJzs3X2UI3d95/v3V1I/eGxjYiDEAYxZTi7gON4knhDY7DqJCYkDm+QukKe72U02XMgDm00O3GZD4ocB8rB3uyGZ5MSwCTAJuTk2w9679xLWCWQIGOMMMRN6bI8NxsY248Gm1d3qnmm1HkpV9b1/lKRWq7une2YklVT6vM6pU1KpJP3q0z/96le/LpXM3RERERERERERkWzJpV0AERERERERERHpPQ36iIiIiIiIiIhkkAZ9REREREREREQySIM+IiIiIiIiIiIZpEEfEREREREREZEM0qCPiIiIiIiIiEgGadBHRERERERERCSDNOgjIiIiIiIiIpJBGvQREREREREREcmgVAd9zOy5ZvZBM/ub5v2rzeyNaZZJRERERERERCQL0j7T58+BTwDf2rz/FeA3UiuNiIiIiIiIiEhGpD3o82x3PwzEAO4eAlG6RRIRERERERERGX1pD/qsm9mzAAcws1cAp9MtkoiIiIiIiIjI6Cuk/P5vBT4GvNjM7gGeA7wh3SKJiIiIiIiIiIw+c/d0C2BWAF4CGPCwuzdSLZCIiIiIiIiISAak/etdbwEucfcH3f0EcImZ/WqaZRIRERERERERyYJUz/Qxs+Pu/p1dy+bd/bvSKpOIiIiIiIiISBakfSHnnJlZ646Z5YHJFMsjIiIiIiIiIpIJaQ/6fAI4bGavMrMbgNuBv02zQGb2ITMrmtmJPax7pZl92szmzex+M3vNIMooIiIiIiIiIrKbtL/elQN+CXgVyYWcPwl8wN2jFMt0PVAGPuzu1+yy7p8C8+7+PjO7GrjT3a8aQDFFRERERERERM4q1Z9sd/cYeF9zGgru/lkzu6pzmZm9GPgTkp+UrwBvcvcvAw48o7naZcBTgyupiIiIiIiIiMjOUhn0MbPD7v5TZvYAycDJJu5+bQrFOps/BX7Z3R8xs+8FbgNuAA4AnzSzXwMuBn4ovSKKiIiIiIiIiGxI5etdZnaFuz9tZi/c7nF3/9qgy9SpeabPx939GjO7BFgEHu5YZcrdX2ZmbyXJ8D1m9krgg8A1zTOYRERERERERERSk8qZPu7+dPPm64DD7v71NMqxRzlgtfun5ZveCNwI4O5HzWwaeDZQHGD5RERERERERES2SPvXu55B8vWou83sLWb23JTLs4W7nwEeN7OfBLDEP28+fJLkItSY2cuAaZKzgkREREREREREUpXqr3e1C2F2LfDTwOuBU+6e2rVxzOx24AdIzthZAG4F/p7kYtNXABPAHe7+ruYvdv0ZcAnJtYne7u6fTKPcIiIiIiIiIiKdhmXQ51uAnwR+Brh0CC/kLCIiIiIiIiIyUlL9epeZ/YqZfQb4FMmZNW/SgI+IiIiIiIiIyIVL+5o+VwK/4e7f7u63uvtDe3mSmX3IzIpmdmKHx83M/sjMHjWz+83su/fyujfeeKOTfE0rrSlzhiBT5apM90SZ9ody7T1l2ntDkKlyVaZ7MgSZKldluidDkKlyVabSlNqgj5nlgB9z9+Pn8fQ/p/mrWTv4UeDbmtObSa7Hs6ulpaXzKIqcTWemYaUykPcc1PukqTPXKIqSqdEgrFaJGg2iKCKsVNrLozAkrNeTeWt5vZ6sV68nt8Ow/Vqdzw1rNaJGI8WtHYxNmXbm1DWFtRpxGBLX63gUEVcqEEV4EOD1+sYLjkFme9HdroaVSruORmG4cTsIkttBQNxoENfr0MzXowjCMHmBPeTqQdCPTRkaWzKt1dqf5/YUBMm8+fmNgiDJEZIMmznGtRrerL9nM26ZxkFA3NkWdrSl7fv1OnEU4Y0GRFG7vm5SqyWvV6vhzTrsQbBRnzOuuw+wU5va3h/Vau3cvZlxax/Vrr9jbqe+aj/6PuPQn2rZbl/VOY+67nfrXj9utpm7rZ9l29XVzu1ut6tdbW3rdliptNvc7sdbbS7QbmcJgmTKeP9Lx1ZyPlIb9HH3GLjPzK48j+d+FiidZZWfAD7sic8DzzSzK86zqNID1WKR+QMHqBb7+2v2g3qfYRE1DxziapVgZYX5W28lWFkhrlaZP3CAYHkZ3InW1yl+7nMEpdLG8lwuuX/zzdSWlgjLZbzRaK8Trq3RWF1l/pZbaKyu0iiXU97awWisr2/OCSCOoXn9s/lbbiEolfAgIF5bo3b0KNHyMnzpS7C0hK+uQrUKH/gArK6muCXDp/X5DFZWiGs1MCMOAqJyGfJ54rU14mqVaH2dx2++maBUYv3wYeLl5eTAulyGI0fOmmu0uMjKTTcRLY7HDynWFheZv+WW5DO8tpYsdId8nrBc5vQ99xAWi8Rra8lnPAyTDvH99xMVi6zecgvx8jLcfTe+Q2bjlmmwuIjn89SXlzfagThOBnnr9aQuApUvf5mwVCKOYzwIiEolVg8cIGrtf1ZW4MEHN3IulYjK5Y0sx6RNhY7PfqtNhaRdjWMev+OOdv2tPP10O/d6qURYqTB/883Um49HGR98PF/96PuMW3+qU+e2F48eTTKYmtoxk87ljx8+TLVYxPP5Pa0/Tjq3O4qiZN+fyxF0trWATU1tLCuV8EaDysICQHt5tdWWlMtw6FAyX1uDD34wmY9B+6pjKzkXaX+96wrgQTP7lJl9rDX14HWfBzzZcf9Uc9kWZvZmMztmZscWx6RD22/dmYaVCifm5jgxO8uJubm+jRYP6n3S0p1rVKng9TpxrUZtcXHTttcWF9u3o2qV5fl5Ji69dNM6cb2e3J6d5aGDBykdP05YLreXlY4f54Hm7QdmZ6k1/5ZZsl1drRWLm3Oq1Yjr9WSq1ZI85uYIl5YIjh8nd+mlnJ6bwy+/HA4ehOPH8VIJbr89mTL+H6ftbNeudn8+a8ViUneLRZbn54lrNcr33095fp7y8eOcnJ3lydlZolIpyXd9HX/4YThzZsdcPQg4PTvbnrJ0dspOmT7Q9Rlu19dajdL8PLlLL+XUwYOUH3iA8vx8MmixskI8Pc3pubkkq7k5/NJLYZvMxi3TOAh4cnYWr9W2tJdhuUytWEwGz2o1Ji6/vL2ur69v5DQ3l5zxc8cdW3KOFxeT23/wB0l9zmD7sFsfIK7VNrWr9VKpXX8nL7usve4Ds7OU7ruPE7OzPHjwIOXjx/FqNVN1cK/O1lftR98n6/2plr3sq1p9p+42ofPMns7l9VLpnNbPWrY71dXu7fZarb3v36592JRRuczkZZdtXV6vwyOPJH2CRx6Bw4eT2x/5SHK/8+zrEadjK7lg7p7aBHz/dtMen3sVcGKHx/4n8C877n8KuG6317zuuus8Zan+PfoxtTKtLCz4vTMzXllY6GFcW+3wPqnn0OuplWvYaHgYhh6srW3a9mBtrX07rNe9vrrqXz9yZNM6YRB4pVj0e2dmvHzqlNdWVrxRrbaX1VZWvNq8XS0WPVhbG4tMg3J5c05h6GEQtLO+d2bGqwsLHp454+HKiq8fOeLhwoLHx497fOqUxysr7pWK+223ua+s+DlIPYN+5uphuLmOlstJ3S2Xvb66mtxeXvZgddWDlRV/dGbG68Winzl0KMm3UnFfW3O/886z5hoWi748M+NhsZjZXDv3VdWuz3AYhu26Wltd9eUjR7x26pQHS0serK563Gi4r6+7Hzvm4cJCktXCgsdHjni8kdlYZ1ovFj3sqq9hEHijWvWgXPZGtephGPqZ48eTdWs1jyuVjZxa+59SaUvO4dpacvupp5L6vFnqOfQr1y1taqtdDQL/yqFD7fp7+rHH2utWi0WvlUp+78yMr5865cHKiof1endmu0k9g35l2qkffaxdXjP1HHo9debaue2tvlN3m7BTVl85dOic1h+XTLu3OwzD9r5/u/ahc1mjWvXTjz22NdMwTNrR225L5ktLye3l5c72NfUc+pVrisdWqWeg6dyn1H+y3cxeCHybux8xs31A3t3X9vC8q4CPu/s12zz234DPuPvtzfsPAz/g7k+f7TX379/vx44dO4+t6BlL8837Yf/+/X7s6FHI5QjrdQpTU8kp3RMTfXvPsFKhsG9f56JM59q+ykEc42GIFQqQy+H1OtbK2wyPIiyfx4MgWR6GUCgkzwHI58GSqDqf23pefvPfLNuZum/k1MUbDXKFAkQRVijg9Tq5qankehPuG89pNM61nmcuU2jm+vnPJ/Uwnyes17GJCcjlkq8huSe3oyipf+6YGcQxuUKBuFkXzR0KhT3l6kGATU627mYu1/a+qtFI2tZGI8msUNhYKYqSz3SjkczdyeXzWGsZwMQEca2W/D2iqDOzLcYm06a4VkvyabWF0G5LW+0kzfbW4hjLJSdOx/U6uc79T60G09NJzoVC0mYEQbJ+598rkc1cO/oAO7WprfrrjQa5Zu75qSniMMRJgskVCkn9PTfZzLSzr9pqB3rZx9r9NbOba9e2h/U6hX37iCoV8vv2bdfHBDb6nq15HATkJid3Xb9DdjOFrXUKkv5rHG/us7LRB/V6PdnvmG15vPUa5PPtdpbWWYBmnfU1m7kO6thq+7Ygc5mOg7R/sv1NwH8H/ltz0fOA/7cHL/0x4N83f8XrFcDp3QZ8pI8mJqBWo/C5zyUNcx8HfIBtd66Z1MwxX6uRv/9+8kFA4e67yTca5Jt552s18rkc+XqdwkMPJfPW8kIhWe+uu8iHYXI/nyefz1PYty+5PTFBYXq6e8AnuyYmoNEgX6ls5EQz4ygiDxSmp8kVCuSmprB8PjnAy+exycnNBzTjktleFArtjlnhc58jHwRJntVqchvIT06Sn5ggPzlJbmKC3NQUNPO1fH7jAHkPuZ5t8CJTmvW1EATk77pro77GMfl6PWkLmp/f/OTkxgHzxEQ7x9z0NNasv2czNpk25aanyXW2o5DUVfck33ye/NRUMpA2MZHU71Z70Gl6uv161qzDNjm53YBPdnX0AfK1Wns/097fTE+Tn5pq384190HWzLgwNUW+2d7KNvrRxxpwv22odG17q0+Zb8536mMWuh7PNdvM3dYfG911qtUGTExs7nd23C7s29fum3Y/3mpzgXY7y+RkMo1DfR3UZ3Sc24KMSbvX8Rbg5cA/Arj7I2b2zbs9ycxuB34AeLaZnQJuBSaar/F+4E7gNcCjQAX4D/0ovJyDiy+GH/xBNRa9ls8nO7trrknOlrjhhmS5WZJ362yK6Wn4ju/YWN48WGR6Wn+XbtPTyQHZDTckecXxRodCBx3nr1VXW/USkvu5nHK9EN31FZJ5q1Ms56+13+psR0G5ng/1AfqrH/mO899snLe9n5Rrbw0qT/3dMiHtQZ+6uwfW7KiaWQHY9ftm7v6zuzzuJANKMkzUWPRH5387upfvtD5s/D10ALNV53/hlU/vdNdVZdsb43TWyKBpv9U7yrK/+pHvOP/Nxnnb+0m59tag8tTfbeSl/etdd5nZbwEXmdmrgY8Cf51ymURERERERERERl7agz6/CSwCDwC/RPK1rJtSLZGIiIiIiIiISAakek64u8fAnwF/ZmaXA8/3tH9OTEREREREREQkA9L+9a7PmNkzmgM+x4FDZvbeNMskIiIiIiIiIpIFaX+96zJ3PwO8Djjk7tcBP5RymURERERERERERl7agz4FM7sC+Cng4ymXRUREREREREQkM9Ie9HkX8AngUXf/gpn9M+CRlMskIiIiIiIiIjLyUh30cfePuvu17v6rzfuPufvrW4+b2TvSK52IiIiIiIiIyOhK+0yf3fxk2gUQERERERERERlFwz7oY2kXQERERERERERkFA37oI+nXQARERERERERkVE07IM+OtNHREREREREROQ8pDroY2bft8uyjw6wOCIiIiIiIiIimZH2mT5/fLZl7v57AyyLiIiIiIiIiEhmFNJ4UzN7JfAvgOeY2Vs7HnoGkE+jTCIiIiIiIiIiWZLWmT6TwCUkg06XdkxngDfs9mQzu9HMHjazR83sN7d5/IVm9ikzu9/MPmNmz+9x+UVEREREREREhloqZ/q4+13AXWb25+7+tXN5rpnlgT8BXg2cAr5gZh9z94c6VpsDPuzuf2FmNwC/D/y7HhVfzpNHEZbv/4lcg3qfYeFRdGEvkMtBHBOTx8xxt46HnDg24hgmJi6woCOkO9O46wTEVvUKQyhcQCt6oc8fNVEEObrqay6HO+RyRhTRrmtRBO4b+YxbVnu1JdNcjjg23MEsqav1OkxNbX2uMj277eprTL7dLrbagSCAycnze49x+hts2Vflkv87utPe73Tug8xj3Jr/m/QYLIeZE0XJ4zvtky7k7zHK+tH3Gbf+VKfWtrfqU2u+02e2e73WfKcMVU+T263+VXf/E5L+QLOZ2HQ7isYzu+0M7NjKHTP9vtIoS/uaPlNm9qdm9kkz+/vWtMtzXg486u6PuXsA3AH8RNc6VwOfat7+9DaPy4B5EGCPP44HQSbeZ1h4GGJRhD3+eDIHLI6T2wsLydx98+PuWBgmy8IwmVZXyUUBORwzB5IBH3Mnl3PCENbXU93UgfEo2pJp68CvNShRLifTBz8Iq6vn9z6rqxf2/FETRZCLgs11kaS+5izpULjDXXcldW19fSOfC806q7bNNI6Tz67R/tzefffWz++41b9ztVN9zRG128UoSgbUDh06vxzH6W/Q2je3s1xdxRqNZqZJnrmct/dBuSgg98Rj5OIGuSgg/8Rjm/ZR9XrSLnRbXISbb07m46QffZ9x60916tz2fD5pP/P5ZKDm5Mlk3ml9HR56KJl/9rMb6++UYed646QzD2/2s3JR0P7s53LeXrdWS/oDtVoyMPzkk0l7W6uNZ3bbGdixlSfHA+6++8oytNIe9PkoMA/cBMx0TGfzPODJjvunmss63Qe8vnn73wCXmtmztnsxM3uzmR0zs2OL49ZL6JPuTD2KsJMn4eRJ7OTJCz8zZQeDep+0bJtro5H0QFpT69/7J08mR3wnT0LnOu7J/SefTO4/+WTScy4Ukux8Y8drzcbd3Jmaco4e3drRGXXbZuq+JVNzJ0fE+nqSwVe/Co8+Ch/5SDKF4bm9bxhuPPd8nj/sunOt1ZoHy911tTXFMUbSsfiHf4CjR+HxxzfyuZCss6I70zDcOdPWwE+9nmTZyrReT14r6/Vvr3ba/5+tvlrHvDX40MrxXNrHLP8NztYHaGdZKCS34zh5jjut/yHnPN7Yl5fLm/bruFPIOU884SwvJ3+rliCAuTmYnU3mWdpfna2v2o++T9b7Uy3b5dq97Tkijh5Nqu2pUxtT6zMbBEn7Wqttbm8725DODFvrt9bLUj2Fnetqd66tvpadPIl1tgOWDKh3ZhSGydmqxWK2szub1I6tfPPxgAZ+Rpg3/4BpTMA/ncdzfhL4QMf9fwf8cdc63wr8PyQDSgdJBoYu2+21r7vuOk9Zqn+PfkytTON63f2RR5J5H+3wPqnn0OupnWuj4d7cZq/X3cPQPQiS21//ejJvNDY/3mi412rJslotWX9pKcksijyKYg9D9ziO3aPI4zj2SsW9XI7HI9Mw3JJpHIbeWhwE7mtryfT+97sXiw1fXa36uVpZSZ6/spLdTDtzDcONz2e7LramOPY4jr3RcP+7v3Mvl91Pn97Ip5V1R1bnIvUMBp1pHCef4Vot+dy2Mu20Tf1Tph3CMN4+2zBst4thGHutFp93juPQBnT3AdpZLi0ltzv2M619ThRtZB8Hweb9ehR5oxG32+BuxaL729+ezLOeaad+9LF2ec3Uc+j11Jlr57aHYdJ+Jn2A2L/61WTeqVx2n59P5q32trN97s5wo10ej37VdrnGYbhxu6MdaHULOrNsNNy/+lX39fXNy/co9Rz6levAjq06/j5NqWeg6dyntL9J/tdm9qvA/wDqrYXuXjrLc04BL+i4/3zgqc4V3P0p4HUAZnYJ8Hp3P92rQsu5qVQipqby5F70ImKgXonYt6/33z8d1PsMi2R7jVw+Dy960cYDrS89P/e5G8s6HzdL/svaWpbLwTOfSUyuebYFgDe/P51cz6dQcHK5mEqFMciULZnG5AAnn4dKJWZ62gDnpS99kje+8bO89KXP4Xd+59VMTu69SX3mM+GNbxyf63lARJyfINdZF6F9TR/3mCiC66/PMTmZXN+nM5/xympvwjCiUChszjSXI46Tf+hEUUSj0eBf/atppqY2fxd//Orf3tVqDfL5HGxTX2Ny5Cw5QaXRiLjnnif4+Z9/cbNNODfj8jfo3De3PfOZG9f0wfDkH/2YJdej8vwEdtWLqNah0XAuvepFhJGTi5wocqamjImJrSerP+c58O53j9f1PvrR9xm3/lSn7m2PIufii40gcPL5mCuvzGG2uT908cVw9dVJvbv++tY1fRzyWzOsVCKmp5N9XT6f/X5VS3euQPN2DuLmZz8GSM4kmZ6G7//+jS7tC16wcfv66yGfd9L/wkp6BntsBblcjjiOqdfHo75mUdqflp8n+TrXPwD/1JyO7fKcLwDfZmYvMrNJ4GeAj3WuYGbPNmtd/Y93AB/qaanlnOzbl2d52fnP71hkedn71lgM6n2Gxb59eWo1WFx27j8RsLjs/MVfnmGxmcFT34g5U4a/+MszPPWNmPUqLJWSx1rrPvWNmFIporTqrK3FfPjDqywvR3zmM+usrcUsLUW84x0LFIsha2vZb+j37ctTKm3OLwZqtRj3GIibFxrOMTGR5+qrn8NLX/ocZmauP6cBn5asH+x1yufzlErRpmxPrzlLSxFBkHQBwzBictKa62/OZ5yy2qupqTylUry5vsZJPTWLqVYDzGzLgE+LMt3e9PQEuRwsL0ft9jKG5r4lIo5jyuWYhx8ucu21V5zXgE/LOPwN9u3Ls7YGT30jqatLpSTPxcXksx/HMX/5l6uUyzHFYsg73rHA0lLEmTK8852LNBqQL+Q5fbrGb//2JzlzprrtgE/LOA34QH/6PuPWn+rUve2tfdLkpLG87PzWby1sm0mr3m3MbdsMW69/003bv05WdecKSf9qeTlqf+bzeSOft/aylZWIMIxZXq4zMbGxfHU1Sgbmx9jAj63+83jV1ywy99H7bp6ZvQb4QyAPfMjdf9fM3gUcc/ePmdkbSH6xy4HPAm9x9/rOr5jYv3+/Hzu225hTX2XusuidmVYG9J+ibd4n07k2GhFhmHQ0Wr/S02hs/MJU86vS5PPJST5BkBxoRFHyXxNr/te6UNj4NYl6PZm3LgYLyQFmh0xnWq1G5PNJZpt/PWLrf5eDIDyvAZ9tZC5T2NquVqsRhUKSaeevoLhDodCX9iFzuW6Xaau+trQ+9xMTynQvttv/R1HUblPjmHY7mwz85nv52W/JdK71enLNiUJh8y/KxXGyP5qY2Hxto6mpPEEQMzm50ebWag2mp8/ppyQznWmnfvSxzvKamc91p20/15zP4XUynyls3u5aLWJ6Or9tRpVKzL59OWq1kOnpwpbl5yDTuaZ0bJW5TMdBqoM+ZrYPeCtwpbu/2cy+DXiJu388pfIsAt0/If9sYKmPb9v5+kvufmMf32vgujLtd5Yt3e+jXM/fTq+tTM/P2V43c5nCtu1qP7Idq1z7mOleX2ccMm0ZZPua9VwvNMvzeX7WM+00yLZ1HHLtdZ67vd44ZAqDPa6C7OeaxrFV5jIdB2kP+nyE5Ctd/97drzGzi4Cj7v6dqRWqi5kdc/f9o/r6w2RQ2zpOmUJ/t3fcsmzp13aPa56d+pHBuOfaq+0f9xy3o/a1dy50e8ctr3OltrW3er3t45xlJx1X9ZaOrWSv0v5C5Ivd/b8CDQB3r6JTxkRERERERERELljagz5B8+weBzCzF9PxK14iIiIiIiIiInJ+0v7diFuBvwVeYGZ/BXwf8AuplmirPx3x1x8mg9rWccoU+ru945ZlS7+2e1zz7NSPDMY9115t/7jnuB21r71zods7bnmdK7WtvdXrbR/nLDvpuKq3dGwle5LaNX3MzIDnAxXgFSRf6/q8uw/iYlQiIiIiIiIiIpmW9oWc/8ndr0utACIiIiIiIiIiGZX2NX0+b2bfk3IZREREREREREQyJ+0zfR4C/hfga8A6yVe83N2vTa1QIiIiIiIiIiIZkPagzwu3W+7uXxt0WUREREREREREsiTNCznngPvd/ZpUCiAiIiIiIiIikmGpXdPH3WPgPjO7Mq0yiIiIiIiIiIhkVSHl978CeNDM7iW5pg8A7v7j6RVJRERERERERGT0pT3o886U319EREREREREJJNSvZCziIiIiIiIiIj0R6pn+pjZGtAadZoEJoB1d39GeqUSERERERERERl9qQ76uPulnffN7H8FXp5ScUREREREREREMmPovt5lZp9391ekXQ4RERERERERkVGW9te7XtdxNwfsZ+PrXiIiIiIiIiIicp7S/vWuH+u4HQJPAPq5dhERERERERGRC5T2oE8O+HV3XwUws28C3gP8YqqlEhEREREREREZcbmU3//a1oAPgLuvAN+VYnlERERERERERDIh7UGfXPPsHgDM7HLSP/tIRERERERERGTkpT3A8h7gH8zsv5NcwPmngN9Nt0giIiIiIiIiIqMv9Z9sN7OrgRsAAz7l7g+lWiARERERERERkQxIfdBHRERERERERER6L+1r+oiIiIiIiIiISB9o0EdEREREREREJIM06CMiIiIiIiIikkEa9BERERERERERySAN+oiIiIiIiIiIZJAGfUREREREREREMkiDPiIiIiIiIiIiGaRBHxERERERERGRDNKgj4iIiIiIiIhIBmnQR0REREREREQkg0Zi0MfMnmtmHzSzv2nev9rM3ph2uUREREREREREhtVIDPoAfw58AvjW5v2vAL+RWmlERERERERERIbcqAz6PNvdDwMxgLuHQJRukUREREREREREhteoDPqsm9mzAAcws1cAp9MtkoiIiIiIiIjI8CqkXYA9eivwMeDFZnYP8BzgDekWSURERERERERkeJm7p12GPTGzAvASwICH3b1/ewZCAAAgAElEQVSRcpFERERERERERIbWSHy9y8zeAlzi7g+6+wngEjP71bTLJSIiIiIiIiIyrEbiTB8zO+7u39m1bN7dvyutMomIiIiIiIiIDLORONMHyJmZte6YWR6YTLE8IiIiIiIiIiJDbVQu5PwJ4LCZvZ/kF7x+GfjbdIskIiIiIiIiIjK8RuXrXTngl4BXkVzI+ZPAB9w9SrVgIiIiIiIiIiJDaiQGfURERERERERE5NwM9de7zOywu/+UmT1A8rWuTdz92hSKJSIiIiIiIiIy9Ib6TB8zu8LdnzazF273uLt/bdBlEhEREREREREZBUN9po+7P928+TrgsLt/Pc3yiIiIiIiIiIiMilH5yfZnAJ80s7vN7C1m9ty0CyQiIiIiIiIiMsyG+utd3czsWuCngdcDp9z9h1IukoiIiIiIiIjIUBqVM31aisA3gGXgm8+2opl9yMyKZnZiry9+4403OskFo9OaMmcIMlWuynRPlGl/KNfeU6a9NwSZKldluidDkKlyVaZ7MgSZKldlKk0jMehjZr9iZp8BPgU8G3jTHn6568+BG8/lfZaWltq3K5UIAHeHKDqXlzknYaXSt9ceBp2ZDkLtnnv4+nXXEZzY81jfSOrMNYoionqdqNEgCgLCapUoiggrlU3zKAiSeet+a16vE9Vqye1GI5nXakRhSFStEkcRcaOR4tYORnem7dzCMMllDDLoh+42IKzVNupicx632thGA8W8u20zrdeTTDvzbKrVBlm60bTTviqsVpN6GobtbONKRXV2jzpzbWfZ2te0pnqdKIKoUiUMUZ672LGu9qE/GWW8j9ppS7va3PbWPOqad9vp8d3Wz7Lt6mpnPY3qAWEIUeTtPmnc7J96Rz/MO5a1+mebjs3GrNHY1K4OqB6NQ33NupEY9AGuBH7D3b/d3W9194d2e4K7fxYonc+bFYshU1PJgI81GvD44xAE5/NSZ1UtFpk/cIBqsdjz1x5X8fIywRe/iJfLaRdlIKJajbhcTg5CzpyhvrjI/K23Eiwv8/jhw5vm5PNEy8s8ceAA0fIyxcOHiUol4vV1nrjlFqJSCXI5olKJ4h13EJVKPHHrrYTLyzgQnT6d9uYORBRFBMvLzB84kORmhlerxOUyjTHJoF+qi4vM33ILtcVFwnIZ4pi4XE7+dRRF8IEPwOlVxuTj2xPtTJeWkkxJ/g0XNTvExSLcemsyl3NTbbanrfrqtVpSV6em8OVl1dlz0J0luRzxmTPJVK0Sr63yxIFbiUtFwhDleY760Z8MikWeOHCAYAwbj848Hz98OMl1amrHTDqXFw8fbj++l/XHSWeuURTxxM03YRYRLS+2+6YOMDVFraMfFgNPHDhA3NE/qy4vJwM/5XLSDq+uprx1gzeo48hxra9ZM/SDPmaWA37M3Y/36fXfbGbHzOzY4uIilUrE3NwSuVwOi2M4eXJj6uEZP2Glwom5OU7MznJibi5TZ/x0ZzpQDz+czE+eHOz7DkB3rlGlQlQuU56fp3zffZQfeIAHDx5s16l6qbRp7rUaT87NcXJ2lifn5ghLJZ6cnaV8//3JstnZZJ3Z2eSxjnW9XieYnyfOUD2F7TP1Wm3TZ9NrNRrLy0nG8/P6b8cebNcGhJVKkunsLA8dPEhpfp6wWX+9ViOu1eD225n46O088WijH+PsI22vmXqthtdqUKsRVyq85z0wOwvveY/O+Ol2tn3VlmyPHycoFtv5nm62DaqzW3XnulM9LT/wQDIdP075+PH2/qaxXmVxEarVtLdkeOxaV3vcn4wqlU19gKzu93ZsVzvy3KkP1Xlmz5a+VfPxvayftWx3qqvduXqtxslWv7Ozv9lsY7dbN6pWN9f1eh0eeQRuvz2ZMnzGz7bt6gCOI7NeX8eKuw/9BPwVcOV5PO8q4MRe17/uuuvc3X1hoeFhGHocx+71uvsjjyTzHqssLPi9MzNeWVhoLUo9615PrUwHZfltv+WPga++70Odi1PPoddTK9ewWvVgddWDUsmDpSVfP3WqXae+cujQpnkYhl5fWPBHZ2a8vrDgTx065PVi0YPl5WRZsZisUywmj3WsGwaBh6ur45FpGG76bIZh6I3Tp5OMN2fQa6ln0I+psw2oFIt+78yMl0+d8trqarv+hmHocRi633abB4srvrbWm0CbUs+g19NZMw3D9uTuvrDg/va3J/MeSj2DXk/b7as2Zbuy4o1yeSPfhYV+1NnUc+j11Mp1u3oaLC0l08qKBysr7f1NpeK9bANSz6BfmXbapj95wTr7ANtIPYdeT5va1Y48d+pD7ZRVq/90tgx3WJ56Bv3MtDvXMAz90ZmZLbm22tht163XN9f1MEwai9tuc19Z8R2knkO/cu3H534729TX1DPQdO7TSPx6l5n9PfA9wL3Aemu5u//4Ls+7Cvi4u1+zl/fZv3+/Hzt2DEiu6bNvXz4JKY4hnz/P0p9dWKlQ2Levddf68iYp6sx0EL72Y79A/PG/oPB//FdeMDvTWpzpXKMogjCEXA7c8SjCJifxeh2bmmrPiaKkHtfrMDW1MQ9DcIeJCYjj5HUaDSgUoNHAJichjslNTHQWIfOZtnNzTyYgvzmDXstcprC1DQhrNSyXS+pis04akMvnk+ujMEGPY85crttmapZ8ZmEjz6ZaDaane1qEzGfaElarWD6ftItmyYY3284+1NlM59rOMp9P9jUtcQyFKahX8cmL2rujHsl0pp26+pM9EVUq5Ld/zczn2sqzNW9lsVMmOz2+2/odMp8pbK6nUT3A85OYOdSrMDWFAV6vk5uaImr2w3JA3FwWNx8vTE1tHJs1GmdrNDKdaz8+99vpqq+Zy3QcFNIuwB69c9BvuG9f0pCYWd8GfICBfFDHSvMreFYY+m8u9ky+1Ynu1qpbrXlrnZ2Wd95uzZsHkf38DAyjfD6/kY/0VKFz9KG7Xk1M0NdhtYwq7DKi0+MBn7FSuOiirQs72wbV2T3blOW2+6xtspY960d/cocBn7HQyrM1z3fNu+30+G7rj5vOepqfmmzess3talf20JFvx+Nt/f2H3FAb1HHkuNbXLBmJI2N3vwt4Apho3v4C8MWzPcfMbgeOAi8xs1Nm9sa+F1TS1/rvYWFUxjNFRERERERE+mMkjozN7E3Am4HLgRcDzwPeD7xqp+e4+88OpnQyTIIzq6wBl6+vpV0UERERERERkVSNxJk+wFuA7wPOALj7I8A3p1oiGUrh+mlOA1FFv/cqIiIiIiIi421UBn3q7t7+MVQzKwDDfwVqGTiPkq932Rh/v1dEREREREQERmfQ5y4z+y3gIjN7NfBR4K9TLpMMI28O+uiaPiIiIiIiIjLmRmXQ5zeBReAB4JeAO4GbUi2RDKc4+fUuXchZRERERERExt1IHBm7ewz8GfBnZnY58Hx319e7ZAuP9fUuERERERERERiRM33M7DNm9ozmgM9x4JCZvTftcsnwsfagTz7lkoiIiIiIiIikayQGfYDL3P0M8DrgkLtfB/xQymWSIVSrJYM+31jSmT4iIiIiIiIy3kZl0KdgZlcAPwV8PO3CyPBqfb2LwmS6BRERERERERFJ2agM+rwL+ATwqLt/wcz+GfBIymWSYdQc9MlNjMTlqkRERERERET6ZiQGfdz9o+5+rbv/avP+Y+7++tbjZvaO9EonQ6X1k+2TOtNHRERERERExttIDPrswU+mXQAZEq0LOU/pmj4iIiIiIiIy3rIy6GNpF0CGRPNMn7y+3iUiIiIiIiJjLiuDPp52AWQ4eHPQJzc9lXJJRERERERERNKVlUEfnekjAJgn43+5aX29S0RERERERMbbyA76mFnnlXo/mlpBZLjEyaBP/qLplAsiIiIiIiIikq6RGPQxs8+Y2VUd918OfKF1391/L4ViyRBqfb2rMJVPuSQiIiIiIiIi6RqVq93+PvC3ZvZHwPOAHwX+Q7pFkuHU/PWuaf1ku4iIiIiIiIy3kTjTx90/AfwycBD4ReA17v7F3Z5nZjea2cNm9qiZ/Wa/yyk78zDkzHvfi0dRX98nVy8DULjoor6+j4iIiIiIiMiwG4lBHzO7Gfhj4HrgAPAZM3vtLs/JA39CclbQ1cDPmtnVfS6q7OAbP/tGFt72Noq/+Jb+vlFtFYDCRbqQs4iIiIiIiIy3Ufl617OBl7t7FThqZn8LfAD4n2d5zsuBR939MQAzuwP4CeChvbxhpRKxb18ed8fiGPI9vkZMowETE4SVCoV9+3r72kPo9N99gqeBb7nzTp7bz/dpzvNj9PWuqHX2VBzjYYgVCpDL4fU6NjUFcQxmeBRh+TweBMnyMIRCIXkOJHXckh/C63xu63n5ifEZSIvCcCOnLt5okCsUIIqwQgGv18lNTSVnsblvPKf5GT+b5p9gbMRRRFyvYxMTkMuBezLlchBFSf1zx8zwOCbXzNempvDYyU0U9pSrBwE2OR5tQBSBN2qY2ebKFEXJZ7rRSObu5PJ5rLUMiHITWKOW/D2i6KyZjVOmAHEQ4Pn8RlsI7ba01U7SbG8tjrFc8j+0uF4n17lPr9Vgepq4VkvWLRSSLHM5KBTGqg0IK5Ud29RW/fVGg9zERJLj1BQehjjNn2gtFDDLEUVJ/js1A0EAY1RV2/rRnxyXPup2WtvemkeVCvmO+7utH9YCCtOTu64/bjq3O4qipF3t7LOy0Qf1ej3Z75htebzQakvyeajXYWoq+fBD0kaPSZ91UPVoXOtrlozEmT7u/uvNAZ/W/a+5+6t3edrzgCc77p9qLttVsRgyNUUy4NNowOOPbzQkvbC+Drkc1WKR+QMHqBaLvXvtIVUJ6gDUV77Rt/fw5oEMQGHfePT4ojAEIK5WCVZWmL/1VoKVFeJqlfkDBwiWl8GdaH2d4uc+R1AqbSzP5ZL7N99MbWmJsFzGG432OuHaGo3VVeZvuYXG6iqNcjnlrR2Mxvr65pwg6ZR48stw87fcQlAq4UFAvLZG7ehRouVl+NKXYGkJX12FahU+8AFYXd3xfVZX4YMfPOsqmeJRRH15Ocl1ZYW4VgMz4iAgKpchnydeWyOuVonW13ni5ptplEqsHz5MvLyMhQ28XIYjR84aWrS4yMpNNxEtLg5w69IRRdAoLTJ/yy3JZ3htLXnAHfJ5wnKZ0/fcQ1gsEq+tJZ/xMEwGfe6/H5aLrN5yC/HyMtx9N75DZuOUKUCwuIjn8wSt+rq83B4Aj+v19r6m8uUvE5ZKxHGMBwFRqcTqgQNErX36ygo8+CBRsZlzqURULrez9HJ5t+qcGa3+TrtNhaRdjWMev+OOdv2tPP30RjtRKhFWKszffDP1pSXitTU8bJDLOfU6bLdLWlyEm29O5uOkH/3Jceqjduvc9uLRo0kGU1M7ZtK5/PHDh6kWi9hEfk/rj5PO7Y6iKNn353Kb21rApqY2lpVKeKNBZWEBoL282mpL6nU4cSJpEM6cSTpWa2vbNxAZM6h6NK71NWuGetDHzP6wOf9rM/tY97Tb07dZ5tu8x5vN7JiZHVtcXKRSiZibWyKXyyVn+Jw8uTH14no0jQbccw9hvc6JuTlOzM5yYm6OsFK58NceEt2ZQtK3A1iJGslBRx889n0/0r5duDh71/TpzjWqVPB6nbhWo7a4uKk+1RYX27ejapXl+XkmLr100zpxvZ7cnp3loYMHKR0/Tlgut5eVjh/ngebtB2ZnqS0uZqqewtZMw0qFWrG4OadajbheT6ZaLcljbo5waYng+HFyl17K6bk5/PLL4eBBOH4cL5Xg9tuTqWMwsiUM4SMf2Zj69JFIzZZc6yFRV5tXKxaTulsssjw/T1yrUb7/fsrz85SPH+fk7CxPzs4SlUpJvuvr8PDDSaduh1w9CDg9O9uevJeD9SnbkmkIXq+0P6Otz3C7vtZqlObnyV16KacOHqT8wAOU5+eTQYuVFeLpaU7PzSVZzc3hl14K22Q2TplCcobPk7OzeK22pb0My2VqxWIyeFarMXH55e11fX19I6e5OeJKBe64Y0vO8eJicvsP/gAefpjqWiNzbcB27eqWNrWjXa2XSu36O3nZZe11H5idpXTffZyYneXBgwcpHz+OV6vkwoAnnnCWl5MTqVqCAObmYHY2mWeoqm5bV1u68+3FfrofrzmMtsu1e9tbfafuNqGVSff69VLpnNbPWrY71dXu7fZarb3v36592JRRuczkZZdtXV6vJ43ARRfBI4/ARz+a9A8+8pHkfr2eYhK9tVu72q96lPX6OlbcfWgn4Lrm/Pu3m3Z57iuBT3TcfwfwjrM957rrrnN394WFhodh6HEcu9fr7o88ksx7pVx2D0OvLCz4vTMzXllYaD2Seua9nlqZ/uPUM/yT0J7uBv/HqUv82LOu9Htedr3f/b3/xj97/b/1T//wm/zTP/JL/vev/Y9+5F//uh957Vv8U699i3/qR3/F//7V/7t/5vp/63f9i9f5Xd/5I370Bdf45y+53O/JF/wT4H/TMX30ffd2Jp56Dv3KNWwkdTVYW9tUn4K1tfbtsF73+uqqf/3IkU3rhEHglWLR752Z8fKpU15bWfFGtdpeVltZ8WrzdrVY9GBtbSwyDcrlzTmFoYdB0M763pkZry4seHjmjIcrK75+5IiHCwseHz/u8alTHq+suFcq7rfd5r6y4jtZWXF///s3rZJ6Bv3MNe5q84JyOam75bLXV1eT28vLHqyuerCy4o/OzHi9WPQzhw4l+VYqHq+tud9551lzDYtFX56Z8bBYzGyu7c9/6O3PaOszHIZhu67WVld9+cgRr5065cHSkgerqx43Gu7r6+7Hjnm4sJBktbDg8ZEjHm9kNraZurvXi0UPu+prGATeqFY9KJe9Ua16GIZ+5vjxZN1azeNKZSOn1j69VNqSc7i2ltx+6imP19b8b/4m221AK9ctbWqrXQ0C/8qhQ+36e/qxx9rrVotFr5VKfu/MjK+fOuXByoqH9bqHYexra+6bd0mJYtH97W9P5lnPtNM2/ckLtstrpp5Dr6fOXDu3vdV36m4TdsrqK4cOndP645Jp93aHYdje92/XPnQua1Srfvqxx7ZmGobutZr7sWNJg7C4mPS9lpc7G4jUc+hXrv343G9nHI5Xx2Ey9y0nv2SCmRWArwCvAr4OfAH439z9wZ2es3//fj927BiQ2jV9tjs7aaS1Mv3k1DRfDwY34v6837mDH/7tn27dzWyukNo1fbKdaTrX9MlcprA515Su6ZO5XDd//lO5pk+mM4XUrumT6VxTuqZPpjPtNOBr+mQ+1xSu6ZP5TCGVa/pkOteUrumTuUzHwUgM+pjZvwbeDbyQ5OLTBri7P2OX570G+EMgD3zI3X93l/UXga91LX42sHSeRd+Lztdfcvcb+/heA9eVab+zbOl+H+V6/nZ6bWV6fs72upnLFLZtV/uR7Vjl2sdM9/o645BpyyDb16zneqFZns/zs55pp0G2reOQa6/z3O31xiFTGOxxFWQ/1zSOrTKX6TgYlUGfR4HXAQ/4gAtsZsfcff+ovv4wGdS2jlOm0N/tHbcsW/q13eOaZ6d+ZDDuufZq+8c9x+2ofe2dC93eccvrXKlt7a1eb/s4Z9lJx1W9pWMr2auhvpBzhyeBE4Me8BERERERERERGVWF3VcZCm8H7jSzu4D2hWHc/b3pFUlEREREREREZHiNyqDP7wJlYBrY+UqT/fGnI/76w2RQ2zpOmUJ/t3fcsmzp13aPa56d+pHBuOfaq+0f9xy3o/a1dy50e8ctr3OltrW3er3t45xlJx1X9ZaOrWRPRuWaPvoeoYiIiIiIiIjIORiVa/ocMbMfTrsQIiIiIiIiIiKjYlTO9FkDLia5nk+DPf5ku4iIiIiIiIjIuBqJQZ/dmNm3u/uDaZdDRERERERERGRYjMrXu3bzl2kXQERERERERERkmGRl0MfSLoCIiIiIiIiIyDDJyqDP6H9HTURERERERESkh7Iy6CMiIiIiIiIiIh2yMugTpF0AEREREREREZFhMhKDPmb2fWZ2cfP2z5nZe83sha3H3f0V6ZVORERERERERGT4jMSgD/A+oGJm/xx4O/A14MPpFklEREREREREZHiNyqBP6O4O/ARw0N0PApemXCYRERERERERkaFVSLsAe7RmZu8Afg643szywETKZRIRERERERERGVqjcqbPTwN14I3u/g3gecBsukUSERERERERERlelnxrSkREREREREREsmSov95lZp9z939pZmtA5+iUAe7uz0ipaCIiIiIiIiIiQ01n+oiIiIiIiIiIZNCoXNNHRERERERERETOgQZ9REREREREREQySIM+IiIiIiIiIiIZpEEfEREREREREZEM0qCPiIiIiIiIiEgGadBHRERERERERCSDNOgjIiIiIiIiIpJBGvQREREREREREckgDfqIiIiIiIiIiGSQBn1ERERERERERDJIgz4iIiIiIiIiIhmkQR8RERERERERkQzSoI+IiIiIiIiISAZp0EdEREREREREJIM06CMiIiIiIiIikkEa9BERERERERERySAN+oiIiIiIiIiIZJAGfUREREREREREMkiDPiIiIiIiIiIiGaRBHxERERERERGRDBr4oI8lfs7Mbmnev9LMXj7ocoiIiIiIiIiIZJm5+2Df0Ox9QAzc4O4vM7NvAj7p7t8z0IKIiIiIiIiIiGRYIYX3/F53/24zmwdw9xUzm0yhHCIiIiIiIiIimZXGNX0aZpYHHMDMnkNy5o+IiIiIiIiIiPRIGoM+fwT8D+Cbzex3gc8Bv5dCOUREREREREREMmvg1/QBMLOXAq8CDPiUu39p4IUQEREREREREcmwtAZ9vgl4AR3XFHL3Lw68ICIiIiIiIiIiGTXwCzmb2buBXwC+SvO6Ps35DYMui4iIiIiIiIhIVqXxk+0PA9/h7sFA31hEREREREREZIykcSHnE8AzU3hfEREREREREZGxkcaZPvuB/49k8KfeWu7uPz7QgoiIiIiIiIiIZFgaZ/r8BfB/Av8FeE/HlLobb7zRSa4vlNaUOUOQafZzffppZ3VVmV6gIairmaRce0+Z9t4QZKpclemeDEGmylWZ7skQZKpclak0pTHos+Tuf+Tun3b3u1rT2Z5gZi8ws0+b2ZfM7EEz+/Xm8gNm9nUzO96cXtPxnHeY2aNm9rCZ/cieCra01L5dqUQABH2+8lBYqfT3DVLWmemgtjXOeKawOVe+9CX4on787kJtqqv1OlG9ThRFRFGUYqlG36a6StIORFGEK9fztlumcb93XBnUnWlLK9t2O9BoDLBUo6+7D6D29MKdra72WjQG/amW7drVznn38m6NatLuhuHm5TtlmPX+P2xfV7fb7iiKtl0eVirEzTbDq9WzvsY4SePYatwzz4I0Bn3+ycx+38xeaWbf3Zp2eU4IvM3dXwa8AniLmV3dfOwP3P07m9OdAM3Hfgb4duBG4DYzy++1gKurEVNTsL7ufPazsL5+ztu4J41ymerCAo1yuT9vMEQGta3R6dPU772X6PTpvr6PZFdw+jRnvvxlokaDuFYD0IFKj9RXVznz1a8SVSrE7kTdvWM5Z5syJamrj990E8HiYtpFG3mt/VbcPNiIwjAZ9FldTblko6czS7WnvdePPlawuMgTBw6MZVtSXVxk/sABGuvrOMlnP4qg1lxe68okWFzk5K0b7W5rbDhcXydYWCDsOpCoFovMHzhAtVgcxOYMjVau1Y78oiiiUSptyjWOIoLTp1m8917Ccjn5h8att+JBQGN9Panr/To4GyGDymJc62vWpDHo810kAze/x8ZXu+bO9gR3f9rdv9i8vQZ8CXjeWZ7yE8Ad7l5398eBR4GX76Vw9XrE+npMHOfI5YwbbnByud7/cy9qNIiqVb78vvcRVatEGf7v4aC2NW40YN8+Jvbvh337kvsi5yAKAqJqla/+1V8RtXaicQzVKo2GDlQuRFSvk5+a4qLnPpf73v1uGisrhOUyNXUiztuWTEslCEPWv/xlnpyd1Rk/F6B7v0UcQ6NBBLC0pDN+zkHUaBA2swyrVXCnoX/M9Ew/+lhRtYrHMVfedBMex8lnYEyEtRor99/Py/7TfyKsVDh+4ABBqQRErD/1FC/7tV9j/amnkroMhLWAJ2dnOTk7y5OzszSqAUGQ/F3iSoWn3vc+4kql/XcJq1VOzM1xYnaWE3Nz7dfJulauV73hDazcfz9hrUYYRnijsTnXWg0Pw/aZqx5FSd/sN3+T2IxwfT1pS9bXM33stJsoDAkrlSSLSqVv/0QLKxVO3XknF33Lt3Dqzjt1xs8IG/igj7v/4DbTDXt9vpldRTJw9I/NRf/RzO43sw+Z2Tc1lz0PeLLjaac4+yDRJgcPLpPLwfS0k8OTeY+T8ijigdlZTszO8sDsbKa/6jCwbc3liFZW+Nq73kW0skLP/2iSeR7HnHjve5PO2Hveg8dx8kA+T8Gz+xkdiHyeOAzbnd0HZmfJFQo8MDdH1DyjCiDDTWHvbZOpu/OSD32IK3/7t8lNTqZdwpG17X5rchKbmsJf+EKYmEi7iCPDoyhpU5tTtL4O7ps+93L++tLHmpyEqSmWvvhFmJpK7o8Jm5jgWfv3443GRr2dm8MbDfZdcQVf+uM/Zt8VV2DNTGxikhfMzHDlzAwvmJnhq1+b5OhRII43DQbR7E9YocA1MzPtyQqFFLd2cFq5hpUKz9q/H5uYoFzOYRMTm3OdmAAzwmo1GWSoVrFCgerp03jH/u7E3Bw+xmcLexhualf7lYVNTfH8176W6je+wfNf+1psaqov7yP9N7CWxsx+zt3/LzN763aPu/t79/AalwD/N/Ab7n7GzN4HvJvkolLvJjlr6BcB2+4tdnjNNwNvBrjyyispFGBm5tnkcmDNXzYzbw36bPey58fyeb5jZgaA75iZwfJ7/vbZ0OvOdFDb6kHAk3NznJydBeCqd74TLrqoL++Vhu5c5cJtV1eveXgfXo8AACAASURBVNvbgKSu5i+6KOmo5XLtDp7sbtu6GkXkp6e5pqMtyE1NJW1Cc4B2fR2OHoVXvhIuvjiVog+tvWZqhQLr993HJddem1ZRR8bZ2tQt+61CAeKYcHWV/MQEuYkJTJV0W7v1AWqlEvuuuIInbrmFF8zMMPmc56RZ3JFwTnW1F32sMCRqHnRf9pL/n717j4/rru/8//qeuehqS5Yj54LtOEAuBNtJsBcSSEjdAqXyFuLWNElDfjSFdmHZPvIIWIWNgx07cbJbmaRZfhBaKP51+4AQSOtud+VtatO0JIQABju2YxwckvgS25Gs+0gzc26f3x/fmZFGF19nNPacz/PxOB5rJM2Z89Z3znzPd76XK4nX1UEV1VPzpjqviu/jpVLFuTpOocEB4LoxdcxYSyuX3n8/pqaeeWS44opaMA5z77kHwN7mP4h0HBKNjSz68z8n3tBQdR9QTllWc7mCbbAgCHjhhRgfuNmdmKsx7H3sMfZ0dNB89dVcumIFqQMHqH/LW4r/JhFqfK/YtZXnMZLriTVy5AiJGTOq8lwQBdN5psnXjmZMsjWe7JeNMQlsg8+3ReQfAETkTREJRCQEvsHoEK7DwLwxvz4XODLZ44rIX4vIUhFZ2traiggkEoYwBDG2kUeMIQxL1+AD2IvIRIK5bW32pFVFJ/3xmU7bsSYSzFu1yn7asmpV1X0SOyFXddYmyzR5wQUsXr2aQ52dtkt3LGbH9OtwhFM2aVmNx3H7+jjc2cni1atJNDcjQWBvDx8mzLr8+Mfw/PO24Ud7/BQ71UwJAlIvvsihjg7tSXESJzynjn/fCkMQ4VBHB9mdO5HBQUSHz03qZHWA+osvto2TOgzxlJ1WWS1BHUuAlx59lD0dHbz06KNVu1zPVLkGmQyZrq7iXGMxFq5aZXvorFpV1EMn6OniwP33E/R0MdL5Xei3w5ZjM2ZwyWc+Q2zGjNGdhiHe0BC7/+Iv8IaGCj2AqsWJymqQyXB4y5bCe9OyZWJ7Po3Ldex9Cz72MbxUarTXTzI5+jcxJb42O4dNyNWY4vJZpiwm7YmlzkvT1tIgIn+V++82EVk3dgN+cKLfNcYY4G+AX47tEWSMuXjMj60A9uT+/0/AbcaYGmPMZcDlwE9P5Xm6Lvz853Z8bRia8jT4AJLNsuuhh/jnZcvY9dBDSDZb8n2cK6btWH2fni1bSF50ET1btkxcQqEaSbVWxSpDgsCW1w0beO6uu2z34WwW4zhkt29H9CL6jEk2y56NG3nurrvYtWEDwcgIbl8f4vuYCy/EqUlyww3w3vfanj76QdLJTZapiJBoaWFeezux2tpKP8Xz1vj3rSCdRoKAee3t1Fx7Laa5WXv/naLxWfqpFOK6vPWBB5jX3q7DEM9SOepYxhjeec89LGxv55333IOJ0sV1GLL3scdIzJgxIdd4fT1XfeYzxOvrR38hmy70Mj+0cSN+by+HNm60QxgHBjjy+OP2Q6NcfS2qQ5Tyue7p6GDvY48hYUi+3Wx8ruJ5hXlk0m++Wfi93h072LVhQySunU5GXLe4fJap8TxfzyiU1whnfr6rxEDSrwDjV+ua7L6x3gfcCew2xuzM3XcvcLsx5lrshxKvA/8JQEReMsZ8D9iLXfnrsyKnNiFHTQ0sWmQryoODtrOI58HMmafy26fO1NQUuuQvbG+v6jGS03asiQSzly/nUEcHF955Z9X19JlUlX1CVGn5TzDGl1fxPBJLlmD0IvqMmZoaFq5aBdhcY7W1OMkkJhYrXDw3NMCyZdrgc6omZFpfD47DnNtu0wafszRVtrHmZhzHsY2VFX6O54vxdYB4YyMmkaBmwQLijSft6K1OoqisrlpVmjqWMdS0tHDN6tX2XBKhRh+TSHDN6tVke3tHy20u17HLhhd6VCUTzF+9mpa2Nhqvu47jmzfbOmgYMrxvHxesXMnwvn00zZ5tHz+ZLB6WE5FGz3yuc9vamH3ddZhEIjd63sFJJKhpacHJ9VQzySTzb7kFt7+fugsvLOQ1+7rraH7nO4ESlvXz1HRdW0XperXaTVtPn9wS7Z8HWo0xnxuz3Q+csIovIs+JiBGRxWOXZxeRO0VkUe7+j4jI0TG/s0FE3iYiV4rI/z3V5+m6sHHjcQCam4XGBmieWZ5xBpN+YlClpuVYw5BYSwuXrl1LrKUlEg0i4o35hEh7/ZSAPSWOL68mHid76JAOlzlLydmzue7++4nX1/OLL30JP5Wyw+d8H8lmCTIZYjF02MxpSM6ezbVr1tC3axdef7/9dHloqOjTYx0+c2YmyxZjCNJp+p97LpJLWZ+psefUfOP6wQ0bCPr6CDTHs5acPZtr164lmWtYOGuOgzs4yIsbNuAODlbVFASnKnXgAPH6eq5bt45kSwsATl0dtXPm4IydL9LECVyXV7ZsIXBdLvjoR+38KokE9YsX86unnqJ+8eIxH0TGSMycyTWrV5OYOZOTXAJFQlFZA1ufr6mhtrWVwV/9inhjI9fdfz+xxkaSTU22rM+aVZElqM8l03UdGaXr1Wo2na+XJHbunjjF8/kMAiun8XmcUCIB997bijG5aZs9D/PaazhBiSvNQYA3OMi+xx/HGxys7gksputYHccO6cpvUaikVHO5qYTQt+Ptx5dXY6hdsAAGBhCd2+eMub297Lj/frzBQQb27bMrzbguJh7HGxjg9TVrcLu64DvfQfRC8JS4vb3sXL+e5ne8g95du5AgoKezk9D3CVwXt7ub1+67TxsozoCXy7bpyis51NmJeB6I0P3UUzQuWkRq1y5CXb725KaoAyxYtw6TTDLS2Yk7bOtYgTZQnhG3p4ed69bh9vSU5PHE8zjc2WmXac6X/agIgsIy1d7gICKCn5t7x+vtZee6dXi9vYUfFy/DoVxWhzo7MXV1ZA4dQjyveFW1fIbi42cy9OzYgZ/JgERjeNfYXP2REQgCHMdMXtZEMLEYEoYI4A0N8dr3vofX28ur3/kOgesSZrOEUa4Dj6+rluuD7iDA7e9n3+OP4/b363XHeWw65/T599z8PdePm9PnERHZn/85Y8xXpus5TUYEwlBsT9YwhKEhaG3FDA2VrqAPDyNhyBtPP03dRRfxxtNPjy4NXYWm81iDgQEObNgQmUl3JdTePaUmQVBcXnPz/Jj6el7/8pfxUqloVYBLRFy3ULF74+mnedcDD9iu7djJHcfOiRD29kKuQUhNTbLZ0Uz/5V/sMrjxOHPuuAPCkMHnny9aMlh7/Jw6cd3ChdyRbdu4dOVKXnvySbz+fma3tdGzZQsz3/MenH//d+jvr/TTPadNWgcQwe/tJQxD6leuxKlJkunu5hf33UdGGyhPi2SzhflPDm/ZUpo5feJx5ra12WWa29ois6w42PKan8T6jaefBpFCvXWyRpzxWeH71Fx8sV0NdOwExflxy0GAn5+YOJWKzEX02FxfevRR26AjU5S1WAx3YIAXH3iA+osvpm/3brK9vRzq7GRuWxt9L75I6Hl22GFEz78SBMV5lqkcSRBwZOtW+164dWvZ9qPKb9q7QojIgZP8yPum5YlMIQwhHh8zdnnmTHvnzJmlGdPs+/CjH2FiseKTXBVPYjFtx5rNFk/kHIHJxnREV2lJEIDIhAqISSSQTMZePD/2GKLBn5ZMZmLFbsbll5NoarIT+OQmyM2vvOe0tECE5jo4U6ampijTnu3bkWzWLrG6fz+HHnmEuXffbXPVCXNPy4QLuTDkubvuYndHB8N799K6YgXxbBYefhieeMJO/qcmNVkdQFyXw489RmrnToLubsRNF11Qa4+fUzf+PFCKOTeiOtkwgHEcrr77bm7ctIm5bW3sXLfODu0OQ66++24Wtrdz9d13Fya3FtctyioMAg7lMitqjMsvVy5SfBEdkfpEPtdCfo6DMbZXWVFZ8zybae58sGfjRlqvv56alhYWfOxjSBCMrgAmEtnzrzFm0vJY8v3kVksrnF+0HnH+EpFzagN+Ual9L1myRDzPlzff9CQMQxHfF8lkRPbvt7e+L2fN80QGBsTLZOSn7e3yLZCftreLl8lIpbMvW6aTH2vJ+b4v2TfflFfa2yX75pvij/69Kp5DqbclS5aIiIjXPyTygx/YLQxLkuMpqngGpd6WLFkivuuKm0pNKK9+JiO+70vPtm2S7eoqbZKjKp5BObZCWR1/HhgZEd91xUunpWfbNgn6+8UfGhIRkTCbLVGkIpU+/nJsU2Wa7e8fLadvvik927aJ298vQWnzlEoffzm2fKZ547PNnxdG3nxT3P5+GX71VQkGB0W+9jWRvr4SRCpS6QzKsU1VB/B9XzKHD4uXSomXTouXSsnw4cM249KeYyueQTkyHascdSw/m5WRN98slHl/4jmk4jmUesvn6vu+ZPv7ZfDVVyfk6qXTku7uFi+dLtQxfd8vyipz7Jhku7rE931Jd3XJT9vbJZ37WkTEd93ibF236jMdm+uRZ54pvFe57uT3+9msZAcGZPDVVyU7MGDrCsPDE8t6On0q59+K51COXAs59feLn82OveYpKW9kZELdrdLHr9uZbUbk3GphNsb8QkROtJJX2SxdulSeffYnPPnkIHfe2YxDiHntNTh4EObPh8suK82yMkFAgG3d9lOpwkoWsVis6pZHWLp0qfzkJz+Z7FhLvq8gm6XriSfwe3uJt7Qw5/bbidlPvKoy1+3bt+P1DZHY8TN757Jl07nCRlVm+pMf/xh/eJhYMok/MlIor4jYLQgmrIrkuj7JZEm6vlddpjBaVoMgIMxk8FIpEo2NOLW1+fG0gF3BY7IhBOK6Z/vJUtXlesJMgR/G48xvb2fBunVgjF0RJQhK+Qld1WaaFwTBhPct8X1MPI6k04QjIySamjCOU7RS5FmW16rMdbI6AAAiuN3dHH76aebfcgv9Tz9N8sILOTr7fbz18gRjT7WuC2cYa1VmerKyerZ1rCAICNNpMt3d1La24tTVjX/Mqs018LzCaz10XTJdXXby5tpaglSKnh07mH3ddcQaGojF4wTpNCO/+hXxlhZb/5w5k3hLC05u0tswm8XJ9b6KJRL42Sxdzz1HYsYMvKEh5tx4I/Eqr6sChVz94WHiDQ32/T4UiMeKc82t6DfhPslNpD/J3+AkqjLXn/zkJ+D7dgGM2lqIx8tzbeX7uL297Nm4kYWrVpFsaSFWNCRGnS/OxZluK1qQEgloa5uB4+SeyLx5tsFn3rzS7CAI7FgHwBscZPdf/IWdgKvKTcuxxuPMbmvDPXaM2W1tEIUx6AIcOGDniTq32m/PSxKGZPv68FKpovIqQWDnlzGGcMywwe7uYe67byvd3cOVesrnDxFC30d8f3QiTGNsQ3qua/bAQPHqaEF3N3333aer+0xlskyhMJxLgoDX16zB6+mBZ5/VybFP0/j3rUKjpDEkZs2CkRGy3ugcdVpepzY+S3FdEOHw009z8bJl7HroIWbefDON117H/MviBGMWz+juhi99yd6qyZW8juX7hXlsJAzt1AQREmSzYAz+yAj7Hn/cTjwMeLm5eLxUanR8fTJJ4pJL2POVr5C45BIGf/pTDm7YYFdA6+tj5/r1uH19hcVFTDzOrEWLeP2pp5i1aFGk5ksKsln69uyx+QIDzz1rJyQem2sY2snfx97n+2DspM/5qq5WebHzHm3YgFvGeUzzw+kKwxR1Tp/zVsUafYwxDVN867FpfSLjeN7oku2APUnPnl26laDCEH70IySbLR7DWsXzz0zbsWazRZPBRmJOn0wWXnsNXnyRc63X3vnIAPUXXjihvBqwq0oFQaFV2nV9Ojp+SEfHs3R0/BDXjVal+HSJ59G7Ywd7H3tsdCJM17Xzz7zyCmE2y2DPUCFHcV0GOjoKm07qPNFUmS5Yu5bYzJkcWL9+dHLsGTN0cuxTlMlM8b7l+4SZDG5Xl12168UXeXV/N67ra3k9gcmydPv7CbNZ5q9YwS+/+lX7vUcewUkN8cvdr7Nu3Q9wXR/XhY0boaPD3mqsE5WljuU4BJkM+x5/3M6dEoXVUPPCEH94GD+VGp1XpqMDyWYL59q9jz02OkfPmFW6enftoqWtjUvvu2/Kv0uU6v9Fcrke3rIFf3gYwpDkW96C+P6EXCUIiu4LslnCTIbQdUdz9/3ITII9mekqRwa45IMfJH3sGJd88IPV120qQqa9edkY817gm9jl2+cbY64B/pOI/GcAEfn/pvs5jZVMQnv7BaN3pNNQV2dvG6ZqpzoNjgPvex8mmWThqlUAdlb/Kp4Ya9qOtaaGebn9zFu1CkowmeG5rrCKlO8jQQixCFXMyiEex8TjE8urMdRcdNHoMA7PI5lM0N7+fgDa299PMhkvxVCkqmUSCVquvZaZl18O5LKNx5EwpHbBApzaWuZe7GCScfA8TDJJU3s7AE06qfOkJs00FoNkEgNF50Nn9+6zmhw7SmW7thaCoKboPCBhCLEYTm0tNRdfjBOLwXXXMT9eZ4d3+r6W1ylMVgdIzJyJk0zi+D6Lcrkt/PznMc3N1PX3s3r1ssKw2dyvsmrVGQ/xqmqmprislnoiZ4Dr1q0rGsZYzQTY+9hjvOPP/mxCrvmyumjMazw/QfFbfvu3mbVoETsfeMAOg5k9m+vWr2fRn/950bDGcvy9zgf5XAtl6oEHSMyahUkmJ811Yf68kFuEwBsaIjlzJt7QEIe3bGHm5ZeTmDmzeCeeF5lyOm3XVvE4yaYmrvrMZ0g2NUVjFEWVqsQV4qPAbwM9ACLyIvD+CjyPSYlAfX2uHdMYqK+3yzXW15dmPp8whF/9CgkC+nbvZsHKlfTt3l3V3eWm7Vh9n9js2Vy6di2x2bOj0R3Zy33sKWLHRquzkxvGVVRefR/xPNvFOO/AAUilaG1t4OF1v0Fra4MdOnPffTqEZgoSBBz8x3/k+M9+xtvuuMNW1kQwsRhOYyOh72PeeANSKWTXLkiliLW2Mmv9emKtrae1OkdUelmI7xdlGm9stO9Tvo8AsYYGFtx/P4lYDK6/HtPaekb7ieKwJfG8ovMA5IZ35Rp/BDCNjdQ7gf1Q6BvfIFZXx6wHH7Tl9WQitNrMZHUAE4uB49j/hyHXrVlDoqEB8X2y2QsRGZ3Qp7UVHnwQLmiKxuv6dI0vq1KCsmWSSbvUeG6LUiOmcRwW33svTjxePKzF8wqr+pl4fLSXiTEkGhpoueaaop4XiBBkMnY4U2Z06LJ4HiNHj/KOP/szRo4eLcnf63yQz/XDzzzD4nvvxTgOsRkzbA/qRMLmmpt/TjyPkSNHWPj5zyNhiHEc29sKinsF5f8GngepFGzbZm8jYDqvrbyhIfY9/jje0FA0rq2qVEW6BYjIoXF3nTMtHmEI/f25Mfr5SUbfeAOTG2N61hwHrrgC4zjMXrIEf2SE2UuW2Mkgq9S0HWs8jtvTw45163B7eqLRGu2OVhZ0eNfZkzDEHRwsLq+xGCaR4FBnJ5LNEvg+4aWXQhgSdHUxsHYtQVcX7NplxyDo0I5JGWOY/9GPkmxupmHePDs3kuPYRvXc8AGZOxcZGYEnn0SGhsDz7NfpNHzzm9Dff9L9RKmBwsTjzF+xwmZ66aUM7t9vh8wFAWEqhf/KKxjXxbz4IvT1TfoeFmYykzzyqKgOWzKx2Oh5YOlSO0l2btiBuC7iOASeZ8ttNgvvfz88++yUy+YW5dzff8rluRpMVgcw8ThhOk3g+8Sbmsi89podruE4XLfYIyYuYyNz+kdf1xG5Rj5lRWU195511nwfJ9fA4cTj0brQcxwwhkxXF/NvucUuVf3hD2OMYdfDD/PPy5ax6+GHC3Me4TjE6utJNDWxcNUq21C2apVdtCWdtsuLp9OFDE0iQcMll/DLr3yFhksuGZ3YvNrlcgXsreOQ+fWvERF2PfSQzfWhh+wqQ45D89VXE29ooKalBYzhHX/2ZxhjWPi5z9mMP/c5ez2RP5+GISxZAn/3d5E4t5pYjNlLlxbeo0ryup+EiPDSo4+yp6ODlx59VK81zmOVaGk4lBviJcaYpDFmFfDLCjyPSQUBbN06ppX44MHRrVRyq9Y48TiNl15q31Cr+UU0Tccqrls8vjUCFydFnxBVcxmaJiYWo6a5edLy+tY//EO8oSF2rFlDtq+PIBYju3u3vRjeuBF5z3ugvf2shtBUNWNwkkmbayLBgc2bEd/H6++3lcEwRBIJZHgYZs6EvXsJ+vro/2//jWBoyA6vfeKJE/aQiFwDRRjixGKFstp81VWYeBxTU4OJxYgtWID5+c+RJUvgf/wPpKen6NeDri7616yxjZZTyA+zy29RKNtud3fx+1YsBkFA6Pv4Q0N2MtF02k6SPThoG37e8ha4/vpJ5z4pyjkIbDnOb1FowcidQ2tmzbLnVMDr68OpqwNgYP9+YnPm2Au4MESCgK6H78MMduO6EPgBkkxS97u/y0BHB/t2u1G4pjt1ZahjCRQ3cJz9szx/+D7ByAi//va3Abh27VqSs2ZBPM6iL3yBDz/zDIu+8IXRi2wRxHUJMxmcZJJr7rvPLpEMxRfLY3aRaGrimtWrSTQ1TfvhVUwu18NbthCMjIDvY3JDkYtyBYjF8EdGOL59O6Hr4vX388uvfAVESM6axTWrV9u/iePAj39sz6W//jX8/d9H59w69v0/FiushFpqJpFgUa7H36L29ug0UlahSjT6fBr4LPAW4DBwbe7rc0IyaVfvKliwAG64wd6WSu5T7dD3SR04QJj7dKtqTdOxmni8uOtoFHr6jHlTi8pcgGUXi00sr7nbPY88UmhU9Lu6qFm6lAs2baJp1Sp7AfPgg2c8hKaaZTLYlc88z+YaBLz19tsxjsOhzk6CTAavpwe/txe56CLCe+5Bbr6ZgY0bC41q4W/+Jtx++wnH60eugcKYorIqInYC1pER/HQat7eX8Prr7UVgbiZcSacBCNPp4nxP0OMn1tp66sOWznOh63Koo2Pi+1YshlNTw+6ODtuo5jgM79vHoY4OQte1jTnf/a7t8TemRSLMZIpz9jzk4x+H//pfT1qeq4YxIGIby7NZgpER3FSKMJ0mPmMGTVdcgTc8jMTj+KkUks0SmzmTwxs7iBmPcDhF9+bNxK68kqYHHuTJf0jy5JNTT+pc7W29E5ShjmUch2vXrGHlq69y7Zo1Vd0bfTwB3nj6aea8970Qhhz/2c/w8+fHMOTwli32Ajvfa0UEP53m9b//e0LP48UHHyz0Zhvb82dsI1HRqksR+cAun2vdRRfxxtNPI4Aza5Ydkjw211zPMj+3epc/NMShzk72dHQQBgF+JkPPjh2jf5Mbb7Tn0ssvhz/4A/v/P/iD6q8UT9d1pAhOMml7/SWTkSmv1Wjaz+IiclxE7hCRC0Vkjoh8XER6Tv6b08N1YcuWodE7csO7StaCKgI/+hEEQfEs9lU8p8+0HavjEHoeh7dsIcx1u692Jt/oYwz9vXoiPluSG8Y5vryKCAQBi++9t/BpR3z2bEY2b6ZhxYrCpyxV38hwhmprmZgrgDEsWLmS+MyZJJqb6ensRIIAv78fGR6mac0a24CzahXOhRdCc/NJ9xWVBgrfZ8JqKKHvI9ksTiLB7o4OYi0tdH3/+3ieB8eOQW7ybPr7cfbupWnVqtF8a2tPuL+olG0nmWRee/vk5wHPK0w06g8NMe9zn2Neeztm5kxMXR3ccQd873tFnzI7tbVFOUsQ0PfAAwRLl55Sea4KIvj5T/gzGVIHD1I3Zw6Z48cJ0mm8VIqXv/51/FQKp7GR9Ouvc/EnP8mla9bg9fezc8MGZi5bRs+WLUjgM28e3Hrr5JM6R3J59zLVscYvVx4VJhZjblsbM972Nvzc8Cw/t2x4fpWu3R0do6tIBQG7OzpINDVNWO1r/JxAYHtoH+7stPd3dkZnTp9cruljx+z8PbGY7ZU/Sa4iUpi7Z88jjzD/llvshM6x2GhjUCply3oyCbfcAs8+a5f4u/562LvXDvOq5myn6dpKfJ8XN2zgn5ct48UNGwrlXp1/pv2q2BjTaoy51xjz18aYb+W36X4eU5nQ0+f4cXvn8eNT/9Lpuv56RIQjW7dSd9FFHNm6tarHSE7XsUo2W/xGWu2t/FD0hmYI6erSk/HZMLHYpOXVxON2eJLjcG2uS3b2Zz+jfvly2z25sbGqX8OlMCHX3DAOp6YGwpD0r39N64oVZA4c4PBjj5HdsQPjeTSvXImzezfy+uunXIGLQgOFHcVRnKkTj9vy6DgsXLWKg5s34/X22t4oM2di0mnYs8c2StxzD7FDh2het47YnDnVPxTuNCRbW6c8DySam0GEWEMDM2+4gVhzs71oS6ftJ9bz5xf34MlkiM2ZQ/P69ZhZsxhYty46ww9zJAiKsmxcsIBMVxe1F1xA6rXXGDl8uHBhPPTKK9S9/e3EmprAcQoXg3u/+lUuWLECEjXceSc0Nk7cT1SXdy9HHUt8v7jBIkIXepL78NBJJDiydevopMEiXH333Sxsb+fqu+8uzN9ljGHRF77AxcuWsegLXxj9fq53RKGRI9f73CQSLFi5kktXrGDBypWRGS6Tz3VsI9jCz38eY0xRroThhCFF8fr6wrC5oomcReDQIXjlFXj3u+35d8ECO5lzlfeknK5rK2MMi7/4RTuK4otfnHLeOnXuq0RXiP8FNAHbgM4x2znBVhrGNPBccIG984ILpv6l02EM1NbameqXL7dvBsuXV/VJf7qO1dTUFL/BRmEZzDEVsb5en8sue5menuhUzkpNfH/S8ur29dlGn9paYo2NdknxWMxWKJ5/HhkYgO98R1fuOoEJuSaTmESCYGQECQLqrroK09jIm3/7t8y9+25qrr0W09CAeeopWLgQc/HFVV2BOxP5FU8KmcZihWF0iRkzmLt8OY3XXMPcu++28yQcPw5XXWUrw7ffDm97G05dna48N4lJ37ccx/YozWZtzx7HwX3hBQbWrSOMx6G2FrntNsi/9/T1waZNkEphznPycgAAIABJREFUhoYw3/72aK+fKAw/zDHJZFGWsfp6aufMsXN8zZ/PjLe/nZqWFua2tdF01VV4g4PsuP9+/FSKxbmL6EXt7Tj19fzD5hjr1sFzz8H4qaiSSbuse3t7tJZ3LzoP5FdAOtvHTCa5dMUKZr/rXVy6YkVkyirYY5+3fDn7v/Ut5i5fzo2bNtkVzBIJ4g0NzG1rI97QMLpYSDyOhCG7HnoIE4vxznvusUtbixCvr+eqz3yGeH190T7CICgMdY6KfK7pY8eYl6sDJJqaCH2/KNeu558vDKm/8tOfJtbQYHuz792LSSSKV5VLJOAtb7EfZtTUwKc+BbNmwQc+UPU9KaftOjIeH129OhaLxiI5VaoSjT71IvIFEfmeiPx9fivHjowxHzbGvGyMecUY88VT+R1baRjTwBOL2VbjUs2KLgLZLOJ5xd1Aq7gL4nQdq3he8UTOVZxpwZhj7O/zGRkR/u3forFcZTmYRGLS8uqlUoTZrO12nE4zsG4dx5YtY+Chh5AZM+zHyr29duWuoaGT7ygnQh+eTnke6NmxgyCTQXyfoKuLBWvWkJg1C/JDCm69FdPQQFA3yUf7ESe+P3rO6+iwwzDC0L7PGEP62DFmvOtdxJuakKNHkauvtr/Y0wOf+ATBjGbbYJlbdU5Xnhs1vryG6TRhJmPnPhKxc050dZG4+mqaPvtZzObNdqW5hx+2mbqunePniSeQl1+2+d51F86WLTSvX18YfhiFc8Bkr30nkUCCgFhtLTvXrePiZcvsp/9BwJ7c5Le7N25k4Ic/5O1tbSRmzqS7J8GHPgR//ufw6KPw5S/D+KmoWlvhgQfsbVSUpe4Thni5YTReKlW2SWLPReJ5hR5mezo6uOy22+zQ7zAsnjA7l4lks+zp6GBg3z784WFeevRR/NzcaUE2S+rAAYJsdnQulDAsHqIUkWzH5ro7dx6QIKD7hRcKuRrH4YKlSxGgd+dOEo2N7Lz/fty+Pmb/h/9AkErRt2uXXaZ81y77fhWP28aeybr/VbFpu44cO79SbpijOj9Vornu/xhj2kRkSzl3YoyJAV8FPoidMPpnxph/EpG9J/q9bNbO6fOJT5SxhfjHP8bcfLPtxghF3USrUb7rJpT3WI0xvDO3n3dWeaYFfu4kH4Ys/vHXeXql4c1nFsHv/0d7/49/bAv1b/xGxZ7i+USyWUwsNqG81s2ZY4chYVvKm1atgtyt2b3bfqy8ZQt87GOY556D3/ot26vvBJ+89PfDk0/auSmq/AMpYOJ5QIIAwpCWa6/l4D/+I5d+5CMcevRRFtx/P/7AAIf+8i+Z195O8qWXEMC/ahFpSdJY42mPnxwDdmlg4B2f/SwHN2/msltvxcRiGGNonD8fp76e4PhxDn3968xrbydRX4/51a+gqYnhEYcZ/2czfDa3lkKEep+ciJfO4DjF5XXotddIjLmoqLvkEnq3bmXOrbfi/O//DW1ttifVRRfBP/8z8od/iLntNgDMlVci7e32F5cvL8yfFJVzwGSvfQkCMl1dJGbMYE9HBwCLV68GYFEuq4WrVtG/ZQvNN95ILJXigiZDXyrBzJlw1VWGz38+N1/YOFErwuWoY4nvF4bRAFy3bl1kzruT5ek4DhIE7Fy/nj0dHSxsby9kYmpqbFndu3dCZrv/+38f/fn16wE73HFCthEwWa4mmaT1Pe+ZkKtxHC54z3t4MXc/wHX338+BzZu5eNkyfvnVr9rJsXND78nNVccTT8Btt8ELL9hFeKr4xDpd11Zjh9QBhXKszj+VaPS5G7jXGJMFPGy9VURkZon3827gFRF5FcAY813go8AJG31qasbN6RMEdrn2+fNL09vHGHjf+yAen7ybaDWarmONx0k0NNhPBas905z8RM5hGLLt63/JUG8v//GTn0SOLSW4917M88/jNDZitm2r6je/UskPCRxfXp2xZenoUZyXX6Z5zRpMdze8+KK9/2Mfw/zwh3YSQde1kwjefvukufu+vdh78kn79Sc/GYHiOu48YGIxTCLBwe99j3nLl5PasYN5n/scpNMcevRRDuYqGAvuvRfnoYdIfH4+sbo6+ObUuUZOPE5i5kwWr17Nwc2b7dCO/OoaxuD39uKEYXGe99yDU1+P+f73OXrzn1D328uJP90Jq1djorR88Akk6moJgoB4YyNz29qI1dbSMH++nbAdwBgknaZ15UqcIIDf+z3be6qx0U6Y/fGP279DENgJRmMxTGsr8uCDhUa1SJ0DJnvtx2LUtrZiYjE7VONznyNeVwciJGbMsO/j9fU0X3452c5OEu9/P/G+PlovuwxxHB54IHqNO1MqQx3LJJMszDe+Ra0xeJI8D3V28tY77ig0si9ctWo0E98nUVvLnOuvp/md7yz6fr4Bc+xS15HNdpJcg5ERYvX1E3IV32fo178uvr+mhrnLl3O4s5PF995LrLbWDrmNxWyv9/xS7QAtLfb/n/pU9TZWTtO1VX5+JUCXbD/fiUhVbsBK4Jtjvr4T+H9P9DtLliyRkRFfdu4ckTAMRXxfZP9+kR/8wN76vpw11xX5xS/E933xfV/cVKrw/0pnVo5tyZIlUx1ryfkjIzK4c6ekDx6UwZ07xR8ZyX+r4jmUeluyZImIiGSe3CzypS/JkTvvlG+BfAvke4mE/AvIVpBfgBwFCb773ZJkPEbFMyj1Nras+r4v3vBw0dd+Oi2+60q4bZuEr78u4aZNEvb3S9jeLmFXl00lkxHxPJGvfU3kppvsretOGmBfn8jXv25vqzXTfK7iecW55r/2PPEyGfF9X4Z27hQ/lZJwaEiyhw/LK+3tku3qsjmDzXn79pPmOomKZ1CWTEVGy6brTiyvvi/Zri7xUynJ5PM8elTC4WGRV16RsLdP/u//FRkaEgmz2VPNsuozzSuU15ER8bNZ8V13dPN9yR49KtlXX5VgeLj4XJAvqyMjJz0PROEcMPa8WlRGXVd8zxM3lZIjzzwjmb4+6dm2Tfx0Wo5s2iT/CrbMvvqq+F1dIm+8IZLNigSB3cJwQp5TqHgG5ch0rHLUsU7hMSueQ6m38efV/LG/sW2bpLu6JmaSq2P66bS80t4u/wri9vXZ73te4VwxPsMTZFvxDMqV6VTH3bNtmwy/8Ubx/bnc0l1d8sa2beIODdn7s1lbZxgZET9Xbygql3199lzb2yuyZcvYE2vFcyhHrtN2bRWR69UobNM2p48x5qrc7bsm28qxy0numzC1uTHmT40x240x27u7u0km4eKLE3ZaBMexPXzmz0dK1dMnkYArrmD8I8VKNWfQOWB8phOnjipPsYvV1VFzySW88ZWvUHPJJbZXQBWZmCukBz38w4fZ+e1v4wAXAinP4zBwCPgV8Eug94t2Sqt73vkwX0su4G8ffrYyB3GOmSzTyUg6DY6D4ziwdCk88wwsX440NMKDD2LyE0jU1NhPW/IT5Z5g9YjmZvvpfjV2WJmQazw++qo3ZnRuA2Mw8TjZgwdJXnIJTk0NUltLorWVy9avJ9nSAsuX25lZ29sxV1550lyr1YnKqvh+YWWYwvwQIiRaWoglkyRaWljw6U+TqK21XcAvvRQzq5kPfMB2TonMJ83jnPj1nyuxIva937Ffh8PDdm6PhgZiLS04sRhy2+22l1SunNLebid6Psl5oFrPASevA8Drq1cT9PXh1NZywdKlDP/85zQuXgyOw+y2Nua3tzNv1Sric+cyXNOKO/ui0QyNsVuEnFJZnfLr0ze+TlpNddSxTpRrfrhM6/XXk2hpQdJpgp4eDq5bR9DTU6hjxmprmdfezvz2dsTzyL76KmEqBU6uZ0/hEW2G1Z7tyepVo3k4NC5ezMC//AthKsXQCy8Q9PQU5pVLtLQw54YbcHI5u2+8MVp/yL3fFWXX3FzVEzlX7Noql7EZ97U6/xiR6Vlm2BjzDRH5E2PMM5N8W0TkN0u8vxuA+0Xkt3Nf/9fcjh6e6neWLl0q27dvJwgCRMAYx9bzwtCuilJKnp2XIt+1Mf+0S7uTyhvNVCCbhpo6YrHyHua4TKFKc922bTv+g2t5+cvr2Q80AJcAM5JJLvzwhzk2OMjP//1ZHAloBExdK4Np+wacjNWSft/dtIZvknxtJ8mmWQS/84fUvuNqEq2ziTfU0XJRHbMvmUFDY5JEYsKbSVVmmn/9A3YupJqawioSTq6BAs9DRE5+oeyd9twzVZcpjOYKdsUScV17ET32nOr7tiIxRfdkcd3RvDXXokyDILCZ5Oc1IFf1CwWTiBfykkzGlt/SdAGv6kzzRt+3cqtxua4dUxSGOCK2XjCubiCZDGbsRDOnV16rNtcps/R9nHicMH9eMA44cXDTmGQNTszB98cUW1s5O52nULWZjlWuOtYk9am8qs41CILROkA2S6y+vpDFVJmM/36+SJMdgZr6CZ8bR6WuOrasjs01FosRBICXsefIbLZwfsUYjOMg+b8BQDaLU1NDSAyyU5bLyVRtrhW8tqq6TKNg2kaQi8if5G6XTdMufwZcboy5DHgDuA34w1P5xVgsRjrtUlcXY2QE6uvL0KqZqwSexknrvBaLGUaoo77MJyWIRqYLF25gf2sdXX6GLuzZ9zd+53e44OKLMR/6EKTTXPjqq1x61VVs37yZN958kzDdTS0wA+gOMsR++N/pzT/gG8DeydpjiyVrZ/EfXuzliivKdWSVZysiAVnqqY8xsYdfInFq73YR64lyKpxYjBGppT45LsGTNKoXNbBprkVisRgBkM3GqK8Z+43cbX4eiclmvFUnNOF9K9979ATldULOWl6Bk2c5oWfumK+L2ikj1sPnVJWrjhWF+tRkYrEYaROnLhaDXAaxcbcTfmfc9/NvWyP5usQUPx8lRbmSe/nH7DlzhHrqx1+Vjs0on+/4+yNMr63U6ZjOnj6/d6Lvi8g/lGGfbcBfYs8R3xKRDSf5+W7gwLi7LwCOl/q5TfH4x0Xkw2Xc17Qbl2m5s8wbvx/N9cxN9dia6Zk50eNWXaYw6Xm1HNlGKtcyZnqqjxOFTPOm8/xa7bmebZZn8vvVnulY03lujUKupc7zZI8XhUxheq+roPpzrcS1VdVlGgXT2eiz6QTfFhH542l5IqfJGLNdRJaer49/LpmuY41SplDe441alnnlOu6o5jlWOTKIeq6lOv6o5zgZPb+Wztkeb9TyOl16bi2tUh97lLMcS6+rSkuvrdSpms7hXXdN176UUkoppZRSSimlom7aGn3yjDE1wO8DC8buX0TWT/dzUUoppZRSSimllKpW097oA/wvYAD4OZCtwP5P11+f549/LpmuY41SplDe441alnnlOu6o5jlWOTKIeq6lOv6o5zgZPb+Wztkeb9TyOl16bi2tUh97lLMcS6+rSkuvrdQpmbY5fQo7NGaPiCyc1p0qpZRSSimllFJKRYxTgX0+b4xZVIH9KqWUUkoppZRSSkVGJXr67AUuB17FDu8y2NW7Fk/rE1FKKaWUUkoppZSqYpVo9LkUmAXclLvrh0C/iByY1ieilFJKKaWUUkopVcUqMbzrFuDvgAuA1tz/P1KB56GUUkoppZRSSilVtSrR02cXcIOIDOe+bgB+rMO7lFJKKaWUUkoppUqnEj19DBCM+TrI3aeUUkoppZRSSimlSiRegX1uAn5ijNmc+/oW4G8q8DyUUkoppZRSSimlqta0D+8CMMa8C7gR28PnhyKyY9qfhFJKKaWUUkoppVQVq0ijj1JKKaWUUkoppZQqr0rM6aOUUkoppZRSSimlykwbfZRSSimllFJKKaWqkDb6KKWUUkoppZRSSlUhbfRRSimllFJKKaWUqkLa6KOUUkoppZRSSilVhbTRRymllFJKKaWUUqoKaaOPUkoppZRSSimlVBXSRh+llFJKKaWUUkqpKqSNPkoppZRSSimllFJVSBt9lFJKKaWUUkoppaqQNvoopZRSSimllFJKVSFt9FFKKaWUUkoppZSqQtroo5RSSimllFJKKVWFtNFHKaWUUkoppZRSqgppo49SSimllFJKKaVUFdJGH6WUUkoppZRSSqkqpI0+SimllFJKKaWUUlVIG32UUkoppZRSSimlqpA2+iillFJKKaWUUkpVIW30UUoppZRSSimllKpC2uijlFJKKaWUUkopVYW00UcppZRSSimllFKqCmmjj1JKKaWUUkoppVQV0kYfpZRSSimllFJKqSqkjT5KKaWUUkoppZRSVUgbfZRSSimllFJKKaWqkDb6KKWUUkoppZRSSlUhbfRRSimllFJKKaWUqkLa6KOUUkoppZRSSilVhbTRRymllFJKKaWUUqoKlb3RxxhzozHmrtz/W40xl5V7n0oppZRSSimllFJRZ0SkfA9uzFpgKXCliFxhjLkE+L6IvK9sO1VKKaWUUkoppZRSZe/pswL4CDAMICJHgBll3qdSSimllFJKKaVU5JW70ccV25VIAIwxDWXen1JKKaWUUkoppZSi/I0+3zPG/BXQbIz5E2Ab8I0y71MppZRSSimllFIq8so6pw+AMeaDwIcAAzwtIlvLukOllFJKKaWUUkopRXwa9vErQERkmzGm3hgzQ0SGpmG/SimllFJKKaWUUpFV1uFduSFdTwF/lbvrLcA/lnOfSimllFJKKaWUUqr8c/p8FngfMAggIvuBOWXe5xn78Ic/nJ90ulJb1TkHMtVcNdNTUshUxG6aaUloWS09zbT0zoFMNVfN9JScA5lqrprpKTkHMtVcNVOVU+5Gn6yIuPkvjDFxzuHCcvz48Qn3+X4FnkgVGZupZlk6WlZLr5CpyOimztpkZfVMaPkepZmWXqkyPV3V/jfQOkDpTVVWNd+zMz5XzfPsaV21PPS8qs5EuRt9/t0Ycy9Ql5vQ+fvA/y7zPkumvx/+5m/srTo7mmV5ab6qmmn5Lj3NtPKi9DeI0rFWguZbWppneWiupaV5qtNR7kafLwLdwG7gPwFbgPtO9AvGmNeNMbuNMTuNMdtz97UYY7YaY/bnbmfl7jfGmP9hjHnFGLPLGPOuMY/zidzP7zfGfOJ0n7jvw5NPjm7aknrmNMvy0nxVNdPyXXqaaeVF6W8QpWOtBM23tDTP8tBcS0vzVKerLKt3GWN+ICK/BTwsIl8AvnGaD7FMRMb2Cfwi8AMR+W/GmC/mvv4C8DvA5bntPcDjwHuMMS3AWmApdjjZz40x/yQifaf6BOJxuPVW+/9bb7VfqzOjWZaX5quqmZbv0tNMKy9Kf4MoHWslaL6lpXmWh+ZaWpqnOl3lKiIXG2NuBj5ijPkuYMZ+U0R+cZqP91HgN3L//1vg37CNPh8F/qfYSVdfMMY0G2Muzv3sVhHpBTDGbAU+DDxxOjttboZPflJfSKWgWZaX5quqmZbv0tNMKy9Kf4MoHWslaL6lpXmWh+ZaWpqnOh3lKiZrsL1x5gKPjPueAL95gt8V4F+MMQL8lYj8NXChiBwFEJGjxpj8CmBvAQ6N+d3Dufumuv+06QupdDTL8tJ8VTXT8l16mmnlRelvEKVjrQTNt7Q0z/LQXEtL81SnqixFRUSeAp4yxnxJRB6Y6ueMMe8UkZfG3f0+ETmSa9jZaozZd4JdmUnukxPcP9lz+FPgTwHmz59/gl2pU6WZlofmWnqaaXlorqWnmZaeZloemmvpaablobmWnmZaHpqrOltlncj5RA0+OX83ye8cyd12AZuBdwNv5oZtkbvtyv34YWDemF+fCxw5wf2TPce/FpGlIrK0tbX1pMekTk4zLQ/NtfQ00/LQXEtPMy09zbQ8NNfS00zLQ3MtPc20PDRXdbbKvXrXyRT1yDHGNBhjZuT/D3wI2AP8E5BfgesTwP/K/f+fgP8nt4rX9cBAbhjY08CHjDGzcit9fSh3n1JKKaWUUkoppVQkVHok4PghVxcCm40xYJ/bd0Tkn40xPwO+Z4z5JHAQ+Fju57cAbcArwAhwF4CI9BpjHgB+lvu59flJnc85ngeJRKWfxfSI0rFOJ81VRYmW9zOjuVWG5l5M8zi/RPnvFeVjLyfNtbQ0T3WKKt3Tp4iIvCoi1+S2d4rIhtz9PSLyWyJyee62N3e/iMhnReRtIrJIRLaPeaxvicjbc9umSh3TCfX3wze/aW+rXZSOdTppripKtLyfGc2tMjT3YprH+SXKf68oH3s5aa6lpXmq01DpRh+3wvuvHM+DJ54Y3Tyv0s+ofKJ0rNNJc1VRouX9zGhulaG5F9M8zi9R/ntF+djLSXMtLc1TnaayDO8yxrzrRN8XkV/kbq8vx/7PC4kE/NEfIR/5CKalpbq75kXpWKdTIgG3327/f+edIJMuUAeAuC4mmZymJ6bUqTmlcpnNQk1NcXm//XY9j4wzaZb57DS3kjhpec3nDVpex8vXAz7wAczFF2seZSDpNKaurjQPFuXyq3XW8tBcS0vzVKepXD19vnyCbWOZ9nnekWwW9u+3t1UuSsc6rZqb4U/+xLbw/+AHyNDQhB+R7m647z57q9Q54kTlUtxcJ9C+PvjWt+wt2PL+qU/ZW1UwaZZjszuF3AqZq0md9Dw6vqzChNwjnXE6bd//f/QjJJ2u9LOpOtLVBWvX2ttSaW5G7rorkudbrbOWh+ZaWpqnOh1lafQRkWUn2H6zHPs830g2C8PDsGULDA9X9Qs2SsdaEUEAL7yALFwIDzxQdFEirgsdHYUt0hcd6pxxonJZdHH9wgu22/J3v2t7UYB+mjXOpFm6rs1sbHYnyE0bhk9syvKa706fzU7MOy+Xe6Qz9jxkcBAeegiWLYPOTn0vKiFJp2HjRls+N24sWaOadHfDmjWRK7NaZy0PzbW0NE91usq+epcxZiFwNVCbv09E/me593u2XNcnmSxjPMbAvn3IypWYffvgppvKt69Ki9KxVkJNDXLzzXD//bbSB8jatZhkEpNMEq5Zg7nzTpg/H5NMlr9sK3USxnGQ9na4+mpkxQqcZJIgk8UJA+jshIsusheGv//7mNtvh9tuGx02o4qYZNJmCbB6NQAigvnjP0be/W7MlVfac8QUQ5OKGjQAefBBHQo6TiHjMeVVUinMyy/D295me0LcdhssWIDceCNmXFmNesYiAl/+MuzbB6+9BrfeOuH4dQjymTN1daPngPb2kgzxEteFXbtsvW3XLuSmm6Lz9zEGHnvMvl6vvhr+4A/O6uEkk8HU1p78B6vd2FwBHnyw6NuT5VR0XhgzfFbPF+i1lTptZZ3I2RizFvhKblsG/AXwkXLusxS6u4e5776tDAxk8P3y7MPEYoSLFtH/1FOEixZhYrHy7OgcEKVjrRjXhbvvhk2b4N57McbAgQME3d30r19P2NICwMBAhvvu20p393CFn7CKKkmloL8f43mEy5fTv2EDQVcXznefgDCEtjY4dgza2jAzZsAf/zHMmlXpp31OM3V18Kd/Sui69N13H+HAAJLJwJNPIuk0MjwM3/nOpJ/Ym2QS2tsLW+Qr0pNJpcBxisorTz2FzJsHx4/brGfNQpYundDbEjRjk0zCvffCX/2V/VQ6lbI9VHOC7m767ruPIGI9SkrJ1NXZxrQSzekT5XqbicXsa3XTJli+HO6//4x7OwXd3fStWaNlmzG55s+DY8rUZDkV9Y5Mpezw2VQq2r0mx4jya1SdmXKv3rUS+C3gmIjcBVwDnNMf17quT0fHD9m3rxvXjfM3f1OelfBC1yW7ezf1K1eS3b2bsIq7OkfpWCtBMhnbbX7TJli5EunrQ8KQcO5c3Jdewtu3j4HHHkN27GDPjkN0dDxLR8cPcd0ytWie79Jp+Ld/g4hXKMrBH8li9u8H1yVsaiK7axexiy5iZMsWpLcXtm8vHqbgutrD52SyWfi7v4M33mCks5OaG27Af/NNm2e+d8nPfnbCYTWmtRUefNDeqmJBQAhIY+Po+XTjRpvvxo1Ia+voEJjOzimH0kY5Y8lkQARJJpH/8l9sD5Lc0DhxXQY6OgqbDvs6A7lzgLnnHnsuKMEwjyjX28IwBMeBW24p9HZi167THjYnmQwjnZ32Pa6z074OIqyQa1ubbUQPQ2DynMb2NGPXLuToUXjiCeTll3XKgpwov0bVmSn3GI+0iITGGN8YMxPoAt5a5n2elWQyTnv7+9m7t5t/+Ic4Tz5p7//kJyFewrRMMknNkiW4O3dSs2RJVX/yF6VjrQRJJDDt7TA8TDgywsDjj9N0772FT1Iv2LQJjMHEYiykhvb2m2hvf78O8ZpKfjLsN9+EOXMq+1yqiO/Di7+s4V3XLiZMpRj5/vepb2sjOHSI+rY2zNGjsGABvOMd9hdyPSK0a/xJ1NQgn/oUEgTUX3stAxs2UPPudyONjZht2+Cqq+Azn7G3q1dPef7V8/LkglSKkc2bqW9rw3/9dWY//jimsRGzebNdNXHz5tHhCqtXw969U/bmiWzG8ThhIgGex8i//iv1y5fj5CpUJpmkKTc0qSmCvaBKIYzFce68E66/Hi6/3H59lo8Z5XqbCQIYHIS5cwlzGSSXLMHJZXDK70mJBPVtbQxs3Ejjxz8e+fnoCrkuXgwDA5iGBpvJFDkVZd/QALffjrnyyuKhjBEql+NF+TWqzky5e/psN8Y0A98Afg78Avhpmfd51lpbG3jve+dxxx3wyCNwxx2lbfABEN+HWAzn0kshFrNfV6koHWslmFTKdnmdM4eBjRsZ6OjAP3QIGRlBggBJJjEzZ2Jqa2lqquXBBz9Ia2tDpZ/2OSu/8H0oJ/wxdZricVi4EMLeXgY2bLANPsPDJK6/3vb0ufxyyGSQxkb4/OchmUQGBuC737W3Y4aDqGJhfz+ZH/0IcRzqfvd38fbvxz94ELnhBmhstA0+7e3w+uuR7xJ/OoLubrLbt1P3e79HODxM4uqrSW/daufsuflmmDnTDv9ob4d77rEXgqtWYRobK/3UzykShuB5+IcPU7diBdldu5AgIMwNPXQ6O2levZpYBHtBlYITjyG1tQSXX47U1uLEz36Yh/iI0KERAAAgAElEQVQ+hKF9PwzDSNXbTG0tzJtHkMsgvWULMjxs61PDw8jRo3bI7EmI5zGyZQtOvjdrfuL3iCrkWlMD8+YVGs4myymfdSF7EeSP/ggaGyPda3Ks6b62inKvqmpR1kYfEfnPItIvIl8HPgh8IjfM6zxg7L+mTA8fi+Gl0+x6/HG8dBqqeSxmlI51mkk6bbtQJJOY/ftpWrWKpvZ24m99q50nZdEidjzwANneXpt7NjtpD58g4t2Oxxrs8yGd5tChSj+T6pMQ2407+d73Esbj+Mkku7/1LRLLl9tJx42hf906QmPsUK+DB+2wpA0bkJ4eO65fFQkzGfwjRzC517q56iril15KfP58TCJhzw+rV9uhR83NdohXNju68pSaVFGuDz5I0NhIbP586j/2MUwigdTV2ZVTdu2CNWvsZLr5IV/9/Zx0QsAo5W8MkkgQtrayY8MGnMWLkXSa/rVrCYeH4fBhzIYNkR/+csaCAK+vj9fXr8fr6ytNA7nj4LouL23Zguu6dlhOREgQkO3tZcfatbjZLMn3vpf01q0gQiiCD4QiJ23EcWprqVm+nJ5jx6hZvhwn4j1WC7muW0e2txfJlVOTSBTlZBIJ29i2dSvORReR3roV8Tz61q4dnfNHPwSa1murYGCA9PPPEwwMlG0fqvzKPZHzD/L/F5HXRWTX2PvOVQMDAamUUFMDb3+7nVKi1OeX0PfZvXEjezo62L1xI2EVf4oy3ccamQYMz7MXwUeO2G4Ub3sbjghNa9diamtxFiwo5L5n40Z83yeMx5GRETtPRa7V3u3q4vU1a3C7uip8QOeGume3wk9+QhiElX4q1SeRoG7lSmpuugmvv5+XHnvMnhc6OvCHhwmHh/H27cPduxe58UY73OurXx2d4+fll6N1sXwqYjFiV17Jnvw5tqMDWlsZef11ewHY2GiHIPX2wjPPwC23YMIQvvnN8kxYVy1iMWJXXFGUa2rfPvzBQULPI0wk7JClRYtg/Xp7Afj007asPvpo4YKGyd6P+vsjlb8AGMOeRx4pZCkw+sn+pz9te0jV1o6+vvV1fsoCz6Ons5PkRRfR09lJUILswiAo/L32PPIIYYQusoNsdrTu9OijONdcQ+2KFXaYou8zfOAAoe9zss7AoetyqKODgx0dHOromDjnSsTK+Nhcd2/cSJCbeyocV35Dz8MkEtSuWIG8613UrlhB9oUXCvN+hQMDsHZt5HutTte1lXgefirF0S1b8FOpyPdYO6+JSMk37PLsLcCLwKzc/1uABcAvy7HPUmxLliwR1w3E933x/VDSaZHXXhNJp0V8X0rH8+w+slnJ9veLn82Kb3dQ8QzKkekUx1oWbn+/9D7zjLj9/WPvrngOpd6WLFlijyyTkTCdthm7rviZjKTfeEO8VErcwUHJ9vfLT9vbJd3VJd7IiP254WHxXVeGdu0St79fjmzaJP8K8kp7u/jptIiIhLnbE6h4BuXKNFy7VuRLX5LX/vEXJ8ug1CqeQTm2QlkVkWxXl/Rs2ya+64qXTouXyUjPzp2SOX5cjmzaJF5/v/jDwzK4aZP4/f0imYwEQ0MSbtsm4ZEjIkNDmuu4TO37lS9uKiXDx45JdnBQ/ExG/FTKZj0yImEqJf4zz0jY1yeSyYhs2SJy000i27dLMDIioedppmMyFREJfF/8dFqy/f1yfOdO8UZGxEunxR0YkMyxY5I9dkzcvj4JXntNQpCwvV3C/n57e/SorTT09op87WsiIyMS5M+prmvvu+kme+u6VZ+r73niDQ2JOzQkmZ4e8YaHxfd9Gdy5U9z+fvHTaVsGR0ZEtm8fza2vT0qg4hmUI9OxfM8TP5u1WWaz4p/+63mC/GNmp37MiudQ6q1QBxhXZx159VVxjx8vZJyvY/rZ7P/P3p2Ht1Xd+eN/n3slWd5ix7ETAmRjEhOSkAAxS1toC6UthWE6NDBAS2DoMNBOp+VLJ25LCgkhUJg6bNMlwDD4ob8ypFNaBqbxtCUDtNBCIZAQQshqnMQk8SbL1n6X8/n9cSRZkpfYia6V6H5ez3MfWbKkq/PR0bnnnnuWIWMnk49biYQ61oVCqn6W+fx4fKA8dkFMh4qrTJ4LWIZBZjhM0dZWMsNhFSvDIKO7W8U6GfvIyy+TFQyS7O0lq6+P5KFDJLPjN5yCx8GJuI7XuZUVjVL80CEyk8c+KxqlQqeftyPbnOrpcwvUHD5zoebxeTu5PQ/gJw7tMy80jUAEEKm5xKZPJ/i8ebzib9tqWWIgPbmuc2PIjiHjkFbbNAe61FtWXq52HdNMU63S5fWqfKVpICmhVVSoq6hlZRAeD8667z7opaXYtHIlZCwGMxgEGQZK6+uhVVRg8lVX4fzeXsxYsQJC12H39WUtnUmGAdN0z1U+CA19PT2qEGB5YycMaKWlqPrUp0BSQggBASDe3Q2SEpOvvhr9GzeCbBu+Cy9E2733wujvR+TZZyEXLoSorVW9VkbBLWPPUxff7XAYsY4O+KqqoPv9gMcDEgJVF1wAkUjAjETQ1tICMxJRV+nOPBN46CHY06apITaBwKjmqHATsm3V26esDFWnngoIASMYBHQdntpaJA4dAlkWaMoUtXJiYyNEeTnoe9+DqKpSV/HXrQPKy2GHQgiuWKGWevd6gWuvHdjcMLmrbUOUlkLz+6GXlqpeEqYJ/YQTYCUSaiUf0wRpGjB/PigWg3XJJcCePa7rDXFEhFBDOzwedZuPepYQ2fU2N9RTkySQlXbfiSdCq64GhIBWXo7Ks89WEwvnxMSOxUGmqeaqMgz1etuGjMfVbyA1/Ma2QR4PbK8X5PG4ZqhSblzTZ1ZCQPj98E6erHr7CQEQQSsrQ9mCBdDKytRzZswASkshKyshdR2ytjb/E64eb8bh3Er3+eCprQUlj306Txh93HKk0YeIHiGiWQCWEdGsjG0REf3YiX0ORQhxiRBihxBitxDie6N9XSSifj+aRtBIqg15LJRTlRgiVbF0w8nlOKVVeL3wz5ihxgQXOyEgfT7ViKjrIMOAEQxCaBqEpqnKhmmCTBNaaSnOXL0aWmkpPNXVEH4/7FhM5UWPB8LnU3NSAKCSElTdey+oshK2YUBGo9ASMdguqZh8tGc3fv3Tn+Lg//y80B+lqAiPDuH3g0wTdjgMaVmQto3J55+PyIEDsCIRVJx+OoTfj/af/CTdJd4OBFSX7mBwVCeAdlcXeu+4Y2DsfzEjCyCC0HV4yssHhhRZFmzDgNnXB/L50NPSouL5yCPqxHrTJsi5c9MTv/etWQPq7ByxscwtDWlpqRMTw4DR1wdICd/EiRAeD2Q8rk5GSkuheb3AZZdBTJwIu6sLwfvvhx0OA34/cM01kBddlBVnGY+ruZVuukndukHyxIwsC0LToJeXQ5omSmprYUYikKaZXsJZer2IezzYtHYtYtOmwdZ4DsBRsW01kWsej9Nk27Dj8YFyxUUy005EqrFc0wZOrtVJQvr5tmWBpA2paSCPB1LXQcmrx1ppKeD1qvtQwx2teByxzk5Y8fhhh4kVk9w8FQxCzfllWQONYqlGzIzYQdMQ/MMf0nVdsm3VwJZ64+RQsUF/F7nx+I3aUEO87FhM3Tq2J+Y0p2dme0wI8S0hxLPJ7Z+FEONyNi6E0KF6FX0BwDwA1woh5h3udbatLiYLATXvQer9gIEeOkdDSjVJEADoOkTqykyxG4+0CgFRXq6uFgxxFabYpHOjpgFSQmgafBMnQispUUtdWxY8lZWqoU1KFf8M4f37Ve8g21Y9huJxQNPUJKWmCSGEahiqrFQnioArGn5CgV4AwEdPPlTgT1JciCh9Bc9TVaUmtZQSZjCIypkz4amqQk9LC2DbmLZsGaY3NmLasmXQa2ow4dZbISorD9srggwjPe6/r6mp+BsqklfgNZ8PvgkToPn9MINBSMuCp6wM7zU1of/NNzHpssuwaMMGTGtsVFdNL74YWnl5euL3qmXLICZPHnbJV1c1pAEwUukUAkIIlNTWqhO1cFjNGUekGtbCYUgiYP16yEQCfQ89lJ33Jk6ENmVKVpw1v1/9zw0XJnJJqRqAiKCXlUHG4yg/+WTEOjogpQR8Psh4PD2P0tY1a0BGAlYiATuRgG3bkJJgmiO3/xb7z35IDtSxhNcLvbTUHRfRMhFlp13KrBjkNtLYtj10b6jkfcq5L6WE0HV4KyshdF3lfTfIjSsRKittmIEA7Fgsa94oMk1V/ibrtwAw+dprYYfDEF4vNI9n4DsJh4Ft21ShEAwCTz4J9PYWIoXjblx+o0N8b+z45HSjz08BLE7epv5e6/A+U84BsJuIWonIALAOwBcP9yJdV+VHuuy2baCtTd3mI6NrWroV2gqH0f3WW7BcsCLNuKRVCFjhMLpS+ynyRh9KnkADgBWNwgyH0fXGG7AiEVihEDbddReMnh4Y/f2wIhFAShg9PenHq+bNg9nXh0133QUrFkP/7t2ww2EYgYB6Tl8f9IoK1QCk66pRyAW05IkvAcDBgwX9LEVFCFihELrefDM9GaBWWorerVvRs2kTZDyO2i9+UfUs8/sxc+VK6OXl8MycCVFRkV7edcRd+Hzq5Dq5DdeIUQxSI1llPA4rGsWHv/gFzEAA3poakJQg28bC5cvR99pr2N/UhAkNDfCGw2oi92QFUZ88GdV33w2tpkY1lA/BbQ1pqclXAXXcSuVXoWnwlJUhsm8fzFAIRAQZjcIOBiGvvRbw+4fOe15vOs765Mmua0BLyYxl6tiseTwgKdHxxz/CCARghcPo270bC5Ytw4LGRpze2Ag7HsemO+9EorsbMhQCWSY0jZBIDL2YX1cXcOed6tZNZCyGeGcnZCyWt/c0enqwedUqGD09eXvP40LyWJWqs/bv2QMrFAIwfF3WDofRv2uXqnutWgUjEFD/kDJ94S1N02D29+O9H/4QZn+/e1ZGy4xrKJSuswuvFxAiK67C64WZWkEtEFAN7FJCr6gYKEuS3wmIgDfeUOdWzzyjtnXrXLHa53idW2WVBUV+blXMnC5pziaiG4jopeR2I4CzHd5nykkAMhddbk8+NiLbBsLhjMJ5376BLR+IgD/9CbAsWOEw2pOzoR92edfj2Xil1U0xBYBEApRIgAwDkX37YMfjKu2RCCL796evlHorKgAiRNvbs66gykQC7zU1qftNTaiYOROJ3t70/faWFnXQXbFCVUxyKy5FSmgZV+eeeKKgn6VYGAbU7zMSSedRsizAslB37rmYdOaZ0Px+fPSTn2Df/fcj9M47wO7d0GIxeM9cDFRUjXpfel0dJt5zD/S6OucSdAzweJAu87b84AeYeuGF2L9+PcgwoPt8sBMJRPbuRdX55+Okb3wDXc89B1lXB1FWlvU+mt8/qBdgJjc1pAGq0XdaY+Og4wkl82/FzJnwVVcDUkImEtjf1ASKxyFjCcjq4fNeqoePmxrQ0oY4NpNpquHD8TgSgQC2PfIIAps2QS8pQXtLC85cuRLWoUPYct992NrUhPcfeQThzZtBsRg0y0BbG6GnJ3txNMMA1qxJL/bnnh4/UsKKRrF97VpY0WhejtOUSGT3uHLRkJmsY1XyZNqKRIavY0oJMxzGnqefhhWJoG/7dmxtalIX2np7sfnuu2Fk9DxxbWxz6gCwLOx77jl4SksHlw+WNVA/ffBBxHt6YKe+g5z3wO7dqqHn1VeBq65Sc6VdfbW6X8yxHadzHtfm12Lk5CzRUJM4/1XG/VMAvDMeM1QDuArAExn3lwL40RDPuxnARgAbp0+fTtGoRY2NB0lKqVbfiMeJdu1St/mYGd00ifr6yIzF6M3GRnoSoDcbG8lUK3sUfGbvPMU+K6bDpDXvRthPwWOSjy03rpZlDayw0deXlfZEfz+92dhI0Y4Oivf20oGXX6ZNq1dTtKNj4PFAgKIHD9KbjY0Uamujnc3NZITD6efEkyt/pd6zv7WVTDVrf9HGlIhoy8UX05MA/Qwguu++QfnMQQWPR762QXE1TTLj8az81LN5M5nxeHr1KSuRoN2NjRRvbyeju5tkMEhte8wjXLCr+OI6VF7NLfNigYBa+cSyKN7bq1b1iEToQHMzJTo7jyqIMnulmoLHw6mYpgw6niRX7zJjsfRqMz0bNlCis5OseDxnEa7hWZ2d1NPYSNbQ30fBY+JEXHNjaYRC6refSJAZj9PO5mYKt7dTrLub+ltb1WqToRAZvb3pY1SkvZ2M3t7kKjWSQqGhF/Pr7CT6znfUbTHHNJMZjQ7Kq0fLsqys+sIQKwMVPCb52EZTrn7461+n65RD1TFz43/g5Zcp3N4++HuJRFRsTTM7tgMroxU8Hk7FdKi4mrGY+q0PUdZa8TiF29vpzcZGCre3kxGNUsfrrw/9HYRCarW/QECt/hcKqfO2QKCo4zpe51bDlAUFjwdvR5CHHH1z4DMA9gF4BcAfALQBuGhcEgZ8DMDvMu7fDuD2kV6TWlqws1MtqS6lVMupBgK5y6oeneQa8NHOTvUjGqidFDxD5HtLxXSItDpimP0UPA753lJxzVyuOXroUDrtZjRK/a2tZIRCZITD6aXbE319qsIdiVCsuzv9/53NzenC3AiH0w08qYI+1tlJRnYNu+AxcCqm711yCT0J0JMAWWefTSSlSvEwy7PmUcFj4MSWXrLVsiiW/H1GDhxQDRLJ/GtbllrONRYjq7WVZDhMRKqNnOM6QkyJ0jGNHjxIRjg80BhsmunGNCv/lcGCxyDfW+4y2ETZx5N0XDNvo1G1tPsYrwfJ4cuSgsch39tQdQAjHB5oQLMsMkIh6tmyRZUJyUZLK6r+Z8XjqoEo2UDc1ycpHpcjlg054S14DJyKaabMk7J8SdUHhlkKuuBxyPc2ZLna2Uk7m5spliwDhqvLph6PdXYO5OWck+VMZjRKsa6u3Aa6gsfAyZhmxjXW2amO+cktq6xNLj+eumAZ7+0lyzBoZ3MzWRn1iFhn58DF+NQ5WupYl72Ue8Hj4FRcx+vcyjIMMkIhsgbOhQseA97Gvgki5yZkEkIkZyzGqVBzIW8HACJyvG+YEMIDYCdUw9NHAN4C8GUien+41zQ0NNDGjRsBANGojbIyNfu+SK6OlFemCXi9sKJReAa62xfdQMnMmOak1TFD7Keo42pnrNhDpFbygaapJUM9HjVe3LJAwMCkeKnb1KoqiQRESQmE0EAk0/P4AGp1AKHr0LMniivamD6raQgly0UNgI7sxE4EcLoYGBmrC4Ha0goIKRGefhqiJ89Vq6BB4AfT1iIhSgFkTwlGNHB/9Wpg+nQARRhTIDuvwrZh5eRLzecDEaClhtUZRr6HEBVdXLNiCsCKxQZiCgDQIciC5txytkUf0xQrGoVILb4AANAhBIFIOLEuQVHH1YpG1W9byvTqRxrUxLZkWRA+P4iQjC9B0/RB053EYoTS0jGFqahjmsmJOtYI71n0cU2lPXVrR6PQM+7nMqNReDP+bxiAzzd8DN1WV03JTDfZdnpRklQ9NPPvoR5L/e0pKRntuVlRx7VA51ZFF1M3cLrR5x0iOutwjzm4/0sBPAx13vYkEd17mOd3Adib83AtgG5nPuGg9+8moksc3Ne4y4mp07FMyd0Px/XIDffeHNMjM9L7Fl1MgSHLVSdi66q4OhjT0b6PG2KaMp7la7HH9WhjeSSvL/aYZhrPstUNcc13PA/3fm6IKTC+51VA8ce1EOdWRRdTN3Ck0UcIcQLUpMk/B/BlDLQITgDwKBHNzftOHSKE2EhEDcfr+x9Lxiutboop4Gx63RbLFKfS7dZ4ZnIiBm6Pa77S7/Y4DoXL1/w52vS6LV5jxWVrfuU77W6OZSY+r8ovPrdio+VU3+/PA/h7ACcDeAADjT79AJY7tE/GGGOMMcYYY4wxluRIow8RPQXgKSHEEiL61XDPE0LckHwuY4wxxhhjjDHGGMsj7fBPOXIjNfgk3erk/vPk8eP8/Y8l45VWN8UUcDa9botlilPpdms8MzkRA7fHNV/pd3sch8Lla/4cbXrdFq+x4rI1v/KddjfHMhOfV+UXn1uxUXF0IufD7lyITUR0ZsE+AGOMMcYYY4wxxliRcrSnzygUrsWJMcYYY4wxxhhjrIgVutFHHP4pjDHGGGOMMcYYY2ysxr3RRwhxY8bdP433/hljjDHGGGOMMcbcYNzn9BFC7COi6eO6U8YYY4wxxhhjjDGXcWTJdiHEluH+BWCKE/tkjDHGGGOMMcYYYwMcafSBatj5PIDenMcFgD87tE/GGGOMMcYYY4wxluRUo89vAFQQ0ebcfwghXnFon4wxxhhjjDHGGGMsadzn9GGMMcYYY4wxxhhjziv0ku2MMcYYY4wxxhhjzAHc6MMYY4wxxhhjjDFWhLjRhzHGGGOMMcYYY6wIcaMPY4wxxhhjjDHGWBHiRh/GGGOMMcYYY4yxIsSNPowxxhhjjDHGGGNFiBt9GGOMMcYYY4wxxooQN/owxhhjjDHGGGOMFSFu9GGMMcYYY4wxxhgrQtzowxhjjDHGGGOMMVaEuNGHMcYYY4wxxhhjrAhxow9jjDHGGGOMMcZYEeJGH8YYY4wxxhhjjLEixI0+jDHGGGOMMcYYY0WIG30YY4wxxhhjjDHGihA3+jDGGGOMMcYYY4wVIW70YYwxxhhjjDHGGCtC3OjDGGOMMcYYY4wxVoS40YcxxhhjjDHGGGOsCHGjD2OMMcYYY4wxxlgR4kYfxhhjjDHGGGOMsSLEjT6MMcYYY4wxxhhjRYgbfRhjjDHGGGOMMcaKEDf6MMYYY4wxxhhjjBUhbvRhjDHGGGOMMcYYK0Lc6MMYY4wxxhhjjDFWhLjRhzHGGGOMMcYYY6wIcaMPY4wxxhhjjDHGWBHiRh/GGGOMMcYYY4yxIsSNPowxxhhjjDHGGGNFyNFGHyHE+UKIG5N/1wkhZjm5P8YYY4wxxhhjjDGmCCJy5o2FWAmgAcCpRFQvhDgRwC+J6BOO7JAxxhhjjDHGGGOMpTnZ0+cKAH8DIAIARHQAQKWD+2OMMcYYY4wxxhhjSU42+hikuhERAAghyh3cF2OMMcYYY4wxxhjL4GSjz38JIR4DUC2E+EcAGwD8u4P7Y4wxxhhjjDHGGGNJjs3pAwBCiM8C+BwAAeB3RPSiYztjjDHGGGOMMcYYY2keh99/JwAiog1CiDIhRCURhRzeJ2OMMcYYY4wxxpjrOTa8Kzmk61kAjyUfOgnAfzu1P8YYY4wxxhhjjDE2wMk5fb4B4BMA+gGAiHYBmOzg/hhjjDHGGGOMMcZYkpONPgkiMlJ3hBAeJFfyOlZdcsklqdXGCrUVnWMgphxXjumocEydkRVXIrVxXI8K59X8OwZiynHlmI7KMRBTjivHdFSOgZhyXDmmLMnJRp8/CCGWAyhNTuj8SwD/4+D+jlp3d/e475MM4/BPOo5lxrTY0zqexpJXOe6jM1xMOX5HJyuuRGpjR+Vwv3/Os2M3mjKV4zp2uXHlGB698ayruun74jpA/h1tXuXYD43PrdiRcLLR53sAugC8B+AWAC0A7nBwf8cdu6sLvXfcAburq9AfxXFuSuuxhON+dDh+7HjDedYZHNejxzE8vvD3xTEoJI794XGM2FjkvdFHCPF/yT/vI6J/J6KriOjK5N+HvcQrhGgTQrwnhNgshNiYfKxGCPGiEGJX8nZi8nEhhPg3IcRuIcQWIcRZGe9zQ/L5u4QQN+Q7nUeLDAN9TU3prZhbat2U1mMJx/3ocPzY8YbzrDM4rkePY3h84e+LY1BIHPvD4xixsXJiyfapQohPAfgbIcQ6ACLzn0T0zije40IiyuwT+D0A/0dE9wshvpe8/10AXwAwJ7mdC2AtgHOFEDUAVgJogBp7+LYQ4gUi6j3KtOWN8PlQ1dgIAKhqbITw+Qr8iZzjprQeSzjuR4fjx443nGedwXE9ehzD4wt/XxyDQuLYHx7HiI2VE40+K6AaZU4G8GDO/wjARUfwnl8E8Onk308BeAWq0eeLAH6W7EH0hhCiWggxNfncF4koAABCiBcBXALgmSPYt2P0ujpMvOceV/xQ3ZTWYwnH/ehw/NjxhvOsMziuR49jeHzh74tjUEgc+8PjGLGxyPvwLiJ6loi+AOCHRHRhzpZu8BFCzB/uLQD8XgjxthDi5uRjU4joYPL9D2Jg6feTAOzPeG178rHhHh9ECHGzEGKjEGJjVwHGRBbjD3W4mBZjWsfTkeZVjvvwRhNTjt/YFbpcLUZjiSnn2dEZaz7luI7OSHHlGB6ZQpWpxf59cR0g//KZVzn2A/jcih0txyZyJqLVh3nK/zfM458gorOghm59QwjxyRHeQwzxGI3w+OAHiR4nogYiaqirqxvxA7PR4Zg6g+OafxxTZ3Bc849jmn8cU2dwXPOPY+oMjmv+cUydwXFlR8vJ1bsOZ6iGGRDRgeRtJ4DnAJwDoCM5bAvJ287k09sBTMt4+ckADozwOGOMMcYYY4wxxpgrFLLRZ1DPGyFEuRCiMvU3gM8B2ArgBQCpFbhuAPB88u8XAFyfXMXrPAB9yeFfvwPwOSHExORKX59LPnbsMc1Cf4Lx46a0jieO67GJvxd2LOH8WBgc92wcj+OLm78vN6fdSRzX/OJ4slEqZKPPUKYAeE0I8S6ANwGsJ6LfArgfwGeFELsAfDZ5HwBaALQC2A3g3wH8EwAkJ3BeDeCt5HZ3alLnY0owCDzxhLotdm5K63jiuB6b+HthxxLOj4XBcc/G8Ti+uPn7cnPancRxzS+OJxuDQjb6GLkPEFErES1KbvOJ6N7k4z1E9BkimpO8DSQfJyL6BhH9FRGdTkQbM97rSSKandyaj/RDWtaRvvIwTBN4/XWgpkbdFnNLrZvSOp5ME3jmmfQmjWHiyvHOr8PFM+d7Gen5jpUvzJ2Gymsj5EfOf2Mw1nJ0lOWAa76D3HhYFh+b8mzYOsCRGMNxrOhwndUZHNf84niyMcp7o48Q4qyRttTziLH32ycAACAASURBVOi8fO8734JB4D/+w6EGVK8XOO88IBBQt16vAzs5Rni9oGRaqdjTOp68XuDaa4FrrwVdcy1+/5J3cF7lqwD5kTqYjiaeGd8Lrr122PzuaPnC3Ge4vDlMfuT8Nwaj+d3nVrhHUQ646TuIWV7Y1y0Fbr8dWLoUCIf52JRH1BuE9h9PgHrzFE+vV31Pjzyibt1Ub8uts4ohpyBlY3Uk5wLckDE8PrdiY+RET58HRtjWOLA/R1gW8ItfDGx5vxpnmkBPD+QVVwA9PUVdsEnDhEimVfT05PdqlNtVV0Pe9I/os8qwaL6JPXsy8qphAHv2QH7yk8CePUWdxxwVi0F2dACJhLriuW8fKCvQGRIJdVtdDdx0k7odguPlC3OX3Kvy4bB6PJUfKypAN94IVFYCGMh/5eWAFYnDtgv0uY8Ho+nxkGoUCodBRkYn5oxyQMbjWS+Rhok33nBHGWDbgI9iELEo6KKLIEv87u1F4gBpmBDrVCzFuhF6/Y6V1ws5Y4brTialYUK0tkJ+8pMQra3Ae+9lNU5m/cbZqOXGNTefDoorX7QcEZ9bsbHKe6MPEV04wnZRvvfnFI8HuPrqgc3jyfMONA12VRWCDz4Iu6oK0I616ZXyR9Oz06rpxZvWQhDBXlQ13YETvD04a14MHg9AoRBgWbCnTUPwqadgT5uWzmNcYRkD24YdDiP4b/8Gu68P+OpXQf/v/wG/+AWotzf7ub29wJNPqltgxIqy4+ULc5dUr5Lbbwdddx3Q3w/EYsDWraBIBNTfD6xYAerqAsJheDzA9dcD13yuE9ojK4CezsPvw62G6bFDhqFaaixroDHYMEB//jOory/r9XZnJ4IrVsDuTMY5qHplfP7cIL7zneIvA3TYQDiE4Jo1kH19EEZC9R65/XbQ9dcPXtWDjYnm84KSvXJo6VJovjw00tg27P5+BO+/H3Z/P9zUMqz5vNl1p97e9JBE6uoC7rhD3Y4S17mU3Lhm5lPq68suO908vHCUNF2DPWGCOreaMMHxcyvOx8c/R3OIEGKBEOLvhBDXpzYn95dv1dXAjTcOe7H+qEjDQF9TU3qTRfxjclNaxxsZBtDUpLYHHwTa21VlZPVqSNtG35o1Ku5r1kCaJuyuLvTecQfsMVRY3MwOhwfy7po1Ku8+8EA65umDYCIBrFunKifr1g30sBhBdTXwD//gTPnCXKi6GtTQAKxeDRICIIJ98snoXbUKMhYDtm8HHnwQtGMHYJooEXH0Z5YPOT1RWIbqash/GOi5l3XiF48D110H+od/gIzFEGxpgQyHQcmTFBmPZ5fDsVj6REasewafu8gs+jJAGkZWDKizE+TzwW5oUPmzszO7oYyNjWlCGAbwxhvqNg8nyG6ut8lYLPs3e8YZahi9lAP1rczj/whGrHO5rCFjUFxjMQAAmSZkOJxddh5ueKzLYjcUmUhkx3MU9c4jxecORYKIHNkArATwMoAOAM0ADgF41qn95WNbvHgxZertJXr0UXWbb3YiQVYkQmZXF1mRCNmJBBU6/U5sixcvHi6t46ngccj3lplXZWcnyeZmsvr6SB46RHLDBpKvv052IEBWKEQ9jY1kdXSQNAzqaWykVoB6GhtJZnwPcuzfScFj4GRMiYjsUIj6m5vJ6uigxJ49ZEWjJA2DZHs7ycZGdZsZw/5+opYWokBgrLEs2pgOimskQnTw4JHG50gVPAb53nLzKhGRGUmQ3LCB7LY2kr29ZAcC6d97f3MzWa2tJINBomg0/Rqro2OgfDBNjukQZCJB8ThRV3uM4nEiGYmQtXkzyeeeI9ncTHLjRqJYjGQ0Omz5mhlnIlKVip/+dKjKRcHj4FRc0zGIRskKhwcdj+yXXz6S49BoFDwG+d4G5VXDIGppIfnMM+oYZBhHHbRR1NsKHod8b6m4SsMgKxpVaU8e91NkZ6c6/nd2HjaGMpEYtkwYpgwoeAyciulIcR0pTjLjeJUWCqlyNxQaIfpZCh4HJ+IqTTM7nmM7ho/aMN9PwWPA29g3J3v6XAngMwAOEdGNABYBKHFwf3nl9Jwbmq7DDoex94c/hB0OQ9P1/O7gGCJy0iqKOK3jzjQhTBPmZZeh7Z57YEoJfPzjkKecguB99wHRKKrvuQeaZUFYFqoaG9Ob8PkA4Ii6Kxc76uqCePZZlF1xBWwi7H/0UViBAGQkAtTWAl//OlBVBeHzqSEdfX2qh0VDAzBxYqE//rFr0yZg2zaAeEBHPtk2IEp0yNNPR/AnP4E0DIiyMlQ1NqK2uRkll16KtrVrYcZiWVdM9cmTUX333dDKy4Hly7kMyEFdXcCrr8LTp4bBeWJBmJEI2p5+GuZ55wFXXQXMnw9ICfHKK0OWr0AyzitWQHvvPfWeh5nzq9hI24ZWWYnq1athh0JoW7UKZm8vqu6+W8Xr1lshzjwzK2Zs9KTQ1LHnnXdADQ2Q4uir9m6qow6iabBDIZX2UEhNlJucV0aUlgJXX61uD0P4fEOXCclVl2jiRHetupQb1+SUA8PFiSIR4NAhdZtiWWr6gl/8Ij2NgWsJkR1PhyYcHzYfs+OOk40+MSKSACwhxAQAnQBOcXB/eSWE6lH40EPqNt+/JTuRwP41a7CvqQn716yB7WC3vEKTOWl1sgsioOYvdg2vF7KmBvubmlR8H3oIMh5HtKUF2gknINrSog6KDz8MCgah19Rg4j33QK+rA5AzPCynu7KLhvBnIcMA1q+HrKoCdB37H3gA+5qa0P7II0hs3gyyLDVnSsb4foTDavjMKLt8u1YRl3OFpEkTSP7u00NobBva+vUoW7JkoPx98EHInEqy0DRg1aoxDVlwg3Q5UF+fjmti8+aBsvbBB9WQl4MH1XO7uqDv24fqb38b+r59WSdyZBgQd98NXHzxQIxdNDmusCwgFgPF41l1Adg2Jt57L7TJkyGqqgr9MY9bQtpZx3Ehj/7g7aY6aq5BdVZdByIRUCIBvPoqaNcu4NVXR9VYo9fVoXrVqnSdC4BadSmjkc4tZcGw5wKmCd00UbV8OXTTBExTDfGKRIC1a1Xsk7EmKdWJWVMT8NBD6r5Ljee5lV5Xhwl335Odj9nxx6kuRAB+CqAawNcA7AKwCUBzobs2jbRldkO0LIvCYaIXXyQKhynvpGWRGQpRtLWVzFCIpGVRodPvxLZ48eLh0uqIUIjovU1Gbq/Pgsch31tWl9lEghIHDtDuxkZKHDpE0rIo0dFBB5qbyQwGVbfP1atVl+REghKJ7C6gMhgk6+WX1dCPpFHk/YLHwKmYynCYjN5eCrz8MpmhUDqWRnK4XGrIl+zrUzEF1O3LL4+qy/cICh4DJ+NKRET/939qs+2jidNYFTwG+d6yYmqaZASDFHj5ZTJ6e6m/uZnM9nayenvV737DBjKDQTrQ3EyJzPx5hEMWXBHTVIiS5UAqrlZ390CsOzrU8K5gUMWuo4Nkb++wcRxljAseByfiKg2DjJ4eiuzZQ1Y4rPJiRwdFNmwYGPLmnILHIN9bbl6ViQTJnh51HO/pycswOWlZWfl/iHpbweOQ7y1dB8hN+9atA/Wnzk5V1xplWSmDQbJz6lcykVBD8h94QJUhA99XwWPgVEyHjGtGnsqNq4xGs+tXGcO8hqqzHkbB4+BEXMf93OrtROa5VcFjwNvYN8d6+hDRPxFRkIgeBfBZADeQGuZ1zOvri8MwVK/LP//Zmd6XMqd1Ovd+MRmvtJomUBIPYsHrT6AkHnRNj1kA0EtLcfLSpdDLyyENA1YkgrolSxDftw8ykQD94z8CjY0woaH7o15EIsmr+bEYzEQCbS0tMJNX+G07O++7qccPGQZkaytkJIJ4WxsgJfSJE1F7xRXYd999sCMRRH/9a9WTQteBZcuAxkbg298GFiyA4KFdI7NtoIjLukKQRJDhMOJtbRBCoOy662AHg4j+93+Dvv1t2A0N6HruOUy67DL4ysvVd5CzFK6oqwPuuUfdMgCANE3ISASBlhZASpRdfTVQUQEBIN7WplacuuYaYN8+1ctvzRpg8+Zhe0y5OcaSSE06+sc/gohQd9VV0MvK0HHxxVkTurIjI3Qdpm2r47ht52UIvbQsCI8H/hkzIDyeQT0EixnZNsg0EWhpAZkmaNo0oLERRITEgQM46ZvfROLAgcNObk2GkT1BcfL5wueDeemlaDt0COall7pmuMyguCYrl3Y8nhVXOx5XMUnVr5Yty4qRaRhZdVa3klKCLAvxvXtBluXouZXf6MNp/X+G3+hz1blVsXGs0UcI8X+pv4mojYi2ZD52rDJNG7ruga4LXHghcMcdhAsvdGZF9cwfa7Ebj7R6YcK7dw/kJz8J79498KL4SyaKxdSB1LYhJk9G57PPQloWvDU12Lt6NXx1dRC6DqqpgaipgbevF1PXNqEs2gdpWrBDoYHuoU1NsONx6DrwsY8BH/+4unXTUH7h8wFz5iDw4ouYePHF2HvPPZChEITHg0mXX47IBx+g5vHHUdXYqOalmTABuPRSwO8HysuLe93lfHj1VeCNN3hOnzwi24bR3Y3aL30J/Rs3wu7tReTQIfivuAJWOIy9996LiRdeiJ7162GbJtJXNHKWwnXLicdokW2j/ZFHENm+Xa068+c/Q8bj6HruOUy8+GL0tLSoIS+VlcBTTwHLlwNnnqlOUoaZ98C1MZYSkW3bUPelL4FME6G33oK0bZzc2oqqZcsgolE1RDbFNGGaLrracJRsy0LP+vXwnXCC+p3no56l69n1NhdVBIgI4S1bUHvllUgcOADyeICaGgiPByVTp+KjH/0IJVOnHnaeI5IS0RdfhH7CCYi++GJ6KJI0jOxhOS5pvMiMa3jLFlCyHiC83qy4Cq9XDeeqqYFcuRKoqQERwY5G1ZCm1BDbpiZ3rzopJYSuo2TGDNXQ61CjjwcmZCyMtpYWyFgYHhecWxWrvJ+hCCH8AMoA1AohJgJIzYYzAcCJ+d5fvgkh4PGo45umEQQRSAOkzOOkPvG4akXyeuGZMUON5y3mkyCi8Umr1wv7jDNA8TjI74de7JWU5NhnKx4HdB16bS1qr7wSXX/5C2oWLsQJX/0qrFgMvspKQNNgJRIQNTXAXXdB83pBpgF90iRMa2wEAExrbISWnLyqvMTCRZ8iCABkkKtOVjSvF5O//GXIeBwzVq8GWRY+/OUvMe2yyyDDYaC0FCgpQXDFCnXCMns2xNtvAxdcoObucFGsxirS34++7u5j/0BwHBFeL7wnnojN99yDM1auhNA0VH360zA7OvDRww9jX1MTAGDGd78L7bnnQBdfDPHxjw+/FC4DAGgeD2asXAnh9QJCoMznQ9fGjai98koIy0LdlVei/y9/QdWiRdA8HqC0FOLdd0FnnQWxcaOav8frVcd7v7/QySko4fWi6lOfAoRQFyomTQIB0E8+GRACMpFQFUXbhohGIV57DbT4XPSVVKCqisvTw9E8Hkz+8pdhx2LQS0vzM+mybWfX22zbPRc1dB2V552HeGcn/JMno+/111GxcCH0iop0Yw0AzLzrLuhlZYNebkej0MvKILxelC1dCorHIfz+9MmQ5vNl17vcUmfIiGvZ/PnphkRKJNDT0qIaLVtaMPnv/g6ipARmIID9TU0qRmVl2LtqFaZ///tZsRNuyZND0TRIKdG3dy8m1dRAd6J3ApKNddu3Y9KVVyK8fTuq6+rgzJTRzGlO5JBbALwNYC6Ad5J/vw3geQA/cWB/eSWEapDQNAGRaoWWEpqWp4aK5IF0UNchh36sx4RxSqu0bRVfywJsW90vZh4PpNcLfeJE6NXVMHp60Pbss5jU0AApJUpmzkTJSSepg6Jt48P/+i/IeBzStiGTFW3bNGGFw5ixYgX0mhpIIlDy/2SakFIi9uc/w+7rK3RqxwURqWEbug7oOmIHDgBEmPGlL2H/+vXw1tVh8733wuzvR8nHP45oSwsSu3dDnn66usrCq6CN6IUnnsDvnn66uBu5xxERQRoGAlu2YMG//AsAoOsvf4EVCsE7eTKmf//7mN7YiGmNjdD7+4HLLoOYNAnYvRtYutQ1q0cdCRICoqREHa+IoJeVYVJDA969+25YhgFRWoqqCy6ANnEisHo1EAgA8+ZB9PYC552njvO9vUBzs7p1MQJU4048jnhXFypnzVITiAOqLPD7Ye7erYbDeL2QF18Mj09DfzAB07RhJ3tCkGFw2TEECQBCqKv9QiAv1/tzG46K/SJaDrIshPfuBQBM+MQnoNfUAD4fZqxYgXNbWzFjxQqgJHtBYtswYHR1oe2uu2B0dYEA2IEA9q5aBTsQQCrn2qYJvaoK077/fehVVaoHpkuk4prV67+kBHVXXYVJV1yBuquuAkpKIC0Lek0NZqxcCT3Zy+qkb34TMh5Xj991V7rO6ma6349JZ54J3cELC0LXUbZwIXY9+yzKFi7kFZiPY3k/+yaiR4hoFoBlRDQrY1tERD/O9/5GIoS4RAixQwixWwjxvdG+LpFQ528khGpESK7UkzfxOEAEze+Hf/JkaH5/cVdkximtBABSqgOolCjiiCpCAD5f+qTEV12NWddcAyEESqqrYYXDqoEn2TX7lOuug+bzqUYgIaCVloKEQMnJJ6ulxy1LrQaWHC5Gug47Hsf7LS0wYjFXDEOUktL5RgiBsmnTVOWjpASzrr4aoQ8/xNamJry3Zg30WbNQdumlSLz2mprj5+BBXgHpMOLJpVd5Wp/8kLYN4fNhyqc+Be+ECdB8PpBtw4pEIA0DtmFg5urVSKxfD1lerhp5SkuBBQuAior0+3B+HSzVUEGWpcpaIaD7/fBOmICta9aolXxsW90m5/ShUAioqVFDGONxYN06NYRu3Tp1P/XeLo23EAJl06dD6Hq6R6Q0DJBpwnPaaej8xS9g9fbCjkSQCAYxtVaDHQzgnTvuQLyrC3ZvL+zu7uKuLx0pTVP5NF8X1dxUR80lJfTyctSefTY0vx9GIJAeRkRCwE7eZrKT89VkNlSQZWXNVZOuQwkB6LqqiyUb6lwhI656ebmqr0djQPJimw0M1Ns9HljhMGJdXSr2Hg+sYBCe2lrIeByxjg71eCq/ZzacuaURTdMAj0flI4/HsQvqtmVh//r1KD3hBOzP1/BRVhBOdi95TAjxLSHEs8ntn4UQ49aPXAihQ/Us+gKAeQCuFULMO9zrpFR1YU1TPXygaUBlpboqlY+eI8mrWtzTxwFEsBIJBLZuhZVIFH0lhTLzI5GqOBBBLy0FPB54ysqg+Xyq63CyB0/W66WE8HhAUoJsG52vvQYzEEiP5RceD/SyMpx5993w1dZCuqBioqWqHKm8IwQ8yeFxQtdRNXcuFjQ2Yv6tt4KiUfStWYOS889Xw7wmTx5xPg82oP2aGwr9EYpD8jdJlqWOUZqGyZ/4BPq2b4fQNOxfvx4kJez2dtUwaRigSAR46aX0JM7U1TWqHmpuaqgwMmORrAf079oFq78fpzc2YuH3v69+40Koq/3NzcDy5RCVlarHz8c+po7z11yjhtBdc016iJfd1YXeO+6A7eIegSJ58UEaBjSfD4lAACQlJi9dCqOzEzKRgFZRAaFpeK+pSTW0NzWB/P70hLi2Pfzx3UVZ1TluqqPmymmI8VVXpxu+hmoIs5N1q3SOTL3W40HZggXQa2pQtmDBwPA4IWAGAti8apWqc7mgbgUgO67Jhi/4vOm4lk6ZouKaXPDBU1EBf10d+nfvhhkIoLS+HgCyn0ukrtR3dw+5SAE7esLjwSlLl+LUW27BKUuXuntI3XHOyVL8pwAWJ29Tf691cH+5zgGwm4haicgAsA7AFw/3Ik3Lnk8Qtg20teVvCSMh0lf8jJ4ebF61CkZPT37e+xg2LmmVElY4jPaWFljhcNF3J5BAutIhEwkYvb3YtHIljN5eyFgMm+66S8WbCHYkgg+feSb9HDMQgBEKwejpwaY770QiEMCkxYsROXAARiCATXfdBSsUghkMYtOKFTB6e0Gmma7cFCsJQMbj6Rhk5VchAClx+m23wVtaCl99PaqWL0fJuedC7+9Xc3+4dHWesUr85ZVCf4TjXupimxkIYNOKFYh3d8MKhSC8Xky54AJACEy/4goIIpTdcguq7rgD4pe/BDo7QX19wDPPgOLxdO+0kXqouamhQhoG9ifn7DB6etLlQPW8eYgcOADbMNScaLaN2K5dsAIByIoKoKxM9aK66aaBYXMTJwI33qhuoRrO+pqa0purGtIyYpmi+XwgKXHg979HoqcHVigEmjABUghs+eEPYYbDWLh8ORY0NmLeN76B7ueegzZ5MqTHh1hMZNfVkrq6gDvvVLdu4kQdy0111FyZae98/XUVgxEaazKf/+F//Vc6ZkPFkCwruzHTRT0ncuNhRyKApqnj2F13pS88QtPSzy2bOhWRAwcQz4hpuiwRQvXs+e//BmKxgQUKnnkGQxYQRWa8fqNuLguKiZONPmcT0Q1E9FJyuxHA2Q7uL9dJAPZn3G9PPjYi2wbC4YzGgn37BrZ8IAL+9CdQIoGta9Zga1PTQFfxIjVeaSXbxrZHHsHWpiZse+SRQT1bik4iAUpu8a6urBjHu7rSf9uxGHo2bYK3qir9nPeamuCrrEzf3/bIIwhs3owJs2er1zU1IbB5c7pisrWpCdI08zvM8RhEloV4Z+eg/CoTCTXHUfKEL/HHP6LvX/8Vwu+H9soroEmTAJ+Pe/iMUuLgwUJ/hOOex6PK1tRvNPUbpkRClX1ECLe1wejuVo0Y4bBaaW7yZIiqKuDaayH8/nTvtOF6qLmtoSI1yWrucUsmEpgwezbCbW1q+LBpIrZ7N/Y3NanGs5TcibEz5loQPh+qGhvTm1vKi0GxjMfVlkhAxuNIBALp/OvLOU6ZH32EM77/ffS//DImJVdKfOMNgaefBnp6skbNwTCANWtUG+aaNe7p8eNEHctNddRcuWn3JutKmeXte01NaoWpIZ6fCATSzx8qhgLAvFtvVY2Zt97qmklxh4pHz6ZNINMcFNfc506YPRua1wsZjw+O6a5dqpHn1VeBq65SvSuvvlrdL+J8O27nVi4uC4oOETmyQU3i/FcZ908B8I5T+xti/1cBeCLj/lIAPxrieTcD2Ahg4/Tp0ykataix8SBJKYksiyiRINq1S91aFh010yTq6yPLsija0UFvNjZStKODLPXe4xKbcYh9VkyHSWveWZZF0c5OtZ/Ozsz9FDwm+diGiqtlmmRZFhmhUFaMjVBoIN6JBCWCQerZsoXC7e30ZmMjhdvbKdbdnY5XuL2d4r29Wd9VvLeXYsn/xzo76aMNG8iMxYo7pvE4GeHwoPxqGQZZhkFGMEhGMEj9zc1kdXZSNGKRHYsPlR2PRMHj4VRcU54E6EmA3gLyU56OTsHjkY9tqJhalpX+jWb+hi3LSv9+ezZsoERnJ8l4nGQq5oaRFSCZSIwYQKuzk3oaG8nq7Cz6mKbTnHvcMgwV12CQzFiMrFiMDjQ3U6Kzk6zDxC/XCPEueEyciOtQdYBUuWrG47SzuTmdf/taW7Oee6C5mcxQiKxoVOX3GNH//i9RIEAUCg0OYGcn0Xe+o26LOaaZnKhjjeI9Cx6TfGzDlauZaf9ow4Z0DDLrUFY8nnw+ZT1/Z3Nz+vlDxTBVPh94+eV0mV3sMR0qrpZlUSIYJCsez4qrGYsNfq5pUvfmzUPHNBQi+ulPVaGwcaO6v2uXul/EcR3Xc6siPV912yaInJn3RAjxGQDNAFqhGrZnAPgqEb3kyA4H7/9jAO4ios8n798OAER033CvaWhooI0bN6Kry0JNjT4wrw+RWskjXzOWx+NqeXGooSTawPLiRdfg39DQQH/5y0YAdjqtgO7YQhC2baeXx8xYsr0o47px48aB4VbJoWxkWSqf6jookVCrz0ip5kjw+dK9fmoWLQI0DZ7ycpBlgaRUyw4nJ4JMvTa6fz/8tbXo37MHZSeeiNKBoUtFG1MzHIZWUgIyTRW/lGSMhRCAZUHz+2FZeV3FtuhiCgzEFQCak93hpwG4OB4ftPqJQ4ourpkxtQ0DZNtqTp/kSn3pebl0XfXO0z3QvUeXUckwMnumFHVMgdSI7szjVvLB1NwmyWEFmtebz9VMijKug+sASuo+mSaEELBiMQghoFdUgJLz/VDCAEpKAZKA0EAkIaUGIQZ3qkoxDLXGQVJRxjQzrwKq7pNTnzwqg/P/oHpb0cY1N+3puhQAKxRCYPNm1JxxBkoyVj+0bYDiUQh/GSgRhSgpA8hKr1qX+73YlqXqZSUl0AcqEUUbU2BwntI0Ta2yK0RWXD1lZYh89BHKp08fiL1tq3koNS2rfqsDajhYIqHqE8nzK9h2ZiFQlHEd73OrYj9fdQMnZ2N6DcAcAKdCZY7tDu5rKG8BmCOEmAXgIwDXAPjyaF5YV+eBadoAdGiaBkiZ3yXq/H7ANKF7vSAh8nKAPpbpOmDbujpZdrBQUvvSYbsgpim6rquZ9JP5NPmgOkErKUkfGFMHSr2iAnXnnqsmYpNyYJlXouTfHhBJdZC1LJROnQrh8aCqvh6e0tLCJnaceCsqYCcS6SVqNagCzNa8A3k3WUnj+ezGxqfrMGwbBgD87Gdq/pNk3usNxjFxojvyWD7pPh+saBTweJITsPtAJODRSWXQPGVStwxFSsk+bgGQEpqup8tLyxbw+N1xnDlag2IJgExTLTIgJYRXnVDrpWrSUNvWoXlLoOkaUJYqE7Sc2+G5LKsCUHWBfNYnx7PedqzJTbt6TIcdjaKkuhp155wDT1nZoNcY3jL4dMDwqFvT9MDrwZDfi+7xgAwjs8Gn6OXGVQhAaDqIJDyVlag755xk45qOsilTAKgFNMg0Ibx+wIoCXj9gG2o1xcyYpi4gpRqVXZBhx/vcyg3nq8XOydLmdSI6C8CW1ANCiHcAnOXgPtOIyBJC/DOA30GV2k8S0fujfb3XqzJ2PC7gd6Jil7xElXvgKFa6DsS1MoxHyxBOEwAAIABJREFUHVl3SUxT0pUGXR+49JlqoEnFIjMmuY03uo647YU/fdVUH3i/4V5T5PSSEsTjyMqvfKg7cgcOAE9/5d9Rm+yZ1gHglzffDHHzzRAAThQa9JwVTCboXlToKm/bvlIY5TUoLwN0YQOzZgHl5eqJRFmrrZFhwH/hhahubByn1BWep6xM5desAtY9JxNOyTpuZZaHQnCD7xgNqgMMdfKgl2T8y0WrReVJvuuT41lvO9ZkpT0Z11Tdcrg4pxobU7ep6thwz3dL/T9Tbp7StIGGtax6aupvvWSIx1zYqjuM8fyNujG/Fpu8D+8SQpwANWHyz6F61qRq8hMAPEpEc/O6wzwSQnQB2JvzcC2Abgd3m/n+3UR0iYP7Gnc5MXU6lim5++G4Hrnh3ptjemRGet+iiykwZLnqRGxdFVcHYzra93FDTFPGs3wt9rgebSyP5PXFHtNM41m2uiGu+Y7n4d7PDTEFxve8Cij+uBbi3KroYuoGTjT63ADg7wE0QA2xSjX69AN4ioh+ndcdOkwIsZGIGo7X9z+WjFda3RRTwNn0ui2WKU6l263xzOREDNwe13yl3+1xHAqXr/lztOl1W7zGisvW/Mp32t0cy0x8XpVffG7FRivvHZSJ6CkATwkhlhDRr4Z7nhDihuRzGWOMMcYYY4wxdpx7++23J3s8nicALACP1x1PEsBWy7JuWrx4cWfmPxwblT5Sg0/SrQC40YcxxhhjjDHGGCsCHo/niRNOOOG0urq6Xk3TnFkqnA0ipRRdXV3zDh069ASAv8n8XyFb3o6X5d4eP87f/1gyXml1U0wBZ9PrtlimOJVut8YzkxMxcHtc85V+t8dxKFy+5s/Rptdt8RorLlvzK99pd3MsM/F5VX4dq+dWC+rq6vq5wWd8aZpGdXV1fVA9rLLkfU6f0RJCvJNc3YsxxhhjjDHGGGPHuXfffbdt0aJF4zHBNBvCu+++W7to0aKZmY9xTx/GGGOMMcYYY4yxIuRIo48QYq4Q4jNCiIqcxzOXd/uTE/tmjDHGGGOMMcYYG85vfvObyhdffLF8vPfb1tbmveSSS04Zz33mvdFHCPEtAM8D+CaArUKIL2b8+wepP4jon/O9b8YYY4wxxhhjjBUny7Ky7kspYdv2mN/npZdeqnz11VcrDv/Mscv9jJlmzpxp/va3v211Yr/DcaKnzz8CWExEfwvg0wDuFELcmvwfD+lijDHGGGOMMcZc7sc//vGk+vr6eaeeeuq8v/3bv521ZMmSmc3NzRNT/y8rKzsTUL1yzj333PrLL7981qmnnjp/x44dvlNOOWX+ddddN33+/Pnz9uzZ4/v1r3894Ywzzpg7b968077whS+c0tfXpwHASSeddPptt9124rx5806rr6+ft2nTJv+OHTt8P/vZz+oeffTRKXPnzp3329/+dsjGnyeffHLinDlz5p966qnzGhoaTgVUg84tt9xy8oIFC06rr6+f19TUVDvUZ/z6179+0v3331+Xeq9vf/vbJ65cuXLKjh07fHPmzJmfeq+bb7755Pr6+nn19fXz7r333skA8Oqrr5adffbZp86fP/+0888/f87evXu9RxNnJxp9dCIKAwARtUE1/HxBCPEguNGHMcYYY4wxxhhztY0bN/rXrFkz9Q9/+MPOHTt2bHvsscf2jfT8LVu2lDc1NX20Z8+e9wGgra3Nf+ONN/Z88MEH2yorK+UPfvCDqX/84x93btu27YOzzjorunr16imp19bW1lrbtm374Ktf/WrX/fffP+XUU081rr/++q6vfe1rHdu3b992ySWXhIfa5/333z/197///c4dO3Zs++1vf7sbAB5++OHaqqoqe+vWrR+8++67Hzz11FN127dv9+V+xuuuuy7wq1/9qib1Xs8///zE6667rjfz/R944IG6vXv3lrz//vvbdu7cue2mm27qSSQS4lvf+tb0559/fs/777//wQ033NC9bNmyk4480oDnaF48jENCiDOIaDMAEFFYCPHXAJ4EcLoD+2OMMcYYY4wxxthx4ne/+92Eyy+/vHfq1KkWAEyZMmXEMVoLFy6MzJ0710jdnzp1qvGZz3wmAgCvvPJK+Z49e/znnHPOXAAwTVMsXrw43ZDz5S9/uRcAzjnnnOgLL7wwMfe9h9PQ0BD+yle+MnPJkiW9X/nKV3oBYMOGDRO2b99elnqfUCikb9u2ze/z+SjzM37iE5+I9fT0eNra2rwHDx70VFVV2XPmzDF27NjhS73/Sy+9NOFrX/tal9erOvJMmTLFfuutt/y7du0qveiii+oBNXytrq7OHO1nHooTjT7XA8gaxEZEFoDrhRCPObA/xhhjjDHGGGOMHSeICEIIynzM4/FQan4eKSVM00yPFCorK5OZz828T0Q4//zz+//nf/7nw6H25ff7KfX+lmWNevTRf/7nf+576aWXyl944YWqM844Y/7mzZvfJyLxwAMP7FuyZEl/5nN/85vfVOZ+xssvv7z35z//+cRDhw55lyxZEhhNDIhIzJ49O7Z58+bto/2ch5P34V1E1E5Eh4b5H6/YxRhjjDHGGGOMudgll1zS/8ILL9QcOnRIB4COjg59xowZxttvv10GAE8//XT1aBtoPv3pT0c2btxYsXXr1hIACIVC2pYtW0pGek1lZaUdCoX0kZ7z/vvvl1x00UWRhx9++MDEiROt1tZW32c/+9m+tWvX1iUSCQEAW7ZsKenv7x+yXWXp0qWBX/3qVzW/+c1vBg3tAoCLL764/9FHH60zTdWRp6OjQ1+4cGE8EAh4NmzYUA4AiURCbNy40T+aOAzHiZ4+jDHGGGOMMcYYY0NqaGiI/8u//MvBCy64YK6mabRgwYLoww8/3P7Xf/3Xs08//fTTPvnJT/aXlpbKw78TcOKJJ1qPPfZY2zXXXHOKYRgCAFauXPnRwoULE8O9ZsmSJcErr7zyr/73f/+3+uGHH9431Lw+t91228ltbW0lRCTOP//8/vPOOy927rnnxtra2kpOP/3004hI1NTUmC0tLXuGS2MkEtGmTJlizJgxY9AQrdtuu61r586dJXPnzp3v8Xjohhtu6Fq+fHnXunXr9nzrW9+aHgqFdNu2xde//vWOhoaG+GhiMRRBRId/FmOMMcYYY4wxxtgI3n333bZFixZ1F/pzuNW7775bu2jRopmZjzmxehdjjDHGGGOMMcYYKzAe3sUYY4wxxhhjjDFX+u53v3vC888/X5P52Be/+MXAv/7rvw45V/Hxhod3McYYY4wxxhhj7Kjx8K7C4uFdjDHGGGOMMcYYYy7BjT6MMcYYY4wxxhhjRYgbfRhjjDHGGGOMMcaKEDf6MMYYY4wxxhhjrCisWrVq8uzZs+fPmTNn/uWXXz4rGo2KF154oXLevHmnzZkzZ/6XvvSlmaZpAgCklPj7v//7adOnT19QX18/77XXXitLvc8FF1wwp7Ky8owLL7xwdub7SynxzW9+86SZM2cuOOWUU+bfc889kwFg7dq1NfX19fPq6+vnnXnmmXNff/310tRrTjrppNPr6+vnzZ07d96CBQtOSz1+yy23nDxr1qz59fX18z772c/+VXd3tz5Ump599tkJM2fOXDB9+vQFy5cvP2Es8eBGH8YYY4wxxhhjjB33PvzwQ+/jjz8+ZfPmzdt27dr1vm3b4vHHH6+5+eabZ61bt651165d70+fPt348Y9/XAsAv/zlL6taW1v9bW1tW9euXbv3n/7pn6an3mvZsmWHHnvssQ9z9/GjH/1oUnt7u3fPnj1bW1tb37/xxhsDADB79uzEn/70px07d+7cdvvttx+45ZZbZmS+7g9/+MPO7du3b9u6desHqcc+//nP9+/cufP9nTt3bps9e3b8zjvvHNSgY/3/7L17eBPHvf//ntXNN9lG2MbYIMmAAV8woSQ9TduQcEkCpCFcS0qakxBOCV84aSBfnOYCcYDQtDX55lByQoCUnJM7v1ACpdyTEGgJTQvh5hgbiJFjGxsLW7Kt62p35/fHSkKWLxgs2SDN63n2WWm0O7Pz1uzszGdnPiMIWLJkiX737t3nzp079+2f//xn3fHjx2O6qgkz+jAYDAaDwWAwGAwGg8GICERRJHa7nfN4PHA6nVx8fLykVqulgoICNwBMnDixefv27ckAsGPHjuRHHnmkgeM4jB8/3t7c3KysrKxUAcBDDz3UkpiYKAXH//bbb6etWrWqVqGQB+VkZmYKAHDvvffaU1NTRQAYO3asva6uTn2ta50+fXqzSqUCANx55532mpqaNud8+eWX8QaDwZ2bm8vHxMTQ6dOnN27dujW5q3owow+DwWAwGAwGg8FgMBiM3iKJ54WBAJK6G1FWVpZn0aJFdVlZWQVpaWkjtVqtOG/ePIsgCOTw4cNxALBly5Y+tbW1agCora1VGY1G3nd+//79eZ/RpyOqqqo07733Xp/8/PycMWPGZJ85c0YTfMy6detSxo4d2xQYNn78+Oy8vLycNWvWpLQX7//8z/+kTJw4sSk4vKqqSp2Zmem/xgEDBvDtGYc6ghl9GAwGg8FgMBgMBoPBYPQGSWazfdCyZQfSzGb7IHTT8GM2mxW7du1KvnDhwpm6urrTDoeDe+utt3TvvvtuxZIlSwaOGDEiR6vVir5ROpTSNnEQQjpNg+d5EhMTQ0tKSs7OmzfP/PjjjxsDf9+5c6f2/fffT1m7dm21L+zIkSNlpaWlZ/fv339+06ZNaXv27EkIPOc3v/lNukKhoAsWLGgMTq+Da2wb2AHM6MNgMBgMBoPBYDAYDAajx+F5IbG4+DBXXPw3FBcf5nheSOxOfDt37kzU6/XujIwMQaPR0KlTp1q/+uqrhAkTJtiPHz9efubMmbP33HOPLSsrywUAGRkZHpPJ5B81U1tbq9br9Z7O0ujXrx8/Z84cCwA8+uij1nPnzvkdNn/99dexCxcuNGzfvv1Cenq66As3Go0eQJ4K9sADD1iPHj0a7/tt3bp1ffft25e8bdu2ixzX1kSj1+tbjeyprq5WZ2RkdHqNgTCjD4PBYDAYDAaDwWAwGIweR61WNhcWjpEKC+9CYeEYSa1WNncnPqPRyH/zzTcJLS0tnCRJ+OKLL7Q5OTmumpoaJQA4nU5SXFycvmDBAjMATJkyxfrBBx/0lSQJn3/+ebxWqxUNBkOnBpVJkyZZ9+zZowWA3bt3aw0GgxsAzp8/r541a9bgzZs3X/T5DwKA5uZmzmKxcL7PBw8eTCwoKHAC8qpc//Vf/5W+e/fuC1qtto3/IAC4++677SaTKaasrEztcrnItm3bdDNmzLB2VRPS3lAhBoPBYDAYDAaDwWAwGIzr4dSpU6aRI0deuc7TknheSPQafNr4tLlelixZkrF9+/Y+SqUSeXl5jo8++si0ePHizAMHDiRJkkSeeOKJ+pdeeqkekJdff+yxx/RffvllYmxsrPT222+bxowZ4wCA0aNHD6uoqIhxOp2KpKQk4c033zTNmDGj+cqVK4qZM2dmXbp0SR0XFyetX7++8s4773TOnj3bsGfPnj4ZGRk8ACiVSlpSUnK2tLRUPW3atCGA7GR6xowZDb///e/rAECv1+fzPM8lJycLAPCDH/zA9uGHH35vMplUjz32mOHQoUMXAGDLli1Jv/nNbwaKoog5c+Zc8Z0fzKlTp1JGjhxpDAxjRh8Gg8FgMBgMBoPBYDAY3eYGjT6MENGe0YdN72IwGAwGg8FgMBgMBoPBiECY0YfBYDAYDAaDwWAwGAwGIwJhRh8Gg8FgMBgMBoPBYDAYjAiEGX0YDAaDwWAwGAwGg8FgMCIQZvRhMBgMBoPBYDAYDAaDwYhAmNGHwWAwGAwGg8FgMBgMBiMCYUYfBoPBYDAYDAaDwWAwGBHBihUr0oYMGZKXnZ2d9+CDD2Y5HA7yl7/8RZubm5uTnZ2dN336dKPH4wEASJKExx9/fKBer88fOnRo7t///vc4Xzx33XVXtlarvW3s2LFDAuOXJAlPPfVUptFozB80aFDeK6+8kgYA69ev1w0dOjR36NChuaNGjRp+9OjRWN85mZmZI4YOHZo7fPjw3Pz8/Bxf+NNPP53hC//JT36SbTKZVO3lad26dX0NBkO+wWDIX7duXd/r0YMZfRgMBoPBYDAYDAaDwWDc8ly8eFG1cePGfidPniw9f/78t6Ioko0bN+rmz5+f9fHHH1ecP3/+W71ez7/xxhspAPDJJ58kVVRUxJhMppL169dXLly4UO+La+nSpXUbNmy4GJzGunXr+lZXV6u+++67koqKim/nzp3bCABDhgxxHzlypPzcuXOlzz///KUnn3zSEHjeoUOHzpWVlZWWlJSc9YUVFRXVnTt3rrSsrKx00qRJTS+88EL/4PQuX76s+P3vf5/xz3/+8+yxY8fO/v73v88wm82KrmrCjD4MBoPBYDAYDAaDwWAwIgJRFIndbuc8Hg+cTicXHx8vqdVqqaCgwA0AEydObN6+fXsyAOzYsSP5kUceaeA4DuPHj7c3NzcrKysrVQDw0EMPtSQmJkrB8b/99ttpq1atqlUoZLtLZmamAAD33nuvPTU1VQSAsWPH2uvq6tTXuladTueP3263c4SQNsds3749acyYMc39+vUTU1NTxTFjxjRv27Ytqat6MKMPg8FgMBgMBoPBYDAYjN4iiefFgQC6bMjoiKysLM+iRYvqsrKyCtLS0kZqtVpx3rx5FkEQyOHDh+MAYMuWLX1qa2vVAFBbW6syGo287/z+/fvzPqNPR1RVVWnee++9Pvn5+TljxozJPnPmjCb4mHXr1qWMHTu2KTBs/Pjx2Xl5eTlr1qxJCQx/6qmnMtPT0wu2bt3at7i4+FJwXDU1NaoBAwb4rzEzM5Ovqanp9BoDYUYfBoPBYDAYDAaDwWAwGL1BktnsGrRs2Zk0s9k1CN00/JjNZsWuXbuSL1y4cKauru60w+Hg3nrrLd27775bsWTJkoEjRozI0Wq1om+UDqW0TRztjbYJhOd5EhMTQ0tKSs7OmzfP/PjjjxsDf9+5c6f2/fffT1m7dm21L+zIkSNlpaWlZ/fv339+06ZNaXv27Enw/bZu3bqaurq60zNnzmwoLi5OC07vRq4xEGb0YTAYDAaDwWAwGAwGg9Hj8LyYWFxcxhUXn0VxcRnH82Jid+LbuXNnol6vd2dkZAgajYZOnTrV+tVXXyVMmDDBfvz48fIzZ86cveeee2xZWVkuAMjIyPCYTCb/NKza2lq1Xq/3dJZGv379+Dlz5lgA4NFHH7WeO3fO77D566+/jl24cKFh+/btF9LT00VfuNFo9ADyVLAHHnjAevTo0fjgeOfOndv417/+tU9w+IABAzzV1dX+a6ypqVFnZGR0eo2BMKMPg8FgMBgMBoPBYDAYjB5HrVY0FxYOlwoLc1BYOFxSqxXN3YnPaDTy33zzTUJLSwsnSRK++OILbU5OjqumpkYJAE6nkxQXF6cvWLDADABTpkyxfvDBB30lScLnn38er9VqRYPB0KlBZdKkSdY9e/ZoAWD37t1ag8HgBoDz58+rZ82aNXjz5s0Xff6DAKC5uZmzWCyc7/PBgwcTCwoKnAAQODXsk08+SR48eLAzOL2pU6c2HTp0KNFsNivMZrPi0KFDiVOnTm0KPq4jlF098EYghBgAZFNKPyOExAJQUkpbwpkmg8FgMBgMBoPBYDAYjFuCptTUmIpXXhmR6DX4dNmY0R7jxo2zP/jgg5aCgoIcpVKJvLw8xzPPPGNevHhx5oEDB5IkSSJPPPFE/ZQpU1oA4Oc//3nTrl27kgwGQ35sbKz09ttvm3xxjR49elhFRUWM0+lU9OvXr+DNN980zZgxo3nlypV1M2fOzHrzzTf7xcXFSZs2bTIBwLJly/pbrVblU089ZQAApVJJS0pKzlZXVyunTZs2BJCdTM+YMaNh5syZzQCwdOnSARUVFTGEEDpgwAD+T3/6UyUAHD58OO6///u/U7ds2VLZr18/sbCw8NLo0aNzAODZZ5+91K9fPxFdhLQ3PywUEEJ+BWA+AB2ldDAhJBvAW5TS8WFJkMFgMBgMBoPBYDAYDEavcerUKdPIkSOv9PZ1RCunTp1KGTlypDEwLJzTuxYB+AmAZgCglJ4H0MYpEYPBYDAYDAaDwWAwGAwGI/SE0+jjppT6lxUjhCgBhGdYEYPBYDAYDAaDwWAwGAwGoxXhNPocIoS8ACCWEHIvgE8A7AxjegwGg8FgMBgMBoPBYDAYDC/hNPo8B8AM4AyAJwHsBrAsjOkxGAwGg8FgMBgMBoPBYDC8hG31LkqpRAh5H8BhSml5uNJhMBgMBoPBYDAYDAaDwWC0JWwjfQghUwCcBLDX+/02QshfwpUeg8FgMBgMBoPBYDAYDAbjKuGc3lUE4IcArABAKT0JwBjG9BgMBoPBYDAYDAaDwWBEMStWrEgbMmRIXnZ2dt6DDz6Y5XA4yF/+8hdtbm5uTnZ2dt706dONHo8HACBJEh5//PGBer0+f+jQobl///vf43zx3HXXXdlarfa2sWPHDgmMX5IkPPXUU5lGozF/0KBBea+88koaAKxfv143dOjQ3KFDh+aOGjVq+NGjR2N952RmZo4YOnRo7vDhw3Pz8/NzfOFHjx6Nve2224YPHTo0d9y4cUMaGxvbtdFs3bo10Wg05uv1+vwXXngh/Xr0CKfRR6CUNoUx/pAzceJECnmFsd7aIo6bQFOmK9O0SzBNwwPTNfS00pRSeWOadouboJwyXZmmXeIm0JTpyjTtEjeBpkzXKNX04sWLqo0bN/Y7efJk6fnz578VRZFs3LhRN3/+/KyPP/644vz589/q9Xr+jTfeSAGATz75JKmioiLGZDKVrF+/vnLhwoV6X1xLly6t27Bhw8XgNNatW9e3urpa9d1335VUVFR8O3fu3EYAGDJkiPvIkSPl586dK33++ecvPfnkk4bA8w4dOnSurKystKSk5Kwv7Fe/+pVx9erV1efOnSudMmWKZcWKFW0MOoIgYMmSJfrdu3efO3fu3Ld//vOfdcePH4/pqibhNPqUEELmAFAQQrIJIesAfBXG9LrNlStXejxNyvPXPugWJlDTSM9rT3IjZZXp3zntaco06z5M19DTSlNK5Y3RLTqrU1l5vXGCdWVadp+OyirTtnt0tV3FdO4619NWZbp2Hda36hqiKBK73c55PB44nU4uPj5eUqvVUkFBgRsAJk6c2Lx9+/ZkANixY0fyI4880sBxHMaPH29vbm5WVlZWqgDgoYceaklMTJSC43/77bfTVq1aVatQKAAAmZmZAgDce++99tTUVBEAxo4da6+rq1Nf61pNJlPMpEmTbADws5/9rPmvf/1rn+Bjvvzyy3iDweDOzc3lY2Ji6PTp0xu3bt2a3FU9wmn0eQpAHgA3gA8BNAFYHMb0bjlEsxmWZcsgms29fSlhJ5ryejPC9L9+mGbhgenKuJVg5TV0MC3DB9O2Z2A6hwem640Rgbol8bw0EEBSdyPKysryLFq0qC4rK6sgLS1tpFarFefNm2cRBIEcPnw4DgC2bNnSp7a2Vg0AtbW1KqPR6Leg9e/fn/cZfTqiqqpK89577/XJz8/PGTNmTPaZM2c0wcesW7cuZezYsa1mPo0fPz47Ly8vZ82aNSm+sOzsbOeHH36YDADvv/++rj1DUVVVlTozM9N/jQMGDOBramquaVDyEXKjDyHkPe/HX1FKX6SU3uHdllFKXaFO71aF8jyaiov9WyRbaqMprzcjTP/rh2kWHpiujFsJVl5DB9MyfDBtewamc3hgut4YEahbktksDFq2rD7NbBYGoZuGH7PZrNi1a1fyhQsXztTV1Z12OBzcW2+9pXv33XcrlixZMnDEiBE5Wq1W9I3Soe2MmCaEdJoGz/MkJiaGlpSUnJ03b5758ccfNwb+vnPnTu3777+fsnbt2mpf2JEjR8pKS0vP7t+///ymTZvS9uzZkwAAmzdvNq1fvz41Ly8vp6WlhVOpVG0uqINr7PJQ73As2T6aEGIA8AQh5F0ArRSjlDaGIc1bDqJWI6mwEACQVFgIou6yoe6WI5ryejPC9L9+mGbhgenKuJVg5TV0MC3DB9O2Z2A6hwem640RabrxvJRYXHyFKy6+AgDcK6+kJarV3A37Bt65c2eiXq93Z2RkCAAwdepU61dffZWwcOHCxuPHj5cDwLZt2xIvXLgQAwAZGRkek8nkF7G2tlat1+s9naXRr18/fs6cORYAePTRR63/+Z//afT99vXXX8cuXLjQsGvXrvPp6emiL9xoNHoAeSrYAw88YD169Gj8pEmTbKNGjXIdOXLkPACcPn1as3///jbTtvR6fauRPdXV1eqMjIxOrzGQcEzvegvyMu3DARwP2o6FIb1bFkVqKvq88goUqam9fSlhJ5ryejPC9L9+mGbhgenKuJVg5TV0MC3DB9O2Z2A6hwem640RSbqp1VxzYWGKVFiYgsLCFEmt5pq7E5/RaOS/+eabhJaWFk6SJHzxxRfanJwcV01NjRIAnE4nKS4uTl+wYIEZAKZMmWL94IMP+kqShM8//zxeq9WKBoOhU4PKpEmTrHv27NECwO7du7UGg8ENAOfPn1fPmjVr8ObNmy/6/AcBQHNzM2exWDjf54MHDyYWFBQ4AcB3XaIooqioqP+8efPqg9O7++677SaTKaasrEztcrnItm3bdDNmzLB2VZOQj/ShlP4RwB8JIesppf+no+MIIX0opZZQp3+rcatbZq+HaMrrzQjT//phmoUHpivjVoKV19DBtAwfTNuegekcHpiuN0YE6daUmqqs8I7waYbsC/iGGTdunP3BBx+0FBQU5CiVSuTl5TmeeeYZ8+LFizMPHDiQJEkSeeKJJ+qnTJnSAgA///nPm3bt2pVkMBjyY2Njpbffftvki2v06NHDKioqYpxOp6Jfv34Fb775pmnGjBnNK1eurJs5c2bWm2++2S8uLk7atGmTCQAY1ktFAAAgAElEQVSWLVvW32q1Kp966ikDACiVSlpSUnK2urpaOW3atCGA7GR6xowZDTNnzmwGgM2bN+v+9Kc/pQHA5MmTLb/+9a8bAMBkMqkee+wxw6FDhy6oVCq89tpr30+cOHGoKIqYM2fOldtvv73LrnPCMb0LANCZwcfL5wB+EBxICDEBaAEgQl72/XZCiA7AFgBGACYAP6eUWog82W4tgMkAHAAep5R+443nMQDLvNG+Qin93+7micFgMBiMmwpKAZcLiI/v7SthMBgMBoPBuFGaujOlK5jXX3/90uuvv34pMGzDhg3VAKqDj+U4Du+999737cXjmw4WTEpKivjll19eCA7fsmVLJYDK4PDc3Fy+vLy8tL24li9fXr98+fI2o3uMRqPn0KFD/jRmz57dNHv27BvSKJyrd12LzrwjjaWU3kYpvd37/TkAn1NKsyEbi57zhk8CkO3d5gNYDwBeI1ERgH8D8EMARYSQNkufMRgMBoNxS1NdDXz9NWCz9faVMBgMBoPBYDBuQnrT6NNlb9MAHgLgG6nzvwCmBoS/S2X+ASCZENIfwP0ADlBKG71TyA4AmBii6w4pEeBtvctEU157C6Zx78G0Dx1My+vA6p3O7XT27nUwrkm0l+toz/+tSDT/Z9Gc93DCdA0tTE9GV+lNo09HUAD7CSHHCSHzvWH9KKW1AODdp3nDMwFUBZxb7Q3rKLwNhJD5hJBjhJBjZrM5hNm4NtRsBpYtk/cRRHuaRmpee5JrlVWm8fXT1fv/Wg9Vpn1ruqJrR5oyLdunN59VkcqNaHqjDexoKtesDRB6euP+j4b/rCNdoyHv4aKzssp0vXFYvcroLjfj9K6fUEp/AHnq1iJCyJjrjIN2Et42kNKNlNLbKaW3p/ag93PK88Dp06AzZ8r7CLLUBmsayXntSTorq7SpCSgu9m+BGkuuLvv4ijq6cv9Tux20pgbUbm//d57vUPto5Vq6dtRQaaOlILDy66W3nlWRzPVqeqMNbCoIoDYbkJgYFXXENdsATSFz2RA19PT9Hy3ttvZ0jZa8h4uOyirTtXuwvhWju4Tc6EMI0XW2BRw6vr3zKaWXvPt6AJ9C9slz2TttC969z9FRNYCBAacPAHCpk/DrRhBu5KwuoFBAGjEC1q1bIY0YASgUYUroJiCa8toLUJ4HPv0UWLQIKCwECgv93vzF+npYX3oJYn0b32CMLkAFAZLdDuv69ZDsdtB2KgSiVvt1D9S+K4StfrmJ6cxI1krLoiJIjY3+8iuKvXjRNzPE+46DXs+Macb10h3jrtTYKNch8+cDRUWt6ohoqAOIWt26DWAysQ5KGAhpWYrmdls05z2cMF1DC9OTcZ2EY6TPcQDHvPvg7ZjvIEppY/CJhJB4QojW9xnAfQBKAPwFwGPewx4DsMP7+S8A/p3I/AhAk3f61z4A9xFC+ngdON/nDbsurFbgT3+66jIhlFCPB01r1qCpuBhNa9aAejyhT+QmIZry2hsQtRp44AHg4EHgxRdBvG9WJKezle5sxMT1QwWhS2WXpKYCr7zi174rhLN+uZnp1Ejm8fi1pApFK+0tda6o04px83CtctsRksvVug4JaJhHSx3QRoPBgyNpmeGbglCXpWhut0Vz3sMJ0zW0MD0Z10vIl2ynlGZ14/R+AD6VV2KHEsCHlNK9hJB/Afj/CCHzAHwPYJb3+N2Ql2u/AHnJ9rnea2gkhKwC8C/vcSvbMzJ1hiAAW7bIGwDMmwcoQ6gWFxODpKVLAQBJS5eCi4kJXeQ3GVTVOq9UFbl57Q0EAfjseCqSB81B/wYOAxIARYsV3HffRU0ZCxdt7tPSUmDwYCA5uc2x1zvCJ5z1y80OSU0FfeWV1ppZrcBHHwG/+AVIcjII4Nc+celSfLw/BnZ79GnFuEnwGiQ7K7ft1QsdPeujqQ4IbgMQlaqXryiyCEdZiqY2ajCszRoemK6hhel5bVasWJH23nvvpRJCMHz4cMeWLVtMn332WcJzzz03wOPxcCNGjLBv2bLFpFKpYDabFXPmzDFWVlZqNBoN3bx588U77rjDBQCZmZkj4uPjRY7joFQqaUlJyVkAuHz5smLatGmDampqNJmZme4dO3ZUpKamiidOnIiZO3eusbS0NO65556rWbly5WXfNV25ckXxy1/+0lBeXh5LCMHGjRtNEyZMsAPA6tWr0zZt2pSmVCrphAkTmt566602S8tv3bo1cenSpXpJkvDLX/7yym9/+9u6ruoR1iaGd5RNNgB/SaSUHu7oeEppBYCR7YQ3oJ3pYJRSCmBRB3FtBrD5+q9aRqkEZs+WP8+eHYbGmMcDRVUVkh97DFxVFdCnDxChDSGF5AGC86qIzLz2BkolcPfdgFrgofj734C0u+ROyEcfQfH660hesQJcbGxvX+YtiyItTdawtBRYskTu3P3Hf3Trfg17/XILQEiA6zWbzV9mAfj1VaSlIXnlSripbPCJVq0YvYzNBpw/D2RngyQkXA33eNott8H4ynFgxzma6gCFAhD79EXyr38Nbu9ewG7vdh3KuEpYylIUtVGDadNmTUoCFJrevqxbnhvqC3g8UVPurhfWt+qcixcvqjZu3NivvLy8JCEhgU6ePHnQxo0bdb/73e8y9+/fX15QUOBevHhxxhtvvJGyZMmSK8uWLetfUFDgOHDgwHcnTpyIWbhwof7o0aPnfPEdOnToXP/+/VtNoi0qKup/zz33tPz2t789/8ILL6S/9NJL6evXr69JS0sT1q5d+/3WrVv7BF/X/PnzB953333Ne/furXC5XMRms3EAsHPnTu2uXbuSz549+21sbCytqalpU5MLgoAlS5bo9+3bd27QoEGekSNH5syYMcM6evToLk3lCJsjZ0LIfwA4DHla1Qrv/uVwpRcOkpPlNybtvLzrPhwHDBsG4nIBw4bJ3yOVaMprLxEr2sCdKwd+9COgvFw2TPziF8DgwczgEwI4UQQMBlnTRx4BDYGDmbDWLzc7Nhvo6dNyZ1oQgL/9DZg27Wq5DWjkcTExiFV68B//EaVadRFRYj59woIgAC4X8I9/yHuv4xTK83I59ZXZoHIbTHsjJaKpDlAIPIhWC6SmAj//+VVfVIyQEPKyFM3tNkIAgwHc4cPAoEHAF1+0mjfH/FHdIIG6Ggxt6oA2ulqtwNtvR/781xslmu/RLiKKIrHb7ZzH44HT6eTi4+MltVotFRQUuAFg4sSJzdu3b08GgPLy8pj77ruvBQBGjRrlqq6uVldVVXVqQt+7d2/yk08+2QAATz75ZMOePXv6AEBmZqZw9913O1QqVauGWWNjI/f1119rFy9efAUAYmJiaEpKiggA69evT3322WdrY2NjqS+O4PS+/PLLeIPB4M7NzeVjYmLo9OnTG7du3drlWj+cJeRpAHcAqKSUjgUwCsAtt6Zc2N6+USrP7TcY5H0kO+GMprz2Bh4PKKWAWi3vc3MBjUY2ALVTgFmD5TrweOTtb38D/fZbYPZsWeN//MO/Ak2HenZhfnUkv93vEEEAbWkBtmyR94SA3n03aGws8MQTV3stPv28BiKF09Y6nCFTWQmUl3e4HCajm1AKfPKJPJrnX/+SV+Ky24GvvpLrgORk4NFHgaNH5bIa7DvtGuU1KuoAQZB1+f57+V6Pj4+SjPcsShrCujGa221KJaDVAv/+74Akger1wHffyeW4qenqvc+4Pny6zpkj7wPqgDa6Bo6i/OijNvVom3o2GonMezSJ5zEQQFJ3I8rKyvIsWrSoLisrqyAtLW2kVqsV582bZxEEgRw+fDgOALZs2dKntrZWDQD5+fnOTz75JBkADh48GFdbW6sxmUz+udzjx4/PzsvLy1mzZk2KL6yhoUFpMBg8AGAwGDyNjY2dPtjKyso0Op1OmDVrljEnJyd39uzZhubmZg4AKioqYg4dOqQtKCgYfscddww7dOhQXPD5VVVV6szMTH+nY8CAAXxNTU2XfUuE0+jjopS6AIAQoqGUlgEYFsb0woLbHZ54KSEAIZAAudMTwW+9ejqvUfUssNlALRagogJSVhag1YJKElBaCpw7JzdYnE74lj7qaMlhiRmC2iA6naDe8ir++MfAxYvyCB9BAHbvBhyO1p2/QNgbqg6hhMgjIh57DFSlkpeyfvllQBAgejxyWbXZIJlMciPb4ZANRDabPDKI6dqaf/0LqK1FRDT3bkIEogL91a8g7d0L+uMfA0eOQKJUHkpvs4F6PKC1tYDZLBsxX3rpav3aWT0QRcZLSimg0UAaPFhuCwQYzRkhwuOB6HKFrFxRQgCeh1RSAvB8RLdR2+BtL4mUgiqVwP/+L6heL2sgCHJdKwhddpzbUZtUcjpDc723Cj5dfSOlfe1Sj6etrioVMH8+6J49wPz5rUZRUqtVrkOivB1ACQEkCVJLi9zWD/M92gMvjJPMZgxavhxpZjMGoZuGH7PZrNi1a1fyhQsXztTV1Z12OBzcW2+9pXv33XcrlixZMnDEiBE5Wq1WVHgXV1i5cmWt1WpVDh8+PHft2rX9hg8f7lAqlRQAjhw5UlZaWnp2//795zdt2pS2Z8+ehE4T7wBBEMjZs2fjFi1aZD579mxpXFyctHz58nRAHpVksVgUJ0+eLPvDH/5QNWfOnMGSJLU6n7Zj2COEdLn5F06jTzUhJBnAdgAHCCE7cIPLpvcWdrs868BuD0PklMLT3AzTH/4AT3NzpFho26cH81pfDxQVyfuIx+0GLS8Hamvh6d8fppUr4bFY5FEoQ4aATpkCGhMDFBWBNjTIxp9du0DT0+W9twLnzWZcXLYMvPmWG4gXNvj6epiKiuCxWCDYbDCtXg3PhAnArl3AmTPyss379gEtLbIByNv5A3DNN1RRT0MDcOoUpNRUWP/wB7nhO3o0PC4XTCtXgm9shEcQcHHTJvAWC+jly0BZGfD//p9c3pmurRA8HpiOHQP5687evpSIw2YDFIJLXnL95ZchEQLPiBFyXdu/v/ym2moFNm0CnTgRKC29Wr86nR3XA9FmFCYEHpsNppdfhqelBfUmEzwOByjPs5GnoUAUwVssMK1aBd5i8Xemuxunx+mEafdueAJeHEULfFOTfJ/bbPLzp7gYEEVILhesu3d3eTVUQQBUosM3K/Rq/PX1uFhUBD4qGqtX4ZuaYPrd78AHGX0ljoPbu/dBGxqAFSvkvS+M5+Gx2+VyabdHd/0hSbIW69fDY7cDQQaCUCI2NcH11VcQw2is53kkrlkDrrgYWLMGHM8jsTvx7dy5M1Gv17szMjIEjUZDp06dav3qq68SJkyYYD9+/Hj5mTNnzt5zzz22rKwsFwDodDpp69atprKystJt27ZdtFgsymHDhrkBwGg0egB5ytUDDzxgPXr0aDwA9O3bV6isrFQBQGVlpUqn07WZkhWI0Wjk+/Xrx48bN84OALNnz7acOnUqDgDS09P5mTNnWjmOw9ixYx0cx9G6urpWI4f0en2rkT3V1dXqjIyMLjeGw2b0oZROo5RaKaUvA1gO4E8AHgpXeqHG7aY4ehT46it51HaoR/xIHg8adu+GOj0dDbt3Q4rgDkxP5dXlAl57TX42v/ZaFIz40WhAhg2DNHgwqtaswffFxahaswbS6NGgajWkc+cAhwN47DF55A/HQZo6Fa4f/ADS1Knyd55HVXGxfG5xMRvxA0B0OFG1Zg3sZWWwf/st3FVVsj5//COkmTOB226Tl22eNg3YuxdITwcOHLhqzLwOPx/RBnU4Absd0r/9GyS7HU3FxXB/+y2kn/0MDQcO+Muh7eRJ/2dXQwOk9euBF18EGTaM6RrE1/v24eCePbjyxhu9fSkRhcsFNJtdoAoFaGwstL/+NajHA3tpKexlZXJdGx8vG4KLi4HduyEVFMBaVwdp8mSQ2Nj264EoNApLPO9/RjXs3o343Fw07NsHyW6HZdkyiOyFQ7cQ3e5WbQAxBA1WSZLQsHev3G7buxfBb5wjmVZ6rl0L6b33gJdfBpUkOA4cAJeeDseBA9c0hIkiQBrr0bTiZZDGev/hktPZus0WJSN+OiqnEiCPVPHuJUAe4VtbC+mpp+SRrA4HAHmkQ9Xatf7/pr2RD9GCJAity1GwZTFE+EZeqfLzAZUqbEvDq9VoXroUUmEhsHQpJLUazd2Jz2g08t98801CS0sLJ0kSvvjiC21OTo7L5yDZ6XSS4uLi9AULFpgBeVUtl8tFAOD1119P+eEPf9ii0+mk5uZmzmKxcADQ3NzMHTx4MLGgoMAJAPfff791w4YNfQFgw4YNfSdOnNjpmxy9Xi+kp6fzp06d0gDA/v37E4cNG+YCgAcffND62WefaQHg9OnTGo/Hw6Wnp7f6U++++267yWSKKSsrU7tcLrJt2zbdjBkzuv72iFIalg3Ae10Ju5m20aNHU0opra+30ZMna6jNJtEDByi12WjIEQWB8lYrbTx4kPJWKxUFgfZ2/sOxjR49uqO8hoXLlyl99ll5H0Cv6xDqzVdWKaWUejzUffkyvVBYSHmrlXqamylvtdILhYXUffkyldxuKh48SEWHg7qqq+mFwkLqqq6mEs9TSqn/XHeQaNeg1zUIp6aCw0F5i4Veeucd6q6vpw2ffebXUnI4qGQ2U8rzVLp8mUqFhVTyaedyXVXIq280axqsq09bl9lMBZeLCi4XddfX+8ufT2/+yhV/Oa178EHaUFhIJbeb6dqOpnsHDaKbAVqdn3+9unSHXtcg1FtwOaWUUkGg1GOzUXtFBRWcTn9ZdVVXU95iodJnn1GppYVKhYVUtFppQ2EhrQCuXV4tFkrffFPeR4muvNVKHRcvUt5qle/zy5ep/bPP2uoVenpdg1BvbcqqIFBPSwu1V1RQT0uLXHC7iejxXK2b6+up6PEEH9LrOoR68+sqCP773mOz+Z//VBCuq70k2u20+Z13qOW112jzO+9Q0W73/xaobVRo2o6uvnIqulzUfemSrMelS1R0uagUrHVAme5Au87odR3CoasUpKcUpr5V8H8hdbG/evLkSROl9Nh1bufdbnqZUnr+Bs5tsy1evPiS0Wh0DhkyxPnQQw81OByO4/Pnz6/LyspyGgwG14oVK773HXvgwIGzer3eZTQanffee6+lvr7+BKX02Lfffnt66NChjqFDhzoGDx7sfPbZZ6t959TW1p740Y9+1KzX610/+tGPmuvq6k5QSo9VVlaeTEtL4+Pj48WEhAQhLS2Nb2ho+IZSeuzIkSPf5uXl2bOzsx3jx4/3p+N0Oo9PmTKlYciQIc6cnBz7jh07yimlxy5evHhqzJgxVl+aH3/88XmDweAaMGCAK/Bagjev/q3+k3B60ssL/EIIUQAYHcb0QgLPC9i1qwx33qkHpfJCEzQMhmQqipBEES4AcaIorw7knVcYafRkXtPSgFeLHODi2vi/ikwEASAEij59YHzlFXiamnCmuBgFv/kNtHfeiYbdu5E6bRrI7bcDHg+qvW9IAMC4ejVgt8NdW+sfhZX28MNQeFeZoTwPopZHEUo8D07dZV9htzSixwOPzSbr+OyzcNfUIOlHPwLUakiCAOJ0gmi1kHgexDfVCwBdvhzk/feBhx+OquVtrwdREPzajnzxRUgOByz79l0tkytWgDQ3g3zxBYyPPAIkJEA1fDiSCgv9ZbErugaW3UhH9I7Os1ityOzla4k4JA9EjwdNlZXoq9PBdvr01bJaVCSP+jObgRdfBJeQgKT/+38BoHV5FcW2ZTY5OaqWLBcFAUSpBJecDNOnnyJzwgT5eTNzJvp99hk0BQVRc7+GA1GS4HE48O369chfuhREo4Gim20sKgiwnT6NlJkzYTt9Gkk/+UnUON8WKW113yf99KdwX7oERUKCf2QFAGStWgVO0/FS7lxcHGKmTYPtxAnEjBrVql2qUqthnDw5atpVQGtddX36yOXU+1vDvn1yO3TfPqT94hegLS0Q7Hbon3sOnqYmKLRaKLz+ANU6HYwvvwyFRhPVS7pLkEf7+MopARCOnlXgSE1AbqcpwrcqcJNajZDNIXv99dcvvf76661cy2zYsKEaQHXwsRMmTLBXVlaWBIfn5uby5eXlpe3Fn56eLgYu6+5Dr9cLly9fPt3eOT/+8Y+dJSUlZ4PDY2Ji6I4dOy4GhxuNRs+hQ4cu+L7Pnj27afbs2TekUchrcELI8wBeABBLCGkG/IuK8AA2hjq9UKNWK/Hoo7dBEDgolQT5+RQAgdstL4gUEux2QKWCMikJKXfcIS/lGuHzpXsqr6LHAypJoB4PFNHwIPD6SuDi4gCFAqrERIxatQrU44GQmIiUcePkgqtUgooi9C++CAAwFBVBtFhQtWYNBi5diuTx4xFrNF41+NjtkOrrwfXvD09LC6qKizGwsBDq1NTezG2PQEUR9kuXMGrVKoBSxAweDKpQgBAC0eEAAcC5XBC+/x7K228HqagA0elAzp2Tp2sA8ipUIaswIghK4bHZcFtRkb+xm/rww9AMHIj43FxIbjdce/YgbvJkuUzHxCD5178GFx/f5cadaDajqbgYSYWFUERBeRW8Rp+my5d7+UoiC8n7nOKUSiQNHw5Oo0HSmDG4y+kEUSoBSiEJArh//hPo1w/0jjvAxccjefJk2YAhikBzM/Dxx1cNwYFEw/PJhyiCqFRQcByyHn4YhOOQ9stfgvI8ND/+MTilEqLLBcJxoAoVFJIADzioVJH5IizUUEGAo7YWOU89BUdtLVRabffLl0qFpDFjILndsmEjmpaDFkUotVp/m1W4cgUqnQ5Eo4H+xRehmzwZCaNGyfVAAB4nD1WsGqLDAUVcnGyQD3BaLPI8FGq17IdGoQDuuENegSlaXlIE6QpBkNumCgVSZ86Ex2yGKjUVUChAtFqoCIHtxAkkjBoFTq2G2NwMhUolTwOjFBQAiaZ6NBhRhCIhoXXfKgwv1Dm1GgMLCwEAAwsLo8pQGWmEvBanlL5KKdUCKKaUJlJKtd6tL6X0+VCnF2p8XuWVSoDjKBQcwEEM3QsOQZAdBCkUEG02XPnXvyDabBE7ygdAj+VVEkXAu1IYCPE32iMZkVJwCQkAx4HyPASXCyeWL4fgcKDv7bfDbbGAekcDNZWVQeR5GFetAlEqW80Fjh08GJWrV4M3m0FF0e8cTnC74b50SfZhEQU+f0SP3DlJzs+H5HLB/I9/tJonrYiNBdRqUJcLUkMDqM0Gj80GyeUCzcuTfXc8/DAz+LSDKIoQHQ7EpKaCcBxEhwOnVq+Gp6UFSffcA6VOh5bjx0GSksCXloJyHOBygfzxj/JKP11YmYLyPJqKi/1bVDh59A1FjQLfMD2Jr2PBaTTgFApc/PhjiA4H+KYmiHa7XOcqFKBTpwImk+zU/eJFkLFjgdWr5bL38ceyIfjjj6PAyVwneBtQEs/D/I9/QHA4ILndIBoNJEmCRCmEhgZcXLYMYuMVoLISXHMzmprk+1dyua4+e8Ix9PoWh6jVSBo6FMrYWCQNHRoyA4LocODKsWMQvf5UogalEp7GRpxcsQKexkYoU1LAJSSAAuA0GsTl54PTaBDo5YivN+PKlg8hOp0QHQ55JTVfexRo9ZkoFJA0GkiUQtJoQCK5/R9IkK5QKiG65PuaqFRQ6HR+Iw6VJHAJCdDecQe4hARIHg9Mr74KweWC6DUWSZBf0gGIzudfD/WtKACFTgdDUREUOh1bKfQWJpyOnJ8nhEwhhKzxbj8LV1odQQiZSAgpJ4RcIIQ819Xz/HU1AEgSCKXgECIDAiFAUhIgSVDExSHl9tuhiIsLq9f1XqeH8kqBVg/YSK+YRBH+/Io2Gxy1tVBoNPjB6tVQ63RQaDSIy8wEFxMDyvNIzs+HSqeTH5JKJYyrVmEMz8O4ejWISgXDqlVQ6HSQAHAJCTCuWiWfm5iI4e+9B+Orr0a8hZ8E1IhEqURSTk6rzobA8zi5ahUEjgMUCjSvXQvhwgU0vfaaXOYef7ztG30GANkZoCIhQW4sCwIUsbHoO3o0SoqLIdpsEKxWJBQUIPZnP4Nz925Qu102khcXA6+/3iUDDlGrkVRY6N+i4e0p9danEfwE6T0UCkCSoNRqkTV7Nio//RQE3o6GIMjGXo4DJk+WnbobjbKT98JC2ZHzww9fNQR7R1ECPbL07c0FpYBCAU6jge6228CpVPKzhFL5GSNJUKakYOCzz6Jh1y6I/fuDxsUgIUEB0W4HX14O2tIC0WqV42KGn9ZQCqJWQxEbK9d5odBHksBpNOjjNXBEdBs1CCoIUOl0uK2oSG4zBTrGVijkURUBHWyPk4eirw6pP/85oFaDBPzOJSYi4Y47wCVeXYhIBOCxWnFy5Up4rNZQ9S5uetroKgiA2ym3YzlONn5xnP87ILfDfI6EjatWQXA4cPGjj2SjGrzPPZsNKCmR90DoV965WenJvlU7e8atR9iMPoSQVwE8DaDUuz3tDesRvD6E/hvAJAC5AH5BCMm91nmUym0zQtDqBvIZgEIGx7Wu3CJ56GwP5lWw2WD+178g+Cr/SIZ6R6BIEohSCY1OJ5dRSmWtJUnWmlIQlUp+wAY3BjlOng4nSaj/+9/lty+SJK+wRgigUCCuf3//A4VG+OgpvzqUghACTUoKOLUaVBRBRREKjQYlxcU4U1wM1W23IenFFyE1NSGpsFC2FhcVgbKVaNrF/wbP44EiJgYSz8MwcyZuKypC5aefQqHVoqq4GOB5eMrK5JE6KpXciV66FOTQoS4tca1ITUWfV16JiqldAOC0WAAALb18HZEEH3APU+/UJNHlgv7BB1G9Zw8aT58GBdDw179CtFohJSUBs2bJUzxXrADxlb0+fYC5c1sZgkWzOfpWrPK9jPEa0HzPIsntBkQRJ156Ca4rV0BVKqT98pfgbTacKCqCp7ERgsuFMx98AI8kAbGx8rOJUohix12PaLOptRkF2YVRkdeE4+RRvy0t8nM/ktuoQQRP22pFkFECAFSxarl95DVIii5X+6gUgA0AACAASURBVJp5v1NBAG+zYcRzz4G32eT7IQoI1pUolRB8IyA5DiSwf+Btq1JRlM/ztsEaT5/GoEcfBRc4rcv3WaOR2wibNwPe52JEE039SEZICGcJeQDAvZTSzZTSzQAmesN6ih8CuEApraCU8gA+RheWjCcEaGgIaEyIojx0WxRD93bJW8nxDQ04uWIF+IaG0MR7E9MjeRVFCDYbqnfvlo0+EW6gACHykFZC5AY0z+PEyy+Dt1ohOZ3y54YGuRFit6P+738H39h4NZzj5O/Ll8Pd2Ii+o0fDfukSeKsVp1avhuBwwGOx4MRLL8FjtUJyu6NiNIHkcrXSSanV+ssWlSTkFxYif+lS8P/8J4hSifipU8FxHLB6tTwqJVqmFV0HPjn4hgZZV4vFb5gkhGDApEkAx2HA009DdLmQvH49kl54AZImBigqAjl+HHj11S4vcR0NI3x8+Lp37O1baJB4XjY+IqC8NjRAmZAAvrkZhpkzkfpv/wYCQJmcjKriYlDfiJ/Bg+URPoEEjfCJuumHXgK1VCQkyM8sjwdUFNFUVobStWvReOIEBJsNJa+95jeuN5454/8suVyghECiBE4nQXvvdsxmYPlyeR9NhLyNJUkQ7HaUrV8PwW6PqpE+QGs9648e9evans6iKIK3WOTwxkZU/fWv8DQ3d3g8USqhio/Hmd/9Dqr4+M6NTBFGsB7EWz8G1g/yD+RqWGMjqCTBcfky+t1zT9tjPR7gH/+QR/h89NHVKbVR8PK3p/qR0dRfjWTCbRZMDvicFOa0gskEUBXwvdob1gpCyHxCyDFCyDGz2Qy3G1iz5srVA77//uoWCiQJOHIE1O1GyZo1KCkuRsmaNa2Hj97iBGvaU3mloojStWtRUlyM0rVrI25USrCucLvlt0s8D5fZ3Epjl9ns/yw6nWg4cQIqrbbVMZLbLX/26tV48iQShwzxhzWePIkz3s9niovh8v6XkUR7ZdVVX9+mvBKlEorYWHAxMRhVVASlwyGvOKPRgDt6FESj8U/rQJRMK+qMYF3VnNCmHnDV14MKAohGA2VCAggh4OLjUTZ3LqrXrgWNiYPLpQCJjwfuvFOeJvOLX0SXA9wA2tz/Xqj3rX4Ue4y5YdrT1Oe0Mri8Sm43YtLS5BcKlMJ96RJis7Iw0DuVi1Or5VW5OksvSqYfXqsNILlcoJIkj/jzeJD3zDPIffpp9BkxAs66OuQ+/TTyCwsxYulS6G67DfmFhchdtAhXPv0U1OnEuVIPPvgAaGho7SqJ54E1a2Tb+5o1kTXip6P7H0BY2ljU42kdZ4T6TGlP12A9fW2njnQODnc3Nl7X8ZHervLRXr4bTpyA5HK1rR+CjhVsNnBKZZtjqdsN/O1vsqHnb38DZs2S2wmzZ8vfI0jbXutbRXh5jSqC13AP1QbgFwAqAfwPgP8FcBHAL8KVXjvpzwLwdsD3RwGs6+yc0aNHU0opvXzZQwVBopIkUep2U3r+PJXcbhoybDZKBYE6Ll+m/ywspI7Ll32/9Ig2PbmNHj2aCgJtlVdBCJWQbXHU18vp1NcHBve6DqHefGVVcLupIAiUb2lppTHf0nJVb7ebuq1WWvPZZ63/B57362WrrqYui4UKAeXSZbFQp/d3Z3095VtaIl5TQaCUt9mCyqvg19ldX089LS1UsNlk/QVKqcvlF6Wb9USvaxAuXSmlVAqq83ibTdbW45H3LhflrVZ6obCQuuvr29YTPM90DdKUUkrfJYRuBug7AKXff3+jGl0vva5BqLdATSmlrepCX30p8LxcT7pcchl1u6l4Aw+0TuqJXtch1Fv7bQDh6j1vs1HebqcNp09Tt9VKz73zDnVbrdRjs1GPzUZddXWUt1rppXfeoW7v82zPHkobGylt/UiSqa+n9Nln5X0kaxpIONpYXYiz13UI9Raoa2DefW2nNnVCgCaB4efeeafd4wPpILzXNQinpsH5FgSBuq3WdnQV2oR5nE565eTJtpoKAqUWC6VvvilXCseOyRXD+fPy9wjWtUf7VjfQXz158qSJUnqsN7eXX375+8GDBzuHDBni/NnPftZgt9uP79ixozwnJ8c+ZMgQ57Rp067wPH+MUnqsvr7+xIQJEyzZ2dmO/Px8+z//+c8SXzwZGRnu7Oxsx7Bhwxx5eXl2X3hdXd2JO++8s0mv17vuvPPOpvr6+hOU0mPffPNNyciRI20qlUpavnx5VeA1mc3mE/fff3+j0Wh0ZmVlOQ8cOHCWUnps8uTJjcOGDXMMGzbMkZGR4R42bJijvTx98skn5wwGg2vgwIGu559/vrqjvHv1b/WfEErDNyicENIfwB2QR6B/TSmtC1tibdO+E8DLlNL7vd+fB+TVxTo65/bbb6fHjh0D4FvFSwGOo/IUhFB7Rfc6JhMcDijj4vyXHdpEeh+fpqIIULcDRBMX9oXKgjQFIlhX4OqKc5AkeeSEvPScPELF54CREHlutEIhLw+q0VxdLlMQZIEChhgHnus7T9F6hEXEaiqKAKhwVScfgiAvJSpJ4XJoHXGaAq3LqiSK8qo9KlWr+eeEcOA4OfsSz4da34jTNVDT7UolLKIINYBH1q8HFiwAAPC8ALU6bNMGIlpTH6IoXq0LAX+d6Xt+K0L/MItYXa+2AbxaUq9DZo6T/XVIkux7znv/U8H7vBI8gCoGcDvAaTQQKQdJIiCk40F/PA8EVCERq2kg4WhjXSPOiNdVcMh592kAtwMI+B6sia/t6d+7eChj1O21SVsdH0DEawq0zrcoin7/k4F1re8zdbvlEZGEtPld6atLFAp/nQyXS55S63YHrqIasbr2Yt/qmpqeOnXKNHLkyCvXOi5cXLx4UfXTn/50eHl5eUlCQgKdPHnyoPvuu6/pd7/7Xeb+/fvLCwoK3IsXL84wGAz8kiVLrjz55JMDEhISxNdee632xIkTMQsXLtQfPXr0HABkZmaOOHbs2Nn+/fu3csC1YMGCATqdTvjtb39b98ILL6RbLBbF+vXra2pqapQXLlxQb926tU+fPn2ElStXXvadM336dONPf/pT2zPPPHPF5XIRm83GpaSktJqa8qtf/WpAUlKSuGbNmtrAcEEQkJWVlb9v375zgwYN8owcOTLnww8/rBg9enSbwd6nTp1KGTlypDEwLHwtQkI+p5SOB/CXdsJ6gn8ByCaEZAGoAfAwgDldPdnXmHM6CWJjw3AneVsr7T0IIhGFAnCSOIRDymCiRVMf/o6HQuEvVw4HEBcX533ueX/3GXV8+8DzgvFpGBBntKBQAA6HEnFxSn8fz/8Do1twCgWoJg48DwS7PvEfE6FTXsLBG3+UEO81+vIAdv6f/wPlokUA4SBSgnRlDCihsLltMOoGQKlQAqCIccv+Jix9B6FvHwDflgDjxoEUFLSbDnU64Tl/Hv22b4/YKUntoVAo4EAc4ry3vkAVUCrA6oIbQKEA3Io4KGir9wtXf/Thqxh8YUrv3vtM6kqjNYqKqB+FAuCVcVCHsGj2ZLvtZsTXlhTU3g6193tgndDe8f59jLrV946OjzYC861QKPz3eitdA7VXtg5r8xm42k71+VALfGEXwbC+VeeIokjsdjun0WhEp9PJxcfHS2q1WiooKHADwMSJE5tfffXV9CVLllwpLy+Pef755+sAYNSoUa7q6mp1VVWVcuDAgR16Wt+7d2/yoUOHygHgySefbLj77ruHAajJzMwUMjMzhR07drSa893Y2Mh9/fXX2q1bt5oAICYmhsbExLQy+EiShJ07d+oOHDhQHpzel19+GW8wGNy5ubk8AEyfPr1x69atyaNHj+7SoJqQG30IITEA4gCkEEL64Ko1MBFARqjT6whKqUAI+U8A+wAoAGymlH7b2TnHjx+/QgipDApOARBOS2Vg/HsppRPDmFaPE6RpuLX0EZwO0/XG6ShupumN0Vm8Eacp0G69Gg5to0rXTjWVJPgXcOcD/HA0VreNqPm4PPEaAPbsAfbs6fy/udqQjgZNffRk/RrpunZXyxs5P9I1DaQn69Zo0DXUel4rvmjQFOjZfhUQ+br2Rt8qXJomeTxIVKnQDKCpOxFlZWV5Fi1aVJeVlVWg0Wiku+66q3nevHmWoqKiAYcPH44bM2aMY8uWLX1qa2vVAJCfn+/85JNPku+//37bwYMH42prazUmk0ntM/qMHz8+mxCCuXPnmpcuXXoFABoaGpQGg8EDAAaDwdPY2NipXaWsrEyj0+mEWbNmGUtLS+MKCgrsmzZtqkpMTPR7yt+3b19CSkqKZ8SIEW2cJ1VVVakzMzP93uoGDBjAf/311wld1SQcI32eBLAYsoHnOK4afZohL6HeY1BKdwPYfR3Ht1njlxByjFJ6e0gvrAfj720CNe2pvEa6pkDP6RoNWvroCU2jSU8fwfVqODSINl3DpWm06RhIe89/gNWv3SWU9Wo06NUVerKsRpPm4X5WRZOWPli/KjxEaN8qyWrFoC1bwM2ejZTkZFSgG4Yfs9ms2LVrV/KFCxfO9O3bV3zggQcGvfXWW7p33323YsmSJQN5nufGjh3b5JstsXLlytr58+frhw8fnjt8+HDn8OHDHUqlkgLAkSNHyoxGo6empkY5bty4oXl5ea5JkyZd9/JwgiCQs2fPxq1du/b7cePG2efOnTtw+fLl6WvXrr3kO+b999/XzZgxo7G989tzyUMI6bKfnpCv3kUpXUspzQKwlFI6iFKa5d1GUkrfCLjIe0OdNoPBYDAYDAaDwWAwGIxbA48HiVu2gNuyBdiyBZzHg8TuxLdz585EvV7vzsjIEDQaDZ06dar1q6++SpgwYYL9+PHj5WfOnDl7zz332LKyslwAoNPppK1bt5rKyspKt23bdtFisSiHDRvmBgCj0egBgMzMTOGBBx6wHj16NB4A+vbtK1RWVqoAoLKyUqXT6TqcCuaNh+/Xrx8/btw4OwDMnj3bcurUKf+8OY/Hg7179/b593//93aNPnq9nq+pqfFPYK6urlZnZGR0eWnFsC3ZTildd41Dfh+utBkMBoPBYDAYDAaDwWDc3KhUaJ49G9Ls2cDs2ZC8U7xuGKPRyH/zzTcJLS0tnCRJ+OKLL7Q5OTmumpoaJQA4nU5SXFycvmDBAjMAXLlyReFyuQgAvP766yk//OEPW3Q6ndTc3MxZLBYOAJqbm7mDBw8mFhQUOAHg/vvvt27YsKEvAGzYsKHvxIkTrZ1dk16vF9LT0/lTp05pAGD//v2Jw4YN8zth3rFjR+KgQYNcgwcPbteQc/fdd9tNJlNMWVmZ2uVykW3btulmzJjRaZqBhM2Rcxe4Vbypb7zF47+Z6Km8RpOmQHjzG21a+ghXvqNVz0DCoUG06xqq/Ee7ju3B6tfQ0d38Rpte1wurW0NLqPMezVoGwvpVoSVS+lZNycmoeOKJ0Pj0GTdunP3BBx+0FBQU5CiVSuTl5TmeeeYZ8+LFizMPHDiQJEkSeeKJJ+qnTJnSAgAnT56MmTdvXhbHcTQ7O9v1wQcfmACgurpaOW3atCGA7Bh6xowZDTNnzmwGgBUrVtROmzZtsMFgSMnIyOC3b9/+HQB8//33yjvuuCPXbrcrCCF0w4YN/c6ePVui0+mkdevWff/II48M4nme6PV690cffWTyXfNHH32kmzVrVqtRPiaTSfXYY48ZDh06dEGlUuG11177fuLEiUNFUcScOXOu3H777W1W7uqIsC7Z3mnChHxDKf1BryTOYDAYDAaDwWAwGAwGI6T09pLt0U57S7aHbXoXg8FgMBj/P3t3Hh5VefYP/PucWTLZkwlZSMLMsGQhGxAXXkELYpW4UUAQt6o/UNDWivgSdxICUpdgFW2L2Orb0tdKXiOiNkiLFWNVRHYC2UDICiEh+ySZzJlznt8fZyZkIwwwAzJzf65rrpBD5iz3PHPOc+7zLIQQQgghhJBLxy3duxhjVwPgnPOdjLEkABkASu2zaTlUuGPbhBBCCCGEEEIIIcQNSR/GWDaAmwGoGWNbAUwE8BWAZxhjEzjnqwCAcz7b1dsmhBBCCCGEEEIIIQp3tPSZA2A8AB8AdQBiOedtjLFcADsArHLDNgkhhBBCCCGEEEJIL+4Y08fGOZc4550AfuSctwEA57wLgOyG7RFCCCGEEEIIIYSQftyR9LEyxvzs/77CsZAxFgxK+hBCCCGEEEIIIYRcFO5I+vzM3soHnPPeSR4NgAfcsD1CCCGEEEIIIYQQ5OTkRIwZMyY5Li4u+fbbbx/Z2dnJPv3008CkpKSxcXFxybNnzzaJoggAaGhoUN14442j4+Pjk1JTU8fu3LlT51hPTExManx8fFJiYmJSSkrKWMfykydPqiZNmhRnNBpTJk2aFNfQ0KACgL179+rGjx+fqNVq07OysiJ779OpU6dUGRkZo0aOHJk8atSo5C+++MIfAL777jvfcePGJTq2sW3bNj8M4q233gozGo0pRqMx5a233go7l3i4POnDOe8+w/JTnPMiV2+PEEIIIYQQQggh5NixY5p33nknct++fcWHDx8+JEkSe+edd/QLFy4cuWHDhqOHDx8+ZDAYrL///e+HAcALL7wwPC0trbO8vLx4/fr1xx5//HFD7/UVFhaWl5aWFh88eLDEsSw7O3v41KlT2ysrKw9OnTq1PSsrKwoAIiIibGvWrKlatGjRyf77tXDhwhE33XRT27Fjxw4VFxcXjx8/3gIAmZmZsc8///zx0tLS4mXLlh1/+umnR/R/78mTJ1WvvPJK9A8//FCya9eukldeeSXakWhyhjta+hBCCCGEEEIIIYRcdJIksY6ODkEURXR1dQn+/v6yVquV09LSugEgIyOjbdOmTSEAUFZWprvpppvaAWDChAmWmpoabXV19ZATXm3ZsiVk0aJFjQCwaNGixs8//zwUAGJiYmxTpkzp1Gg0vPffNzU1CTt27Ah84oknTgGATqfjw4YNkwCAMYbW1lYVALS0tKgiIyOt/be3adOm4J/97GdtkZGRUnh4uPSzn/2sbePGjcHOxoOSPoQQQgghhBBCCLlUgm02jADgdCLjTEaOHCn++te/rhs5cmRaRETEuMDAQGnBggXNNpuNff31134AkJeXF3rixAktAKSkpHR9+OGHIQCwbds2vxMnTvhUVFRoHeu74YYb4pKTk8euXr16mGNZY2Oj2mg0igBgNBrFpqamIZNEpaWlPnq93jZ37lzT2LFjk+bNm2dsa2sTAODNN9+szsrKio2KikpbtmxZ7GuvvVbb//21tbWa2NjYnmRQTEyMtba2VuNsTCjpQwghhBBCCCGEkEshuKMDo776ChEdHRiFC0z8NDQ0qAoKCkKOHDlSVFdXd6Czs1N4++239evXrz+6ZMmSEampqWMDAwMllUrpHbVixYoTLS0t6sTExKQ1a9ZEJiYmdqrVag4A3377bWlxcXHJv/71r8N/+tOfIj7//POA89knm83GSkpK/H796183lJSUFPv5+cnLli2LAoA333wz/KWXXqquq6s78Nvf/rb6wQcfNPV/P+d8wDoZY05vn5I+hBBCCCGEEEIIuehsNgRt3w7hu++A7dsh2GwIupD1ffbZZ0EGg6E7Ojra5uPjw2fOnNny3XffBfz85z/v2L17d1lRUVHJ1KlTzSNHjrQAgF6vl/Pz8ytKS0uLN27ceKy5uVmdkJDQDQAmk0kElG5bt956a8v27dv9ASAsLMxWWVmpAYDKykqNXq+3DbVPJpPJGhkZaZ02bVoHAMybN695//79fgDw0Ucfhd1///0tADB//vzmAwcO+Pd/f2xsrFhTU9PT+qi2tlYbHR0tOhsTSvoQQgghhBBCCCHkolOr0XbNNZAnTQKuuQayWo22C1mfyWSy7tmzJ6C9vV2QZRlffvll4NixYy21tbVqAOjq6mK5ublRjzzySAOgzKplsVgYALz++uvDrr766na9Xi+3tbUJzc3NAgC0tbUJ27ZtC0pLS+sCgOnTp7esW7cuDADWrVsXlpGR0TLUPhkMBltUVJR1//79PgDwr3/9KyghIcECAOHh4eLmzZsDAeCzzz4LNBqNlv7vnzlzZmthYWFQQ0ODqqGhQVVYWBg0c+bMVmdjMmTfM0IIIYQQQgghhBA3afX3x9GpUxFkT/g4ncwYzLRp0zpuv/325rS0tLFqtRrJycmdTz75ZMMTTzwRs3Xr1mBZltn8+fPrZ8yY0Q4A+/bt0y1YsGCkIAg8Li7O8v7771cAQE1NjXrWrFljAGVg6DvuuKNxzpw5bQCQk5NzYtasWaONRuOw6Oho66ZNm34EgKqqKvVVV12V1NHRoWKM8XXr1kWWlJQc1Ov18ltvvVV17733jrJarcxgMHR/8MEHFQCwdu3ayieffHLEf//3fzMfHx/57bffrgSAr7/+2u8Pf/hDeF5eXmVkZKSUmZl5/IorrhgLAE899dTxyMhIydmYsMH6hxFCCCGEEEIIIYSci/3791eMGzfu1KXeD2+1f//+YePGjTP1XkbduwghhBBCCCGEEEI8ECV9CCGEEEIIIYQQQjwQJX0IIYQQQgghhBBCPBAlfQghhBBCCCGEEEI8ECV9CCGEEEIIIYQQQjwQJX0IIYQQQgghhBBCPBAlfQghhBBCCCGEEOIRVq5cGREXF5c8ZsyY5BUrVkQAwMmTJ1WTJk2KMxqNKZMmTYpraGhQAYAsy3jwwQdHGAyGlPj4+KRvvvnGz7Gew4cPaydPnhw3atSo5NGjRyeXlZVpAeDOO+80JiQkJMXHxydlZGSMam1tFQDg1VdfDY+Pj09KTExMuuKKKxJ2796t671fhw8f1vr5+U3IysqKdCyLiYlJdbwnJSVl7GDHM9Q+OoOSPoQQQgghhBBCCLns7dy5U7d+/frwPXv2lJSUlBzasmVLSFFRkU92dvbwqVOntldWVh6cOnVqe1ZWVhQAfPjhh8FHjx7VVVRUHFy7dm3lr371K4NjXffee+/IpUuXnjx69OihPXv2lERHR9sA4O23364uKysrLi8vL46NjbW+8sorEQDw0EMPNZaXlxeXlpYWP/nkk3VPPPHEiN779thjj42YMmVKa/99LiwsLC8tLS0+ePBgyWDHNNQ+OkN9Ln9MCCGEEEIIIYQQ8lNUVFTkm56ebg4MDJQBYPLkye15eXkhW7ZsCSksLCwDgEWLFjVOmTIlAUDtJ598EnLvvfc2CoKAG264oaOtrU1dWVmpOXXqlEqSJMyaNasNAIKDg2XHNvR6vQwoLXC6uroExlif5QBgNptVjuUA8Le//S3EZDJ1+/v79/yNs860j0ajUXTm/dTShxBCCCGEEEIIIZdKsCxjBIDgC13R+PHju3bs2BFYV1enam9vF7Zu3RpcXV2tbWxsVDuSJEajUWxqalIDwIkTJzQmk8nqeP/w4cOtlZWVmuLiYl1QUJB00003jR47dmzSokWLYm02W8925syZYwoPDx935MgR3TPPPFPvWP7SSy+FjxgxIiU7Ozv2D3/4QxUAtLW1Ca+99lrUq6++enywfb7hhhvikpOTx65evXrYYP9/pn10NiaU9CGEEEIIIYQQQsilECyKGFVRgQhRxChcYOInPT3dsnjx4rpp06bFX3/99XFJSUmdavWZOzhxzgcsY4zBZrOxXbt2BbzxxhvVBw4cKK6oqPB56623epIy+fn5FSdPntwfFxdnee+990Idy5999tmG6urqg8uXL6/Jzs4eDgBLly6Nfuyxx072bi3k8O2335YWFxeX/Otf/zr8pz/9KeLzzz8PcHYfnUVJH0IIIYQQQgghhFx0soyg6moINTVAdTUEWUbQha5zyZIlp4qLi0t27dpVptfrpbi4OEtYWJjN0TqmsrJSo9frbQAQHR0tVlRUaB3vPXHihNZgMIgGg8E6duzYrqSkJKtGo8GMGTOa9+zZ02cAZbVajbvvvrtp06ZNoejn4Ycfbtq6dWsIAOzevds/Ozs7NiYmJvVPf/pTxJo1a4b/9re/DQcAk8kkAkBMTIzt1ltvbdm+fbt//3WdaR+djQclfQghhBBCCCGEEHLRCQLaRoyAHBsLjBgBWRDQdqHrrK2tVQPKbFkFBQUhCxYsaJo+fXrLunXrwgBg3bp1YRkZGS0AMGPGjJb3338/TJZl/Pvf//YPDAyUjEajOGXKlI7W1lbV8ePH1QCwbdu2oKSkpC5ZlnHw4EEfQBnT55NPPgmJi4uzAEBRUZGPYx/y8vKCjUZjNwDs3r27rLa2tqi2trbo4Ycfrl+8ePGJ5557rqGtrU1obm4WAKUL2LZt24LS0tK6+h/PmfbR2XjQQM6EEEIIIYQQQgi5FFo1Ghw1mRBkT/gMmN3qXM2YMWN0S0uLWq1W8zfeeKMqPDxcysnJOTFr1qzRRqNxWHR0tHXTpk0/AsCdd97ZWlBQEGw0GlN8fX3lP//5zxWA0orn5Zdfrpk6dWo8AKSmpnYuWbLkFOcc999//0iz2SxwztnYsWM7//KXv1QCwO9+97uI//znP0FqtZoHBwfb/vKXvxwbaj9ramrUs2bNGgMAkiSxO+64o3HOnDltgDL9OwA89dRTDWfaR2exwfqHEUIIIYQQQgghhJyL/fv3V4wbN+7Upd4Pb7V///5h48aNM/VeRt27CCGEEEIIIYQQQjwQJX0IIYQQQgghhBBCPBAlfQghhBBCCCGEEEI8ECV9CCGEEEIIIYQQQjwQJX0IIYQQQgghhBBCPBAlfQghhBBCCCGEEEI8ECV9CCGEEEIIIYQQ4hFWrlwZERcXlzxmzJjkFStWRADAyZMnVZMmTYozGo0pkyZNimtoaFABwN69e3Xjx49P1Gq16VlZWZG915Ofnx9kMplSDAZDynPPPRflWP7pp58GJiUljY2Li0uePXu2SRRFAEBDQ4PqxhtvHB0fH5+Umpo6dufOnTrHe+bOnWvS6/Xj4uLikvvv76pVqyJMJlPKmDFjkh955JHYwY7pTPviDEr6EEIIIYQQQgghX1g/LgAAIABJREFU5LK3c+dO3fr168P37NlTUlJScmjLli0hRUVFPtnZ2cOnTp3aXllZeXDq1KntWVlZUQAQERFhW7NmTdWiRYtO9l6PzWbDkiVLDJs3by4vLy8/9NFHH+l3796tkyQJCxcuHLlhw4ajhw8fPmQwGKy///3vhwHACy+8MDwtLa2zvLy8eP369ccef/xxg2N98+fPP/Xpp58e7r+/n332WWBBQUFISUnJoSNHjhxatmxZXf+/OdO+OBsTtyZ9GGNGxtjP7f/2ZYwFunN7hBBCCCGEEEII8U5FRUW+6enp5sDAQFmj0WDy5MnteXl5IVu2bAlZtGhRIwAsWrSo8fPPPw8FgJiYGNuUKVM6NRoN772er776yt9oNHYnJSVZdTodnz17dlN+fn7IyZMn1VqtVk5LS+sGgIyMjLZNmzaFAEBZWZnupptuageACRMmWGpqarTV1dVqALj55pvN4eHhtv77u3bt2vCnnnrqhK+vL3fsT/+/OdO+OBsTtyV9GGMPA8gHsM6+KBbAJndtjxBCCCGEEEIIIZedYHA+AkDwha5o/PjxXTt27Aisq6tTtbe3C1u3bg2urq7WNjY2qo1GowgARqNRbGpqUg+1nurqam1MTIzV8XtsbKy1trZWGxUVZbPZbOzrr7/2A4C8vLzQEydOaAEgJSWl68MPPwwBgG3btvmdOHHCp6KiQjvUdo4ePaorLCwMTEtLS7zqqqsSCgsL/ZzdF2djMuSBXqBfA7gawA4A4JwfZoxFuHF7hBBCCCGEEEIIuXwEg/NR4FwAMAyMHQXQer4rS09PtyxevLhu2rRp8X5+fnJSUlKnWn3uaQ/O+YBljDEuCALWr19/dMmSJSOsVqtw/fXXt6pUKgDAihUrTixcuNCQmJiYlJiY2JWYmNipVqsHrqgXSZJYc3Ozat++faWFhYV+99xzz+jq6uoiQTjdPudM++Lssbgz6dPNObcyxgAAjDE1AKd3jBBCCCGEEEIIIR6M8yB7wgf2n0Fg7LyTPgCwZMmSU0uWLDkFAI899lhMbGysNSwszFZZWakxGo1iZWWlRq/XD+hG1ZvBYOjTmqampkYbHR0tAsDPf/7zjt27d5cBwMaNG4OOHDmiAwC9Xi/n5+dXAIAsyxgxYkRqQkJC91DbiYqKss6ZM6dFEARcf/31nYIg8Lq6OnV0dHTP/g21L85w55g+hYyx5wD4MsZuBPAhgM/cuD1CCCGEEEIIIYRcLhhrA2Oy/d8yGGu70FXW1taqAeDw4cPagoKCkAULFjRNnz69Zd26dWEAsG7durCMjIyWodYxZcqUjoqKCl1paanWYrGwjRs36u+4446W3uvv6upiubm5UY888kgDAJw6dUplsVgYALz++uvDrr766na9Xi8PtZ3bb7+95YsvvggEgAMHDviIoihERUX1SUgNtS/OcGdLn2cALABQBGARgM0A/uzG7RFCCCGEEEIIIeTy0Wrv0hVkT/hcUCsfAJgxY8bolpYWtVqt5m+88UZVeHi4lJOTc2LWrFmjjUbjsOjoaOumTZt+BICqqir1VVddldTR0aFijPF169ZFlpSUHNTr9fJrr71WlZGRES9JEu65555TV155pQUAVqxYEbV169ZgWZbZ/Pnz62fMmNEOAPv27dMtWLBgpCAIPC4uzvL+++9XOPbp9ttvH/n9998HNjc3qyMjI9OeeeaZ40uWLDn1+OOPn5o3b54pLi4uWaPRyO+8884xQRBQUVGheeCBB4yFhYVHNBoNzrQvzmCD9Q9zFcaYLwAD57zMbRshhBBCCCGEEELIJbd///6KcePGnbrU++Gt9u/fP2zcuHGm3svcOXvXDAD7AGyx/z6eMfapu7ZHCCGEEEIIIYQQQk5z55g+2VBm72oBAM75PgAmN26PEEIIIYQQQgghhNi5M+lj45yfc388xlgFY6yIMbaPMbbLvkzPGNvKGDts/xlqX84YY28yxo4wxg4wxtJ7recB+98fZow94My2MzIyOJQZxi7Vy+P8BGJKcaWYOoVi6h4UV9ejmLreTyCmFFeKqVN+AjGluFJMnfITiCnFlWJK7NyZ9DnIGLsHgIoxFscYewvAd06+93rO+XjO+ZX2358B8G/OeRyAf9t/B4CbAcTZXwsBrAWUJBGUlkYTobQ2ynYkioZy6tTAroe2ISdyI2fTO6YUS9ehsup6g8XU3bzhM3NVXL0hVs6imLregJhyDsiy8pOcN6oDuN6Zvv8U3wvTP64UzwtHdVX3oPMqOR/uTPr8BkAygG4Af4cyCvcT57muXwD4q/3ffwUws9fy9VzxPYAQxthwANMBbOWcN3HOmwFsBZBxrhttaQHefVf5SS4MxdK9KL6XH/rMnEexcj2KqZMo6eMSVN7ci+LrWhRP96C4uhbFk5wLlyd9GGN/s//zYc7585zzq+yvFzjnzkwrxgH8izG2mzG20L4sknN+AgDsPyPsy2MAVPd6b4192ZmWO81mA/LyTr/clkkVRTet+KfDZgO+/x6I0Iv4/nvKSrvaWcuqF5Sxi8ZFsbxo5xcPIFuV8wbF6gL0K7dU/s7OMbOpTEmfC+Yob9XVQE2FCEm61HvkWdz6ffbC+gPVWd2D4upaFE9yrtzR0ucKxpgRwHzGWKh9PJ6elxPvn8w5T4fSdevXjLGfDfG3bJBlfIjlA1fA2ELG2C7G2K6Ghoae5Wo1MG/e6Zda7cSenyuzGfzAAcBsdsPKL53+MVWrgenXmjFz1AFMv9bsnlh6gXMtq9xqVcrWn/9MjwHO4EwxBezx662lxWWxvCjnl0toqLgCg8T2TFpaILz7Z0yf2IKnnvLMWDnrvGM6SLn19PLnrKFiumt3LQCgq9P7bnov1GB1gHvvBZY/ZUaydACqLs+q81wMQ5VVR3zXrLbi3ntd+H124TXvp2qwuKrVwPSJLZh1Srn2XGg8nb7eeYih6qpDxdXb4nSu6N7q3K1cuTIiLi4uecyYMckrVqyIAICTJ0+qJk2aFGc0GlMmTZoU19DQoAKAvXv36saPH5+o1WrTs7KyInuvJyYmJjU+Pj4pMTExKSUlZaxj+ZNPPhkdERGRlpiYmJSYmJiUl5cXDAAWi4XNmTPHFB8fn5SQkJD0j3/8I7D/vk2bNm1MXFxccu9lq1atijCZTCljxoxJfuSRR2IHO6b8/Pwgk8mUYjAYUp577rmoc4mHO5I+b0OZpj0RwO5+r11nezPn/Lj9Zz2Aj6GMyXPS3m0L9p/19j+vATCi19tjARwfYvlg23uHc34l5/zK8PDwPv8XEgIsWKD8dDmbDVJ7O5rz8iC1t3tUinZATG02yPZjlT3sWC+mcymrUkMDml94QSlbVVXABx945RO7szlTTHvi56iwiKISQ8fLBbF06/nlEhuqrA6I7Zn0ijnb8AFumiZ6ZKycdV4xHaLcenL5c9ZQMe3uloDGRrC2c56PwusNFtcAnQ2swzPrPBfDUGUVAHy7GhCz4QX4dp3lvOosN1zzfooGjasogm04fe25kGN3+nrnQc5YVoeIqzfG6VzRvdW52blzp279+vXhe/bsKSkpKTm0ZcuWkKKiIp/s7OzhU6dOba+srDw4derU9qysrCgAiIiIsK1Zs6Zq0aJFJwdbX2FhYXlpaWnxwYMHS3ovf+SRR06WlpYWl5aWFs+bN68VAF5//fVhAFBeXl785Zdflj/99NOxUq8mrn/9619D/P39+7R5/eyzzwILCgpCSkpKDh05cuTQsmXL6vrvg81mw5IlSwybN28uLy8vP/TRRx/pd+/erXM2Ji5P+nDO3+ScjwXwHud8FOd8ZK/XKMffDTawMmPMnzEW6Pg3gJsAHATwKYAH7H/2AIBP7P/+FMD99lm8/gtAq7371z8B3GRvaRRqX88/z+d43JU55bKM7uJi+M2Zg+7iYnBZds+GfgK86VgvJbVaeVLCrVa05uaiNTcX3cXFkDMzgQcfBDSaS72Ll4Xe8WvNzQW32SBLkhLDu+9WXoPE8nyeUnnbk5kBsT1DzLjVqsT4wQch//3vwIMPQtBS+R3MkDHVaE6X2UHKrVoNyBZLz3pIP0VF8Cs7dKn3wiNwKGVNCApC6+uvUz3AhZw9r54TjQaYPx/ypk3A/PneVX9w0bG75XO5nJ0hrhSn80P3VkMrKiryTU9PNwcGBsoajQaTJ09uz8vLC9myZUvIokWLGgFg0aJFjZ9//nkoAMTExNimTJnSqdFoLrhPd3Fxse+0adPaHOsNCgqSvv76az8AaG1tFd58883I5cuXn+j9nrVr14Y/9dRTJ3x9fbnjff3X+9VXX/kbjcbupKQkq06n47Nnz27Kz893+tGd2wZy5pw/epY/+fcgyyIBfMMY2w/gBwAFnPMtAF4GcCNj7DCAG+2/A8BmAEcBHAHwJwC/sm+7CcBKADvtrxX2ZT8ZTKuFT2oqOvPz4ZOaCqbVXupdchtvOtZLiTc0AC+8AHR1ITgzE5FffAGf1FS0vPyy8mSVOIVptQjOzFRe2dmQm5rQkpWlxHDhwkGbRjhiz+kp1ZD6xDYzc9BzQU8sOzogtbej5c03qfwO4awxDQkBHnpo0HIr1dcrZbu+HvjPf6j8EreRm5rQvnYtAhcuRHB2NtUDXMiZ8+r5kFpblfpDq/e1dnPFsbvrc7mcDRZXitP58dB7q2DI8ggAwRe6ovHjx3ft2LEjsK6uTtXe3i5s3bo1uLq6WtvY2Kg2Go0iABiNRrGpqcmpx6833HBDXHJy8tjVq1cP67383XffjYiPj0+aO3euydFVbNy4cZ2fffZZiCiKKC0t1R48eNCvsrJSCwBPPvlkzOLFi08GBAT0ydIdPXpUV1hYGJiWlpZ41VVXJRQWFvr134fq6mptTExMT1Y0NjbWWltb6/QHfymfMw8Yd4dzfhTAuEGWNwK4YZDlHMCvB1s55/w9AO9d+G66h9zVhdbVq9GamwsACMnJgeDre4n3yj286VgvFW61Arm5yguAsGoVdJMmoSU7+3TcV6yAoHO6FaBXU4WHI/TFF8FlGS29y+6KFRBUqj5/2z/2/MUXPeXi6xaO2A6a8OkVS/7oo2hdu5bKrxOGiimAQZ9UyxZL3/PynDlgublUfu3YYCMDkvMyWB2AuNZZzwHnyJvrba48dld/LpezoeJKcTp3HvgdDYbVOgpVVQIMhmHQao9Cmfn7vKSnp1sWL15cN23atHg/Pz85KSmpU32ezeu//fbbUpPJJNbW1qqnTZsWn5ycbLn55pvNS5YsqX/11VePM8bwxBNPxPzqV78a8eGHH1YsXrz4VElJiW9qampSTExMd3p6ulmtVuO7777zPXbsmM+7775bXVZW1qewS5LEmpubVfv27SstLCz0u+eee0ZXV1cXCcLp9jl8kIklGGNOt0y6lEkfr54SQ/D1RfDSpQCA4KVLL/cv6pC86VgvCVEE02rBMzOV3zMzwTQaMI2mb9zphvmcMK0WDDhrDAfE3lFpEUXvahJ/DvpU7CwWwB7X3rFkERGDx57iOqgzxbRHv7gJOl2f+LKior7l18vRpF2uQ3WAi4O5sHuHN39mrj52OqcqzhZXitO58bjvqCwHoapKQFUVAAgYNSoIgnBBzQyXLFlyasmSJacA4LHHHouJjY21hoWF2SorKzVGo1GsrKzU6PX6sw6GZDKZREDpcnXrrbe2bN++3f/mm282jxgxoue9jz32WMNtt90WBwAajQbvvvtuzyziEyZMSBw7dqzliy++CDx48KBfTExMqs1mY01NTeqrr7464YcffiiLioqyzpkzp0UQBFx//fWdgiDwuro6dXR0dM82DAZDn5Y9NTU12ujoaKcHHXNb9y5ydqrgYIQ88wxUwRfciu0nz5uO9aLqNbsGCw8Hli0D27ULaG4GAKgiIhCyYgVUERGXeEcvX6qICIRkZUFVXd0T1/5YeDjw4ovKT8ArZj1xieZm4H/+p09ce2Lp7z+w/FJcz26QmJ4pbn3ie911p8svIS7Wpw7Q1XWpd8fzDPa9v0DeXG/z5mN3J4qra3lUPAWhDQaDDIMBMBhkCELbha6ytrZWDQCHDx/WFhQUhCxYsKBp+vTpLevWrQsDgHXr1oVlZGQMWaFsa2sTmpubBce/t23bFpSWltYFAJWVlT1P0jZs2BCSkJDQBQDt7e1CW1ubAAAff/xxkEql4ldccYXl6aefbqivrz9QW1tb9PXXX5eaTKbuH374oQwAbr/99pYvvvgiEAAOHDjgI4qiEBUV1SchNWXKlI6KigpdaWmp1mKxsI0bN+rvuOMOpyvElzLp492Npy0W4L33IMycCbz3nvK7p/KmY72Y+s+uYbGA/e//Ai+9BGzY0BNnauFzgSwWCH/7G7BkSZ+49tenhY8XzHpywSwWJZ4ffDAgrr2f+PVp4UNxHdpgMT1L3IRerawIcYv+dYCWFvr+utIQ59LzJop9PzNv+ryozuoeFFfX8rx4tkKrPYpRo+ovtGuXw4wZM0aPHj06+bbbbhvzxhtvVIWHh0s5OTkntm3bFmQ0GlO2bdsWlJOTcwIAqqqq1JGRkWnvvPNO5Ouvvz48MjIyrampSaipqVH/13/9V2JCQkJSenr62Jtuuqllzpw5bQCwePHi2Pj4+KT4+PikwsLCoD/84Q/VAHD8+HF1Wlpa0qhRo5Jzc3Oj/v73vx87274+/vjjp44dO+YTFxeXfNddd4165513jgmCgIqKCs2UKVPGAEoLotdee60qIyMjPi4uLnnmzJlNV155pdMfvMu7dzHG9EP9f68BlQeM0eNVdDrgrruUf99118Cm+J7Em471YnLMzAMoPynO7nGuce3/uVBXpMFRXF3vTDGluJ0zGtPHhQYrl1QOXccd135vPt9SXco9KK6u5ZnxbL3QLl297d69u6z/sqioKGn79u3l/ZcbDAbbyZMnD/RfrtfrrWVlZcWDrX/Tpk2DJnMSEhKsFRUVB4fat4SEBOvhw4d7pgfV6XT8k08+GbA+k8kkFhYWHnH8Pm/evFbH1PDnyh1j+uyGMl7PYFUmDmAU0Cf5471CQyE/8AAEvwEDdHsebzrWiykkBHj4YXBJUsb2CQ0F/t//U07+Zxj7hFut9FT/HHCr9XRcNRpAksBFEcx+gR00no4Zk7yponw+esfVriee9vLLrVaAMTCNhuLqjNBQ8Acf7CmT3GoFCwlRll3uff4vIhrTx8VCQ5VrlSgq32U7uh65SO9rv6uEhHhvvc1xHvX1HVCXOtcyS2W8l95x7Ue2WAa2TKcx/IYWGgr+wANgF+E7SuX48ufy7l2c85Gc81H2n/1fo1y9vcuZVF+PluXLlelyPZw3HevFxpubgWXLgPp68NZW4NAhpV//IGN4SA0NaH7hBUg0NbNT+sTLZgP27QNvbASyssAbGpR4956qvbv79JuponJ2ZrPyeucdwGw+PV17QwNw4EBP/GVH2QYormfBGxqA7Gxws/l0+a2vB/LyaEr2cyHLQHl53+80uSC8qUkpm01NQHc3XY9czcXN07y53tZzHm1oAL74oqcu1eca5QQq4331iWsvUn09WrKy+pY1GsPvrHh9PbB8ufLTjagcewa3junDGAtljF3NGPuZ4+XO7V1O5M7Onqn2WlevhtzZeal3yW286VgvNm6xnJ4ufM0aoKICPCzsdP/+7dsBqxWw2cCtVuUzsL+41Xqpd/8nbUC8urrAR48GVq8+HfO9e09PMd7ervSrduFAmh5NFIHDh4EPPwQ++AC8rAwoKACiooCCAsjR0afjv2YN+N69VGbPoud8UFoK3tR0On6rVys32rm5yt+Qs/I9Xg0cPw6UDWgdTs4D7+o6fe5cvRoyXY9cq7nZpdcfb663cYulz7WIjx0LbN/et77lRJmlOldfA+JqvxbJFkvfsuYYi277dkCvV35605hSTup/TuVuGiCfyrHncNuU7YyxhwAsBhALYB+A/wKwHcA0d23THaxWwB2t2QQfHwTbpyYOzsyE4OPj+o38RFzsY3XXZ/ZTxHS609OFP/004OurPO178EHgxhuBmBjwoiKwuDhlCvdenwM10xyajWlPx2vpUiAwULkJfO455Q8yMwE/P2DbNmDCBLBvvlESbQAwfz7gwd9pl2BMqUwnJoJdfTVYSgr4iBFKJea++yAEB5+ejnTxYjB/fyqzZ8MYkJ2tDOr+2Wen45eZCXbgAHD33WA2+2QQ1Gx+SE2NZ53FlTjLZlNaTj37LHDvvcCYMRBaW+l65Crd3cD33ys3yN9/D0ybdsHXH8HPr2+9zYu6eDG1GnzmTGDfPmDiRGW2ualT+9a3nCizTKulMt5Ln7iOHw+mVm5BBZ2u79Tjji5e110HXlYGlpDQ09Xb22PYG9NqwbOzgUcfBSIi3BYbKseew50tfRYDuApAJef8egATAFxW7cJaWpQZMN3RspBzDiEkBCFZWRBCQsA9eACBi3msZjNQXizCbHbbJn56AgOBX/5S+XdXF/iOHUomPjoasiwDYWHgsgy0tEAVGorQF1+Eqv/UzPQUpQ9JAgRrJ6DXI2T5cgjBwcqJ4O23laxiTg5YayvQ2Qls3qwsu+46ZcDLu+6ihM9ZyJ2dyjhUWVlAUxP4mDHggqDE0vHUqqpKKa+ZmRCam8G2b6euNkOQRRHcZgOOHFFuskNCIJw4gZDnn4dQUACkpoKVlAD/+Q81m3cCo5GcXYbLMqDTgWu1QFAQ0NIC7u8PlSAgdMWKgdcjcm58fICbboJ8223ATTe55PrDbTYIvr4IefRRCL6+yrnFS/TUUUNDlTH8DhwA7+4GbDawXbuA9HTlpxP1JlV4OEKWLx+8jHtZvat/3b/nd1GEKiAAIdnZUAUEKHGx2cDNZqVbckfH0F3pvRTnHFCrwfV65acb7626fMNRe9eL6PKlc/XlzJ1JHwvn3AIAjDEfznkpgAQ3bs+lLBaOvDz0vFzemo0xyDYbZIsFss3m2VOFXKRjFUXAx9KClO1/ho+lxTuup6II1tQEmEzA8eOQLRa0bN4MWaOBJAiQWlshDxsG+PiAh4YCajXE/l97ugHsQ5IAdJkh1Z9UvvidncpUmFu29CQk0N0NPnx436beWq3Swic09FIfwk+aZDZDammBzDnw2GNKt8S9e5WM7axZSqZ98WIgIkJpsZKfDxYVpSTVKJk2KEkUwa1WiEeOQB4+XCmzISGAyQS2apUywOvq1eBXXw1MmTLkFO5EIbi187uXUakgd3Up16PhwwF/f2DvXnC1us+gzuQ8SRIkq1WJsdVqv4hd+DrR2gq2di3Q2uqadV5OtFrIBgNklUqpU3V1KcnLa64Ba24GrrnGqZaSZxwXqasLOHVK+elNtFrIKSl9m+NrNJDMZrTk5EAym5VWPbIMbNkCHhUFfP754F3pvb3OyhhkWYYsisoDXjfdW1mtwDffKL3xv/nGDffD5KJxZ7WmhjEWAmATgK2MsU8AHHfj9lymoaED3377Ix58kGPTJqWnjKtbs3HOIZnNqHz1VUhms8e39LkYx6qBCM2Hyo2M5sMPoIEX3MxoNODDhoGrVOBjx4L7+yPwN79RLqLt7ah64w1IXV2QNRqAc0hWESdrmiFarMq9nigqN35VVZB//FFpIeDlmCxC6uxE9dq1SnnVaiH7+ECeNw/82DFg6VJg0yYlVs8/r3TvevZZMKuVkhJnIYsipK4upVy2t0OOigJ++1vg2mshd3Up41HMmAG0twO7doHX1SnJyp07KbZnwCUJUksLKnJywKKjgeBgyCNGAOHhQFOT0prqf/5HKbcajRLHu+8+/aKb7sFxhu//+U8Uf/31pd6Tyx6X5b7fe39/YPJkZQw6WaYxIi6Q3K+OJbuijsU5oNdDzs5Wuo15cB11AMYgdnSg4qWXIJnNCJg/H53//KdSdw0MhHT//UoL67OQu7r6jlXjSPBIkvIgadMm5ae3JNQccX31VYgdHT1JCrmzE7YTJxD4m9/AduKEMn6USgV51ix0p6dDnjVLOV9s2wY8/zyY1Qp+993Kww0vPndcrHsrrRa48ZpWZER+hxuvab2shs9YuXJlRFxcXPKYMWOSV6xYEQEA27dv9x0/fnxifHx80rRp08Y0NTUJAFBXV6eaOHFivJ+f34T777/f0Hs9//nPf/zi4+OTDAZDyoMPPjhCluU+28nKyopkjF1x4sQJNQAsW7YsMjExMSkxMTEpLi4uWaVSXXHy5EnVkSNHNBMnTowfNWpU8pgxY5JXrlwZ4VjHokWLYkeOHJkcHx+fdOONN44+deqUarBjys/PDzKZTCkGgyHlueeeizqXeLgt6cM5n8U5b+GcLwewDMC7AH7hru25itVqw/HjrbjuupFQq4GAAA61G0Y+4pIEm9kMwzPPwGY2K10dPNRFO1aNBnzhQsiffw6+cKF33Mx0dSlP99raIHd1oWHTJmV6cSgtKlRBQajOzVWax2q1ELo6EVt1COquDqDDDAkC5Icegu3559HS0gJrr0EgvbUiziUJ5qIixDz+OMAYbF1dShNvmw1SSAhkX1/gF79QroRWq9IlSRSVAV+p1cSQuCyjsaAAQddcA2tdHSDLypMqmw2dDQ2QQkOVcZK+/x7ylVcqLdj27AG/8krv+D6fB1kUYT5wAOFz5sB84ABsTU3gFgvkhASli+ePP0KeNw+ySqXMkGY2K62AHnpI+UkGJagYSn74ATs+/vhS78plj0tSTxntPn4csNmU731srHLj1tzc023DapXPsjIvSj44idtsfc4BLumKpdFAVqnAbTbl3OFF519ZklCdm4uq3Fw0FhRAZTDA7667ALUaNosF1vp62JxI1gi+vgjOycGIhgYE5+RAcExTbh/jSrrvPmWsKy952NY7rtW5uZDt8RN8fKBOSAD39YU6IQGCj49yn+DjA01KitJS3VHXslrBfXwg79sH7ucHqAa9L/YKXJLQffw4Yn7zG3QfP+62eysuiuCCAGY0ggsC+GXg15VcAAAgAElEQVRSz925c6du/fr14Xv27CkpKSk5tGXLlpCioiKfhx9+2LRq1aqa8vLy4hkzZjTn5OREAYCfnx9fsWLF8eXLl9f0X9evfvUr4x//+MfKioqKg0ePHtXl5+cHOf7vyJEjmi+//DJo+PDhPTdNK1euPFlaWlpcWlpanJOTU3PVVVe1R0ZGShqNBq+99lrN0aNHD+3cubPk3Xffjdi9e7cOAKZPn95WXl5+qLy8vHjMmDGWZcuWDUjo2Gw2LFmyxLB58+by8vLyQx999JHe8X5nuC3pwxj7m+PfnPNCzvmnAN5z1/ZcRatVw2SKhEolQBAAARyCwF2fiFer4WMwAD4+yk93ZJZ+Ki7SscqSBLmxES05OZAbG3suKB5LFCF3d4OrVBCCg8H8/BB+551g9gvk8bVrEb1oEUyrVkGyWJTudTod5IkTgYAAqKVuQBIhd3aiIT8fAampMB84oKyzqwu8sRG8o6NnW95AFAFoNAiePBmaYcMg+PtDHRIC6HToOnoU3GpVXj4+yhO6ggKl+fHmzeD2wQbJ4CQJAOeIuPdehGZkwDcxURnMmXPUb9gAn+HD0fDxxxDb2mC7/XZUrFoFsbkZKC11aqYUbyRJ6CmvfqmpCJ4yBaqQEDBfX8Bmg9jWhor334etqQkyABtjQFWVMmtKr7JKsR1I9vDLx0VlL6P+48bBNyFB6TvHGBAQAFmrBYYNAxdFSKINP5Z0oLVVgigO8gFwfvpFTtNoEHzdddAlJCD4uutcch2SAUClAlerlVYXF7zGy4haDdNLL+E6sxkRv/wl2n74QakXAZA7OnB87VrIHR2Q+j3tl/rNjMhtNsjd3Wg/eFB5vyO54+MDqyyjYuVKWGXZe1qx9oqr6aWXeu4FJM4htbWh+tVXIbW1QeJcKXO9YgedDvIzzwCyDLGzExWbN0PsHVNvpFbDLyUFar0efikpbru34owBggAOKD8vk+FIioqKfNPT082BgYGyRqPB5MmT2/Py8kIqKip0N998sxkAbrvttrZ//OMfoQAQFBQkT58+3azT6fp8sSsrKzVms1n4+c9/3iEIAu69997GTZs29Yzj8Nhjj43Izc2tOdM4gB988IF+7ty5TQBgNBrFa6+9thMAQkND5dGjR3dVVVVpAWD27NltGvu5+5prrumora0d0Kbqq6++8jcajd1JSUlWnU7HZ8+e3ZSfn+/00zt3du9K7v0LY0wF4Ao3bs8lRFFCQIC9TsI5wBiYLEMQXFjJsN9Ac3tXh8sla3ohLsqxWq1AWBiCsrOBsDDPb/ap0YD7+ys3eFotpK4u1G/fDmtLC5hGA9NLL0Hw9wcEAergYKVQCwKk7m4lQRYSArm7G10VFQifPRvmoiIETZwIplZDlmVY6+uVwWFFEais9Ir+0xo1B2QZHErTWWtLi9Jf2mKBX0oKOOfKLFI+PuA6HeRZs9BSVwf5llvAAgLo5nkoklW5GREEpb8+Y7C2tGDvsmUIvfVWNG7eDHVwMKpXr4a5qEh5Grh6NeQnn3RqppTevOVzYMx+A2y/iZa7u3EsLw/WxkZAo+l5qlqzZg3MRUVKUnfUKDDd6QdDvKGh7wCZBACg4pT1cRl7GeWyDGtzs3JOtb9s3d2QbTZlLJpuCxKDTiFANqPlVCdaW6191+FI9lDiZwBZFNHd1ATZhXUs2WKBpb5emULby8gWC7rsxx503XXK7GVWK2wdHYh95hnYOjr6tNCx1tejIisLYmsrJHs3LlmSIAQGIvCqqyAEBvY8iJS6u2E+cADD7C2zJC8alLh3XAH7kEaiCM45DC+8oHRREkVwSYKg0yFgwgQIOh24JKHtwAHIwcGwmc2IeughmA8e9K5k5GBkWYmZ7L5IcM4hdnTg0Nq1EDs63D0cSTBsthEAgi90RePHj+/asWNHYF1dnaq9vV3YunVrcHV1tTYuLq7r73//ewgA/O///q++rq5uyMplZWWlZvjw4T0nVqPRaD1x4oQGAN5///3g4cOHi9dcc82gg3O1t7cLX3/9dfB9993X3P//ysrKtMXFxX5TpkwZMPXQX/7yl2EZGRmt/ZdXV1drY2Jiei6MsbGx1sGSQ2fi8qQPY+xZxlg7gDTGWBtjrN3+ez2AT1y9PVcTBKCxkUOW7dlNWVYqF676Qjlan3AOLkkQ29uVJnmeXIG5WMfa/6bwcup4er4EAZBlWBsbcWrHDoRPnAitXg8IAmSLBfXbt0NsagJUKjB70odpND1PAiWrFaXvvw9bdzeCp0wB8/WFDChPtIKCIDMGLgiQoqOVeHp6gtKeqeeSBNlmg+XUKaXyoVZDtligCgyErbkZssWCjrw8cLMZYmmp0l+//+wSpC9H/32LBe1HjkDq6IAmKAitpaUoys1F+Ny5CJkyBYbnn0fAhAkwZGZiRGYmhMmTwcLDnS57UkMDml94AZIXfA6cMyXZI0mQRREVH36I2FtvRXNREbjVCsNzz8GQmYnYxYsRkJqKgNRUCFptz8wn3GrtOxi5lyTLnNPrqd2XX1663fAgss2GluJiSF1dYIIAplZDslhga28H9/NDxYoVEAMCwDUqtL2+ErruVkj2QYrB2OknzIx59uQX56p/ncoVdSxZVrqNVVYqrSnceFP5kyPLEDQa+Oj1EDQa5dgFAdBqwQICcODll8ECAnrqmJLFgurVq9FRWgqmUsFaV6ckhdRqcIsFYn290rrS0RJDrYZfWhrK8/Phl5bm2S39exskrirZqgzuLAjY9+KLkO1xhkoFqNXKAzYAUKmgCQuD2N6OQ2+/DVVoKIKnTu2Z9t1byVYrLA0NkN147eaShJrNm+EbFYWazZvdORxJMDo6RuHLLyPQ0TEKF5j4SU9PtyxevLhu2rRp8ddff31cUlJSp1qtxnvvvVexdu3a8OTk5LHt7e2CRqMZ8oQ5WJKLMYb29nbhlVdeGb569eozjle8YcOG4CuuuMIcGRnZJ2itra3C7NmzR7/88svVer2+z8n16aefjlKpVPyRRx5pcnJfnD7huzzpwzl/iXMeCCCXcx7EOQ+0v8I458+6entDYYxlMMbKGGNHGGPPOPMeqxVYvfqU8uC010WOAa4bbM2e+BC0WujCw5VKuIcnfS7GsXIA3N7fmlss8OCIArAXR/tYM2JHB4ZNnIiGHTuUJA9jEHQ6RF57LdRBQUqlRa0GZFlJ/gDg3d2oLijAwdxcVBcU9Dx5EZuasDcnB1yrVWIKAIxB8vHx+O5LkqOPuVYLxhiCExN7ZpwT29sBQUBnWRnk9nZokpLQtXUrgp58EsGZmWAff0w3z0MRBMCeQAscPRoqnQ5MpcJ1f/0r0p57DlyWUfXyyxA0Glg+/him55+H5K9HR7fG6RnmuNWqDJppf3ny56A8ZJbARRGCveI76p57UFNQgIhJk8C0WkiiCNPKlVDr9RB8faHW6ZTr2nvvAc3NSuupzMye11CtqTw5loPp0AT0/Nvy2GOXcE88QK8ETeR11/XMNMNUKvgMGwZ1cDCEwEAYnn8ejQUFYIwhdulSSB1miE1N2PPCC7A0NEDsssEmM9gkSvj0J/j4QBcRAcFVXYU4B1OpEGA0gqlUnl1H7c/eKk0WRSXZ2OuBgzYoCOOzs6ENCupZLthbVidt2ADm6wtNRASYj09PDIXAwD4x5DYbqgsK4BsVheqCAu/potQrrtyeSBPETkCSoA0JwYTly6ENDT0db/t4f/XffAOxqQm6MWNQlJuLsCuuOP2AzrFuR2s0UVRu5Dz9ASUweHLSDZhGg1H33YeERYsw6r773Dfjos0WhG+/FfDNN8C33wqw2YLO/qahLVmy5FRxcXHJrl27yvR6vRQXF2eZMGGC5dtvvz186NChkgceeKBpxIgRQza1M5lMoqNlDwBUVlZqo6KixJKSEp+amhqftLS0pJiYmNSTJ09q09PTx1ZVVfVkIv/v//5Pf+edd/ZJ3nR3d7Nbb7119Ny5c5seeOCBPpXat956K+yf//xnyMaNG48Jg0whajAY+rTsqamp0UZHRztd2N05kPOzjLEZjLHV9tdt7trWYOzdyf4A4GYASQDuZowlne19Wi3w0kvh7t05e4sLyLKSMXU8RfBUF+tYOYckimitrIQkih5fSREgKS14tFpoAgJ6Wvpo7IOz8u5uQK1WuijZbOCiCGtzM/ZmZ0NsagJTqzHqnntwb1sbTPPm9SSMZFlG6jPPQLJaodLplAuwo++1p4+TBJyumNhs4DYbNMHB4JIEH70eTKXCkc2bIalUUIWHw++WW+CTng5BFIFbb3Xq5tnbyfYkpc1iAVQqdNTUQOXjAwgCRmRmAlYrOjduROuqVehqFVFxRHR6inGm1SI4M7Pn5cmfg1oN5aZCowG32cCtVshWK0b98pcATid1xcZGSK2tsP34I/iRI0pLtA8+ADZsALq7lVZUL76o/DwDb2o91aNX/VlsHtAym5wrR4tpzqENDla6EVutyrgnViuO5eXBZrUi4r77YDWbcWD1aggBAT0PJopyc8E6W4GmU6iuHjr/62X5yZ7ERE8Xele0gnKMu2Rfv0fXUQfBJUlpPSHL6Dp58nQXt16tdRw3vzKUiTMafvhB+TtH7BgDNBplAGeNpieeTK2Gae5cGGfNgmnuXK9qrdKn1T8A5u+vJNcEQWnFwFhPXMWWFuxfsQL6tDRlGWNIf/FFGOfMgcoxKDYAmM3KDJVmszLz57vvAm1tyu+erP930o3fUbG5Gftyctx7LVSr2zB5soxrrwUmT5ahVrdd6Cpra2vVAHD48GFtQUFByIIFC5ocyyRJQnZ29vAFCxbUD7UOo9Eo+vv7y//+97/9ZVnG+++/H/aLX/yi5eqrr+5qamraX1tbW1RbW1sUGRlp3bNnT4nBYLABQGNjo+qHH34IvOeee3quVrIs46677jLGx8dbli9ffrL3dvLz84PeeOONqM2bNx8JDAwcNIM3ZcqUjoqKCl1paanWYrGwjRs36u+44w6nx95w50DOLwFYDKDY/lpsX3axXA3gCOf8KOfcCmADnJw9rLGxV7JAkoCKCtdOqWi/abG2tmL/qlWwtg7otudxLsqxyjJsHR2o2bxZaVrr4c2RZUBJpokimg8cQGhqKvatWKGMmdDVhb3Ll8Pa2Aif0FBwmw1tZWU4uHp1TwWaS5LyuaxcCWtTE8KuuAIdx4+DCQKKXn4ZPqGhENvasDcrC2JLy+npRj2cbLFAbG3Fgd/+VmndA8Da1qbMQtfRcfoGJCwMnZs3K5WUoCCnbp69leMmzNrSgn05OWCMQRAEwGZD4MiRYFotBLUajQUFaNu3DyFr1yL4uedggxqmMZpzmmJcFR6O0BdfhMobPgfGlJZ52dmwWSxKqzT7eU/q7oZh5kxIZjOqf/c7qI1GMKMRLCxMieNdd/UMIHq2Fj7e0nqqN5vt9PXDs68kF0fvOgBTq5VkjyhCtlpxaudODL/+etQUFMBmNuPga6/1nGcNM2ciJTMTyYsXK91lOsyoq7YiLw9wzDPQW0MDsGyZ8tNrcA6xvR1Fr76qXLNcNGW7raMDpWvXKvUpD3+I1of92A+98Qasra1oP3q0JwbWxkbsy8lRxk1zkGWIZnNP3bNnXDXgjH/fJ7YeXlftMUiZkjo7Ieh0A+LEbTYU5eb2nAcEjQatZWWASjUwpocPKw8yDh8G8vKUf//f/ym/e/h4SdaWFuW86sYxN7ko9vks3Dg2ayv8/Y9i2rR6+PsfBXDBN4wzZswYPXr06OTbbrttzBtvvFEVHh4uvffee3qTyZQyevTolOHDh4uPP/54z5czJiYmddmyZSPy8/PDIiMj0xwzY/3xj3+sfOSRR0xGozHFZDJ1z50796z79v7774dcd911bUFBQT1f8K1btwZs2rQp7Jtvvgl0TOmel5cXDABPPvmkoaOjQzVt2rT4xMTEpHvuuccAABUVFZopU6aMAQD77F9VGRkZ8XFxcckzZ85suvLKK50edM2d6eVbAYznnMsAwBj7K4C9AC5WF68YANW9fq8BMLH/HzHGFgJYCAAGgwHd3Ur3rldeiVT+oKpKeQHAyJEXvleyDHz7Lfi11/bcgAPAhOXLlamKPUD/mPLu7otyrFySULxmzent5OS4fBuXUv+4orsbXJbBNBoMu/pq7F+5sufYEx99tOff455/Ho1798La0oKkxYsBAEmLF4PLMg7aT+QAEHvLLRh21VXYl5ODg7m5iL3lFtRs3txnnb6RkR5TToHBy6qlvh6la9f2Ka8qHx8wtRoqxpCSmYmUpUth3bkTfrNmKQM82qcN9eSWJeeif1y1gg22bmuf80Dio4/Cd/hwpTuCLKP7+HHob7wRZY8+Cv/ERJiysxEWqLaH1j7FuJPNij3xcxjw/YfSmqeo33c4fOJEMI0GzGoFU6vRXV2tjI3k46N0OQCA+fOdnjHG0XoKgMe1nhospg597nG95abMRc5WBxifnQ0mCFDpdABjOPS73yE4MRGpzz6Lrrq6nutU8uLFQEcHxtxyC470Oi+0lmlx553A998DkycDjnHJle75Si9bAFi50nOG9huyrFqtA+tYF9h6hIviwHV6YPfuQc+r/eJpmjMHB1evxoTlywety3KbrU/d0zcqaui/9/DYnqmsDlZOKz/+GCPvvHPA+UFQq/vUV0WzGT56PWSLZWDs4uKUBxmjRwMxMcrG5s1TvvweNDPapbq3Yoz1+SzONEuVi7RCrXZZ64Ddu3eX9V+2bNmy+mXLlg3auqe2trZosOU/+9nPOg8fPnxoqG31f+/jjz/e2DuhBADTp083c853D/b+qqqqg4MtN5lMYmFh4RHH7/PmzWudN2/eecXI3W0KQwA4+rJd8Ejc52iwUjngUQXn/B0A7wDAlVdeyf38VFi6dJi9F5IA5rgIGAxKn9wLpdEAkydD7eODlKVLAQApS5dC7UE30v1jynz8+hwr83HPsap9fZFivzlJycyEunfzTw/QP64qPz+lG5sgQOB8QHlyJCdUvr4ImzABlR9/DLW/P2JvuQXqgAAwtbonXkmLF0Pt7w9Bp+tZj378eIQmK5PwpWZmQuXr61HlFBgYU7WfH3QREf3Kqw/UarUyCLYkYUJ2NqQjR6BOS4Mq+GKf1i4P/eMKtRpqxvqWUX//Pn3DfaKjIVss8E9MxIjMTKj8/fuu1IMqxedjQEwBqP38kNrvO+xIyqj8/ABBQPC114EBYD697n7PsSLsaD3lSQkfYPCYOvhoT1/vu72kdZOrDHZe7f3dFxzlyJ5ZC078/+zde1xU1703/s/ae2YYwOGmEEDuwgCDAmJMauyTCvGcRBJN6tE20rSJtVqO6ZF64fg7CfEanz4t9mji09g+iTZNUlITm8SoaCVGEw+1GmNVLuIoCoKIXGVGYGb27Fm/P2bGAGIcZQYVvu/Xa14jmz1r7/V1sS/fWWvtJIxdsgSiSoXmf/wD0d//PsavWQNuMsH49dcYMW6c/biwbBmgVuN73+P4+98Zxo37JuED2O/xHJvBsmVDJ+EDfHtb7Rtfd5ynB+u67W672XG1Z93by8quXwv0F5Ne157LlqG+uBhjnnvuhvWd/y+e+P+6l9ysrfatN/PyQuSTT94QJ8HxR339etXXF4JSCcO5c/AOD+8dOy8v+5duP/2pfRTF118DP/6x/cAwxIbN3a17K9HLq9f/hTiEEmnDDfPUo9cYY3MA/B8AB2BPwDwK4CXO+fse2eCN258EYBXn/HHHz/8F2CeavtlnHnzwQX7s2DEA9ke3C4Jof1S7zeaehE8PNpMJXKkEN5nA1GowWYagUg252QkffPBBfvTvfwcXxb519dg2rV1dfU+iQzKuzrZ6fZ4dx9M2mCNBwc3m65MJgnN7ryBRBJck+82b1WrvLm+12gPU4wR5/bOOuZiYKELsfdM9tGPqmCPFGQPnvFTXK+14nKibDbmYAr3japNl2Mxme/tzzm8AAEyAIDie7mWxuPv4MOTiekNMJcn+7Zvzb5hzgClgs3ksVzakYwoAxZuP4spCe+fgCYKAVMccaR42JON6/RrAeV4BvulK5ZiPhgkCIIrgVisEQQAXFGDg4JIFUKrBzfbzusVihUqlgMnUO+HTk8XSK+EzJGPas63aLBaPXGPJMsDNXWBePujnEnjIx9V5Lel8l7u6AC+vm8a57/pWkwUKtaq/a9Je6/cw5GMK9K637HgYCVMoeh0fnP/mZrP9y6Ge17SO319P+PQkSf2d9IZkXO/yvdUtY3ry5MmatLS0Fo/tEPlWJ0+eHJWWlhbTc5knJ3J+H8B3AHzkeE0arISPw1cAEhhjsYwxFYBnAXzq6oeVShGiCEgSc3vCBwAEtRpyWxtqV6+G3Nbm0T/Uu01QqQa1rkPtW5NbEUXR/lIqofD2hqhUQhRF+0VKWxtqXnoJ8tWrUHh5QVQoYBO97et7ednX8/K6/m/nS+Hj802ZanXfhM+QJyoUsHV2oua//gvy1avXYyE4X+5P+AwLgija4/rSS5Db2iCKIgRRvJ7wATCkj4WeIIgibEYjal555XpMRYV9WNww+7N1L/mbJ+p022zA8eN3cWfub9evAVatgtzWBpvN0UYVCvv5Rq2GqFJdPx8JSiVEkUEQ7UPARPGb87pKZU+8fdsheLgdQjx1jSWKgE3Rb8JnWOjZMwew9578tjj3XV+hVvX6+WblDzc96+38m+95fOh5Darw8el1TdvzGrXfhjmMTnp0b0Vul8e+tmKM7eecP4YeiZYeyzyOc25ljP0CwN8AiAC2cs6/dTxefzz5N6QKDkbsq68Oi5uc4VTXe0l/caf/AtdQm/UMiqv7UUzdx3TxItpKSuD94f7ry84B6J40CYKPfUhi2MggGDqVaDdyxGvDb14Yh6NHC4fYfQ2msFhIASGQ49MhePngfOoziEryQWqqp2t191Eb9SxPxZf+u3qjduwZFNc7Q3Ejt8Ptw7sYY2oAPrAP65qCb7qA+QHYwzlPdusG3Ygx1gygts/iUQA82T2tZ/ktnPMnPLitQdcnpp6OpVPf7VBc79zNyqaY3plvK3fIxRTo97jqidgOq7h6MKauljMcYuo0mMfXoR7XgcbyTj4/1GPa02AeW4dDXN0dz1uVNxxiCgzufRUw9ON6N+6tbhlTGt51d/U3vMsTPX1+DuCXAMIBfI1vkj4GAL/zwPbchnN+wzN+GWPHOOcPemqbni7/busZ08Gq61CPKTB4cR0OsXQajJgOp3g69T2ueiIGwy2unorpcItjT/2d/wE6vg6UO4+rwyFerhjMtjqcYu7pc9VwiqUT3Vd5Bt1bkTvh9jl9OOevcc5jASzjnMdxzmMdrzTO+f91rscY+xd3b5sQQgghhBBCCCHD19q1a0MSEhJS4uPjU9asWRMCAIcPH/ZOT09P0mq1uqysrPi2tjYBAEwmE5s1a1aMVqvVJSYm6nbt2qVxlvPmm28GarVaXXx8fEpubm6Ec7ler1dNmjRJq9VqdQ899FBidXX19UmlcnNzI+Lj41Pi4uJSXnjhhUibzQaj0ShMmTIlPjY2NiU+Pj5l4cKFo53rv/766yMDAwPTkpKSdElJSbr//u//HtVfnQ4dOuSj1Wp1UVFRY53lusqTEzlvusUqv/bUtgkhhBBCCCGEEDK8fPXVV+p33nkn+Pjx46dPnz5dsXfv3oCysjKv+fPnx6xbt65er9dXzpgxo3316tWhALBhw4ZRAKDX6ys///xz/fLlyyNkWUZjY6O4YsWKiIMHD+rPnTtX0dTUpNixY4cGAPLy8iJycnJa9Xp9ZUFBQcPSpUsjAKCkpMT36NGjI6qqqir0en3FiRMnfIuLizUAsHTp0isXLlyoKC8vrzxy5MiIDz74wM+5z9OnT2+vqqqqrKqqqlyyZEm/Q+MWLlwY/cYbb9TW1NSUnz9/Xr19+3a//tbrj8eSPi64Xx6h9//u8/LvJYNV1+EUU8Cz9R1usXTyVL2Hazx78kQMhntc3VX/4R7H/tDx1X0GWt/hFq/bRcdW93J33YdzLHui+yr3onurfpSVlXlnZGRc02g0NqVSicmTJxu3bdsWUFNTo542bdo1AHjqqacMu3btCgSAyspK76ysLAMAjB492urn5yd/+eWXPmfOnPGKjY01h4eHWwHgscceM3z44YeBAHD27Fnv7Oxsg6Ms42effRYAAIwxmM1mZjKZWHd3t2C1Wll4eLik0Whs06dPNwKAWq3mqampXXV1dS7Pwl1bW6u8du2aMHXq1E5BEPCjH/2o9ZNPPgl09fN3M+nj3hmkPYRz7tFG7uny7yWDVdfhFFPAs/UdbrF08lS9h2s8e/JEDIZ7XN1V/+Eex/7Q8dV9Blrf4Rav20XHVvdyd92Hcyx7ovsq9xpi91b+kKRIAP4DLSg9Pb37yJEjmsbGRtFoNAolJSX+dXV1qoSEhO6ioqIAAHjvvfeCGhsbVQCQlpbWtXPnzgBJklBVVaUqLy/3qa2tVel0OnN1dbX6zJkzKkmS8OmnnwY2NDSoACA5ObmrqKgoEADefffdgM7OTqGxsVGcOnVq5+TJk41hYWFp4eHhqZmZmYaMjAxTz/1raWkRS0pKAqZNm2ZwLtuzZ0+AVqvVPfHEE3Hnzp1Too/a2lplWFiY5Pw5Ojracvny5RvWu5m7mfQhhBBCCCGEEELI8OWPq1fj8NZbIbh6NQ4DTPxkZGSY8vLyGrOysrSZmZkJOp2uS6FQYOvWrTWbN28OTklJSTYajYJSqeQAkJeX1xIeHi6NGzdO9+KLL0ZmZGRcUygUCA4Oljds2FA7e/bsuIkTJyZFRUWZRVHkALBp06b6Q4cOaZKTk3UHDx7UhISESEqlEuXl5V56vV5dX19/qr6+/tShQ4c0e/bsGeHcN0mSMHPmzLgFCxZc0el0FgD4wQ9+cPXixYtler2+Misry/jcc8/F9q1Tf09cZ8z1gVODkvRhjL3Tz+Kawdg2IYQQQseEdWIAACAASURBVAghhBBC7kGS5If33xfw/vvA++8LkCSX56q5mcWLF7dUVlaePnbs2JmgoCA5ISHBNH78eFNpaenZioqK088//3xbZGSkGQCUSiW2bNlSV1VVVbl///5qg8GgSE5ONgFATk5Ox6lTp6pOnDhRlZiYaBozZowZAGJiYqR9+/ZVnz59unLjxo2XAGDkyJHytm3bAiZOnNjp7+9v8/f3t02dOrWjtLTU17lfOTk5MXFxcaYVK1Y0OZeFhobK3t7eHACWLFnSXFFR4dO3PjExMVLPnj21tbWq0NBQqe96N+P2pA9j7NM+r50AZjp/dq7HOZ/p7m0TQgghhBBCCCHkPqFUGjBnjg1z5gBz5tigVBpu/aFvd+nSJQUAnD17VrV79+6AefPmtTmXybKMlStXhs2bN68JAIxGo2AwGAQA+Pjjj/1EUeQTJkww9SynublZfOutt0IWLlzYDACXL19WyLIMACgoKAibM2dOCwBERUVZSktLNZIkwWw2s9LSUo1OpzMBwKJFi8INBoO4ZcuWup77Wltbez2ZU1RUFBAXF9drOBgAREdHS76+vrb9+/f72mw2/PnPfx759NNPX3U1HgqXI+e6CACVAN6Cfd4eBuBBAL/1wLYIIYQQQgghhBByf+pAQMB5/Oxnfo6ET8dAC5wxY8aYq1evKhQKBd+4cePF4OBgee3atSFbtmwJAYDs7Oz2RYsWtQJAQ0OD4vHHH9cKgsBDQ0OloqKiC85ycnNzIysrK30AYPny5Q2pqalmANi7d69m1apVoxljePjhh41vv/32RQCYO3du+4EDB/wSExNTGGPIzMzsyMnJ6aiurlZu2rQpLDY21pSSkqIDgAULFjQtWbKk5Te/+U3I3/72twBRFHlAQID17bffrnFuPykpSVdVVVUJAG+88UbtvHnzYk0mE8vMzDTMnj3b5Tix/saHDQRjTACQByAbQD7n/ARj7DznPM6tGyKEEEIIIYQQQsg94+TJkzVpaWn9PnaceN7JkydHpaWlxfRc5vaePpxzG4ANjLEPHe9XPLEdQgghhBBCCCGEEHJzHkvGcM7rAcxmjD0JYMDj8gghhBBCCCGEEEKI6zzeA4dzvhvAbk9vhxBCCCGEEEIIIYR8Y1Ae2U4IIYQQQgghhBBCBhclfQghhBBCCCGEEEKGIEr6EEIIIYQQQgghhAxBlPQhhBBCCCGEEELIkLB27dqQhISElPj4+JQ1a9aEAMDhw4e909PTk7RarS4rKyu+ra1NAACTycRmzZoVo9VqdYmJibpdu3ZpnOW8+eabgVqtVhcfH5+Sm5sb4Vyu1+tVkyZN0mq1Wt1DDz2UWF1drXT+Ljc3NyI+Pj4lLi4u5YUXXoi02WwwGo3ClClT4mNjY1Pi4+NTFi5cOLrn/r711luBY8aMSYmPj0+ZPn16bH91OnTokI9Wq9VFRUWNdZbrKkr6EEIIIYQQQggh5L731Vdfqd95553g48ePnz59+nTF3r17A8rKyrzmz58fs27dunq9Xl85Y8aM9tWrV4cCwIYNG0YBgF6vr/z888/1y5cvj5BlGY2NjeKKFSsiDh48qD937lxFU1OTYseOHRoAyMvLi8jJyWnV6/WVBQUFDUuXLo0AgJKSEt+jR4+OqKqqqtDr9RUnTpzwLS4u1gDA0qVLr1y4cKGivLy88siRIyM++OADPwAoKyvz+u1vfxv2j3/8o+rcuXMVv//97+v6q9fChQuj33jjjdqampry8+fPq7dv3+7nakwo6UMIIYQQQgghhJD7XllZmXdGRsY1jUZjUyqVmDx5snHbtm0BNTU16mnTpl0DgKeeesqwa9euQACorKz0zsrKMgDA6NGjrX5+fvKXX37pc+bMGa/Y2FhzeHi4FQAee+wxw4cffhgIAGfPnvXOzs42OMoyfvbZZwEAwBiD2WxmJpOJdXd3C1arlYWHh0sajcY2ffp0IwCo1WqempraVVdXpwKA3/3ud8Hz589vCg4Olp370LdOtbW1ymvXrglTp07tFAQBP/rRj1o/+eSTQFdjQkkfQgghhBBCCCGE3C3+3GKJBOA/0ILS09O7jxw5omlsbBSNRqNQUlLiX1dXp0pISOguKioKAID33nsvqLGxUQUAaWlpXTt37gyQJAlVVVWq8vJyn9raWpVOpzNXV1erz5w5o5IkCZ9++mlgQ0ODCgCSk5O7ioqKAgHg3XffDejs7BQaGxvFqVOndk6ePNkYFhaWFh4enpqZmWnIyMgw9dy/lpYWsaSkJGDatGkGADh37pyXXq9XZ2RkJKWlpSX114OntrZWGRYWJjl/jo6Otly+fFnZd72boaQPIYQQQgghhBBC7gZ/3twch4KCEN7cHIcBJn4yMjJMeXl5jVlZWdrMzMwEnU7XpVAosHXr1prNmzcHp6SkJBuNRkGpVHIAyMvLawkPD5fGjRune/HFFyMzMjKuKRQKBAcHyxs2bKidPXt23MSJE5OioqLMoihyANi0aVP9oUOHNMnJybqDBw9qQkJCJKVSifLyci+9Xq+ur68/VV9ff+rQoUOaPXv2jHDumyRJmDlzZtyCBQuu6HQ6CwDIssyqq6u9Dh8+fGbbtm3nX3zxxZiWlhaxZ5045zfUkzHmckwo6UMIIYQQQgghhJBBxy0WPxQWCigsBAoLBW6xuDxXzc0sXry4pbKy8vSxY8fOBAUFyQkJCabx48ebSktLz1ZUVJx+/vnn2yIjI80AoFQqsWXLlrqqqqrK/fv3VxsMBkVycrIJAHJycjpOnTpVdeLEiarExETTmDFjzAAQExMj7du3r/r06dOVGzduvAQAI0eOlLdt2xYwceLETn9/f5u/v79t6tSpHaWlpb7O/crJyYmJi4szrVixosm5LCwszDJ9+vSrXl5ePCkpyRIXF2eqqKjw6lmfmJgYqWfPntraWlVoaKgEF1HShxBCCCGEEEIIIYOOqVQG5OfbkJ8P5OfbmEplGGiZly5dUgDA2bNnVbt37w6YN29em3OZLMtYuXJl2Lx585oAwGg0CgaDQQCAjz/+2E8URT5hwgRTz3Kam5vFt956K2ThwoXNAHD58mWFLMsAgIKCgrA5c+a0AEBUVJSltLRUI0kSzGYzKy0t1eh0OhMALFq0KNxgMIhbtmzpNVHzzJkzrx48eFDjLPfChQvqxMREc891oqOjJV9fX9v+/ft9bTYb/vznP498+umnr7oaD8VtR5AQQgghhBBCCCFk4DpYcPB5/uqrfo6ET8dAC5wxY8aYq1evKhQKBd+4cePF4OBgee3atSFbtmwJAYDs7Oz2RYsWtQJAQ0OD4vHHH9cKgsBDQ0OloqKiC85ycnNzIysrK30AYPny5Q2pqalmANi7d69m1apVoxljePjhh41vv/32RQCYO3du+4EDB/wSExNTGGPIzMzsyMnJ6aiurlZu2rQpLDY21pSSkqIDgAULFjQtWbKkZebMmYa9e/f6jRkzJkUURb5mzZq60NBQGQCSkpJ0VVVVlQDwxhtv1M6bNy/WZDKxzMxMw+zZs12OE+tvfBghhBBCCCGEEELI7Th58mRNWlpay93ej+Hq5MmTo9LS0mJ6LqPhXYQQQgghhBBCCCFDECV9CCGEEEIIIYQQQoYgSvoQQgghhBBCCCGEDEGU9CGEEEIIIYQQQggZgijpQwghhBBCCCGEEDIEUdKHEEIIIYQQQgghZAiipA8hhBBCCCGEEEKGhLVr14YkJCSkxMfHp6xZsyYEAA4fPuydnp6epNVqdVlZWfFtbW0CAJhMJjZr1qwYrVarS0xM1O3atUvjLOfNN98M1Gq1uvj4+JTc3NwI53K9Xq+aNGmSVqvV6h566KHE6upqpfN3ubm5EfHx8SlxcXEpL7zwQqTNZoPRaBSmTJkSHxsbmxIfH5+ycOHC0c71582bF5mUlKRLSkrSxcTEjNVoNOn91enQoUM+Wq1WFxUVNdZZrqso6UMIIYQQQgghhJD73ldffaV+5513go8fP3769OnTFXv37g0oKyvzmj9/fsy6devq9Xp95YwZM9pXr14dCgAbNmwYBQB6vb7y888/1y9fvjxClmU0NjaKK1asiDh48KD+3LlzFU1NTYodO3ZoACAvLy8iJyenVa/XVxYUFDQsXbo0AgBKSkp8jx49OqKqqqpCr9dXnDhxwre4uFgDAEuXLr1y4cKFivLy8sojR46M+OCDD/wAYMuWLXVVVVWVVVVVlfPnz2964oknrvZXr4ULF0a/8cYbtTU1NeXnz59Xb9++3c/VmFDShxBCCCGEEEIIIfe9srIy74yMjGsajcamVCoxefJk47Zt2wJqamrU06ZNuwYATz31lGHXrl2BAFBZWemdlZVlAIDRo0db/fz85C+//NLnzJkzXrGxsebw8HArADz22GOGDz/8MBAAzp49652dnW1wlGX87LPPAgCAMQaz2cxMJhPr7u4WrFYrCw8PlzQajW369OlGAFCr1Tw1NbWrrq5O1Xfft2/fHpSTk9PWd3ltba3y2rVrwtSpUzsFQcCPfvSj1k8++STQ1ZhQ0ocQQgghhBBCCCF3iz+3WCIB+A+0oPT09O4jR45oGhsbRaPRKJSUlPjX1dWpEhISuouKigIA4L333gtqbGxUAUBaWlrXzp07AyRJQlVVlaq8vNyntrZWpdPpzNXV1eozZ86oJEnCp59+GtjQ0KACgOTk5K6ioqJAAHj33XcDOjs7hcbGRnHq1KmdkydPNoaFhaWFh4enZmZmGjIyMkw996+lpUUsKSkJmDZtmqHncr1er6qvr1dNnz6913LAnvQJCwuTnD9HR0dbLl++rOy73s1Q0ocQQgghhBBCCCF3g7/c3BzXXlAQIjc3x2GAiZ+MjAxTXl5eY1ZWljYzMzNBp9N1KRQKbN26tWbz5s3BKSkpyUajUVAqlRwA8vLyWsLDw6Vx48bpXnzxxciMjIxrCoUCwcHB8oYNG2pnz54dN3HixKSoqCizKIocADZt2lR/6NAhTXJysu7gwYOakJAQSalUory83Euv16vr6+tP1dfXnzp06JBmz549I5z7JkkSZs6cGbdgwYIrOp3O0nO///SnPwVlZ2e3KxSKG+rEOb9hGWPM5ZjcWCIhhBBCCCGEEEKIh3GLxa+jsFDoKCwEACHw1Vf9mErVMZAyFy9e3LJ48eIWAPjFL34xOiIiwjJ+/HhTaWnpWQA4deqU1759+wIAQKlUYsuWLXXOz44fPz4pOTnZBAA5OTkdOTk5HQCwfv36UaIoAgBiYmKkffv2VQNAR0eHUFxcHDhy5Eh548aNoyZOnNjp7+9vA4CpU6d2lJaW+jqHleXk5MTExcWZVqxY0dR3nz/66KOg119/vba/+sTExEg9e/bU1taqQkNDpf7W7Y/LPX0YY99hjGl6/KxhjD3s6ucJIYQQQgghhBBCnJhKZfDPz7f55+fDPz/fxlSqG4Y33a5Lly4pAODs2bOq3bt3B8ybN6/NuUyWZaxcuTJs3rx5TQBgNBoFg8EgAMDHH3/sJ4oinzBhgqlnOc3NzeJbb70VsnDhwmYAuHz5skKWZQBAQUFB2Jw5c1oAICoqylJaWqqRJAlms5mVlpZqdDqdCQAWLVoUbjAYxJ4JJqeTJ096GQwG8bHHHuvsrz7R0dGSr6+vbf/+/b42mw1//vOfRz799NP9Tvjcn9vp6bMZQEaPnzv7WUYIIYQQQgghhBDiig4xOPi8o4ePAcCAevkAwIwZM8ZcvXpVoVAo+MaNGy8GBwfLa9euDdmyZUsIAGRnZ7cvWrSoFQAaGhoUjz/+uFYQBB4aGioVFRVdcJaTm5sbWVlZ6QMAy5cvb0hNTTUDwN69ezWrVq0azRjDww8/bHz77bcvAsDcuXPbDxw44JeYmJjCGENmZmZHTk5OR3V1tXLTpk1hsbGxppSUFB0ALFiwoGnJkiUtAPCnP/1p5NNPP90mCL375CQlJemqqqoqAeCNN96onTdvXqzJZGKZmZmG2bNnuxwn1t/4sH5XZOwE5zy9z7JTnPNUVzdGCCGEEEIIIYSQoenkyZM1aWlpLXd7P4arkydPjkpLS4vpuex2JnI+zxhbxBhTOl55AM67dQ8JIYQQQgghhBBCiFvcTtInF8AjAC4BqAfwMIAFntgpQgghhBBCCCGEEDIwLs/pwzlvAvCsB/eFEEIIIYQQQgghhLjJLZM+jLH/5Jz/hjG2CcANEwBxzhd5ZM8IIYQQQgghhBBCyB1zpadPpeP9mCd3hBBCCCGEEEIIIYS4jytJnx8C2AUggHP+mof3hxBCCCGEEEIIIYS4gSsTOU9gjEUD+CljLJAxFtTz5ekdJIQQQgghhBBCCHHF2rVrQxISElLi4+NT1qxZEwIAhw8f9k5PT0/SarW6rKys+La2NgEATCYTmzVrVoxWq9UlJibqdu3apXGW8+abbwZqtVpdfHx8Sm5uboRzuV6vV02aNEmr1Wp1Dz30UGJ1dbXS+bvc3NyI+Pj4lLi4uJQXXngh0mazwWg0ClOmTImPjY1NiY+PT1m4cOFo5/pnz55VPfzww9rk5GSdVqvVbdu2zb+/Om3fvt0vJiZmbFRU1NiXXnop9Hbi4UrS5/cA9gJIAvB1nxcN+SKEEEIIIYQQQshd99VXX6nfeeed4OPHj58+ffp0xd69ewPKysq85s+fH7Nu3bp6vV5fOWPGjPbVq1eHAsCGDRtGAYBer6/8/PPP9cuXL4+QZRmNjY3iihUrIg4ePKg/d+5cRVNTk2LHjh0aAMjLy4vIyclp1ev1lQUFBQ1Lly6NAICSkhLfo0ePjqiqqqrQ6/UVJ06c8C0uLtYAwNKlS69cuHChory8vPLIkSMjPvjgAz8AWLFiRdjMmTPbT58+Xfn++++fX7JkSVTfOlmtVixevDiquLhYr9frK/76178Gff3112pXY+JK0mcn5zwZwFbOeRznPLbHK87VDRFCCCGEEEIIIYR4SllZmXdGRsY1jUZjUyqVmDx5snHbtm0BNTU16mnTpl0DgKeeesqwa9euQACorKz0zsrKMgDA6NGjrX5+fvKXX37pc+bMGa/Y2FhzeHi4FQAee+wxw4cffhgIAGfPnvXOzs42OMoyfvbZZwEAwBiD2WxmJpOJdXd3C1arlYWHh0sajcY2ffp0IwCo1WqempraVVdXp3J+xmAwiADQ3t4uhoSESH3rdPDgQd/o6GizTqezqNVqPnPmzLbt27cHuBoTV5I+2x3vWlcLJYQQQgghhBBCCHGBv81iiQTQ79Cm25Gent595MgRTWNjo2g0GoWSkhL/uro6VUJCQndRUVEAALz33ntBjY2NKgBIS0vr2rlzZ4AkSaiqqlKVl5f71NbWqnQ6nbm6ulp95swZlSRJ+PTTTwMbGhpUAJCcnNxVVFQUCADvvvtuQGdnp9DY2ChOnTq1c/LkycawsLC08PDw1MzMTENGRoap5/61tLSIJSUlAdOmTTMAwK9+9auGDz/8MOiBBx5InTlzZsLrr79+sW+d6urqVKNHj7Y4f46IiLBcunRJ5WpMXEn6CIyxlQC0jLElfV+ubogQQgghhBBCCCGkB39Lc3PchYKCEEtzcxwGmPjJyMgw5eXlNWZlZWkzMzMTdDpdl0KhwNatW2s2b94cnJKSkmw0GgWlUskBIC8vryU8PFwaN26c7sUXX4zMyMi4plAoEBwcLG/YsKF29uzZcRMnTkyKiooyi6LIAWDTpk31hw4d0iQnJ+sOHjyoCQkJkZRKJcrLy730er26vr7+VH19/alDhw5p9uzZM8K5b5IkYebMmXELFiy4otPpLADwxz/+MWjOnDmtV65cOfXRRx+dfeGFF2JlWe5VJ875DfVkjN248CZceXrXswCecayrucW6hBBCCCGEEEIIIbdks1j86goLhYuFhQAgxL76qp+gUnUMpMzFixe3LF68uAUAfvGLX4yOiIiwjB8/3lRaWnoWAE6dOuW1b9++AABQKpXYsmVLnfOz48ePT0pOTjYBQE5OTkdOTk4HAKxfv36UKIoAgJiYGGnfvn3VANDR0SEUFxcHjhw5Ut64ceOoiRMndvr7+9sAYOrUqR2lpaW+zmFlOTk5MXFxcaYVK1Y0Obf33nvvjdq7d6/esX6n2WwWGhsbFaNHj7Y614mKiurVs6e+vl4VHh5+wzCwm7llTx/O+RnO+a8B/JRzvrrvy9UN3Q+eeOIJDuBuvoaceyCmFFeKqUsopp5BcXU/iqn73QMxpbhSTF1yD8SU4koxdck9EFOK630SU0GlMkTm59ui8vMRmZ9vE1Qqw0DLvHTpkgKwPxlr9+7dAfPmzWtzLpNlGStXrgybN29eEwAYjUbBYDAIAPDxxx/7iaLIJ0yYYOpZTnNzs/jWW2+FLFy4sBkALl++rHD2xikoKAibM2dOC2BPzpSWlmokSYLZbGalpaUanU5nAoBFixaFGwwGsWeCCQDCw8MtxcXFfgBw/PhxtcViYWFhYdae63zve9/rrKmpUVdVValMJhP76KOPgv7t3/7tqqvxcKWnDwCAc76HMfYkgBQA6h7L17haxr2upaXlhmUWC6ByebQc6atnTCmW7tNfW+2JYn37+saUYugeFFf3o5i6382OqRTbgXHGdcuWNvzqVy04d46mhxwoaquecavrKieKs+tcjSlAcb0dQ/TeqkMVHHze0cPHAGBAvXwAYMaMGWOuXr2qUCgUfOPGjReDg4PltWvXhmzZsiUEALKzs9sXLVrUCgANDQ2Kxx9/XCsIAg8NDZWKioouOMvJzc2NrKys9AGA5cuXN6SmppoBYO/evZpVq1aNZozh4YcfNr799tsXAWDu3LntBw4c8EtMTExhjCEzM7MjJyeno7q6Wrlp06aw2NhYU0pKig4AFixY0LRkyZKWDRs21M2fPz/md7/73QOMMfz+97+vEQQBNTU1yueffz76iy++OKdUKvHb3/724hNPPKGVZRk5OTktDz74oKlvvW/G5aQPY+z3AHwAZAJ4C8AsAEdd/fz9qLkZWL8eWLYMCA6+23tzf6NYDh6K9cBRDD2D4up+FFPPodi6z89+1nC3d2FIo7Y6OCjOnkFxvTNDMG4dAx3S1dPXX399pu+yV155pemVV15p6rs8MTHRUlNTU95fOTt37rzQ3/K5c+e2z507t73vcoVCgaKiotq+y8eMGSNxzr/ur6wJEyaYjh8/XtV3eUxMjPTFF1+cc/78wx/+sOOHP/zhHcXIlYmcnR7hnP8EQLtjWNckAJF3stH7gcVi/0MqLLS/Wyy3/gzpH8Vy8FCsB45i6BkUV/ejmHoOxda94nAG87EBNpvtbu/KkENtdXBQnD2D4npnKG7kdrnc0weAs/tQF2MsHEArgFj379K9QaWyZ04B+/sQ6Tp3V1AsBw/FeuAohp5BcXU/iqnnUGzd6zU8D190wmrcCJU/PRPEnaitDg6Ks2dQXO8MxY3crttJ+uxkjAUAKARwHPaJnN70yF7dI4KDgbVr6Q/JHSiWg4diPXAUQ8+guLofxdRzKLbuI8Dew0eWh+S8qncdtdXBQXH2DIrrnaG4kdvhUtKHMSYA2M85vwrgr4yxXQDUnHO3jbu7V9EfkvtQLAcPxXrgKIaeQXF1P4qp51Bs3YQxgAM2mYZ3eQq11cFBcfYMiuudobgRV7k0pw/n3Abgtz1+Ng+HhA8hhBBCCBkYb4X9sbZy45W7vCeEEELI8HM7EznvY4z9G2OMeWxvCCGEEELIkCJIZgCAVNnvw1EIIYQQ4kG3k/RZAuBDAGbGmIExZmSMGTy0X/cMk+nW6xDXUCwHB8XZPSiOnkOxdT+KqWdQXN3LJlnv9i4MWdRW7030/+IaitOdobjd3Nq1a0MSEhJS4uPjU9asWRMCAIcPH/ZOT09P0mq1uqysrPi2tjYBAEwmE5s1a1aMVqvVJSYm6nbt2nX9iQNvvvlmoFar1cXHx6fk5uZGOJfr9XrVpEmTtFqtVvfQQw8lVldXK52/y83NjYiPj0+Ji4tLeeGFFyKdT678X//rfyUkJibq4uPjU3JycqKsVvs58cqVK+IjjzySEB0dPfaRRx5JaG5uFvur06ZNm0ZGR0ePjY6OHrtp06aRtxMPl5M+nHMN51zgnKs4536On/2+7TOMsa2MsSbGWHmPZUGMsRLG2FnHe6BjOWOMvc4YO8cYO8UYy+jxmecd659ljD3fY/kExliZ4zOvO3sh3Wwbt+vaNeDKFfs7GRiK5eBoagJWrrS/A/QIxztF7dVzOjuB0tJv2igZOIqpZzQ12ePa2Xm392QIcHQS57J8l3dkaKJz1uC5neuqvtdkpH/Ufu8Mxe3mvvrqK/U777wTfPz48dOnT5+u2Lt3b0BZWZnX/PnzY9atW1ev1+srZ8yY0b569epQANiwYcMoANDr9ZWff/65fvny5RGyLKOxsVFcsWJFxMGDB/Xnzp2raGpqUuzYsUMDAHl5eRE5OTmter2+sqCgoGHp0qURAFBSUuJ79OjREVVVVRV6vb7ixIkTvsXFxRoA2LFjR/WZM2cq9Xp9RWtrq3Lr1q2BALBy5cqwKVOmGGtra8unTJliXLFiRWjfOl25ckX89a9/HX706NHTx44dO/3rX/86/GbJof64nPRhjO13ZVkfbwN4os+y/w/2SaETAOx3/AwA0wAkOF4LAGx2bCMIwEoADwN4CMDKHkmczY51nZ974hbbcJkk2SCKgK8vhygCknS7JRAnSQLF0tM4hyQBxcVAVRXQ1QVcvQr88Y/2d+I6Z/u02QCVisNKX0y7zdWrwKFDwOTJgCBwSkq6AcXUM0wmoKwMyMiwx7erq8cvOT2B6rY5YkY9fdzPec5ynuvdeY0lD+OJt61We9179qS4nesqk8l+TRYebn+nHhl2zrg6fVv7pZjdnDNORiPv9bOn3G/5+rKyMu+MjIxrGo3GplQqMXnyZOO2bdsCampq1NOmTbsGAE899ZRh165dgQBQWVnpVFjBMQAAIABJREFUnZWVZQCA0aNHW/38/OQvv/zS58yZM16xsbHm8PBwKwA89thjhg8//DAQAM6ePeudnZ1tcJRl/OyzzwIAgDEGs9nMTCYT6+7uFqxWKwsPD5cAICgoyAYAkiQxSZKuz5qzd+/egJ///OetAPDzn/+8dc+ePTd0WPnkk0/8H330UcMDDzwgBwcHy48++qjho48+8nc1JrdM+jDG1I7EyyjGWKCjF00QYywGQPi3fZZz/iWAtj6LnwbwJ8e//wTgmR7L3+F2/wAQwBgLA/A4gBLOeRvnvB1ACYAnHL/z45wf5pxzAO/0Kau/bbikqekaOOdQqzlGBdnfPTWTER8GV+iMAWo1x0iNxaOxHLY4BziHwDiefZZj61Z7zLdtA+rqgLrzll4ng2HQ5AZMoQCiwixQKThEkW7w3MFiAf7xD3tyQqmwH1uVoMY4EM6YPvoooIQFo4I4VEpqr+6gVgOPPMJx/jzwvUcs0OsdNyCO4y0lfu7Q/XbncJ9gDAgcYXHr9RW3cYjM/j7ccBuHQrC//+UvQHPzN8fb4AAL/vGPW19LqdXA7NlASor9Xa0enH2/l/WMa0/9td/mZnsvqebmQd7J+4hazZGSYL+38qTOTuDAgUHp9eovWyyRAFxOZNxMenp695EjRzSNjY2i0WgUSkpK/Ovq6lQJCQndRUVFAQDw3nvvBTU2NqoAIC0trWvnzp0BkiShqqpKVV5e7lNbW6vS6XTm6upq9ZkzZ1SSJOHTTz8NbGhoUAFAcnJyV1FRUSAAvPvuuwGdnZ1CY2OjOHXq1M7Jkycbw8LC0sLDw1MzMzMNGRkZ11OY3/3udxOCg4PTfH195blz57YDQGtrqyI6OloCgOjoaKmtre2GJ6xfunRJGRERcf3IM3r0aMulS5eUfde7GVd6+vwcwNcAkhzvztcOAL9zdUM9PMA5vwwAjvcQx/LRAOp6rFfvWPZty+v7Wf5t27gBY2wBY+wYY+xYc3MzTCYJ69cfgiAwMMdFHbPZwJj7/6BkiwVydzfkIXYX3jemjHHYJAmyyQSbJHkklsNB37gC6HXzITIbjEagshIICAB+9uMurF5hwei/FEC4al+/uRl45RU6iTr1F1PGOJSCBdzcDdlqtR8H6AbvttwsrlOmAD4+MmCxx7a9oAAyNUaXfFtMvcRv2qvNaqX26qJ+j6kOFosVKpUN6UmdULRewtjwZvs3qs7Y0nHhpr4trlYz9fS5E98WU8Y4VJ3NGPGHAqg6m91yjSXLNjBwyCaT/X2I9vjpL65Wa++6z37ahIYGQBCAqROaMeXrAkyd0HzLR2XLMnD4MPD3v9vfh0u+82ZttW9cnT1+BAFQGu3tV2lshiDYE+wNDcDS/7DHnnr83BhXQeBg7S1of+UVsPYWCIJnzkeybH8s/JRJXVCpPNqO/U3NzXHHCwpCTM3NcRhg4icjI8OUl5fXmJWVpc3MzEzQ6XRdCoUCW7durdm8eXNwSkpKstFoFJRK+zdleXl5LeHh4dK4ceN0L774YmRGRsY1hUKB4OBgecOGDbWzZ8+OmzhxYlJUVJRZdHwbvGnTpvpDhw5pkpOTdQcPHtSEhIRISqUS5eXlXnq9Xl1fX3+qvr7+1KFDhzR79uwZ4dy3//mf/znb2Nh40mKxCDt37vzWqXJ64v1cc9zO87VumfThnL/GOY8FsIxzHsc5j3W80jjn/7fHRv/F5a32r7+95new/LZwzv8f5/xBzvmDwcHBUKuVeOmlKeCcgzMGWK3AhQsQZPf2m+OyDFtXF4z//CdsXV1Dapx735gCtl51BYbmxYOn3RhX2L8e6dFORwVY8cgkK3z4VRiOHoWtqwve06ejo7AQVpMF69cDhYXA+vXU4wfoP6aM9W6vNs5B3dNuT39xVSoZvJQy5NZW1KxaBVtXF3wXLkTX7t3DosfjQN0spkqlDFt3j3MJALmj4+7u7H2i32Oqg0qlsLfV1auBwEBwgSEowPrNscB57CU36Pe46vhd9zVK+tyJb2urTJZgKt4NITQUpuLdYG64XhVFAZLBAMPRo5AMBoji7Tz35f7RX1wVCgGWlhbUrFoFyWCASr6GsdFXwWQLunfb49ztwnlLFIFJk4BHHrG/i31m3hiqQ8dv1lZ7xtXS0gKFwt6mBNkC8157XM17d0OQLVAqgbFhTVC8vgJjw5qg7NOXYah9We6KG+JqldDlaI9du3cDVs+M7xJFAJ1XYfzqKNB59YZ27C6yxeJXVlgolBcWoqywUJAtFpeTITezePHilsrKytPHjh07ExQUJCckJJjGjx9vKi0tPVtRUXH6+eefb4uMjDQDgFKpxJYtW+qqqqoq9+/fX20wGBTJyckmAMjJyek4depU1YkTJ6oSExNNY8aMMQNATEyMtG/fvurTp09Xbty48RIAjBw5Ut62bVvAxIkTO/39/W3+/v62qVOndpSWlvr23DcfHx/+1FNPXf34448DHJ+z1tbWKgGgtrZWGRQUdMMRIiIiQqqvr7+ebr506ZLKOWzMFbczkfOmW6zyaxeLuuIYmgXHu3N6s3oAkT3WiwDQcIvlEf0s/7ZtuESSlGhrs0G2cuDiReDiRbCLF+2TfLiJzWqF1NmJc8XFkDo77d/ODlV96jpkz3R3idXKgZYW8BEjILW3w9ra2iveqowM+C3LB1OqsGwZkJ8PLFuGW35LNWz1aa+c2qtb2GQb5O5u1K1fj86qKkidnTj1xhtQZmeDUWO8c/0cXy0nTsBGX40OiNzVu62e+M1vIF29+k2yhxI+d4R1Gu/2Lgw9AoPXk0+itbERXk8+CQgDb5uy2dzruCKbzW7Y0fuD3NV1w9++pbsbEAV4ZWfb4+zieUulAr470XTD9VZ3t73HdXe3hypxD3LG9WJhIerWr4fsmCiNqVS92i9TqQCLCV3FxRBDQ9FVXAxYvjmfmZqbcbygAKZh3ktYVCp6xU1U3jAayC0G61ggqlSGcfn5trH5+RiXn28TVaoBPyH80qVLCgA4e/asavfu3QHz5s1rcy6TZRkrV64MmzdvXhMAGI1GwWAwCADw8ccf+4miyCdMmGDqWU5zc7P41ltvhSxcuLAZAC5fvqyQHZ02CgoKwubMmdMCAFFRUZbS0lKNJEkwm82stLRUo9PpTB0dHYIzsSNJEvbu3euflJTUDQCPP/741T/84Q8jAeAPf/jDyCeeeOKGmcOeeeaZji+++MKvublZbG5uFr/44gu/Z555xuVv+dyZunf1LPMpAOcTuJ6HfZiYc/lPHE/x+g6ADsfQrL8B+FfHfEKBAP4VwN8cvzMyxr7jmAXpJ33K6m8bt2Sx2FBY2AJRZLhYJ8AWGQVERYFHRdn7ILoJ5xyXSkrgHRqKSyUl/XbZGiqGU10HmywDYICsVMLS3IzOykpIbW2oeO01lBcWouK118BFEbJ/MEQRCA4G1q61v5P+cc6vx+9SSQm4zWbvhkwzkA8It1phOHIEUS+9hPjXXsOlkhKUFxaibP16SKbhc0PhTrLcz/GVMajS0yHQBBIDo1IictkyxK1bh46zZ9FRVYWywkJ7W6WEz20zAWgB4LXP5csx4iobR11hof1murAQcMccPIz1Oq4Mqzbvpb7hPFW+YQO41doraWHr09ukb+cTWQZ4exMurVsB3t50fViMLNuHK336qf19CHX0/3aOuKYfOICol14CvOznKNls6dV+ZbMForcaPtnZkBsb4ZOdDdHbsa7FgrLCQjh6gwzLHj9OsmRF6+7dUIaGonX3bsgemiSfg/W+p3D5dv+2daiDg89nvPpqkzo4+DyAAXdZnjFjxpgxY8akPPXUU/EbN268GBwcLG/dujUoJiZm7JgxY8aGhYVJixYtagWAhoYGRWpqqi4uLi6lsLAwtKio6IKznNzc3MgxY8akfOc730lasmTJ5dTUVDMA7N27VxMXFzc2JiZmbFNTk+JXv/rVZQCYO3due0xMjDkxMTFFp9PpUlJSunJycjoMBoPw5JNPxmu1Wl1ycnLKqFGjpPz8/GYAWL169eUDBw74RUdHjz1w4IDf6tWrLwPAl19+6fPDH/4wGgAeeOABOT8/v2HChAnJEyZMSP7P//zPhgceeMDlI4g704I3nGUYY+8DmAL7JND1sD+F6/8A+IAxNg/ARQCzHasXA8gGcA5AF4C5AMA5b2OMrQXwlWO9NZxz5+TQ/w77E8K8AexxvPAt27gllUrAsmWj4O8vwN8fABgwcqTbT3hMoUBEdjbK16/HmOeeA1N4JkN7LxjsunZ3A97eHt3EPUOQLYAsw2qzwTZqFM69+y7GLl6MtJdfBgCMy88HUyjhpbB3sLKH3gr3/ukPLUwUMS4/HwE6HSKys/HPlSsxLj8fimPH7H20AwLu9i7el7iogubBB2Ht7kbF5s0Yu2wZvvvHPyLyySfReMUCvwAGf3/q8XM7OO//+HqxXYERkgnBwZT4uWOcQxwxAiKA+nffxaTNm6EcMQKVZ7oQHs4ptrepAfaLRIl6oHkAR0ReHgA43gee9BFVql7HFXEY9cYURQGSJPU6T0X8y79AVCgQmZ8PAIjMz4fQIybNzfZh8y+9BPh5W+y9VSTT9SQRAMSsWQOIasgycOQIEBJgwZEjKmRl3Tj0ayhyxvVccTHGpaRA2WPIYO/2C9hMJnSsX48OR+wCX30VTKWCqFJhnOP/YFx+/rBql30xUUCA42907HPPgXloCCYDMG7ZMsDx7uH0b4eoUrltfPrXX399pu+yV155pemVV165YQRQYmKipaampry/cnbu3Hmhv+Vz585td07E3JNCoUBRUVFt3+WRkZHW8vLy0/2VFRoaKh8+fFjfd/mjjz7a9eijj14v65e//GXrL3/5y9b+yrgVj975cc7n3ORXj/WzLgfw4k3K2Qpgaz/LjwEY28/y1v624QqzWUZnp4ygIBFmkw2+jbX24V1RUUBcnPt6+8gyytevR7njgJaxdq3zjnzoGcS6NjUBv/0tsHQpEHLT6buHCJsNzGSCxWRC5+nTOFdcfD3GKbm5SH/5ZRiPHcOI1FQIAQH4bL8SDz/MsWPHSTz5ZBKCg78ZXipbLMP65NkTEwQoR4xA9Pe/j5Pr1n3Tbp97DuL77wM/+xluGGBObokxDqZWo7xHTNNXroQgCIg0NMBiDoQk+UOpHAZXv24iMBu4tffxdfzatYh+QMQ7HzQgJycaKhXF804wQYCN816xTcnNRVKYBvpGEwIClNRWbwODPRVBM/p5gEIBwdcXQdnZEHx93XJ9ZTWbbziuKLy8Blzu/cBqNl/vTQIAqf/+71D4+IAxBqZUIig7G6zHNYDFYk/4VFUBqmvNaF9XCP/8fCAoGJGOm+XIZcsApT1RrFIBj08xgV+7BjZiBJhqeCSQ+8b1eptSqHq1X0EhgleesccQgF9+viOJZu9trT52DBkZGRCPHQOmTh2212N8sO6tFEoofXyu/x1AMTzjPRS4s3XUuLGsu0ahAHx9RTAG+PgyICoKAMCjosDcOLwLgoCxjpPB2GXL3Dp07J4zSHXt7gYuXwYW/8KCy5dV0GiGeI8fQYCsUKBu/XqIfn4Yu2QJAPu3H8qAANi6u+E7dizMDQ0QfXww+UEZpUfUuHrVgsLCL/G///e/wmYTYetoRllhIcbl50M9zMd9Wa02MNkK6do11O3efb3dpuTlAV5ewLPPDtsLjIFishWc817HAibL4JIE7uMD1V+32RNqoBtpV3GwG46vTBDAjEY892wEFJTwuWNcliFLEnSOb57H5ecDZjPainfD/9HZuHqV0zDZOyC7cW5E4uAY4qJ58EH7HHQWy4Avflg/x5XhQlAoetVdERgIQRAgm81o+eQTWNvaYKqpQcgPfgDRxwcqlX2exDMVFlhLvplY1+cHP8S1sjIEz5qFa2Vl8H9kMuCttj/IxWBAx/r18F+2DIJSCTYMuvr0javgTFCYuyC1t2NEaiqk9nYISiW6vv4aPj/6EfxWrADz8gI3m8G2bgVeeAGYPBnC2bNAQsLwGnbYj569njzGZoXU3Y2yzZvt9xdeXoBI18H3o9s6ijPGHmGM5TDGfuJ8OX/HOZ/p/t0bfGYzsH59i32eRs7tWaDYWHA3Zza5zYauy5eR/B//ga7Ll8GH8IXQYNXV2xsYG9+JIOsljI3vHNoJHwfBywsxq1cjIi8PyhEjMH7VKoiOE6mgUoHLMrzHjAFEEeLJUvzLpA68+PPx+NWv/hWmThn60zQ+uifGAAgCuhobofT3R3tZGcavXAlVQABEPz/g/Hma2+cOcc4BUYS1qwsJP/0p2svKIFss9oEIo0aB//jHlFC7Qz1jaigthcR5r2+iye3jNhsufvIJOuvqkPLLX0Lp54dLr7+OkU8+idFhInbvNsJiGbrnbY8x0JPl3I2pVBA0GoAxCBqNWybG5zYb2svKEDNrFtrLyob0NWpf3GLpVXe5qws2iwWClxdCnn0WIT/5CUKefRbw8rn+meBg4DvfVfWa6Ble3tBMmAC5qwuaCRMAR48ebrHAXFYG71mzYC4rGzZPr+wb1+v19vKBV3g4IIr2d7UaPt//PrjZDNkx6RFXKID33wcqK8FVKtiio8FVqqE7QsIFTKGAMigI6StXQhkU5LGpM7gs97pPGEpPmx5uXE76MMbeBbAewHcBTHS8HvTQft01Xl5Afv4ocA77I9sBcEEA5+6f08cnLAynN22CT1jYkJ/TZzDqKktWyJ2dqNu8GXJnp8cmNbuX2CBCvnYNzX/9K6xdXfjnqlWwOC5QbLKMzuZm2GQZXWfOQDlhAixdXTixcgWktjZYjh1CTFg3khfnwzFb/rAf4sW5ALmrC15BQWg+fBhBqalgajWYSgXe3Q0kJt6QmBguF2wDplBC7uqCoFTi7NatCExNhSIgAJBl+4SYw7zt3Slrj5gGpabC7zvfsU/mKtHk2APBlEpEPfMMfCMjUbFxIySDASMmTLDH1iphziwfqFTDp/fDQDmvoFhHy13dj6GIA5Da2vDP1ashtbW5YUYf+3Vb4LhxqNm+HYHjxg3pa9QbqFTf1D01FWAMNpsNNgAWgwGnfvMbWAwGAL1vflmPOXzq1q8HrGYwhQLq6Gh7/GTL9fLZuHEo374dbNy44XPu6xlXR73tD/CSYenowIl162DpcCSFfXxg7e7Gqd/8BqbWVlivXYPtL38BT0+HLMswG42QZRm2YZyA4AAsra04sXo1LK2tbvm77w9TKpH68st44sABpL788u18oWSz2WzDuyvWXeKI+w2Z+tu5YnkQwGTO+ULO+X84Xovctof3CJsNUCqZ498MnDF4os1yiwX1xcXwDg1FfXHxkL5xHLS6Wq1oLS6GKjQUrcXFw+PR8OYu1BUWwjshAXWOGDeUlMAmSTixejV8wsNR+/HHUISFQWprQ/mGDdez9b4ZGbCUHYM6KADj17467Id2AQBkC1r/+U80OJ5aUrd7N7jFAt7dDcliuZ7w4Y7JSOXmZrQXFEAe5o8OdQW3mHDt4kUYHE9CKi8shM1kgtXoeITzTZ7qN5SPjQPFzd1o69NebVYroleuhEA9fQaEm83orKu73l7LCgsx8umn7XNzCAJU6qE/HMMT3PFgKdIblyTU7d79zTnLDb1RucVyfb6Q8vXrh9VxuNc16+7daD1+HNbOTnBJumlM5I4OWM+dRdTLL9ufTvXyy4AoglutMNXW2ofdOYbI2fr0eOn7FLChqr97AUEy3djWJKlX75LK115D6z//CZPZDJskQersRMXmzZA6O4dVD7S+eI95t8rXrwf30KPUYbN9k7R3/Oyi8ubmZn9K/Awum83Gmpub/QHcMCn17aTuywGEArjsrh27F1mtwCefGPDjHwdAEDgY5xAEuD3xw1QqRD3zDNpOnEBQerpbuuPeqwarrkylxKhnnsG1EycwIj0dTDW0b3pk2T68K3rlSnAAXgkJKF+/Hgk//SnMbW3Xb6yjnn4a5evXI2P16uvjfpNffBEXd+xAzPe/D0EAuKCCpdMCle/QbYeuYAolRk2ciKD09OvtFYwBSiVaP/oIIbNmQZAkYM0a2F5+GR2FhTc8XYL0jykU8H7gAbR+/TW++6c/QVQqYbNYoAoNRddf/gLfGTPAGOv1rSfv6AD/5z+B8eP/f/buPkyOq74T/fdUdc+MZMnCwjYOAduEGPOYF4MtuMEhEJLNc712SELiJJgNu4sD7PpudtnkyXAB25KcQMimB1jt7nWyCXh2kyySHRZCdlEuFxklNka2EZ6xJRvbsiW/yLKnZ/plpnu66+VU/e4fp6qnuqdHMyN1T3dXfz/PU093V79Vfef0qVNnqupAdegCpWmiRkeXl1fLHK2mLAv2yAhC14W1efPqH0ZN1OgoNl100VJ5zWTMhVxHR+E+8ADGrrkGaHManXge64HT0Oz06Thl281trA5cH0aNjDRf02eIyrRKjFx22U03ofzYYzi5fz9+4sYbmzOJfvuB70OqVXg//CFGX/UqFPfvxzlXvAkYG0PTOO1BAGQyUNERL0cnJoYq22Sur/+t34IaGcGLuz6NSz//ebw5apte8YlPIHRd2Oec02ivXhFdvqD+ox8hs317U8fR637zN4f2tHA1Ooq3fuYzeM1115nffRcvtK5rNZzcvx/bLr8c9hrbE1rrj7788stffvnll9+MdV5Ohs5KCOCo1vqjrU+s2oJWSv0vmKPItgJ4XCn1EIBGd6KI/FIHF7Tnslngwx8+F5YVXdMHgApDWJYFdHKguiCAPTKC8978ZnNKTRCkd8zGDVpX0bppAytapzdTmFULHB+h1qg++yycuTlcdtNNUJaFmXvvxc/85V/CHhszo01EO4PZV7wCV95yC577xjfw6ve9D5XDh7HtmmsAK4Tt1xFUPdhbtiD0fUCkaUjSYaBCbdZZBOdcfDGsTAZBvQ57bAwXfuhDkFIJ4TnnwHr/+6G+8Y3G6BLb4tElaEUSBPAXF3Hpr/86nHweavt2FKamcOG7343NH/6wqV3n5xGOjMDatAkShgirVczv349tl10Ga3YW6vzzgVe8oter0jfE88zFMKPyqjIZWNksrPPOAwAE1SrmP/c5bPv934ed+uEMO0s8D3612iiv1vbtgG1DjYxg9L3vNSMHVKuQbdvMTrYIglIJ8zkzco/NIyfbCsLhPR2ja0SW/vsehiseNbmuj/S8pmsxZlM/MsaS+Nozl910EyzbxvPf/KbplMhkmjPZts104gQBat/5DjJXXIHC/v3IXnQRCvu/hQs/9CGobNac3pXNNi46nDyyBQDefvvtQ5Ft6zV9LrzmGjyfy+GSP/xDWJkM3njzzTg2OQl/YQFvv/12ZM85B1d++tOmk8GyMPf1r+PSz38er7n+ehzN5fD6D394uNtdQQArk8GWSy4x7YBu7VsFAV789rex6aKL8OK3v43XrXFAk6uvvjoPIFV9BINuLT1vEwC+AGA3gF8B8EfR43hKFaWAajXxQGvgxInOX7zVthH4PkpHjyLw/VR3TmzYuloWQsdBcf9+hI6T7hHREF0YN5uFvWULtr3pTTjvrW/FsTvvhIQhLr3hBjz/t38Lf2EBQbWKhaefhr+wAFgWlG3jJ268EWG5jC1vfSue3bULem4OIYD5Bx+ENzuLYGEBJ269Fd6QnbYkIuaijb6PxeefR+h5ZjQk2zb1wZYtqH3tawgvvxz44AdhX3ABzvvsZ7mDtwYqm8XY9u2Y+8EPMLJtGxCGeNW7321ORQhDhCIINm3C4te+hsBxzLWovvMdczTVnj3Aiy+aCznyQtoNamQE2nEa5VU8D7pWQ1CtmpxEYF10EdzoYqS0dmpkpKm8ShhCz88jcF2EjgMZGwNOnQJ+9CNItQqJOnziaZhOh1mL+F9mwRBfg6ObJOrokQ50+ACm/G9+9avNtRhf/eqh2rmOj8Q5duedCIMAF//yL+Pkt74FBAHOiTI559WvbhxRpbJZjF5/PeqVCs67/nrMvPwyzrv+enN6Vxia07vCsNEmVSMjeNuuXbjh+HG8bdeuock2zrVxnaiREVw8Pg6VyUC0xhN/+qe47CMfwZW33GK2bZ6HwiOPQNfrgGXhlTfcAGiN+ssv44J3vQsno9Pvh5ZlmX/6PvccwsTpg52mMhlc8oEP4JVXXYVLPvCB4bq+V8qsWkJE5B9F5B8BXBffT87r/iKeOaXUtUqpJ5VSTyulPrWW9wRB4uyCMAQqFeCCC6AqlfWcx7g6rZt7aNN8/ZmNWtcgwOITT+CCG27A4hNPLB31k3ZaI3RdSBDgyp07AaXw7Ne+hks+8AFkt22DNTaGbW94A7LnnQfxfTMagmVh0xveAF2tYsvVV5uRPwBsveoqFL71LQSeh3Ovucbcr9d7vIIbSARusQhrZMSU19FRWNksAseBXy5DjY5i9Gd/FvMTExCR4W5wrFcQIIjKqTUygsy555pONtc1HW3VKkLXxebf/E3ochnP7tyJ0euvx/mTk+ZIqloNuPHGNf2HaVj+LuJ5sGwbVjaL0Ve+0uyEaA1l2xCY0w4KL7+MzFvegvzdd8PL55fenOg8G5a81iUIzGmz550Ha3QU9ubNyGzZAnt0FNboqOmovPxy4PWvBz73OSCbxbbf+z1sGx/nkX+noYMUt3V6KQxxcv/+jrVTxfdhZbN4286dsLLZjlwnaFCI5yG7dSvefvvtUErh+W9+E6+9/noAQPHRR3HpDTeg+OijjVGMQh3ghVwOemGheZQj34e1dSu2vuMdpo2V+NtItLMuaW77t4hzfduuXchu3QrxPFy6+3YgOgr4sptuwvwTT5j6VWuEjoOT0T9xRWvYF1yAwHEwdv75mD10CK+9/vql02vj8un76d6fSgoCZLZuxfnveAcyW7d2b58nDBG4Lk7u34/AdTu7L0wbSq31vwJKqYdF5KqWeY+KyFu7smRnSSllA3gKwC8AOAngBwBuFJHHV3rPjh075MHtuy0JAAAgAElEQVQHHwQAWJYFFRdsEfNffqU61pMaaG1GBHAcWGNjgAjsTCZ1F7vasWOHPPjAA+3WtePfFf8HURwHaswMjWmb/8SkMtcfPPiguTR7/B+kMIRobXrho6OerLEx87xSkCAwO4OeZ8791RqI/sOiAHMEVnz4seua14Rh43128852KjONf/+IOnTic6RDx4FfrWJk61ZztBTMdRSUCHDrrcD4uDntKAyXzqv2/VU7KKI/QSx1mQIm18OHD0O7ZiQTcV3TULMsuHNz5rppY2NQQWDqhnPOwbO7duH5XA4Xj4/j0t27YY2MQASwsplVcw1mZ1tPsUldrnGmjTrP9831kKJTvfxSCdnt21E7ehSH3/Y2XDw+jnPf9S4sHDqES2+/HbbrAnv3Qm66ybz3mWeASy+F2rZtxe9suVZNajONBb4PWNZSXQiYTuFCAZZlmU70qExbU1PAE08AH/oQxHHMTkv8HscBxsYQOg5UJmN+A9ERhMhkUl8HxLn+D6XgAXiDUvjpjd1pSG2msbhujbf5ojUyZ3l9jyCqj0PXNeVZqbg9FUttrnG92sizpT2kq1VktmyBymZh23ajPR+/LqhWYW/a1DiqvdEWg2mTxnVLso0Wta9SmymAZbnGQseBsu2lXDMZs10aGTGZjows5Zu8Pzpqyjpg/kG/bZu53bzZtGWXfgOpzDVur7aWr05boX5JXabDYNUeDKXUzUqpIwAuV0o9mphOADjS/UU8Y+8E8LSIHBcRD8A+AL+8ljcWComOsCAAnn3W3HbosFksLgJKNQ21F+9sp9IGrqtXKGAq/p6UCwFTJi0LYb0Or1TC1K5d8EolhPX6Ut4iCBYXkf/e9+AVi2ZY90IBsCzz+Lbb4MzNQVerEN9vvEZXKvDLZUzt3Am/XIbfOO8x3ULHac4JgJXJILtlC9TIiMljYQFSryOs1YD3vx/I5YDHHwfm5iDlsrnex5e/DJTLK35PuQx85SunfUlqeJ45RNgrFEyupRJCx8Ho+eej9NhjKE5Pw9q8GcqyEHoeLv7MZ3Dx+DheOz6O2t13IywWoTwXskqu4nlDd4qNXyxiaudO8xuuVACloLJZiOti5NJLceWBA3jNJz6BV7znPbj4llvMqF7PPAOccw7C+XmU/+APEP7YjwGHD0NWOJ1z2Eap82ZnTf0Yl9dCodGpnt2yBYunTkE8D/Wnn0awsIDw7W8HbrgB8H2oz34WMj9v2gylEvDYYwjyeZR37kRYLCKoVhtZSrWKAweGow6IG5tep9pR1BDXrfE2v1OnX3jFovnMYrEjnzdIknnmDx1qtJn8hQUc+ZM/MafLx6I2blxXPPeNb8CLftRNbd9YVLc05qf8UgRJrXkE1SqssbFluaqRkaVMi0WI76M2M7Msa5WJ/hH0N38DuK5pE09Omv2sIWizti1fHdat+oV6QEROOwHYBuBSAHsBXJKYtq/23l5OAG4A8OXE4w8D+C9tXvdxAIcBHL744otlcVHL+PhLEoahiNYix46J3HOPudVazprniXz72+IvLspD4+NyJyAPjY+Lv7govc6sg9k3ZbrCunbcab6n55l0YmrNVS8uil+tir+4KAvHjzet+8Lx4437brkspw4elPyDDza9xqtUmh6fOnhQ6rOzjXmnDh5c9plpz7Rdlv7ioviLi6K1bsrVOX5cagcPSlAuS3jypITf+IaE4+MSHjwo4cmTIj/zMyJ33GF+861l1Rf5sz8Ted/7zK3vpyfTdrkGvr/s9xmXJ69SEbdcFu158vT4uBQPHpTK9LToSkUWJiflOCCF8XEJjh9fNVcREZ3PS2F8XHQ+H8/qeR7dyNT3l9d5pw4eNJlWq6J9X04dPChuuSyPvP/98vT4uOhKRcJyWcJKRYIXXpDC+PhSvg8+aMqv6zblGbpu0+ui53ueRzcyFREJXFeejn73rfVlfXZWFo4fb+Q7/+CD5rXlsimfBw9KCJgcFxdF7rhDgqNHm/Lzjh9fyvLwYfn63V7q6oB2ue4D5E5A/l9AwmJRNlDP8+jE1C7TWDfaWGv4zJ5n0ompXa6t6x63nVbKpHX+kS98YV2vT3u7KtZuvZ+anGw736tWm+bVZ2elXigsm+8vLors32/aBQ8/bNoGcRvh4YdFHCe1ufZ436rneXA6gzK0rhcDNoBXA7g4nnq9AqdZ1l9v0+nzn0/3nquvvlpERGZmfNFam44f1zUdPi0N4bNSrYpoLbWZGXlofFxqMzPxMz3PrdNTnGmbde2KFb6n5zl0eopz1b4pq16l0rTucYdObWZGtOuKWy7LiwcONL1Ge57U8nl5aHxcqidPilMqiV+vN+Y5pZLUo/v1fF68SmUoMvWq1eactDaT74tbLps8ZmZEz8+LLpUkjKfJSdP5UyqJ1Gqm0VEqyUpKJdPhk3hJzzPoZq5hS53nVatL2Woti8ePi3PqlHjFonhzcxLW66JnZkwHzsyMhNWqhGvIVURaOy56nkG3MtVaGr/R+Dcc5+kvLprHtZo8PT4ubj4vYa1msjl2TELHac73wAEJlzrKmqS1I61dpiIibj4vuqW8as8Tv15fKreeJ4UDB8xrHceUz3LZdPjE259iUeTw4aacdaVi7p86JWGlIn//9+muA+Jc74w6fb4JiP7qV2UD9TyDTk/JshrrRhtrlc/seQ6dnpK5Jtc9bju11gkrZfXU5OS6Xj8smbaut9Za6u3q2mgblpzn1+syf/z48ky1NhXoHXeIVCoic3PmfqFgHqc81x7uW/U8A07rn9ZzTZ/fgRnBawbRmSXmQKG+vabPuwDsFpH/M3r8aQAQkc+v9J7kuae1WoDNm20TUhh2fsSp6LoUulZDZvPmxmJ39kt6L5lpy7p2TZvvSXWujdFQWq7pkzwPndf0WV1Tplo3XdMnSXy/MTymymSA+Nzy6BRQXtOnWTLXMAgQJq7p0yQe2U8ElgiQySCEDeXVzfnkVtZUw2vItUXqcm3+/QPiO0vX9InFhSsIgDA0ZVYpc7Fn1wVGRxEEgPKj8/Sbr9mzzLBd0yf0PIhtN1/TJzECDwBz0exMBkrEBKKUuRZF4noVvKbPDnno0AP47yNLv9kLoLDtx34S2LwFYo9A7AwUFAQCEQUdCPzN21B0FbwnvoXzAGz7pd/DsSv/Fb771GX45/9cIRp7oInrAs89B7zlLcA739mYncpMk2U11o021mk+M/W5xuse3wa1GuzE41atr9eOh8zYyKqvT0h9pkDzegdB0Gi3JuvaxjV72lzHJ36+cd2qxDataXTPpXZCqnPt0b5V6jIdBus5Me/fA7hcRAblYik/AHCZUup1AF4E8EEAH1rrmzdvjoZiVKo7Q4xHldFG/FD7xUat6zBlCiQu3GbbzTvDcQ7x8/GeRXybfF+r5HvXt4OdCnYm07wD3fRkS55RVqo1xzXkNmynRlu2DWul32ebcmgDwKZNS/eBoSyPp2PbAOyxFZ5A+9931FhOvne10aaGbTQqK17fZHltzbJNtsvqgagDKHnh0mSWw1AHhLVa0+NZCGZfOrbm95cAbPu7L+KfPvp1jN52DL/7uxkcW+XtL70EvOpVZ7CwA6wbbZ9ha08lxese39otj1d7fWZsZE2vHzbJ9bZte6keTeYR3283r/U+sHTR5iFsH3DfitZqPUf6HATwCyIyMGPhKaWuA/AfYfYX7hSRz63y+lkAz7XMPh/AXHeWcNnnz4nItV38rg3Xkmm3s4y1fg9zPXMrfTYzPTOn+9zUZQq0rVe7ke1Q5drFTNf6OcOQaWwj69e053q2WZ7J+9OeadJG1q3DkGun81zt84YhU2Bj96uA9Ofai32r1GU6DNbT6fMVAJcD+BYAN54vIl/szqL1B6XUYRHZMaif3082al2HKVOgu+s7bFnGurXew5pnUjcyGPZcO7X+w55jO6xfO+ds13fY8lov1q2d1el1H+Ysk7hf1Vnct6K1Ws+Bxc9H00g0ERERERERERFRn1pzp4+I3A4ASqmt5qFUu7ZURERERERERER0VqzVX2Iopd6slJoCcBTAY0qpHyql3tS9Resbfz7gn99PNmpdhylToLvrO2xZxrq13sOaZ1I3Mhj2XDu1/sOeYzusXzvnbNd32PJaL9atndXpdR/mLJO4X9VZ3LeiNVnPNX2+D+AWETkYPf5ZAH8kItd0b/GIiIiIiIiIiOhMrPlIHwDnxB0+ACAi/wDgnI4vERERERERERERnbX1XMj5uFLqNgB/FT3+LQAnOr9IRERERERERER0ttZzpM9NAC4A8D8BfB3A+QD+ZReWiYiIiIiIiIiIztJ6On1eD+C10XuyAH4ewL3dWCgiIiIiIiIiIjo767mQ85MAfh9m9K4wni8iz3Vn0YiIiIiIiIiI6Eyt55o+syLyv7q2JERERERERERE1DHrOdLn5wHcCOAeAG48X0S+3p1FIyIiIiIiIiKiM7WeI30+AuCNMNfziU/vEpiLOhMRERERERERUR9ZT6fPlSLylq4tCRERERERERERdcx6Ru96QCl1RdeWhIiIiIiIiIiIOmY91/T5Ecyw7SdgrumjAIiIvLV7i0dERERERERERGdiPZ0+l7SbzyHbiYiIiIiIiIj6z5o7fYiIiIiIiIiIaHCs55o+REREREREREQ0INjpQ0RERERERESUQuz0ISIiIiIiIiJKIXb6EBERERERERGlEDt9iIiIiIiIiIhSiJ0+REREREREREQpxE4fIiIiIiIiIqIUYqcPEREREREREVEKsdOHiIiIiIiIiCiF2OlDRERERERERJRC7PQhIiIiIiIiIkohdvoQEREREREREaUQO32IiIiIiIiIiFKInT5ERERERERERCnETh8iIiIiIiIiohTK9HoBTkcptf10z4tIcaOWhYiIiIiIiIhokCgR6fUyrEgpdQKAAFBtnhYR+YkNXiQiIiIiIiIiooHQ150+RERERERERER0Zvr99K6rTve8iDy8UctCRERERERERDRI+vpIH6XUwdM8LSLycxu2MEREREREREREA6SvO32IiIiIiIiIiOjM9PvpXT8nIt9VSv1qu+dF5OsbvUxERERERERERIOgrzt9ALwXwHcBvL/NcwKAnT5ERERERERERG3w9C4iIiIiIiIiohSyer0Aa6GUeqVS6j8ppR5WSv1QKbVHKfXKXi8XEREREREREVG/GohOHwD7AMwC+DUAN0T37+rpEhERERERERER9bGBOL1LKfVDEbm6Zd5hEdnRq2UiIiIiIiIiIupng3Kkz0Gl1AeVUlY0/QaAb/V6oYiIiIiIiIiI+lVfH+mjlKrAjNKlAJwDIIiesgFUReTcXi0bEREREREREVE/6+tOn7VSSr1JRB7r9XIQEREREREREfWLQTm9azV/1esFICIiIiIiIiLqJ2np9FG9XgAiIiIiIiIion6Slk6fwT9HjYiIiIiIiIiog9LS6bOMUupOpVReKXV0re+59tprBaYDqVdT6vRBpsyVma4JM+0O5tp5zLTz+iBT5spM16QPMmWuzHRN+iBT5spMKdL3nT7KeO0qL/PazPtvAK5dz3fNzc017tdqZqAwEQGCYKW3nDnfBwDoWq3zn91Hkplu1LoGKc8UaM41CAIz+T604yDwfQRBAO26CDwPgdbQ9frSPNdFoLW5jV9br5vXRp8TeN7Sa4MAQb3ew7XdGK2Z6lrNrLvWSxlrDe04CH0foetCggBhrQYEAcRrqYai3/iwa84VpqxF5S7Qeum+6yIMAgRRvoHrAlG+ovXSB64h12V/i5RpzbSpvEaTjvOs1SDRb1jibZnvN3IMHQfSrvwOmWSmsSAQk6vvm7LqeU1lV4IA4jiQqKwCMPVBUjLndZbjNGhtAzTq03jbEt3XjrNUv0blWYIQAEzurmvuR/OGWbuy2mmhH6B+32FUjr3U9e/qF625xm3W+DZoedyq9fWt81d6fZq1K6vJ9Q5qdbMN07p5Gxbf9zzoer1RJ4SJdmyTZH06BHVrL/athqG8pl3fd/qIGV7sb1d5zU+1mXcvgOKZfGc+rzE6ajp8lO8DJ04AnWwQLy4CloV6Po+p3btRz+c799l9aqPW1cvn8ezu3fCGIFPA7OwBQFCtwp2bw9TOnXDyeQTVKk7s3QuvWISuVnHirrvgFQqYuu02OHNz0NWq2cl2XfjFIqZ27YIzO4ugWgXCEG70WrdYhK5UoBcW4M3O9nhtN0YQBCar3bvhFQqAUhDfB0QApTC1cyfcQgGyuIiwUoFz6BCCQgH40Y8gcUblMvDlL5tbAmD2ib1CHlO7dsErlRA6DqAUQtc15c62EVSrEK2hSyU8e9tt8IpFLN59N8JiEeI4QL2+aq7B7CxKt96KYAjKaxAAEN1cXgEgDKEsC16xiPzdd8MvFJC/6y74hYLpePB94NFHEeTzKO/cibBQAO67b6n8EoJA4BVmTa6lEkLXReh5ZscjLrtxvTA3B6nXEczOorx7N4J4+1MuN+dcLEIWF4Fqdejqh7gN4BWLJj/bhq5UgDCEE227/FIJ+fvvN9uf3bvhFgvw5ufx8K23wp2bg18uw1aAhPxHc7eJAJv8BQS14ewMTrZZ1eioabtGt+3asvV8HvPHji17/nSvH5b2f1JyvYMggDvzMkJnEV6x2LwNGx1FUK3CmZ3F1K5dcItFSBia10XtWDeuP+P2VrU6dG2vjSpHw1pe06bvO30iDyil3tGND1ZKfVwpdVgpdXh2dha1WoCJiTlYlgUVhsDzzy9NnTjix/eB+++Hdl0cnZjA0VwORycmUtWD2pqprtU2ZF2DWg0vTEzg+VwOL0xMpO6In9Zcg1oN4jgIHQeFqSk89qUv4Wguh8f37EFhagpusYijX/wiitPT5n70N3h8zx4zr1CAMzuLI7lc0/sCx2l81mNf+hKK09OwNm3CC7lc6jONd+iS5TV0HOhq1ez0OY6Z/8Uvwn30UXjT07C2bsX8xARk+3YglzOdE3v3Lk1D8F+nVq25Og4gbnM94OTzCB0HzuwsClNTCF0X1akpQKml33Euh6BYNPlWq5Bi8bS5iudhPpdrTGk6emVZWdUm07BlWxI6TqOD4kguB79YxAsTE9DRbei6kFIJ4dgY5icmTFYTE5CtW035TVFmq2nNNOY4IcStLyuvzuwsilNTcPJ5iOMgqFYRhiGwZw9kdnap7E1MmCN+9u5dnnM+D3nyyVTXD6u1AZx8HqHrojg9jdB18fiePTiay+FILofs1q2N1x7J5VCYmjLboj17UJ2eRuA4UJChO+JnpbLaPVHHWsqHSWmXa2t5jdsE0tI2SB7Zc3RiAqPbty97/nSvT2P7H1i5rLautzgO7G3b4OTzy/KWqF0b1w1HczlAqab2anF62mQX16XHjqW67dWrfau0l9ehIiJ9PwF4HEAA4BkAjwI4AuDRNbzvUgBH1/o9V199tYiIzMz4orWWMAxFXFfk2DFz2ynVqojWUpuZkYfGx6U2MxM/0/OsOz3FmbZZ165wZ2bk6fFxcZu/p+c5dHqKc9Vai9Za3HJZFk+dkofGx6V68qS45bI8NTkptZdeEqdUMvejv0H15ElxSiVx5+fFq1Skns83vU87TuOzFk+dEqdUEufll8XN54cm02R51VqLX6+L9k298ND4uNReekl0oSC6VJLFAwdEz8xIOD0tYZxRqSRyxx3mdu16nkF3c22uB7xqVbTW4lUqptz5vnjlsviVytLvOJ+XhclJk2+9LlKrrZqrzuelMD4ueqm89jyDbmaqfX9ZedWeJ9rzpJ7Py6nJSXFnZhq3oe+LLC6KHD4sembGZDUzI+GBA0vld3U9z6Bbmca0DpeVV69SEadcbpRdXa9LWKtJePKkhJXKUtmLtz+l0vKcq1WRSmWlctzzHLqV67Lfvu+LUyqJ9jypnjwpD42PSz2flxcPHGi8tp7Pi1sum23RyZPilUoiQSBhELbmdjo9z6BbmXaTX/dF7rlHSo88t9JLep5Dp6dkrq11avK2XVu2NjMjc9PTy54/3evbzO95Bt3MtF2ui8ePi1etLt+GRe3auG6o5fPL2qtOXH/G7a1KZaW2V89z6FauG7VvNQz7q8MwKZH+P0xWKXVJu/ki8twq77sUwP8WkTev5Xt27Nghhw8fBmCu6bN5s21CCkPAtte30KvxfSCbha7VkNm8ubHInf2S3ktm2rKuXRPUarCbvyfVucaneCEMIUEAZduAZUG0hlLK3Pd9qJERMw8w5TkIAMsyz3ueeZ9tA2EIxBUEAGQygOfB3rQpuQipz1RcF8qc5wmoaHVFIFrDinJSmQzEdWGNjprsR0aWPjD6ja9D6jIFWnMFxKtDZTKm7ImYybIArU2evg9l25AwhJ3JIHRdqJER8x5gTbmK5yX/FqnLtTVTIFFeI6I1rET5DD0P1siI+Z3H/wHNZhE6DlQ2C7SW39NLdaaxIBCIWzf5KGXqxqhOhQgspUyWSpnyadsIazVYye1PVF5Dx4HKZFYrx6nOVddqpowpBWhtti0AoLXZ3mQyptxmswhdF/boGJRtIfA8QAT26CiCIIRtr+sg9VRn2i3a0ch8/16UL/hJvOItF7d7Sepzjdus8W3ctlypLdv6+tb5K70+IfWZAs3rHdTqwOgmQLTZbsfbMNcFRkfN9RKDANbICMJ4Wxa1Y+3E9q6pPl1et6Y6143at0r7/uowyPR6AdZCRJ5TSr0bwGUiMqmUugDAlm5+5+bNppNHKdX5Dh+gUSFtxA+1X2zUutpDlCkA2HH5tO3mDV2y3MaN63bzACDZodOuvDd3+KSebdvASuUo01xtquh1qjW39XX4DAXbxsplKVmOE6zWv8Macl1H58XAM3G1Ka9xjtH8pk7bRIbW2Fjz66nBttXK9cDSi5oerlReGzm3zB8mTW2AZG5ttkvJHO3E73mdHT50xvr/H8LdFpfX+NZuebza61vnr/T6YZNcb3tzvF3KNLet4tck6oa4TrDabauS9emQ1a0bVY6GtbymyUBsPZVSuwD83wA+Hc3KAvjrVd6zF8AhAJcrpU4qpX67u0tJRERERDTYpHHJJP5Dn4goDQbiSB8AHwDwdgAPA4CInFJKbT3dG0Tkxo1YMCIiIiKi1GGfDxFRKgzEkT4APDEXHxIAUEqd0+PlISIiIiJKIZ7eRUSUJoPS6XO3Uuq/AniFUupjAA4A+IseLxMRERERUaosjfHCQ32IiNJgIE7vEpEJpdQvAFgAcDmAnSLynR4vFhERERFRusSdPuzzISJKhYHo9FFK/S6Av2FHDxERERFRN/H0LiKiNBmU07vOBfBtpdR9Sql/o5R6Va8XiIiIiIgobXh6FxFRugxEp4+I3C4ibwLwbwC8GsA/KqUO9HixiIiIiIjShad3ERGlykB0+iTkAbwMoADgwh4vCxERERFRyvD0LiKiNBmITh+l1M1KqX8AcA+A8wF8TETe2tulIiIiIiJKl8bpXYqH+hARpcFAXMgZwCUA/r2ITPd6QYiIiIiIUivq9WGXDxFROgxEp4+IfEopdaVS6neiWfeJyCM9XSgiIiIiopRRy+4QEdEgG5TTu/4dgP8Bcx2fCwH8tVLq3/Z2qYiIiIiI0iU+vUvY60NElAoDcaQPgI8C+D9EZBEAlFL/AcAhAP+5p0tFRERERJQq0eld7PMhIkqFgTjSB+YA0yDxOAAPOiUiIiIi6iwO3kVElCqDcqTPJIAHlVLfiB7/CoCv9HB5iIiIiIhSjP9fJSJKg4Ho9BGRL0ZDtr8bZgv0ERGZip9XSp0nIqVeLR8RERERURpIfFEf9vkQEaXCQHT6AICIPAzg4RWevgfAVRu4OEREREREqeP7ITYBOHKkjHe/4aJeLw4REZ2lQbmmz2r4vwgiIiIiorNUm1/EX11/Peb+9s5eLwoREXVAWjp92l5yTil1rVLqSaXU00qpT230QhERERERdZOEgoUnX0Kow4583mJxAdpxMKoXOvJ5RETUW2np9FlGKWUD+H8A/FMAVwC4USl1RW+XioiIiIiocyrP5HHuiz/CwpHnOvJ5W56aBgBkD/5dRz6PiIh6Ky2dPu1O73ongKdF5LiIeAD2AfjltX5grWZGiBcRIAhWefUZ8H0AgK7VOv/ZfWqj1nWYMgWAIAjM5LrQrovA8xAEAXStZub7PgKtzXPJ+fFj123cj6fke7XjIIjK67AIfB+6Xm/KJAgCBFojcJxGnRDqAHDdxvukXl/X92jd0cXue2EQmFyjMpqcJAga2Up0GwQAHMe81xuuMrge2nGaf8O+38g49H0E9Xrb7dh6yp94XgeXuP+FrfWo1mZKll3HQZjMNVEXNETlNymZ5TDVAY0sE9usZdsg10UYBAji+rdWN7kHQOB6CAKB5zWaUG0NWVEFsFQ/Kq9NGTwDauYFAEC2ttiRzxtEcVsyvg1aHq/2eu14a3r9sEmud+P3n6xrE/fbzYvvm0ohqn/jujdunw1RJcB9K1qrgej0UUpNKKXedJqX/HybeT8O4IXE45PRvFXl8xqjo6bDR/k+cOJEZyuQxUXAslDP5zG1ezfq+XznPrtPbdS6DlOmABqdMbpSgTM3h6nbboM3Pw9dqWBq9254hQIggmBxEfnvfQ9eobA037LgFYuYuu02OHNz0JUKADReoysV+OUypnbuhF8uw69We7mqG8abn4eTz2Nq1y54xaKZGY9kEobI79sHr1iEaA3LqQN33glUq5DZWWDXLsgay165DHzlK+Z2GEgQwC0WMbVrF5zZWeiW8hQGAZ7dudNkvm8fpFCA5dWByUlIqQTrngOQ0pCEtQ712VlM7dxpfsNxppYFvbiIoFpF6Dh4Ni7LiT3l9ZS/YHYWpVtvRTA726W16C/e7CzEtpvryzCEaG060apVIAgwf//90MUiAtc1Oxp33gmUEgOJlkrA5GTTvGSW1erw1AHxtjneJiE0pyHpahUn9u5tbINEBEGlAr2wgKBQwN+TMhgAACAASURBVLO7dyEoFgGvjvnbboUU53DkCFCtmqnV7Cxw223mdhiN1jtUmF5+EQBgD+kVM5NtyRN3323alKOjK7Yxk/Pnjx1DPZ+Hytprev0wSa53EATwi0WoTKa5rgWgRkeX1b/5Q4cALLVR69FrUa0u1b0HDwILC8CRI811cUpx34rWYyA6fQA8AeDPlVIPKqX+tVJqW/JJESm2eU+7TdWya/8opT6ulDqslDo8OzuLWi3AxMQcLMuCCkPg+eeXpk4c8eP7wP33Q7sujk5M4Gguh6MTE6nqQW3NVNdqG7KuG/U9vdKaa1CrQVwXoeOgOD2Nx/fsMeuey6E4Pd3IIajXUZiaQnbr1qZ8QtdtvP7xPXtQnJ5G6DiN1xSnp3Ekev5ILmd21FOeqa7VUJiaasoydByEUc5hvQ5dLOKFaD6OHQP27oU8+SSQy5lpYmLVI360Bu66a2lK23/7l+XqagSt5W1qymQaTVKv4/lczmRbLAITE0ChAOzdC7VvH7CwALVv79Ae8dOaKRDVeStkWnzkERSmpuDNzTVyDRwH8P11lT/xPMznco0pTUf8tMs09Dy8kMtBEnVhXI/qahVOPo/C1BSCeh2ZrVsbrw0dB9i7F9i3z/zX2XHM/Xie4yzL8sRTXirrgNXaAKHrInRdBI6D4tQU3GKxsQ3S1Sqq09OwN23CCxMTpuxOTEAWFzGfy2Ehl8O5mzzcfbepHpIHUnmeqTaiajhV/+xvV1abCFB85hmMBp05Mife+bYy2Y58Xr9asV5NlFe3WMTRiYlldULyyJ7k/NHt29f1+rS3q2Kt6y2OgyNRW6qpfojq09Y6I7t167L52nUb7TBE7QTs2wds2rRUF6cE963orInIwEwALgfwxwCeA/BVAO87zWvfBeDbicefBvDp033+1VdfLSIiMzO+aK0lDEMR1xU5dszcdkq1KqK11GZm5KHxcanNzMTP9DzjTk9xpm3WtStW+J6e59DpKc5Ve55orcUplaR68qRZ93xenFKpkYN2XXHLZXnxwIGmfLTnSS2fl4fGx6V68qQ4pZLoRLl0SiWpR8/X83nxKpWhyNQtl5uy1FqL9k2doF1XTk1OipvPS+j7IpWKyB13iFQqEubzEo6PS7jGMl4qifzZn5nbtGaazDXUurm8lcsm03hyXXl6fNxkOzkp4cyMhLWayB13SFgsiuzfL2FxKax16HkG3cpURFbM1CkWxS2XxV9YaOQqntd4X5vytyKdz0thfFx0Pj8UmbrR776pvnRd8et18apVcctl0a4rhQMHzGsdR0RrUxcUi0vBFYvL5iWzrFTSXwe0awNo3zfbLscRp1yWpyYnG9sgv14Xr1QS5+WXxZ2ZMWV3ZkZ0rSaF8XHx83k5fNhE2rxJMvJ5kU9+0tymOdPZWV+eesqRBx5YlH37ynLgl/6V3AnInYA8/t73ypMf+b/k0Y9+Sh6++Q/kgY/9odz/8c/KfR/7Q7nvY38k//jRz8m9H/+c3Pexz8r9H7tdDn38szL9r3fJkY9/Wp756O/I0Z/+6cZn/X/nbJHvfa8qjzxSl2eecWVmxjdt4z7IoRu5xpLl9anJSVNu27fbl71+bnp6Xa9P6HkG3cy0db211lJvV9dG27DW9uqLBw4sz1TrpXZY1E6QYlEalUTKc+3hvlXPM+C0/kmJtB34qu9EF2b+RQAfAfBaAHcDeDeARRH5YJvXZwA8BXPq14sAfgDgQyLy2ErfsWPHDjl8+DAAc02fzZttE1IYArbd2RXyfSCbha7VkNm8ubHYnf2S3ktm2rKuXdPme1KdaxAfgaY1BIBSCrBtiOtCjY6aw+iVggQBVCazNF9rIJOBaG0CymQan598rwQBlG3Dzjb9xy/dmfq+yWVkpPlFIoDWJgvbRqgDWIEGRkfN0/U61KZNa/7O6E8QS12mQHOuYRAg9Dwo215Wp1oAQt+Hnc1CfB8qm0UAG7bvAGNjCD0f1sgZ/dc5dbkmMwXMNX2UUkuFKQxNWbVtqOi0JHtkZFnmLeXvtMTzkr+H1Gcaeh4kWY/K0imejRyjcmrFj123URc0OKb8JiWzTHsd0NoGUMl82m2DtDbbKc8DRkYA1wNGsoDKANoDMlkEgYJSQHaF6iB+aySVmT7zzF+iXF4aqevglmtwolrp+HddvGkz/kn9waZ5jnMFRketVObaVK9Gbcn4NqjVYCcet2p9vXY8ZMZGVn19QuozBZrXOwgC8/tPtk2x1AZtNy++n4nrEtteqnsdx1QMQZCsBFKda4/2rVKX6TAYiE4fpdQXAfwSgHsAfEVEHko896SIXL7C+64D8B8B2ADuFJHPrfI9szBHESWdD2DuLBZ/NcnPnxORa7v4XRuuJdNuZxlr/R7meuZW+mxmemZO97mpyxRoW692I9uhyrWLma71c4Yh09hG1q9pz/VsszyT96c906SNrFuHIddO57na5w1DpsDG7lcB6c+1F/tWqct0GAxKp89NAPaJyLITCZVS20RkvovffVhEdgzq5/eTjVrXYcoU6O76DluWsW6t97DmmdSNDIY9106t/7Dn2A7r18452/UdtrzWi3VrZ3V63Yc5yyTuV3UW961ordZ4YHdvicidSqkfV0q9DYllFpF7u9nhQ0REREREREQ0qAai00cp9ccAPgjgcQDxEFoC4N6eLRQRERERERERUR8biE4fAB8AcLmI9GLsvT8f8M/vJxu1rsOUKdDd9R22LGPdWu9hzTOpGxkMe66dWv9hz7Ed1q+dc7brO2x5rRfr1s7q9LoPc5ZJ3K/qLO5b0ZoMyjV9/h7Ar4tItdfLQkREREREREQ0CAblSJ8agGml1D0AGkf7iMi/690iERERERERERH1r0Hp9Pm7aCIiIiIiIiIiojUYiNO7iIiIiIiIiIhofQbiSB+l1GUAPg/gCgBj8XwR+YmeLRQRERERERERUR+zer0AazQJ4E8BaADvA/CXAP6qp0tERERERERERNTHBqXTZ5OI3ANzOtpzIrIbwM/1eJmIiIiIiIiIiPrWQJzeBcBRSlkAjimlfgfAiwAu7PEyERERERERERH1rYG4kLNS6h0AfgTgFQD+EMC5AP5ERB7s6YIREREREREREfWpQen02QHgFgCXAMhGs0VE3tq7pSIiIiIiIiIi6l+D0unzJIBxAEcAhPF8EXmuZwtFRERERERERNTHBuWaPrMi8ne9XggiIiIiIiIiokExKEf6/DyAGwHcA8CN54vI13u2UEREREREREREfWxQjvT5CIA3wlzPJz69SwCw04eIiIiIiIiIqI1B6fS5UkTe0uuFICIiIiIiIiIaFFavF2CNHlBKXdHrhSAiIiIiIiIiGhSDck2fHwF4PYATMNf0UeCQ7UREREREREREKxqUTp9L2s3nkO1ERERERERERO0NRKcPERERERERERGtz6Bc04eIiIiIiIiIiNaBnT5ERERERERERCnETh8iIiIiIiIiohRipw8RERERERERUQqx04eIiIiIiIiIKIXY6UNERERERERElELs9CEiIiIiIiIiSiF2+hARERERERERpRA7fYiIiIiIiIiIUoidPkREREREREREKcROHyIiIiIiIiKiFGKnDxERERERERFRCrHTh4iIiIiIiIgohfqm00cp9Qal1D1KqaPR47cqpW7t9XIREREREREREQ2ivun0AfAXAD4NwAcAEXkUwAd7ukRERERERERERAOqnzp9NovIQy3zdE+WhIiIiIiIiIhowPVTp8+cUur1AAQAlFI3AHipt4tERERERERERDSYlIj0ehkAAEqpnwDw5wCuAVACcALAPxOR53q6YEREREREREREA6hvOn1iSqlzAFgiUun1shARERERERERDaq+Ob1LKfVKpdR/AnAfgH9QSu1RSr2y18tFRERERERERDSI+qbTB8A+ALMAfg3ADdH9u3q6REREREREREREA6pvTu9SSv1QRK5umXdYRHb0apmIiIiIiIiIiAZVPx3pc1Ap9UGllBVNvwHgW71eKCIiIiIiIiKiQdRPR/pUAJwDIIhm2QAWo/siIuf2ZMGIiIiIiIiIiAZQ33T6EBERERERERFR5/TN6V1Kqa8ppa5TSvXNMhERERERERERDap+6mD5MwD/DMAxpdQfK6Xe2OsFIiIiIiIiIiIaVH13epdSahuAGwHcAuAFAH8B4K9FxO/pghERERERERERDZB+OtIHSqlXAviXAD4KYArAHgBXAfhODxeLiIiIiIiIiGjg9E2nj1Lq6wDuA7AZwPtF5JdE5C4R+bcAtmzEMlx77bUCoJdT6vRBpsyVma4JM+0O5tp5zLTz+iBT5spM16QPMh2eXL/7XcGRI8z0DLGsdkcf5EoDKNPrBUj4sojsT85QSo2KiCsiOzZiAebm5hr3a7UAmzfb8DxgZKR736lrNWQ2b+7eF/RYMtONWtegVoOd4kyB5lyDIAAAiOdB2TZg2xDfN/fDELAsM0XEdaFGR81rslkgDCFaQ2UygJUFEJjPymTM+6LnM5s2bfRqbqjWTOOcEIYAANuyANvu1eINrGSuABC4LkTElL2IDQC2jdDzYI2MmPI3MgL4PpB4HRkrZmrbgGVBAbBsu5Fj6DiwslmW39NozTSmazVTD4hAgsDUi74Pe2wMcF0gk2Gup9HaBlDZLGBZzdufIICybXObzUL5PqyxsUb7S2sTMxmnK6udbmOlvY2a1DbX3bvN7b33buiypMVKZTUWBIFpY0WXGpEwhMpml9pfSLRZk21XpWDHlYJtA44DjI0BnmfmKZXqtkMv9q2GqS5Iq7450gfAZ9vMO7ThSwEgn9cYHQUWFwX33gssLnbne+r5PKZ270Y9n+/OF/SRjVpXL5/Hs7t3wxuCTIGlDh+vWMTUrl1wZmcRVKvI338/3Lk56FoNenER4vsQ34dXKGBq9254hQLy998Pv1iEXlzE1K5d8EolhM4igmq18Vg8D165jKldu4ainAJAoHVTThCBv7AAr1o1nRB0xtxyGc7cHKZ27oRfLAJBAAQBAhF4s7M4ceut5rf71a9CZmeBAweAcrnXi93X3Pn5RqbmN+xAENUN990HL5/HiZ07TVmu13u9uAMl3m55hQIQhpi67Tb4xSLy+/bBm50FCgVgYYG5rkEjy6iMBo5jtj+VSqPsnti3D36xiMV9+xDMzuL5583P/5FHWA2sphttrGFqo9LGC3wfQbUKXanAr1TgzM422gYSdQQl22JqdNS0dXfuhDM3B7daNR9UrQKTk+a2UgG+8hVzGz+fYhv1G2VdkA49/9+JUuoiAD8OYJNS6u0AVPTUuTCneq32/jsB/CKAvIi8OZq3HcBdAC4F8CyA3xCR0lqWp1YLMDExh89+9lU4dEjh+98389/zns4e8aNrNRydmMDRXA4A8Pbdu1Pbg7pR6xrUanhhYgLPR99z6e7dqT7iJ6jVICIQAEdzuUa+r7nuOmS3bsVjX/oSXnPddQCA8978ZgBo+jtcesMNOJLL4TXXXdeY98abb0b1uecaj9/yyU82fXaayylgyqqINOV05S23oHTkCADgwquugh0E5j9KtC66VkNxehon9+9vyhYArEwGL+RyS7/diy6ClctBrroKau9e4KMfTfV/7c6UrtVQnJpqyvSNN9+MTRdeCAAIt25tqhNf94lPwLrwQma5Bq3brStvuaVx/1UXXYQXcjlc+pnPwN67F/iVXzGHojDXtlqzfOPNN2Psggsw/Ud/1LT92XTRRTiSy+EnL7oI87kczv+923HXXZvw3vcCd90F/PZv84ifdrrRxhqmNiptPF2rQcIQhampxrzkduxtu3YhdN2mMvi2XbuWtXUveOc7kTl2DNi7F/ipnwIeeMDcB8zjK64AoiOG0majfqOsC1JERHo6AfgXAA4CqAD4bnT/IIBvAvjVNbz/PTAXez6amPcnAD4V3f8UgP+wlmW5+uqrRURkZsYXrbVUq6F85zsi1ap0RW1mRh4aH5fazEw8q+d/j05PcaZt1rUr3JkZeXp8XNzm7+l5Dp2e4ly11qK1llo+Lw+Nj0v15Elxy2V58cABWTx1SpxiUZxSSfx6Xfx6venv8OKBA1LP58UplRrzvGpV3HK58div1RqfXRuWTH2/KSftulKfmxO3XBbxPOminmfQjSnOVUTEKZWkevKkPDQ+LvV8XrTrmsn3xc3nG7/dcHJSwnxeZP9+kVKJuZ4u03K5kWn8G47rhfDAgeY6sVY72yxjPc+g01My01hrPRCX21OTk+Lm8yIvvihSLDLXNeSazNKrVsUplcz2p1BozH9qclLq+bwsTE6Kzufl2DHz8z98+KyqgZ5n0K1Mk7rRxlrlM3ueQ6endrnKz/yMmTZGzzPo9NQ204j2PHHLZXEKBanPzTW1DbxKZXlbrKWt65TLIlqLVCoid9xhbufmzP1CwTxOea4btW81DPurwzD1zZDtSqlfE5H/eZrn/4WI/PcVnrsUwP+WpSN9ngTwsyLyklLqxwD8g4hcvtoy7NixQw4fPgygZ9f0Uad77SBKZtrDa/qkOtceXdMn9Zn24Jo+qcsUaM4V6Mk1fVKX64qZbtw1fVKfaWyDr+mT6lx7dE2fVGeatMHX9BmOXN/zHnO7Mdf0GY5MEzbomj6pzrVH1/RJXabDoG8OlD1dh0/kEwDadvq08SoReSn63JeUUheud3k2bzaNuG52+AAYqkPkNmpd03xKVzt2vMOR7JQ53U5InE/8Gttu2bG2l3/WkJ22YNv28pyoI+zTHGptRRWuiiveISt3Z2qlTOMcLZ6OeMaatlvJnQwgtacNdEtTlu22P/Gt3dz+4ilda9ONNtYwtVFp49nRPyqXSZa7+P7p2mTxNq7bO219aKN+o6wLBl8/Xch5NV3pVVRKfVwpdVgpdXh2drYxv1aLjp4Qafynvxt0rda1z+6VlTLdqHUNUpgpsHKuQRAgCAJo10Xguuax65qL5HketOOY52u1ptvA983jeh2B7zdeF9TrS7daNz4rjU6XaSOnIECgNSTKNYz+kxQ6DiQIII7Tq8XvWyvlCqA51zjTIEDoeRCtl+Up8X/uhtyqmWq99LtO/GbDWg3RwYDU4nSZxprKa1RnBr4P0Rqh46A13LWU17SX6dO1AZZlGW9nHKepDGvHi7Y/S1klox62anetZbXT0thGTVpLrrQ+68k0bq/HbS5aWa/3rfj3GXyD1OmznvPQZqLTuhDdrni5cRH5cxHZISI7LrjgAgBLo3eJCJTvA8ePLx0y2EFpvRp6u0w5etfZa5drELV8/WLRjCxTrUJXq/CrVfgLC43RELxiEflDh+AVCpg/dsyMRhO978Rdd8ErlRqjJtSeegpBoYD5738fQbGIZ2+7DUG5DN2tYex6qG2mQdA8ehcAKIXQ94FMxowwNTuLxX37EBYKqEYjzdCSdrkCLaMhRZ697TboYhFi2wirVWDfPjNyF4BgdhalW29lvlhDpsWi6YSwLISOg3BxEXpxEc6hQ0AhD617uPB9aqVMY8vKq1KmjFoW9OKiGWUqMSraWsrrMJTp07UBGllaFsRxGtuZ+fvvR1AqAb6PsFrF7L6vRtsfU986DnDwoBlNtVwGdu0CUriZX9FayypH71qf1XKl9VtrpnF7PdnmSnNZO1u93LcahrpgGAxSp896jvT5O5gLRCO6/eZa3xiP3mVZFlQYAs8/vzR18Iif5NXQj05MpLoHdaPWNTl61wsTE6k94icW1GoIqlWI4+BINKJB6cgRFKemUDpyBKUjR/D4nj2N0Q6yW7fi6MQERrdvx9GJCYSuiyO5HNxisfH3OZLLIbt9O16YmEAmMfLPC7kc/Hw+9ZnqWg2h4zSV19BxII7TyDrOIygWMT8xgbBYxHwuxyN+VtFaD8S5xnmK48CbnoYUi0Auh7Bex3wu15jSfnTEmWjN1MnnIY6D6tQUqtPT8PN5qK1bMT8xAeXWhu7oiLPRtry6LqpTU42MG3VAoWA6MFYpr+J5Q1mm22UZOg78fL6xncls3Wrq1WoV1UcegS4Wm7Y/My96+P73gUOHgCNHgFwO+MIXhu+In3a60cYapjYqbbxke11a2lwsa2uzUb9R1gUp0usrSccTgNedbh6A/7LC+/YCeAmAD+AkgN8G8EoA9wA4Ft1uX8sytI7eFYahiOuKHDtmbjtsGK6GztG7upurrtdFay31aESD+tycOOWy1OfmmkZDqOXz8uKBA1KbmZG56WkzEoLnST2fl6cmJxt/n3o+LwvT0+LOzEghOfJPPi9+8zB2Pc+ga5lqvWzECK11I+s4j4XJSdEzM42RZjqg5xl0M1cRaZtrnKfWWnSptDRyl4jofF4K4+Nnm2/PM9ioTOORu7xyWbxSSfxqVRYPHBA9MyO+fzYRLtPzDDo9rTp6l9aifV+8crmRcVwHxKN3raW8rvKanufQrVzb/fb9arWxnSkcOGDqgXpdvGLRjJCW2P7U69IYTbVUEvnkJ0XW2JzoeQbdyjSJo3d1J1eO3tWFTCPx77u1zdUFPc+h0xNH7+J0JlM/jd71sIhc1TLvhyJy9UYtQ/Jq6J4nsG0FyxJIKAhCq6PXFA09D2LbEMeBGhuDCgJYIyOpuxr6jh075IHvfR8qu7Su4gfIjHXvYmvDMnrXgw/GIyJE15/S2qxoJmOGO7EsM+JMy2gITaNSWVZjpK545JTGkCmeZy6sGQSAZcFu/gGkONMoz8ToERCBpRRCraGUghWNiKSyWcD3oTpzodzUZQos1aueB9h20JwrAMQjxwUBlGWZx4k8GyN5nbnU5do205ERM2JJGDZ+23Y2i7BWg4xu7vT1yFObaUw7ntluJctrPBpiGMJSCqL1slHR1lJeT/OaVObaaAO0yzLezsRDdEVlWAKBylhAEMIeNVkFwVLU8WA9a5DKTNuW1S60sTh6F0fvOhurjt5VqwF2Bsh0dR8hlblu9L4VR+8afD0fE0Ep9UYAbwKwTSn1q4mnzgXQsyFHRkYUggDwfQXbVh0fRMYaGWkMtR0/TqvMWPO6drNSGia2nbiwpQiUZZmOnzBsdPyIRMM4A6YxDZjHiU4hFX2QymQAHQAjZuQugYJSGYRWJjnie6qZKGzEHT8xSyko214aKQ2JEZE4uteajIzE2cIMzxqVRyuTMWUwzrFlqJ6z7PBJtThTlcmYYWxHRpZ10FocceOMtG63AAAiTaPNqDbDSq2lvA5bmY6zVLZttlGZzNKw7XYGUBmEdgZ26Jm2kG1DxPwzItlKTVa1HJBuCdtYNKjif9Cy/K4ff/e0Xv2wK3c5gF8E8AoA709MVwH4WA+XC45jOve7dc64Vyhg6vbbmy5qmlYbta5pvpBzW4FnLnzpuuZizLt2wSuVEDoOnLm5/5+9d4+P7KrufL+7npK62253Y/OIbXAGx8bYxAYzYBggDFwgTTIJCSQ4E8JAEj7xcCe+ybRIjPsJGM+kBEnnAUyuwZcA6cYwcZIZd5KZTgh+29Mg4W4cG7/abYFbJVWVHqWqOs91/9hVpaqS1C21qlSlU+v7+ZzPUZ06dR4/7bPP3muvvZYNzjw9jT83Z7/L5RDHscFzq3Eo/FyOE3v2EOTziFMBt0yQy/Ls3j0EuSzPPWefgYgm8FqCxYGcQ0D6R4CO4eZagg4DoQii6aXOmqA4YwO2792Lm8/bbVpW28KigO7xON7MTHcvaoPiz83Zd9Lu3Xj5PEGxyOiePTiTWcLiDMzP1IPkBzMzkQ923W460cbq++CtHczcqzTTT/2hdrJeuvV9XRARum70EZG/EZEPAT8jIh9qWH5bRO7v1nW5rg0YWAsc2O54i36pxPjhwwy+6EWMHz4c6cBY63WvQalE7vBhUi96EbnDhyMfdDgolZBymaBSoZLNNgVa82Zn60Gcj2Uy5MfG6t9JLMb2n/1ZSo89hhkcJLZ5MxcOD+M8/3zd+2f+0UeZf+wxnhsZ4SUvqCCefQCingHIr7iI4zSV11rA4dBx+ibwaidorQcq2SziOIjjWI1V21Xjl0oUT55k9oknmHnsMY5nMvWAw1Gv/zpNa3mt1QPF0VGCarYuZWX4pRJuoVAvp8cyGXKjoxzPZPj+gQPVwOOj9aDNzuho3wW7Xgt+qUTp+ed5xX/6T5Sef14DObcLNfqsC/3UH2on66Wb1gXRoetGnwZ+yxiztfbBGHOeMeZL3bqYVAquuw7e8Aa7brc3dmJoiAt37KB86hQX7tix3JzpSLBe9xofGmL7jh24p06xfceO1rg+kSM+NITZvJlYMsnA+edz5c6dXDk8zBU33kh8aIirfu/3uHJ4mKuGh9l2zTVcOTzMlTt3MvnQQ6Qvu4z0S1+Km8sx9slPEopwanQUv1wm9Dzyhw9z2ec/z8U330wiHjDx6V3I9GTrzJvIkRhIYdLppvIaGxjADAzYdZ9Ny2gnrfXA0I/9GCaZVG3XQGJoiKFqg++6z3+eV33841bLdBrS0a7/Ok1rea3VA5t/8icJ1RCxKhJDQyQ2b66X05+8+Wa2V99Jr7zxRjZfcw2bX/UqLh4e5qLhYdLXXMO5w8MM3jjMbFnrhTORGBpi6MUv5l/+5E8YevGL29LGSgwN1dsUV+7cGek26rKoB+q60E/9oXayXrppXRAdesno8yoRma59EJECcE23LsZ14YknYPNmu+6Ep0+/WE41ZXtn8CsuOA7P7t9P6fhxEps3c+GOHTxwww08cssthK7L+dddx3N33UU8meTqvXspHDvGP7z97RwfGSF+7rlN/xcnn+dYJkNx1I64jh84gEmleHb//oW07eVod3a8coWwXG7SRRzHevp4EXdz6jCL0jZ7Hs74OOHcHKET7XLVKbxSiWOZDMczGR49cID5Z59FHIfs177G97/nRt4zr5O0lldxHHAc/uWDH+TkLbcQaK7wFeOXSlbHajmNpVLEk0ku//f/nvj8PJU778S9+25evGMH8a1bCYfO5dEdeJhANgAAIABJREFUn+L9//F8Pv3p9re/okanUra323tow6GePutCP/WH2sl6pmzv+7ogIvTSuH3MGHNe1diDMWYbXby+VAouvdRO7brqqs54+ly5cydA5C2n63Wv8aEhLqqe56KdOyPv6WODuMW5aHiY3F13MXD55Zxz6aWce/nlXDk8jInFmHzgAa4aHoYgIDYwwHlXXVW31gczM03/l/HDh3n5Bz5APJWyI647d2JSg1w0PAzARcPDJAejPeqaHBwg8LwmXWrZZuIasHlNtNYDsVSK1AUX2ADZGpX1rEgODXFl9fm84sYbSW7ejEmn2bbj3WwZSkXeM6+TtJbXWj2w6fLL7ftFy+yKWaRlKkXp+HHSL3kJzl13MbRjB6XDhxl84xuJJ5PEgctemeLyy2Hnzva3v6JGJ9pYNe+h4yMjkW+jLosafdaFfuoPtZP10k3rgujQSynbfw24CfhmddP7gFtE5CvrdQ1LpRasZa/uFFFPgdeo6WlSf7aVfknZXtM1sGnmbGqTalBck0otzt5VTcFVT5vrOFBL4Z5K2d8l0iA+uB6kq1m8BPDd1swAkde0Mb3wOhl8IqcpLJFeuFSyulYzeK2DtpHTdZGm5fJCBjQ/gESq00nlIq9pjXp5xbpGh57XSYNPpHVt1BI/wCTi4HnEBgYIHLeemr1Gm9pfkda0kU60sfo6ZfvcHLz73fZvTdl+VpwpZXsjHewjRFrX9epbRb2/2g/0zDigiPyFMeY7wFuxhekXROTRLl9Wx0eY+sliul73GnUPn1YaUwi3fLH0D2r6tK7rbgGJRWmzSfTXUGs8Hl/QRWkr/VTnrReJwcGFD+qR1lZay6t6/J09TVrWdKyuWw0+oB4+q6UTdWtf19ca02dd6euytgbWSzf9/2x8esboAyAi3zfGTAIDAMaYi0XkZDeupVQKGBqK4/uL+7/tZL0stL1AFz19Ik3Q0DCpe6eEIeL7mEQCYjHEda33jwjieXY7WG+LeLzJqwWouzWL71svINdt7lhGnMDzrE6tmohALEYsCJq/U1ZM02h/faMNPhNPJAiDgFgs1lTx1suvsiSLNPV9iMWIJ5OElYr1Aqp6Vplk8qzO0W//g9B1kXgKcRa0Fd+3WlbrxyaDu+dBMtl3Oq2GwHGs92kiYTvUDeVSPM+WTRGMMYSeT2JwgNB1iVX1rGl7Jg+gTnto9yrr7OkTfdTo03GCcoX44ABBIIhT7t+ytga65OmjbEB6JpCzMebfGWOeAJ4Bvg2cAP6uG9eSzfqk0+C6wsmTnQsiWM5mGd23j3I225kT9BDrda9uNsuJfftw+0BTaDb4uLkcz9xxB2G5jFsoMLp3L26hQFguM7p3L/7cHF51eyWbtSnfRXBzOUb37cPN5QAIy2VCx1k4Ri7HzA9+QGVyslu3ua548/P23hs0AcAYq02xaNO3T08vfxBlSWr1gJvLIZ5nN4Yh2YMH8aem8ObmmL7nHtypKSgWAZDJSdi1y66VRTRqShhCEBCWywTT03jT0zyzZw9uNks4Nwezs8jMzKrPEUxOUti1i6BP/gfu5CQSj+Pmsk31QFAu4xUKiOsSzs3hFYu2Yzg9DUeOaFk9Dc70NJWpKUb37MErFAg9D39+HgnDhXdNPg+eR1AsMnv/fbjZLM/s2oU7OUkwM0Nh1y78yUn+6Z+s5EsxOQm7d9t1P9GJNlY/tVFbKWeziBp9OoqbzXJi7x6CIMDNTfZtWVsL6/WM9nNdECV6xugDfBJ4PfADEbkEeBtw33pfRKkUMDIyhUiM8XHD+DiMj9P2LCj9FK1es3d1hqBUAschrFQIK5V6Bq7K5GST3pXJSY5nMuTHxpoy/eRGR+u/q2dUqlSoTE4uOkZ62zaOZTKRLqdgy2olm12kiVQqiONQHB2lODZGkMshY2NIudztS94wLKoHikVbdh0HL59n/MABimNjJLZs4bnPfpbw8ceRSgUymfoimsaniUUZ0RyHoFyGRILnMhmKY2P1THzOsWPIsWMwOroqHcV1mclk6kvU/weh6/JcJoMsUTfGEgmOZTK4k5MUjx2jODpqs3gdPGiNaVpWl8QvlciPjfHogQMcz2Q4lslQmZwkX3sHVd9LtfZBvR6ovc8zGZzRUWYyGWYzGUozLl//+uIBOdeFkRH7LxgZ6Z+sX53K3tUvbdRW/FKJQy98Ifd89KPdvpTIEpQr9ee7ta5tLGtRb8evhfXM3tWvdUHkEJGeWICj1fX3gFj174fX8xpe85rXiIjIxIQnvu+L44Ty1FMijiMdoTQxIQ8PD0tpYqK2qev/h3YvNU2XuNeO4ExMyJPDw+I0n6frOrR7qenq+359KU1MyA9uv13cubkmvd25OXl4eFgqhYKUs1l5eHhYiuPj4kxPi1epNO3r+764c3OLjjE1NiblbLYvNHWLxUWa+L4vvueJOz0tbqEg/syMhIWCtJmua9CJpaarSHM94JXLVlfXlR/dfrtUxsfFLRQkd+SIOM8/LzI3JyIiYTYr4fCwhM3lr691XU5T33XFdxxxCwVxsllxCwV5cnhYKuPj4k9NSTg1JeH09KoF9LNZyQ0Pi7/wP+i6Bp3U1Mlm63VqYz1Qq0O9uTlxp6bEnZ4W8X2RQkHk8GEtq6fRtVIoSHF8XB4eHpZyNivu3JxUau+g6nupNDEh/vz8Qj1Qe59ns+JPT0tueFi8bFb+7u+s5EuRzYp87GN2HXVNG+lEG+sMx+y6Du1earoWn3tOvgTyJRB505vssj50XYN2L0uV1Rq157u1rm393ll7me66Du1e1rtv1Q/91X5Yeil71xHg54FbgRcAWeC1IvKG9bqGxmjorivE4wax080JgvbOEQ9KJZs5qVLBDAyA4xAfGopcNPRrr71WHrr77qXute3nWkZTiGCU+Zqu7sQE5aef5tyf+ilgjTF9UimyX/0qF3zgA0vG9DGpwcYYsZHVlJp+6x/TJ3KawkK9Wn8+W+NHQadj+kRO1zNq2vmYPpHVtMZS2orvY2KxakrDjsT0iaSu9Xq1llFyfWP6RFLTJctqG9tYKzhmZHWdfuwx7nzFKwD40JveZL/U7F1nxZmydwXlCki4qKwBnNi3j5OZDBcPD/OyffvWUqYjqWuX+1aR07Qf6KXpXT8HlIDfAf4eeAr42bUc0BjzLmPM48aYJ40xv7+a36ZStjxX+75tDwrY+mBGOfDwet1rP2kK9v5SF1/MuW95C1DtkFQNFtQ6JsbYRnQisRBDBawhqJrmvR6c1Bhr8AH7XSzWYPDpeAronqBWZiQMF1LdN2IMBushGVbnDoi6uq6ImrYmHm8uiwAixKpGnlg8vmhqjDGra1/0y9SaZTVNJIjFYgTlMrGakScIFgw+rfqvgH4LTrzU+6NmRIeq5mCnf3qerWtZfVntB+r1aq0MikAiYWOmiCy8q4yxZdMYEglb/xpj8CsVgsCWwUrlzO2xPiuqHWn79Ft7qhFvbq7zJ/lf/wv27u38eXqQxilb8cGBhfqhtm1oCNJDvOzWW3lTscjLbr2V+NBQ07QinWKkfStl9fSE0ccYEwf+RkRCEfFF5Msi8scikjvjj09/zD8Dfhq4ArjeGHPFao5RqVjjfqVytldxetxcjtH9+5uDxUaU9brXftIUsCP6xuDl82TvvZegGvy2Hpw5n4cgsAFdDx3CzefrATNLExN2v927qUxN4VcbOrXf+nNzeLX9czmCdge26lG8fH6RJjUjWDg7SzA/z/yhQ4STkwTT0/DAA4gGtzsjQQB+sVgP5urm8wtfJpN4+TwCSC4H+/YtaDo9Dbfdtnzk1tbz9FHQ4eU0Fc8jFMGfnbV1oefB3r02wLDvr0rPfiUIWBTkvo7vExSLhJ5n64JsFikWbfDxI0dU2yVo0jIWIygWyd57L24+jz8/Xy+/oeviV8tsMDNDJZu1wZ/zkzgOHDoEWt0uphNtn75rT1VpNPrcc/QoJ554ov75J3/yj9mz53+v/SRPPAEPPLD242wwlku24uZyjFXLWi1+dmP5CzyP0X37CIJAgwo3oH0rZTX0hNFHRAKgZIw5t42H/dfAkyLytIi4wCGsN9GKcF1hYADe9jZhaCBoe+ZGv1SicOwYL3vveykcOxZpq/V63atfKjF++DCDL3oR44cPR1pTsKMlUg3inNy2jRe++c11N/jGoGuB63Isk8HJ5xe2ZzKkzj23/vnRAwfsyLXr1rc1Bn4+PjJiG+MR19QvlTiWyZA85xxC18WdnrbTO6pzPP3ZWbx8HrN1K7MHDuCOjSFbtsDICFIqIVW3ZGBF3hR9YkejUgFxSjabnOuSPOccjmcyVi/fBxGey2QIPQ8ZGECGhwmLRcT3CeNx+OmfhmeesfueRtd+Cjrs+1bT+ZMncaamuOANb2D8rrtseU0mIQhIbNvG/KOPEhpD+KIXQfV7Tp6EZ54hDALrqRIEkdZqtbiu1bbxvSWOYz1SQjsVoTg6CmFI8vLLmTlwwAZ2f/555BWvsJ25WjmtjhqFlQrS+MBXv++HOqC1DSCOQ250lPOuvJLjn/0sQalUL78kkxSPHcMXwT95kuMNwZ/j4nD11cLhw50bjNuIdKLt45dKpLZv5+q9e0lt3x75d38jjUafJ8tlvnXqVP3z8eM5PvnJb6/9JGeaoxhBglKJ+PbtvHTvXuLbt9c9floDBYtTQpzFSQqOZzKLko/0U7lsRftWyqrpdlCh2gLcAZwEvgj8cW1Zw/HeC9zW8PkDwJ+e7jetgZzDMLRRnJ94or3RnItFkaUDl3X9/9DupQeCjcl63Od6L/VAzpVKPfjyUsGbawFznelp+cHtty/sk83KzNNP1z8Xx8elUiiIVy7Xg2o2Bn4uZbPiFot9oemSgZwdxwbJ9Ty7/Uc/Ej+XE79QkPDIEQknJux6fNwGeC6VRD73ueWjjYr96gtfaNql6xp0Utewpc5zi0UbHHd6WpzpaVuOCwXxXVcq4+P1AK6zt98u/sSEyA9/KGE+L3L48Gl17aegw74vTcHZK4XCQnmtals5dao5IKbniczMiBw9Kv7EhNWqVn5XHoC46xp0StMaiwI5u6545bJ45XK97P7o9tttkOG5OQnn5iQsl5sDOefzi3UuFm2Q8s99TsJ8oTUocdd16JSui+pU1xW/UhGvXJYf3H57vfxOjY3V9y1ns+IUCvLw8LDMVwO9SxBIGISyCrquQac0bUQDObdP1ye/8pV6IOfaEk5kxXFEPvYbT8gHf/H4WWta59ZbRd7zntatXdeg3UtrWV2uTDXXD/bd1lr/PnyaoM9noOs6dEpXDeSsy2qWnvD0qXIXsBu4G/hOdVk++teZWWpi/aKo1caYjxhjjhpjjk5OTtZTtsdiMUwY2hHR2tIOdx/Pg/vuw3ecyFqrWzXVtILtoVXXoFSycREcZ1GK9aBSqVv/Jx98kOKJE/zYO99J4Di86uMfJ3XeeQyefz6pc8/lwh07eOCGG3jk05+m/Pzz+MUiL3vve8l95zuUTp3i8htuIHAcxvbvj7ymfqmEMWZRquagXCZ0nPpo0/E//ENkcJDY5s1w7bVw7Bi8/e1w4ACMjSH5PBw8aJclPFN8H77+9YUlaqP9i3R1fIKWOs/EYoSVCvnRUXKjo0ilwslPfxpxHMYPHKinag7yeWZGRgiHhjCHDsHs7LK6AsTPP5/zPvUp4uefv8533VlaNQXrjVLzxnv0wAHyY2ML5bWqbWxwcCH19cgI4fe+B089RTgwwMzIiPWKGhmxHmsR945qZSlNAbxyZVEa4dL4OH6xaKfTZbNIpcJjH/oQz2Uytkw+9RQ8//xCyvZyGQ4dWqxzNos8/jgcPIg5dJDynBe5OuBMbYCwUiF0HLy5OYJymXs/9KGF8ttQTxzLZIil07x8xw6evOEGTn760wSVCgbB98Nu3+a6slxZBU3ZvhaW0nV2YmbRftNf/1seurvEji/+BB/5n/+aH/1oZcc/8Tff5pE/vmPxF66LnGVQ/V5nubJ6ujI1eMEFXLNvH4MXXEA8brtbTduSSa7Zt494PN60vZ/QvpWyZrptdaotwI0r2baK410H/EPD55uAm073G/X0af/SA9ZoWY/7XO+lNWX7cp4+xfFxqeRydqmOmNZGVJ2ZGevZ0+J94UxP1/crT01JZXpafnjkiJT6JGX7UqmaWz19yhMTEnqehE8/bdNg11I1q6fPsrq2evrUym6lULCePp4nTnVEby2ePkvQdQ06panIKj19Tp2yXibq6XNaTUUW1wNusbjI06dWRsOZGQmnp623j3r6LKnrUp4+XqkkXrm8UH5r75qap8/EhIS+3+yppp4+6unTQV0rFZG/Ov+KRZ4+4+edJ3/38p+RvwL5W5A/fPfXxXUXymEYiriuSGk+FLfsi18sybf+4kn5R5B/BDn4y/+veJ5IWCrLzLePytimTXIIZOyL35Zw4TBd16ATmjayXn2BFrquQ7uXHuhbdV0DXVa/9FLK9u+KyKtbto2KyDVnebwE8APgbcAPgf8D/IqIfH+53zSmFiyVAoaG4lakMKTtqYuq6V39UonEQiT0yKX9aNS05V47xhLnibSuQc0Dbak07YnEQnaUagYvYwz1oZRqxqRayvZaBhrxPJuaGGyGL88jMTDQeAmR13Sp1OIxIHAc4um0zeLl+Ug8RiwWq2eiqf+m+oyfDt9vykweOU2hWdcwCAgbda2lR4zFoLa9Wp5FqqmdHYdYOk0YhMRSyRXp2kLkdG1Ng+tXKva5bihMBEE9TlcsmUSCgFgsZrWrxlEKYkmMV6nHAFpFhq7IawoN9UCtbqzVpbXsiDVNwdaXYWgzVDXWlZUKDAwQViqYRMKWaVhoA0S8DmhtA9Sf/Vrbs5auPRaz76VqtsjQ94knkgQCiUTMxgMZGsL3QxKJVTmpR1rTRjrRxjrNMSOn68UX/5H88bancL/3p8yfYd8VTSU4zf61fYeA9Ks+ypMf+FN27oyepkuV1fXqCzQQaV271LeKnKb9QNeNPsaY64FfAf4NcE/DV1uAQETevoZj7wD+CIgDXxKRW86w/yTwbMvmFwBTZ3sNK6Dx+FMi8q4OnmvdadG001rWaD2P6nr2LHds1fTsON1xI6cpLFmvdkLbvtK1g5qu9Dj9oGmN9axfo67rWrU8m99HXdNG1rNu7Qdd263nmY7XD5rC+varIPq6dqNvFTlN+4FeMPq8FLgEuBX4/Yav5oBHRKSrM92NMUdF5NqNevxeYr3utZ80hc7eb79pWaNT992vejbSCQ36Xdd23X+/67gUWr+2j7Xeb7/ptVq0bm0v7b73ftayEe1XtRftWykrJXHmXTqLiDyLtVZe1+1rURRFURRFURRFURRFiQo9k73LGPMLxpgnjDEzxphZY8ycMWa229elKIqiKIqiKIqiKIqyEem6p08DfwD8rIj8S7cvpIU/3+DH7yXW6177SVPo7P32m5Y1OnXf/apnI53QoN91bdf997uOS6H1a/tY6/32m16rRevW9tLue+9nLRvRflV70b6VsiK6HtOnhjHmPhF5Y7evQ1EURVEURVEURVEUJQr0ktHnAPAi4K8Bp7ZdRP6qaxelKIqiKIqiKIqiKIqyQeml6V3nACXgHQ3bBFCjj6IoiqIoiqIoiqIoyirpGU8fRVEURVEURVEURVEUpX30UvauC40xdxpjssaYCWPMfzfGXNjt61IURVEURVEURVEURdmI9IzRB7gd+FvgJcCPAf+juk1RFEVRFEVRFEVRFEVZJT0zvcsYMyYiV59pm6IoiqIoiqIoiqIoinJmesnTZ8oY86vGmHh1+VUg1+2LUhRFURRFURRFURRF2Yj0kqfPxcCfAtdhs3bdD/y2iJzs6oUpiqIoiqIoiqIoiqJsQHrJ6PNl4P8RkUL18zZgREQ+3N0rUxRFURRFURRFURRF2Xj00vSuV9UMPgAikgeu6eL1KIqiKIqiKIqiKIqibFh6yegTM8acV/tQ9fRJdPF6FEVRFEVRFEVRFEVRNiy9ZFT5DHC/Meab2Jg+vwTc0t1LUhRFURRFURRFURRF2Zj0TEwfAGPMFcC/BQzwjyLyaJcvSVEURVEURVEURVEUZUPSU0YfRVEURVEURVEURVEUpT30UkwfRVEURVEURVEURVEUpU2o0UdRFEVRFEVRFEVRFCWCqNFHURRFURRFURRFURQlgqjRR1EURVEURVEURVEUJYKo0UdRFEVRFEVRFEVRFCWCqNFHURRFURRFURRFURQlgqjRR1EURVEURVEURVEUJYKo0UdRFEVRFEVRFEVRFCWCqNFHURRFURRFURRFURQlgqjRR1EURVEURVEURVEUJYKo0UdRFEVRFEVRFEVRFCWCqNFHURRFURRFURRFURQlgqjRR1EURVEURVEURVEUJYKo0UdRFEVRFEVRFEVRFCWCqNFHURRFURRFURRFURQlgqjRR1EURVEURVEURVEUJYKo0UdRFEVRFEVRFEVRFCWC9JzRxxjzUmPM26t/DxpjtnT7mhRFURRFURRFURRFUTYaPWX0Mcb8JvBN4L9VN10I/HX3rkhRFEVRFEVRFEVRFGVj0lNGH+CjwBuBWQAReQK4oKtXpCiKoiiKoiiKoiiKsgHpNaOPIyJu7YMxJgFIF69HURRFURRFURRFURRlQ9JrRp9vG2M+DgwaY/4v4BvA/+jyNSmKoiiKoiiKoiiKomw4jEjvONIYY2LArwPvAAzwD8Bt0ksXqSiKoiiKoiiKoiiKsgHoKaOPoiiKoiiKoiiKoiiK0h56anqXMeZnjDGjxpi8MWbWGDNnjJnt9nUpiqIoiqIoiqIoiqJsNHrK08cY8yTwC8AxndKlKIqiKIqiKIqiKIpy9vSUpw/wHHBcDT6KoiiKoiiKoiiKoihro9c8fV4LfBL4NuDUtovIZ7t2UYqiKIqiKIqiKIqiKBuQRLcvoIVbgCIwAKS6fC2KoiiKoiiKoiiKoigbll4z+mwTkXd0+yIURVEURVEURVEURVE2Or0W0+eIMUaNPoqiKIqiKIqiKIqiKGuk12L6zAGbsPF8PMAAIiLndPXCFEVRFEVRFEVRFEVRNhg9ZfRRFEVRFEVRFEVRFEVR2kNPTO8yxlxeXb96qWUFvz9hjDlmjBkzxhytbttmjPnfxpgnquvzznScd73rXQJ0c4kcPaCp6qqargjVtDOoru1HNW0/PaCp6qqaroge0FR1VU1XxEo1/da3kGefVV1XipZV5WzolUDOvwt8BPjMEt8J8G9XcIy3ishUw+ffB/5RRP6LMeb3q59/73QHmJqaOt3XncFxIJ1e//OuE02aRvxe15Mly6rnQTJ55m3KkizSVMtrW1iyrKq2a0I1bT/Lvv99H0S0Hj1LmnRVLdvCsmVV64A1se59gD74f61U07e9DeJx22RVzoz2rZSzoSc8fUTkI9U/f1pE3tq4ADvO8rA/B3y5+veXgZ9f63W2nWIRHn3UrqNOP91rN5iehttus+vGbUeOqOZnQ6EA//RPql0nUG3bj9avnaFYhFIJjh9XbdeKatlZCgX40pfsup1oL7wzaJ29iCDo9hVsQLQcKaugJ4w+Ddy/wm2tCPC/jDHfMcbUDEgvFJHnAarrC9p0je3B88B14cEH7TrKL9Z+utdu4HnwwAOwbZtde55dnnoKXvta+MpXmo1ByulxHMjl4HWvs9q1uxHdz7hus7ZaLteO1q+dwfMgDG1P5MEHoVKxnirK6qmV0UYty+VuX1V0cF14+ml4y1vs2nXbc9ylBpOUtaN1ttIOPM+2Vx980K47XY60nG54esLoY4x5kTHmNcCgMeaahng+PwUMreAQbxSRVwM/DXzUGPPmVZz7I8aYo8aYo5OTk2d3A2eDCHz963DwoF1HKKD2Ik3X+14jWjEtW1aTSXj96yGft+tkEmIxuOwy+MY3rO4HD9pRVqWJJTVNp+ElL1kos4cO2ReqsmKWLavxeLO2Bw9G9nltN8tqGuF3Sac57fu/Vo8eOmS1/cY3rBFIOSOLdE0mYWCgWctCQZ/9VXDashqP2/e949h1PL72E3reQh0d4Xq6K32AiNfZXetXRZwl+1Z33GHL0R13dLYcqQE4EvRKTJ93Av8BuBAb18dUt88CHz/Tj0XkR9V11hhzJ/CvgQljzItF5HljzIuB7DK//XPgzwGuvfba9at5YzF4//vt3+9/v/0cERZpagy87332y/e9D4w5za/XyPS0rQCvvx62bu3cebrAsmXV8xYa0wAf+AA88QScOgW/+It22/veZ0epfR8SvfLYd58lNXVdq1OtzF5/vc6XXiXLltUwXKytxvdYEctq2vou6WT9GjFO+/53HHj88WZt29GZ7gMW6ep5zc/9+98PQ0P67K+C05bVMLTeUw8+CBddZN9Xay2ryWRz2Y/o/6orfYAIt/+hi/2qiLNI1/UqR40GYIDf+I3I1gdRpydqGhH5cjV+z38QkX/bENPn50Tkr2r7GWM+2PpbY8wmY8yW2t/AO4DjwN8Ctf0/CPxNx29kNYShfUFv22bXUR5BNMaO8r3+9XbdqU5Jn4xMLSKZtJ3n2nLPPdbq/7rXwdyc1f0zn4GvfS1yI0odwRir1Wc+Y7ULAvX0aRcizdqmUv3znHaK1ndJpaKatoN02npNNGqr07vOjtbnftMmNaC1E5EFr95vfKM973nPay77Wqe0j35q/yudozZdtlaOOhUUqbWPoQafDUtPDfmLyH8/wy43shCcucYLgTuNNSQkgL8Ukb83xvwf4A5jzK8DJ4H3tft610QqBW96k/XIuPRS+zmqJBK2Af0TP2Hvs1OeJsmk9XJ5/eutpv1UMW3dumB9f9Ob4IIL7Ejqli22E/jmN8N11y2viWb5WqBWjp54Al7+cmsEUk+f9pBKLWh76aVWWy13a6P1XRKPq6btYvPmZm21Hjg7UinbWXjgAatjLKYep+2kVq/W2j7taE8mk7bNcPAgvPOdWqe0k37tzJ3UAAAgAElEQVRq/6+At7/9i8Cvd/syNh7pdPMz2sn309at8OEP6ztwg9MTnj6rYJGLiIg8LSI/WV1eKSK3VLfnRORtInJpdZ1f/8s9A7WRlH4YQSkW4S/+ovMR5n2/f0dkjbHT2+65B378x+Fb37J6f/Wr9sWw3HQ3navbTLm88Gz6vu34Ke2jsd4bHOz21UQD1bQzFIsLgTL78Z3STtLphQDuc3Pdvpro0Yn2ZG0wKWJT5XuCfmr/n4Fsdr7bl7BxSSSssbfTRvTpaZsdUPsJG5qNNtSy7nNTXLdDRvhKBc45B/+DHySRTtvPAwMdOFEP4DjN9+o4nbEWex5s2bJwnj7xXgmDwD4YxiCpFOYd7wBA3vIWTCoFv/mbIIJUKph43LoSJxKI42DSaWRgAPPhD9uXRtU9tPYdIojnYRIJ4n2gJZ4HqRR+LNasSRgSi8XA960uDYjrWp2VMxMEBENDyIc/jGkobzGwZc33iQ0MLGjaJ8/wmmjV1PMwsdjCiE48Tui6GJFFZVc5Da4Lg4O2LvhINSloEGDAllNYKMP6/J+eakPKF7FaikAQIL6PMQZiMcT3iSeT9h3l+3af6rMfuC5x1Xh5Otie9D2PRJ/XwX6pRGJoJTllVkg/tf9XgGjYgbPDcew76rLLtG+lrIgN7+nTKYIgZH4e7r4b5jthhE4mKedyjO7bRzmXi/YDlEg032sHp3f1jaZVgprBB3DzeUb37UM8D7eqg5vPQxDgTU8zumcPlWwWr1jEn5ujNDFh99uzh8rUFH7VC6v2W39uDq9QYHTvXtxCAa8jD0KPkUxSyecZ3b3balIdkRbfxysWIQyRhmwUMjkJu3Y1bVOWx5mbozI1xeju3Xj5BefLEPAKBZ7Zswd3chL+8i+tpkeO6MjSGVikaSyGXyxSm93vTk7yzK5deFNTiGq5cuLx+vvEzeUAWw8IMHPvvXiFAjI3B1NTWkbPRKuWxhBWKsw89hhuPo9fLDK6Zw9OPo+4rs00edttUCxSmZzku7t2UdE6dnk61PZxpqeZfPhhnD4u3+Vs1uqaXTIXzNmRTOIUi1bbYrEv2qqnQ40+Z4n2rZRV0lNGH2PMJWfYdt96XEc26xMEhgcegPvvt9PQXbe95/Adh+MjIxzPZDg+MoIf4UCx63WvfqnUfJ6IpygPSyWkUgEgKBbtfWcy+MVikw5BpcKx6nePHjhA4dgx8mNjpM87r77fowcOkB8dRRr+V/mxsfrvjo+MUMlmI6+pXyo1aZUfG0Mch9DzyI2OEoQhZDJIuWw7J5lMfZF2VxIRwy+VyI+N8eiBAxzPZDiWyVhtKxWkUuG5TIaTmQzPZTKE+bzVdGamv4Kyr5KlNA0rFYonTyKVCkGjrgcOEI6NIeVyty97Q9D63hLHqRvW0hddxHOf/azVc2jIltEIv8PXSquWYaWCNzPD5osvZvzv/5782Fi9/AblMvLEE3DwIMHjj9fr42OZDIHWsUvSiTZW4Dj48/OMHz6MPz9P0Iflu1NtysD38YtFq22xSNDnU0fV5nN2aN9KWS29Nr3rvwOvbtn2TeA1ACLyf3f6AkqlkJGRKW699YVcd53ddt117U80YdJprty5E4Ard+6MtNv9et1rP2kKEBsaQoIAcRyevfNOXvHRjwKQ2Ly5SYf4wABXDQ8DcMWNNxIfGLAu9NXvm7Ynk1xZ3XfbNddw3itfWd8vsWlTe12cexCTTDZpldi0CZNOEwO2X3MN8UQCuflmYtW4KVLdl+FhneJ1Bkw6zbarr+acSy8F4KrhYUw6XXffvKiq5UXDw8Tuugs+8AHM0aPwrnfpyNIyLKWpVyyy5ZJLMAMDxGnQ9cYbiW3ahNGYPytiqffJ8UwGgFf+1m9x0c6dxIaG7HTZD3xAA1yehlYtYwMDpOJxnjl0iIt//uft9uFhrhoeJj44iLn0Urj+euKXXVavj68aHtYpXsvQibaPQN2YDHDNJz+55mNuNBJDQ026tqv9IyLN2n7iE2057kZFPX3ODu1bKavF9MLDZoy5HHgl8AfAcMNX5wDDIvLK9biOa6+9Vo4ePUo267N9exzHMWSzNhFSOt1ew09QjWURVirEqnN54/H4uk1fWy+uvfZaeeihh4BF99r2c0kQEAYBQblMfHCQWDxeM25EUtejR48SeB7EYrj5PON33cXF73kPiU2bbHwfx8E0dJYlDDHYEbxYKmVjKSQShOUyc888w6aLLiI+MEDoOORGR9l2zTUkBgeRIMAkEsREGg0bkdT0oYeOQuDaRogIJpkkKBaJDw3ZjDPFIjO33MK5w8PEzz8fikXk8ccxl13WjoDPkdMUGspqLV6U54ExmFjMagqExSKJzZsRz+tETJ/I6bqcpkG5jHgeyW3bqNewnYnpE1lNa7S+o4Nike/dcgtXDQ+T3LKF2MyMLb933QXvfjfm/PPbcRmR1LW1DSCex8zjj7PpJS8huXVrPZ5XPJ3GhCGcPAkvfrHNQMmaY/pEUtPTlVVYexsrDALcfJ5jmQxXDQ+T2raNWPMxI68rWG1rurar3RpUtT2eyXBlVdt4xNuqp+MVr/hDHn/8d4COZa+PpK7r1bfql/5qP9Ar07suA34G2Ar8bMPyauA31/tiLrggQRjCqVO2v3HqVPsrInEc5k+eJKiuJcKus+t1r6HjcGLXLu7bupUTu3YRRlhTgKBUBt8nrFRIbdvGJb/0SyQ2bSKsVOpxef4ileK7N99M9r77mHzgAdzZWUw8vmAMCkNC18XJ5bjn136NyQcf5Hu33MLfv/WtPHLLLWTvv5/yqVM2dsWuXZGfGiJOCQlDZh57DG9mBmdqivjAANmvfQ0pFnFGR5nJZJipTvHiK1/B/M7v2Iw0ES9va0Uch4l//uemWEn4PlKpUBwdJSwWMdVBiLpxUT18TktN0/mTJ3FyORKDgyS3bkWKRYJKpT4tLpZK6ejcKhHHYfr4cZx8nunjx4ml01zziU/gnzrF7IMPEiaTdmpnbSqiTj1alpqWfrGIMzWFicU45+UvR1yXEzffTP7wYSpPPWUHMY4cgQ99CL785Xr5VQ+f01OrB6a//30m/vmf29LGCh2H+OAgV+/dS3xwMPLtqaXwSyW+e9NNfHXzZr57001tm9YijkNq2zau3ruX1LZtkW7/r4Qw7L7zwUZkvfpWnahflO7QE54+NYwx14nIA906/4KnT4Xt29OIGHzfxsYypv2ePuJ5+NURbpNMRtJyWrNGL3GvbT+XBAEh2CxVAwM2u0rER09qFng3l+P4yAhX7txJautWpOrxlH/kEbZdfXV96lbt/5A891yblSudRjwP8X1OfPObXPye9yCuy7FMhituvJHk5s3Eh4bsKGwqVZ8WRkQ1feihh+qjzo3ltU4Q4NxzD+nXvx6TTBIzBpmYwGzf3o5U2ZHTFFrKahgS+j7l559nYPt260E2MACeRyyZrAsgjoNpdKVfpcdPS0a1yOm6Ek1jQFj1kKh7V9UMP2v3oIqspjVa39Gl558ntXkzyW3bbBa/RAJTqcCTT8LLXobZvNk2EtambSR1XdQGiMUWGlRhaL3U5ud59s47uejd7yZ13nnEPA8GBxHXRYAwliKROKtER5HUdJGnTxgSOg6xdBpisbZ4+jgN3ijpfvX08by26gpVT5/GNtv27X3t6fMTP/EZnnzyPwPq6bNS1rNvFQQB/twc+bExtl19NYktWyLZX+0HesXTp8ZvGWO21j4YY84zxnxpPS+gUvEZGXkMsAP3997boQF8EbzZWY79wR/gzc5GO5LZOt1rSDXz1P79uLkcnXl39A5BgPWUcN2mIGulH/6QwHGQIGD88GGCcrkehLH2f3ALBZ654w6rk+sy9olPcOGOHRCGJDZv5rLf+i1SW7fy7J13UslmCcplvGKRMAhOf1EbHKmOLC8qryLguoRzcySvvZbSN75BODlJMD8Pjz9uPaGUM+LPz+Pm8zz+hS/YqUjVjrX4Pl4+jwCSy8G+fUgtW8r0tM3ks8IMMsHkJIVduwj6JNtPq6ah4yC+TxgE+LOzNlvS449DLXuX46xKz76l5b216aKLbPDxap0bFIuE8ThcdhnccovNNlcsasa5pWhtA8RiiOsSVioQhniFAt+75RZe/Na38txddxHMzxMkEvVnOZycxBSnKZfh0CFoZyKlqOAWCox94hO4hUJbjhe6bj05xPFMhrBPPdladXXbUPgaE2bUgsT3M1Hu/nSU9epHhmFTUPdOWeaUztNrRp9XiUi9tSQiBeCa9byAgYEEt956FWFIU/autk/vaumoR9k1fL3ute9epI7N3mUSCa7cuZMrh4e5cudOnvra15oyb33/D/+Q/OgoYaXSpI+Tz9t1LlffFkunKU9McPKv/5qx/fu590MfslmsHnmE3Oho5F28jTFLltewmsmkeOwYxdFRgnye2QMHcMfGkC1bYGSknklNWUylYp/PxkxTxz/7WWLJpPWsMsZm7apUYGTETpsZGUFKJZsZqbacIYuXuG59+t1MxKfc+P7SmsYHBjAiSDW22XMjI4TbtsGBAzA21qypZkVbEtdd+r111fAwiOBOTVEcHUWKRaRYtOX1s59FHn8cZmdV2xaWrFM9zw4oNGSX/Jc/+zMufs97mLrzTsRx6s9xra6dz1eYnobPfMbWKYqlE20fE49zxY03cuXwMFfceGOjl2/f0Jq1SCoVnhsZIVjjNK9aYNxam63fp9720oyTjcS69a18v97GePTAAaTPs81tZHote1fMGHNe1diDMWYbXbjGXE7Yvp2m7F2xNpvH+ika+nrda7zlPPEIawoQHxqyHjyxGIlNm7jqYx8jPjCANzvLtquvrmfeuuLGG0ls3kysRZ/xw4f5V7/6q8QHBuqZU2LpNKmtW0lv28a/+tVfXfj94CAmHo989i4SaUwiWFRejQixWIzNV10FiQSVEyfY/Mu/jNm0CfOd78DOnZhVzjnoJwYGIAiWyN6VSlmLuuPYrF0DA1DVnp077RSv66+3n6+//ozTZkwqxbnVbD/nRjyjWiIBgVk6IxqAicXwCwWbZer55+HGG6GWvev661ekZ7+SSkEQX/zeSla1Tb3gBSS3bVvIPjc8DL/7u3aKVzYL73ynatvAUm2AWCzGwAUXEEskuKr63VXDw1CpsH3HDkw6XX+Wz7nxRsymTZAeYOtW+JVfWfUUr0jTkTZWPE5y82Yu3LGDZG3qYp/Rmr3LDAxw0c6dNrHDGqnF9IlFvJ26EtTmc3asW/auVKqe1ffKiLerok6vxfT5NeAmbJp2gPcBt4jIV9bj/Ndee63cfffD7NuX5dZbXwgYgmDhXdfOd55fKmHS6YVsFo5DYmgocnMkr732Wnnw7ruXute2nytwHEgk6jF9qGYDIaLzee+//yjxuE3ZXovNY5JJG88kkai70Jt4fMFqWcvqlU7X1/g+Us1URRgu/C6ZRHzfxl8QaTWiRVLTWlkFFulac/eLxWJ2GlgsRiyVWihvaydymsLCnP5anYfvI2DLaI1aTB+RhTKqMX2W5bSaVp9hA8jc3EJacY3pc1paY0/UtK3XkzVEIAxtQPzGz7GYtcRpTJ8mGuvVupa1KbPG3m79PROP2+mHqRQx38dUM/lpTJ9mliur7Wxj1TMDNrzf4v0Y0yewCR5MegicUlsMPn7JJozAGJslNBar/b/6QtNWLrkkw7PPWqOCxvRZGevat1q6Loicpv1AT03vEpG/AN4LTABZ4BfWy+BTY2goxs6dLwBs4+LuuzvjRmzSabx8nrH9+/Hy+ch7+qzXvfrZLM/u34/fB5P+k7jgOJhUirBcJqhUmHn0Ufxike/efDNONkvgODz9l39JZWLCZk45eRJjDMHcHMYYTtx0E3cPDPDsnj3M3nMPMjND9itf4Uef/zzZr36VuQcf5O50mhO7d/fFnP5aWf3uTTfhzc7iz81hkkmce+7BeB7xZBITj9tAuVWjgnr4rIy6trt348/O2lg+5TJ4nk0nHo/bTnM83mzwgVV3ovtlJGopTYnF7Evr+HFi550Hu3ZZI1BjvateKGekpu3ovn14+bzd6Dic+PjHbZkNAmv4SSRseasZMVXbRTRq6ebzdppwGILr4k5MMLpnD+7kJFPveQ8z+/bh3nsv8uCDBBVrvK0ZfEA9fJaiU22sxhiJ/Yjr2vBn7/iZIW67DYJEezrUJp0mKJcZ27+foFyOdPt/JWj2rrNj3fpWIs11QQ85iyiro6c8fWoYYy4A6q92ETm5HudttEh7nhCLGYwRRAxh2N62nF+pYIwh9H1iiQQiQmJgIHKW02uvvVYevPfepe617efqt+xdDz54FGOCuldDUCzi5PPMPf00iU2b2HzxxaTPPx+ojqRWO8I1T6DQde3ogOdh4nEkCDDJJF4+T/6RR3jhm95kt1Wz/5jkQKO3WzQ1ve8+Zh57jHMvvxyCYOnR6TC05bjmAeR56ulzGupeKZWKnQtujDWYVUc561R1rWWcqhU2cV3rpaLeE3UaNQ0qFWLJpJ0mUNO06m0SM8Z2sFMpYjVvn7PUsV+8p2osekdXt5tEwg7/G4Op6h2r1gMkk/VR19PRomUjkdT1wfvuW6gvq++ZmvfZd3ftYuaxx3jl7/4uF7zxjfZHsZj1+EmnEcdjpjzA0BCkYi7xdIpqlbBsm8x17RS9KpHUtLWs1upWRDCJxJrbWCvwHoq8rrC0p49fKi3pUVHbXl9XXBIDqUX7+5UKo3v21DOjXfOJT9T+X32haSsXX/wHjI9/DFBPn5VSq1cNNL2jEh0w/PTLzJR+oKc8fYwx/84Y8wTwDPBt4ATwd924llgMYjEhhth1u2P6JJO4MzOM7d+POzOzlg5Nz7Ne9xoCQS7Hs/v3E/RB9i5jsA28alwUr1jk1Le/zfmvex1bfvzH+f4f/RFuoUDoOIzu3YtfLNrR1r17qWSziO8TFIt2lLVQ4JlDh3DzedxikfNf9zrc6WlG9+7FzeWYefxxvHz0syGZRIJzXv5yvJkZOyqdy2HicTvSXw3ynD14EC+fZ/7QIcJcjuKhQ32TKWotmGQSv1Sy9UChYDsp1Yo1nJsjLBbx5+aYuf9+O5rkeQvZe7JZZGamy3fQe5hk0mbf278fN5+3LWYRiMUICgWCSoUT+/YR5PPWU2929qx07LeMaO7k5OL3ViJhsxhWdQ5LpXqmtKBYhNlZgmyW6T17CE7jadpvWoKtV0Pfx5masp5T09OEnodfLnP13r1c9/nPM374MF4165lUKpSeeMK+z/ftYUuQJRXOM7N7F/7kJMeO2URpxeLic01Owu7ddt0vNNatfqnUljaWSadxczlb/nO5vvVGcXPZalsgC+k05az9XG55xhu3P3PHHZSzWUwyvuT+JhZrDpLd7g7GBqMHfQ82BCaRWPSO6sh5tC6IDL1W03wSeD3wAxG5BHgbcN96X0Q262MMNr4Edm1Me2ulfso0tW736jg8NzLCyUyG50ZG7EhhlHFK4LpItePx6IEDOPk8lcnJJr0rk5Mcz2TIj47Ws6Q8euAAudFRcqOjzdm8MhkGL7hg0THS27ZxLJPBX2PWil5HHIdKNtt076Hv21TNlQpeNoufz/NcJkOQzzMzMkKYz9tMUZpO5rS01gN+sUhYqRA6DsVHHrGZ0cbGSGzZYjOklMsLmbgOHEBGRyOdjetsaNU0dBy7+D7PZTJ42Wy9PgwmJ5Fjx2CVOvZTRjSwqaqfy2QWa1upEEskbD1YLFIcHcXLZpH5ecLJScJUipmREatTdf9W+k3LGq1Z5o5lMlQmJ21WSc9r2i6Og5fNkty2rel9HmSzNpNXJsM5gy533AG5XPP0e9dtSv5Hn8jbkTZWP7VRl2Op7F1N77Bqe6h1v1pm1OX2R4T4wAAX7thBfGCg760efX77Z816PaNaF0QIEemZBThaXX8PiFX/fni9zv+a17xG5ud9GR5+Xnw/lDAMRcJQQt8X35e24vu+lCYm5OHhYSlNTIhvT9D1/0G7l9e85jXL3Wvb8f1QnIkJeXJ4WJyJCfH9sPZV13Vo92J1DcX3/fpSymblB7ffLu7cXJPe7tycPDw8LJXpaSlns/Lw8LAUx8fFmZ4WZ3q6vt8Pbr9dStms+K676BhTY2NSzmYb/3dd16BTmrrFYnN5rVTq9+4Vi/Kj228XJ5uV2dtvF39iwq6zWWkDXdegU7qK2OezUVevXLZl13XFzeXEnZoSt1CQ3JEj4kxMiLiu+Nms5IaHxR8fl3B6WnVdpGlL3eq6dqlUxMlmxSsWF+rDuTkJp6bOSsf6/2GhnHddg05pKiLiVJ/31vdWpVCwdUG5LO70tHjFovilkvhzcyJTU+JPTFidJiZWo2UjXdehE7rWtCuOj8vDw8NSzmbFnZuTSqEgXqlUfy/VyrBXLMrs2Fjz+7xYlNzwsHjZrBw9KpLPi8zNLRYwmxX52MfsOsqaNtKJNlZrfd3QnqrRdR3avbTqKiKLdF1Ok8btP7j99mX296va+lKZnpYffetbUpmejny76ky85CV/IMaIGHPGXc+WruvQ7qXWXj3DM9oW+qW/2g9LT8X0McYcAX4euBV4ATaY82tF5A1nebx3AQeAOHCbiPyX0+1fm3uazfps3x4nFgPjeXDyJHLxxW0NDtovcyTXM8K8ndIe1GP6iMRrwR8jqetDDx0F3+HE7t287NZbgYWMU4ShjeNTFWCpmD6AnbLk+00xfYD6xOra72rxGBqyd0RS0wfvuReTsvEmxPNsTJ9a/A3RmD5nQ2umqVoZdaamSG3duuDarjF9VsxymtZxXUgmiScSBKWSxvRZAWfM3hWGSBhqTJ9V0pQVsZYpMh5vyt5FLNYcO82YekwfXI/4oNUzcDSmD6xX9i6AoCFjT7w1g23kda1Ri8kTlEo2zlRVk5ZsZoti+gSOC4n4ov39Uoln7rgDJ58nvW0bl/zSL/V19q4XvvAzTE7+Z6A5ps+jj8KVV8LRo/DqV6/pMiKp67r1rRwXk4gvnMcPSKRTkdO0H+i16V0/B5SA3wH+HngK+NmzOZAxJg78GfDTwBXA9caYK870u0olYPt2Y6d3hSGcPAknT2JOnmxrhLF+miO5XvdqApcTN93EPZs3c+KmmzBBH/h2J9JcNDzMzD//s42uv28f/twc/vw8Tj7Pd2++GXdqisqTT0KhYPUZGuLEzTdDKISSwCQHCElCYgDfjyFiIBbHDxMc+fYgc3OxVoNPZIml04TlMm6hsBDTJ5mkXI4TTySIJ5PE0+l6Bi8Tj2v2rhVi0mn8uTmcQoHv3nQTsVgME4tRdpJNusYHB2mKGJ5KRTrm2Vqo1a21supPTdker7HlFSA+NES8mmFqLTr2S0a0Gq3aEoZQLhNUAtwgRTyZJJZIWIMP1C0QZzL4QP9q+d3du/FmZ62WfsCJm2/m7lSKEzfdhPvwwxQLAcX5BPF43JbbeLxu8AGIp61uqdTpE2v0mbydaWM55ab2FE557cfcoNQ70ibWpElQriy5X33/wG/evzq9y6TTXLhjB+VTp7hwx45It/9XQjZ70ZLb/+ZvwBDyzW+u8wVtENatb4XgnDrF2P79OKdOYegdZxFldfSMp0/VSPMPIvL2Nh3vOmCfiLyz+vkmABG5dbnf1CzSgR3isJ2SWmBMY2gd5lgTQUAArSMAkbOcNmq63OhIO1nmPBHWFcCW1ybvnlhswaOn5qFS806pleUgqKcZlmrq99rIq3jeggdGPI54Xms2kMhqKiKEYbjYewJrJQ8cxxooAPF8JB4jFoshQWADa9d+Ux35Px2+v5DpmQhqCs0jfUEQNOtaM6RXs/WYdLo2xGw9AhIJcBxrjAtCYqnkinRtIXK6LtK09lw3BnKsphQX1yWWTCJBQCwWs9r5PogQxJIYr7KQVWnlveVIa1qjXl4bs82JDZSNCNQ0xQZnJQytx2RjXVmpwMAAYaVi07vX/kfVchz1OqCpDdD47NfansYsvG/icah6QYW+TzyRJBBIJGIEpWrmJD8kkVjVeGVkNW2kE22sMxwz8ro2evjEq4YcN5vluZERLtq5k9QFF5zxmMvtH3geYfXdFl94n0Ve0z/5k/v57d/+n8zP72NoyL5vjLmTd77zPUxMwOjowm//v53H+A8Pf5TPXf3f+I9//Iq1XEZkde1i3ypymvYDPePpIyIBUDLGnNumQ/4Y8FzD5/HqtjOSyzUYwoIATpyod0Tawvw8gB1FrFpoo8563Ws/aWqx5bLunbJ3r83YVS7Xs3T5xSL+/Dz+3Byje/ZQmZrCLxYJHAfxvIXR7HyesFKpZ/SqTE7izc3hF4tk77uPcp+kQwnDsHmEH+zzH4aEIozu24eTyyEi8PyPMLOzSD4Pu3bB1BQyPQ3lMtx2G1Sz0SzF9DR88Yun3SVSSBAs1jUWw5+ft9mPUin8XA4xBm9ykhO7d+Pn88zfcQdBLkdsahIpFODIkf4RbQV4+fzCcz03ZzcGAcTjeMUi/uwsXj7PM7t32wxfxSKUSvDII5Cz2abCXA7uuQfpk2d8JQSN5bVaN4rvI0FggzQbw4ndu23GqXIZKRZtgMs9exZ0LBTg+9+vZ/UK83lkft7+D267DSlM901xXvTsiyCeh3he/X3jF4tM3H8/Ti7H6O7dOLkp4kZws1lO7NuHm82SiIGEvTFY2Ut0ou3Tf+2pBZqybqXTuNXsW6kLLuBl+z+xIoNPff99+xbtH08mMbFYo8GnLxgZuReAiYmF1HvnnvuveMMb4D3vad73kucfAOCKyW+v2/VtNLRvpayGzuR3O3sqwDFjzP8G5msbReS3z+JYS1khF7UUjDEfAT4CcPHFF1MqBYyMTPFf/+sLm6Z3AXDJJWv39vE8uO8+/H/zb+rR0AGu2bevI3Mxu0Grpo2ZDaBz97pe5+kWrboGpRI1T73K5CSPff7z9Xu//IYb6n9fuGNH/RiN2za/9KUkt2xp0uzyG26g+Oyzi36b3If3DGMAACAASURBVLKF45lM5DX1q5o2anL13r31uEcYs1C+9u4lfu65tvN8+LBNGQOwYwdy6aWYgwft59/4jUWeKb4PX/+6XQB+/debnTQ2Oot0dXwI3EW6AuTHxgA4/7Wv5bmREV66Zw/jBw5wsrrf9he9iJmREbZ+/OPEDh6Ebdvg4MEldY0yrZqCrfNqGfnAPq8veO1r6x5/+dFRXvDqV3PyU5+q63nJL/8ysViMcGCgnm0KYOt734vJZJBPfapvph8tpSmAV65gwmBR3ZjcssV+PzfH4AUX1DV92Q03EHv2WXjpS+v1gOzfjzl0iPDNb27W+YYbIJ/HHDyIAcov+A2+/vVkpOqAM7UBrt6713qaVVNvNZbf1nfSNXv31rN4Abxs3z7iAwP4vqzW42dDs1xZhc60faLenqqxXL26VBl82b59dtrh4OqmdMeX0S2KesLpy+rLL3k573rt+czN+fVtL71oO6/5wmuonHcJxd/9Jps32+3xHzzI9449DFdf1XSMu3/vfyJTOd7yxQ929kZ6DO1bKWum25GkGxfgg0ssv3aWx7oOO12s9vkm4KbT/aYWZX5iwhPf9232LscReeIJu24XxaJISzT0Kl3/H7R7qWm6xL12hGXO03Ud2r00Zu/xfX/ZjF3F8XGp5HJ2KRQWthUK4szMiFcuN/+uWKxn9CqOj0t5akoq09PywyNHpNScbabrGnRS09ZMBb7j2KxInmezz0xMSOh5Ej79tM2IlM1KODws4fi4hIWCSKkk8rnPiRQKshyFgsgXvtC0S9c16KSu4VK6VrP6ONPT4nuezdLjulIZH7dZexqypMkPfyhhPi9y+PBpdV2CrmvQKU1FpCkjX6VQWCiv1QwxlVOnFrIgnTplUx7NzIgcPdqUbSo8ckTClWeh67oGndRUZHE94BaL4pXL4pXL4haL4vv/f3t3Ht/YVd////WxPTPJhCQQklL20HxZyhYggRIINOwppZCyFggU2u+3pbRsLUNLm2WgP7rZJR1KAy0hMzSELOyFsoRsBELIQuzMTFYgGcgQGNlje2KNrP3z++Mc2dcaSZY9krW9n4+HHrq6urr33I+Ozj3n6Nx7iwt5tLxvn5dnZ708NxfKgUocp6cPjHM6Hb6Dc8/18vSMf/Ob/V0G1KoDVO7aV8hkvDA/v5h/K8eauOz8nj1eLhaX3MXLSyUvl1Z0l5qOx6BdMU1qRx1rmXV2PA6tfiTjWp1fc22uu0Ydj0GrH5WYlgoFv+uCz/pnRzb4+eCf/bVj/b4rr/RstuhbH3G6Xwl+JfgFb/qsu7vnMzn/AeZXgl9n5sWf/dzLV13l0zff4rc/6EG+/fDD/VeXXuql5u5U1/E4tCuuHWxbdTwGeqz80TXX9AEws/e4+5bl5jW5rhHgLuBFwC+AG4E3ufut9T6TPPc0kymxceNwCFK53Nrr+cDi+fzxnOFKslu7kc5LxrRqX9umxnb6Oq6Va1Dpmj4Hp+G1ZyJd02flknEtl0qUdU2fg3bAtSeyWV3T5yDpmj7tUV0H0DV9Dt5yd5lqpQbr7Pu41rqmT5v1XUyf/Yxn+N+acf9tt1HIZlkHbATShIsTVIq+WjteuXWOx/c9Ma9iGDj8QQ/ixBNP5JFVo4p43/vgSU+qt/qe1gVtq76L6SDotk6fm939GVXzxt396atc38uBfyOUC+e7+0eWWX4S+FnV7KOBqdVsv0nJ9U+5+6lt3Naaq4ppu2NZUb0dxXX16q1bMV2dRuvtu5hCzXK1HbEdqLi2MabNrmcQYlqxluVrv8f1YGO5ms/3e0yT1rJsHYS4tjqey61vEGIKa9uugv6PayfaVn0X00HQFZ0+ZvZG4E3AycD3Em8dDpS8RXf0Wg0zu8ndT+zV9XeTtdrXQYoptHd/By2WFe3a70GNZ1I7YjDocW3V/g96HGtR+do6B7u/gxavlVLZ2lqt3vdBjmWS2lWtpbaVNKtbLhv4A+CXhF7Ef03MnwO2dyRFIiIiIiIiIiI9rCs6fdz9Z4Rhaid1Oi0iIiIiIiIiIv2gq+53aWavNrMfm9k+M7vfzObM7P4OJ+u/enz93WSt9nWQYgrt3d9Bi2VFu/Z7UOOZ1I4YDHpcW7X/gx7HWlS+ts7B7u+gxWulVLa2Vqv3fZBjmaR2VWupbSVN6Ypr+lSY2U+A33P32zudFhERERERERGRXtZVI32APerwERERERERERE5eN020mcL8OvAV4BcZb67f6ljiRIRERERERER6UFdcSHnhCOADPDSxDwHvgRgZoe5+/5OJExEREREREREpJd01UifeszsOcB5wAPc/VFmdjzwp+7+zg4nTURERERERESkK3XVNX3M7BFm9mUzS5nZHjP7opk9AjgHeBmwF8DdbwGe38m0ioiIiIiIiIh0s67q9AG2Av8DPAx4OPC1OA93v7dq2dLaJk1EREREREREpHd0W6fPMe6+1d2L8bENOAa4N57i5Wa23szeD+guXyIiIiIiIiIidXRbp8+UmZ1uZsPxcTrhlK53AH9OGP2zG3hafC0iIiIiIiIiIjV01YWczexRwMeBkwh37foB8G53/3lHEyYiIiIiIiIi0mO6rdPnM8B73X0mvj4KGAP+HngXcCyJ28y7+ys7kEwRERERERERka7XbZ0+4+7+9Op5hNPQPg3sAMqV99z9u2ubQhERERERERGR3jCy/CJrasjMHlQ10mcEyLj7xzqbNBERERERERGR3tFtI33eCnwQ+ALhmj6vBz5CuD37Y4HLgFxleXe/uQPJFBERERERERHpel3V6QNgZk8EXggYcIW732Zm/wi8Bfgpi6d3ubu/sEPJFBERERERERHpal3X6VOLmd0BPNXd851Oi4iIiIiIiIhILxjqdAKadAvwwE4nQkRERERERESkV3TbhZzreQhwh5ndyNJr+uiW7SIiIiIiIiIiNfRKp8/ZnU6AiIiIiIiIiEgv6Ylr+oiIiIiIiIiIyMr0xEgfM5sj3MIdYD2wDtjv7kd0LlUiIiIiIiIiIt2rJzp93P3w5GszOw14VoeSIyIiIiIiIiLS9Xr29C4z+6G7P7vT6RARERERERER6UY9MdLHzF6deDkEnMji6V4iIiIiIiIiIlKlJzp9gN9LTBeBXcCrOpMUEREREREREZHu17Ond4mIiIiIiIiISH1DnU5AM8zsX8zsCDNbZ2ZXmNmUmZ3e6XSJiIiIiIiIiHSrnuj0AV7q7vcDrwB2A48DNnU2SSIiIiIiIiIi3atXOn3WxeeXAxe5+3QnEyMiIiIiIiIi0u165ULOXzOzO4B54J1mdgyQ7XCaRERERERERES6Vs9cyNnMHgTc7+4lM9sIHOHuv+p0ukREREREREREulGvjPQB+E3gWDNLpvm/O5UYEREREREREZFu1hOdPmZ2AXAcMAGU4mxHnT4iIiIiIiIiIjX1xOldZnY78ETvhcSKiIiIiIiIiHSBXrl7107g1zudCBERERERERGRXtETp3cBRwO3mdkNQK4y091f2bkkiYiIiIiIiIh0r17p9Nnc6QSIiIiIiIiIiPSSnrimD4CZPQR4Znx5g7unOpkeEREREREREZFu1hPX9DGz1wM3AK8DXg9cb2av7WyqRERERERERES6V0+M9DGzW4CXVEb3mNkxwOXufnxnUyYiIiIiIiIi0p16YqQPMFR1OtdeeiftIiIiIiIiIiJrrlcu5PwtM/s2cFF8/Qbgmx1Mj4iIiIiIiIhIV+uJ07sAzOzVwMmAAde4+5c7nCQRERERERERka7VE50+ZvYY4Jfuno2vDwUe4u67OpowEREREREREZEu1SvXxfk8UE68LsV5IiIiIiIiIiJSQ690+oy4e77yIk6v72B6RERERERERES6Wq90+kya2SsrL8zsVcBUB9MjIiIiIiIiItLVeuWaPscBFwIPi7N2A29x9582+Mz5wCuAlLs/uf2pFBERERERERHpHj0x0sfdf+ruzwaeCDzJ3Z+T7PAxsz+s8bFtwKkr2c6pp57qQCcffacLYqq4KqZNUUzbQ3FtPcW09bogpoqrYtqULoip4qqYNqULYqq4tuAxc+WVPnPVVX0d00HQE50+Fe6edve5Gm+9p8ay1wDTK1n/1NTiGWOZTKmynpUlslmFAgDFTKY96+8SyZiu1b6W+jymsDSupVKJUqlEMZejVCiE51yOUrFIcX4+vBefS7kcxWx2ybxiNkspnw+PyroymcX34ut+Vx3TSgxKxSKlUglKJUrz83j87UpzknEFFuMaY1vJtwCez1MdXs/nkaWqY1rK5xd/4/k85VIJj9OlbBYvFjuU0t5RHdOKUi4X8milbIxlYimRL5NZVPl1qeo6QKlUolQoLHkuZrOL0/PzlIvFUO7mC0uPaaUO7kgXqZdX23GcHoRjf0WtY1XyuVT1ulr18tXz6y3fz2rl1eR+V+qqS+pcpRKlSh10fn6xbEi8X8xkqFkgDEj9rF4Z0C73fOhD7Prwh9d0m9J6PdXp04C1cmWpVJENG0KHj7m3vuNn/34YGmI+lWJ882bmU6nWrr8LrdW+5lMpdm3eTH4AYgpQio25wvQ042eeSX5mhnsuuoj8vn0U02nuueQS8nv3Mn722eSnpymk09xz8cXk9+5dfO+ss8hOTlKYm6OczZKfnmZ882bye/ey7847yU9Pc8+llw5EPoXQ4ZPfu3chBpjhsdIBIY+V9u3rcCp7U6UcyO/dGyps7iG/zsxQ2LcPPvc5mJoknQ7LlyYnmTnjDEqTk51NeBfL7dtHdnJy4TfO8DCFdJoyUJycZNdZZ1GYmaG0f3+nk9pzcrOzZKemGD/zTArT03ihEMrP6Wlwp7BvH7kcbN0K6bTyayNLfvtmlLNZKJcpz8+HY1AqtXDMyk1Ph8Zbeo7CzAzjZ55JbmqK8tysOn7qaEcda5DqqNWS+75Q/9mwoW5M5lMp9v34xwe832j5QYxtcr9LpRLlXA7Mlta5ADZsCHXRs88OZcPcHKnrrgNYWHa+Uo+omJ2F884Lz9Ja5TIM9UuXweDql29w1b0yZvYnZnaTmd00OTlJJlNibGyKoaEhLHb2tLTjp1CAa6+lmMuxc2yMnaOj7Bwb66se/+qYFjOZNdnXUibDvWNj/Hx0lHvHxvpuxE91XEuZDJ7LUc5m2TE6uhDf3PQ0O8fGmJ6YWJjeGd+f2bFjYV7yvdu2bGFmxw6yqdTCsjvHxthw1FHsHB1dWLaf8inUzqvlbHZJfi1nsxTT6TDKp1xm95Yt5MbH9Y9+A9VxBQ4oB0rz85RzuYW8lR4fpzw9zcg5o+y6K08xm2ff6OjCY9DjXS+m0+Pj3LZly8LvtpzNMj0+jmez7N6yJZSHo6OUUqmBj2G1WjGtKGYyTE9MLMR2x+goxXQ65NfRUUrZLOnxcYqZeS65BO65S/m1Yrk6QDmXI5tKUcpmyU5OLhyDpsfHF8qD8v795LZvZ0f83K1btpCemMCzmYHs+Fkur7a6jrVW9bZOa+ZYVcmTXlU3SI7sWagvVb3faPl+jW29vFq9357Nkt27t2ady7PZhWPabVu2MD0xwbrDDz9g2WIuF9pVhQJcdNHiow9H/DQqA9rNB7HQ7UceOzR6+QGM15l/LLCz2fWccMIJ7u6+Z0/Bi8Wil8tl91IpPLdSOu1eLHpmzx6/YdMmz+zZU3mn47Fs9aMS0xr72ha5PXv8J5s2eW7pdjoeh1Y/KnEtFkJenU+lFuJ719atntmzx7MzMwvTN2za5JlUyuenphbmJd9L797t81NTnk+nPZNY19TEhGdSqYVlByKmVb/NYrHohfl5L+ZyXsxkPLt7txdnZ70NOh6DdjwqcXVfWg4Uczkv5vMLeSs/O+vlrVs9f1/K5+bC8sVUyvdu2uTFVEpxrRPT7Oysp3fvXviNF4tFz87Ohufdu0N5mEp5MZ0+mBhW63gMWv1IxrQiOzOzENv5VMoL8/Mhv6ZSXsxmPT8769ms+yc/6T4315L82vE4tCuuS377hYLn0+kQw7m5hWNQdnZ2oTwoZjJe3LvX5+Pn9u/e7fmZGS8WFdNaebUddaxl1tnxOLT6Ue9YtZAna9fbF5afmpg44P1Gy9eY3/EYtDOm1ftdLBY9v29fzTpXsVhcqIumd+/27MyM/+Lyyw/8DpIFwsyM+7nnhuelOh6Hdse13a59wBH+gyMflJzV8RjosfJHT9y9azlm9nF3/4sa848Fvu5N3r3rxBNP9JtuugkI1/TZuHE4BMlaevZYUCjAunUUMxlGNm5cSHLrN9RZyZhW7WvblDIZhpdup6/jWjntyItFbGgIL5fDDg8P44UCtn49ns9j69dDsRjy9Lp1C/O8UMAqwzaHh8O6cjlsw4bw3rp1eC5X/d31fUwrMcAdzBgmXDtlaGQEW7euHUnou5jC0rhCKAdsw4bwwh0vlbChIYZjnizaepLhXci7q9d3ca2OaSmfD3Fcvx5KJWx4GAPKpRKUyyHPjoy0Mgl9H9OKUi6Hw0L8KmUipRLDMV/m81DJogeZX/s6rgu//cqpAvHZCwVseDhM5/MMrVsXhm+XHYzFY9rIhsohaiX6OqZJ7ahjNVhn38e1su+V50rdsl5Mqpevnl9v+YS+jyks3e9SLhfqnWaLdS6AXA42bAjl6chIKBsS73sux8iGDRxQIMS2VZWBiGs7Xb3+CHx4HS+Y31uZ1XcxHQQtrQW2i5n9FPgh8D3gGne/Lfl+nQ6fi4BTgKPNbDdwtrt/utltbtw4XFnP6hPeSCyU1qITpFus1b4OD1BMAYYrB71ateFKQ+/QQw9cpta8ikoMK+8NYkxr7PNwJWayageUA4nOCFu/nurq2kF2+AyE4WSMEr/n4VW0kGWp4UojZGHGgeVtMvzKr/WNVB9Xah27VMauWjvqWINUR61W2ffK83DV6+WWr55fb/lBk9zvJeVrMh6V6WR5UOv9au35Q07CXx+dToQcpJ7o9CHcqv23gOcBY2b2BOAWd//9eh9w9zeuVeJERERERERE+slIMctQuf+ukzRoeqXTpwQU4nMZ2AMM1iXvRURERERERNaIeym0vqWn9Uqnz/3ADuCjwKfcfe8yy4uIiIiIiIjIKv0CBy/xnE4nRA5Kr9yy/Y3ANcA7gYvN7ENm9qIOp0lERERERESkL+mKPv2hJ0b6uPtXga/Ga/n8DvBe4AOArvgnIiIiIiIiIlJDT4z0MbMvxjt4bQEeALwVeFBnUyUiIiIiIiIi0r16YqQP8E/Aze5e6nRCRERERERERPqdA0N4p5MhB6lXOn0mgD83s+fH198FPunuun+ciIiIiIiISBvomj69r1c6fT4BrAPOja/fEuf9346lSERERERERESki/VKp88z3f34xOsrzeyWjqVGREREREREpI+FE7s01qfX9cSFnIGSmR1XeWFmvwHo+j4iIiIiIiIibaIun97XKyN9NgFXmdndhHz3aODtnU2SiIiIiIiIiEj36olOH3e/wsweCzye0Olzh7vnOpwsERERERERkb7kgGmoT8/r6k4fM3t1nbeOMzPc/UtrmiARERERERGRAaE+n97X1Z0+wO81eM8BdfqIiIiIiIiItJijTp9+0NWdPu7e1HV7zOwP3f0z7U6PiIiIiIiIiEiv6JW7dy3nPZ1OgIiIiIiIiEg/0Uif3tcvnT7KiyIiIiIiIiIt4oCa2r2vXzp9vNMJEBEREREREekn6vLpff3S6VMzL5rZqWZ2p5n9xMz+Zq0TJSIiIiIiItJKP3zS8Xz/EY9q6zYy99yDAwUvt3U70n5dfSHnFbi2eoaZDQP/AbwE2A3caGb/4+63NbPCTKbExo3DuDtWLsPwcGtTXCjAunUUMxlGNm5s7bq71Frt6yDFFKBUKoWJchkvFrGRERgawnM5bMMGKJfBDC+VsOFhPJ8P84tFGAlFgOdy2Pr1YLb0tXv43MgIwyP9Ulwsr1QsLsapihcKDI2MQIyL53IMbdiAl0rgvviZ+BtvJPEVDIRyqUQ5l8PWrYOhoZA3h+J/D4VCKGfdMTO8XGYoxtfWr8cdhtaNNBVXz+dD/h0ApRJ4IYuZLc1Mld97sbgwa2hkBBseDjEESkPrsEI2fB+lUsOYDVJMAcr5PD48vFiOuofHUOK/sljeWrmMxfmez2OHHrq4TDYLhxxCOZsNy46MhGWGhmBkZKDKgGIms1g+Fovh9262eOyKxxwzo5zLMbzhEMr5PMOHHkKpVGaoVKQ8vI5yORyn6hUD+TwMUFZd0I66z6DVp5Iq+155LmUyDCdeL7d8MZtn5JD1yy4/aJL7XSqVFuoBC2UtLEwn66bV749UypLh4YVylkIhlNNmy9YT+sH0bdvbfqrLXR/+D8pAqc3bkfbriZE+ZvYQM/u0mX0zvn6imf1x5X13/4saH3sW8BN3v9vd88DFwKua2V4qVSTU8RwrFOCee0ItolX274ehIeZTKcY3b2Y+lWrdurvUWu3rIMUUoBQbb+X5efIzM4yffTb5mRnK8/OMb95Mfu9ecKe0fz+p73+f/PT0wnwHiuk0xXQ6zJuexguFhWWK6TSF2VnGzzqL/MwMhf37O7uza6Swf/+SOAGxZR0afeNnnRVilc9Tnpsje911lPbuhdtvh6kpfHYW5ufhvPNgdrbudmZn4dOfbrhIX/FSidzevSGuMzOUs1kYGqKUTi/Etzg1RXl+ntL+/ew680wK09Psv/RSytPTWC6Lp9Nw+eUNg1aanGTmjDMoTU6u4d51RqkEhelJxs86i+zUFMW5ufBG/KOikE5DucyuM8+kGN/3YjFUjLdvh70pZs86i/LevfC97+F1YjZIMQXIT07iw8PkK/l1714wo5zPh3xbDv94Zu64g+L0NOVyGZ+fx7NZOPtsvHL8mZmBW2+llIpxnp6mlE4vxNLT6eWyc9+oHJsrxyRGRiim03ihQHH//nDs2rsXyuWF8je7d4rUJReTT6VgPsPMGWfA9BRmTi4H6fSB25mchDPPDM+DpB11n0GrTyUl9z113XUhBhs21I1Jcv49l17KfCqFrRtuavlBktzvUqkUjv9DQ0vLWsA2bFicF+ummT17ABbmz1fqZ7OzsHVrKBDuvz9UrO6/v3YB0Wf2AO3OQfd9+woABqMF0N96otMH2AZ8G3hYfH0X8N5lPvNw4N7E691x3hJm9idmdpOZ3TQ5OUkmU2JsbIqhoaEwwufnP198lFrQz1kowLXXUszl2Dk2xs7RUXaOjVHMZA5+3V2iOqbFTGZN9nWtttMp1XEtZTJ4Lkc5myU7Oblk37OTkwvTpfl59o6Ps+7ww5csU85mmR4fZ3p8fDFm6XSYHh1lemKCHXF65+go2VSq72NazGTIplIHxKk0P085l6Ocy7FzdJQdY2MUp6bIT0wwdPjh7Bsbw486CrZsgYkJfHoaLrooPGLHXFKxCJdcsvhIDMboCwfENVekVFXmZVMpytkse8fHQ3zLZXafcw7p8XHSExP8fHSUe0dHKU1Ph/hOTsKdd4bKXJ24ej7PvtHRhYe3srO+ww6IaRE8l1n4jd62ZQvTExOUs9mQV+Pvu7h/Pz8fHWX3li2kJyYo53L4zAzlQw5h39hYiNXYGH744VAjZoMUUwgjfO4dHcWz2QPKgWwqFfJtLodns6w76qiFZX1yElIpGB2FsTE8k4GLLz4gzuXJyTB9zjlw553MzxX6rgxYrg6wkD8nJiim00xPTCw5Xi0cd8bGKExPc+/YGKVK3EZHGS7l2bXL2bs3/MFfkc/D2NjCV9DS/+o6rVZerWhH3aff61MVteJave+VulN1mVCJSfXyuenpFS3fb7Gtl1er99vj8b9co6ytnldMp1l/5JEHzs/lFutaP/4xXHppmL700vA6l+tgJFqrURlw98c/07bt5n450bZ1yxpz965/ADfG5/HEvIllPvM64LzE67cA/97oMyeccIK7u+/ZU/Bisejlctk9l3P/8Y/Dc6uk0+7Fomf27PEbNm3yzJ49lXc6HutWPyoxrbGvbVFnOx2PQ6sflbgW83kvFouen5tbsu/5ubmF6WIu57nZWf/F5ZcvWaaQzXp2dtazs7OL8+bnPZNK+Q2bNnl2Zsbn43QmlfJ8Oj0QMc2n00viVCwWvZjLebFQ8GKh4Dds2uTze/Z48f77vTgz4/svv9yLe/Z4eWLCy7t3e3lmxj2TcT/3XPeZGa9nZsb9k59cskjHY9DOuJaryrx8Ou3FYtFzs7MhvpmMZ++7z/Ozs56fmfGfbNrkuVTK79+6NcR3bs7Lc3Pu3/hGw7gWUynfu2mTF1Opvo3rwu+/6Au/0fTu3Z6dmQn5NZYL2dlZL2Yy/pNNmzy7e7fnZ2a8XCi479/vftNNXtyzJ8Rqzx4vX365lxdjNrAxdXfPpVJerMqvxWLR8+l0yLcxvvdPTIRls9mQP9NpL2/a5OXK8Wd6+oA4F+fmwvR993l5bs6/+c3+LgNq1QGKhVDHys7MeGF+3rMzM0uOVwvHnT17/L6tWz2XjFsq5YVC2efm3Ofm/ACplPsHPhCe+z2mSe2oYy2zzo7HodWPZFyT+16pO1WXCfViddfWrStaflBiWr3fC8f/GmVt9bzC/Lzvu/vuA2NaLIYC9NxzQ4EwNRWmp6aSBUTH49CuuJ4PC489V1/vrVQulfya5562ZBsJHY+BHit/mHv33/jKzK4GXgN8x92fYWbPBv7Z3X+7wWdOAja7+8vi6w8CuPs/1vvMiSee6DfddBPQsWv69N3F0ZMx7eA1ffo6rh26pk9/x7Qz1/Tpu5jC0rh26Jo+fRfXpb//jlzTp69jCh27pk9fx7VD1/Tp65gmrfE1ffo+rh24pk/fxxQ6ck2fvo3rVqu9a+uBYcLpPLVO6al8yhPP5fgoAQeOow7evthn0HcxHQS90unzDODfgScDO4FjgNe6+/YGnxkhnAb2IuAXwI3Am9z91gafmQR+VjX7aGDqoHagseT6p9z974u6/QAAGRlJREFU1DZua81VxbTdsayo3o7iunr11q2Yrk6j9fZdTKFmudqO2A5UXNsY02bXMwgxrVjL8rXf43qwsVzN5/s9pklrWbYOQlxbHc/l1jcIMYW1bVdB/8e1E22rvovpIOiJTh9Y6MR5PKF38U53r9cRmfzMy4F/I3R4nu/uH1nFdm9y9xNX+rluWX83Wat9HaSYQnv3d9BiWdGu/R7UeCa1IwaDHtdW7f+gx7EWla+tc7D7O2jxWimVra3V6n0f5FgmqV3VWmpbSbN64kLOZvY64NA4Suc04JI4+qchd/+Guz/O3Y9bTYePiIiIiIiIiEiv6olOH+BMd58zs5OBlwGfAT7R4TSJiIiIiIiIiHStXun0qdwr/XeBT7j7VwnXqVoL/9Xj6+8ma7WvgxRTaO/+DlosK9q134Maz6R2xGDQ49qq/R/0ONai8rV1DnZ/By1eK6WytbVave+DHMsktataS20raUpPXNPHzL5OuBjzi4ETgHngBnc/vqMJExERERERERHpUr3S6bMROBXY4e4/NrOHAk9x98s6nDQRERERERERka7U1Z0+ZnaEu99vZkfVet/dp9c6TSIiIiIiIiIivaDbO32+7u6vMLN7ACfcrr3C3f03OpQ0EREREREREZGu1tWdPiIiIiIiIiIisjojnU5As8zsqcCxJNLs7l/qWIJERERERERERLpYT3T6mNn5wFOBW4FynO2AOn1ERERERGRVzOxY4Dnu/rkWre804C53v63BMm8DLnP3+1qxTRGRRnqi0wd4trs/sdOJEBERERGRvnIs8CbggE4fMxtx9+IK13ca8HWgbqcP8DZgJ6BOHxFpu6FOJ6BJ15lZ13T6mNkpZvacDmz3YWb2hTXYzg/atN4Tzexj7Vj3Sq1VLNvBzLaZ2Wvj9Hmt/G1U520ze4eZvbVV6+8EMzvfzFJmtnOZ5d5mZg9rYn3vNbONTSx3tZmd2OD915nZ7WZ21XLr6jZm9kgzuyqm/1Yze0+DZRXXJpjZIWZ2g5ndEmP6oQbLNhurv21y27vM7OgG7787xvTCZtbXjcxs2MzGzezrDZZRXNvMzB5oZu9MvD6l0XdS4/NNfUc1PvcEM5uIeeC4ZOzN7JVm9jcrXafUZmbpOvM/bGYvjtML5fhyv5Mmt/lWM9sey88LzOzRZnZFnHeFmT0qLrfNzD5mZj8ws7srdSngn4DnxTzyvnjc+ryZfQ24zMweENdzs5ntMLNXNdj2c4BXAqNxfcfVSO9rgROBC+Myv2tmX068/xIz+1Ilnmb2r3HbV5jZMXH+cWb2LTP7kZl9z8yecDAxbAczO9bM3tTC9Z22XJ23us5hDerJ1qb2TiuY2TfM7IEtWtdCu0EGmLt3/QN4PrAPuBPYDuwAtq9iPcNVrw0YWsV6NgPvb9O+DrdjvYP46NdYAtuA17Zp3W3L2x2M1/OBZwA7l1nuauDEJta3Czi6ieUarg/4FvCCTsdnlTF9KPCMOH04cBfwRMX1oGJqwAPi9DrgesIo14OJVbrJbTdcH3AH8JhOx+gg4/uXhH/xv77aOCiuLfkejk2WxcApjb6TlcS00TEf+BvgQ4Mc+xZ/j3Xrz838PpLleLO/uwbrehKhfXB0fH0U8DXgD+PrPwK+Eqe3AZ8n/On9ROAncf6SfEgYhbMbOCq+HgGOiNNHAz+JMThg24ntNKynVcXAYp48Jr7+HPB7cdqBN8fps4CPx+krgMfG6d8Crux0vqixj3V/38DIKta3orh2cL9XvG9tTs+ycdOj/x8dT0BTiQyF6yuBxwCPjo/3ETqAbgEuqM7QlYNOLHCuigXobYQKx+3AucB4XNdLgeuAm+PBoFLx3gV8KM7fATwhfv5XwC+ACeB5ddL8OsKwzVuAa+K8YWAUuDGm/U/rpPGfgXcm1rUZ+CsSlaW4rrGYru3Au+L8E4DvAj8Cvg08dBXxrsTuocA1cT931tvXymdiun8EXA48Kxa8dwOvTOzn1+P0x4Cz4vTL4nbqVSB6NpYriPlfxn3cCbyXxXz6KcK1rC4DDo3LbiPmdZZWGtLAR2Kcfgg8JM4/BvhijNWNwHPrpOFYqvI2iU6guK1z4nd1O/BMwnW1fgz8f4n1nA7cENfxn3RB5xtVDY0a7782xu/OmO5DgRcRyogdwPnABuDdQD7Ouyp+9hPATfF7SjYqFr6bGts7K7G90Xr5OS67KTH/QwcThzbG96vASxTXlsVzI+G481s13qsVqzfG1zuBf47z/gkoxbhfGOd9hVCe3Qr8SWKdu6jfkP5kYnvvAw6L39uN8Xt8VVyubqw7/QAeQWggvZD6DRDF9cA0HktoiJ4XY3Ah8GLgWkK5/yxCA/srMW0/BJ4aP7s57s/VhHrAu+P8i4H5GL9RwjH7auALcVsXEu8s2+R3lAY+TOgkPZlQBtwY0/tfhMb0y1k8tl1VI/ZvY7Eh/RDgy4Tj6C2E67ysRRyfBfwgfvc/AB4fP/s2wnH2W3HZf4nz/xg4J7GN/wd8tEEaltQx4rya9aM4fUD5SI36c51tpYF/JZRhV7DYkbGN2nWXXRxcp8+7gI9UzZsC1sXpdcBUIg1vTiw3F59P4cBOn62J1+uAj8d4TBDy8K/X2nb1vjZI90IM4uu/i/nxgcA9xI4DQnlTmf6NuP0HsPg7qjxub0MZ8FaWtrUeHb/T7fH5UYn9/Rgh796d+J5/SPjTfoLF39rnCZ1yV8b9uILFdtarGmz7OcB0jM0EcFyN9NaqcyTzWnVbJRPf/xnht1Fp73yOOmUu9fP31cA/ENoNf7VMrD5BKIvuBn6bUFbeDmxLbGcXoYPxMOB/Yxx2Am+I7zfdRmHpb69WHexZwJfi+6+KeWs9cAhwd4P1/p8Yx1tiPI4jlLmjMa07Euk9hTplPeG4eluM1Vit3xBL2/XfBS4l/OH4T8CbCe2OHZV8QZNtn0F6dDwBTSWyqvea2r36jTLHfuI/OoSDVpn4D2r8QV0DHBZf/zWLnRG7WOwAeCdwXpzezDKjIWLGe3icfmB8/hPgjDi9gdCgeUyNND4d+G5iXbcBj2JpR8Wfxcw8kojBOkKBWymA3gCcv4p4V2L3V8Dfxelh4PAGn3Hgd+L0lwmdFOuA44GJxHdR6fTZSKggvyB+lwcU3v0QyybjfULcx8MIB8BbY7qLwNPiMpcCp8fpbdSuODmL/wz9SyI+nwNOjtOPokHFgKq8zYGdPpWGz3sI56E/NMZ/N/Bg4DcJB/NKZetc4K3tKhtWEOOF77vBMslYHgLcCzwuvv5vFivKu0hUUFn8Z284ruOp1etrYnv18vNLWWy4DBGuEfD8TsezRmx/TvwXVHE9qFgOEyqd6cpvrc5yC7ECHhbjfwzh3+grgdPie+mqz1VieiihQvbgWrFfZnv/wGJZ9EBCpeuwerHudExjer5AKGdPocmRPorrwm+7CDwl/k5+RGgkGKFh8BXg34Gz4/IvZPF4v5lwDN1AqGftJRxXj+XAkT77CB1zQ4Q/4E5uJmbxtQOvr/4u4vQFLB4TN7P02JaM/dtY7PS5hMUyaRg4co3ieASLdZAXA19MpO1u4EhC+fkz4JExb/yUxWPtD4Cn1Nl+vTpGvfpRzfKRqvpzg/11ao9M2UZ7On3eTeKPpzivutNnsjoNyd8ytTt9Pl71+pLEOnfFeByw7VrbqZPuhRjE1w+LeePPiJ17cX51p894zC+/bPPvv+dHUNXIa9VtlWLMH2OVeAJ/Cnw4Th9Q5lI/f18NnJtYrlGsLmbx938/S8uGSr1/V4zJa4BPJdZ7JCtso1TiRp06WPwe7onzxoidJIQOqYsarPd64Pfj9CGEtt1rgO8Qys+HEI6jD6VOWU/IV3ey2AH0wGSa6/xWZ1lsf/yCxY7p9wD/FqebbvsMyqNXrulzh5l9zszeaGavJvQW73D3KQB3n17m8ze4+z2J1z9z9x/G6WcTCqhrzWwC+ENC72xF5Q5hPyIU8M26FthmZv+PkPEhHEjfGrdzPaGR/NjqNLr7OPBrFq47czww4+4/r1r/i4FPery4XIzB44EnA9+J2ziD8ONarRuBt5vZZkJlYq7BsnnCP1EQKhffdfdCnD62emF3zxD+mfoOocD8aYN190MsGzkZ+LK773f3NCHPPY9QAE/EZZrJf3lC5ax6+RcDH4/78T/AEWZ2+CrT+j/xeQdwq7v/0t1zhErpIwn/IJwA3Bi39yJCJaXXPJ4Q/7vi688QKr21vN7MbiZUxJ5EKE9Wql5+fml8jBP+RXkCi/m848zsAYQO0/e6+/1NfERxbcDdS+7+NEJZ8ywze3ITH3smcLW7T8Yy7ELqx/TdZlYZCfhIVrfPLwX+Jsb0akJFr9JQrFcmd4yZvQJIufuPVvhRxTW4x913uHuZ0FlwhYdadOXYfjKhcwV3vxJ4sJkdGT/7v+6ei3W1FKEBUMsN7r47bmOCldW1SoQyqOIFZna9me0gdEI9aQXrIn7mE7Dwe9y3ws/Xs1wcjwQ+b+Hac+dUpfsKd9/n7llCx8yj3X0/oSPyFfFaLuvcfUedbdesYzSoHzUqH5P153rKhA4SgM/G7bfTFYTjxYMBzOwoQoP4D+L7bwa+v8w65ginKtdzJKEcKZjZC1hsJ9TadjPrO2AZD3fxuo9Q39yWWG6I0GCHcLHp78fj7T1m9rq4XYvfYSu9EPhCVVvrJBYvdn0BS7/br7h72cMdy+r91gG+k2i3GfAPZradMGLk4fGztbbdCtVtlVJsq3yN8FvYTIj1HzQocxvl70sS041i9bXE739PVdlwbFWadwAvNrN/NrPnxTJptW2UmnWweIz7iZn9JmHUz0cJx7vnAd+rtaLYjni4u38ZwN2zsW13MqGjqOTuewijcp4ZP1arrL8fyALnxTZ+pon9uDHR/vgpYaABLG1ztrLt0xd65e5dhwI5wkEIwmiCQ6qWKRIvTG1mRhiWVrG/atnkayMUQG+ss+1cfC6xgni5+zvM7LeA3wUmzOxpcVvvcvdvJ5c1s1NqpPELhILn1wk9wtWM0NtcPe9Wdz+p2XQ24u7XmNnzCftwgZmNuvt/11m8EAswCAViLq6jbGb14vYUwr9/DS/y2g+xXIbVmZ9LTJcIv4NGkt9BMr8OASe5+/zqk3hAmsosTV85bs+Az7j7B1uwrU6q950sXcjsMcD7gWe6+4yZbePAsqnZ7dXKzy8D/tHd/3MV62wrM1tHaGxd6O5fWm75yseaXPfAxhXA3WfN7GrgVMLIkUaajekphErQSe6eietfbUxf4+53Vq2/Zqy7wHOBV5rZywn7e4SZfdbdT1/mc4prUF3OJ48BI4S6V7XKcaj6GFavLtDscrVk3b0E4WLohNGlJ7r7vbEBt5rvoh2Wi+PfE05Z+30Ltw+/us5nk/E5D/hbwqkSWxtsu1FerlU/MmqUjzFd1fWrZlTXr1rK3W81s48A3zWzEqGz6t3A+Wa2CZgE3r7MarYDxdh5uw2YqXr/QuBrZnYTobF6R4Ntv40Qy0+Z2bsJoxVq/bG5Dfikmc2zWEe7kDB6I3nXr/3Ak8zsR4SREm+I898MfMLMziCM/LiYcJpNq9SqG1dLvp/Mp43yXDIPvZkwmvKE2KG2i/CbbWbbq1HdVgHA3b9rZlnCqJFnAf/p7h9ocp3JdDb6fdSKVb269OKH3O8ysxMIp6n+o5ldRhiltJo2SqPv5XvA7wAFQgfcNsIf7e9f4boabeOAsszdi2b2LMKfxH8A/AWh069Ru3658hRa2/bpCz0x0sfd3558EM5l3ljVs76LMMIAwnC5dU2u/ofAc83s/8R1bTSzxy3zmWV78M3sOHe/3t3PIgwzfSThnMs/i40lzOxxZnZYnVVcTMj8ryUclKtdBryj0qESY3AncIyZnRTnrTOzlf7LldyHRxP+2fgU8GnCxXBbIq77rwjDi38ndurUW7bnY7mMa4DTYt47DPh96vSsr9JlhEIUgNhpVk8z/041cgXwWjP7tbito+J33QuS+34HcGylXADeQvi3onq5IwgH+X1m9hDCAXM16uXnbwN/ZGFEDWb28EpsOykegD9NGC770WUWV1ybYGbHWLxTh5kdSuhIuKPO4slYXQ/8tpkdbWbDhOvQVGJaqOw74Z/qmdgx8QTCKNfV+DbwrpgHMLOnJ+Y3WyavGXf/oLs/wt2PJRwHrmzQ4aO4rtw1hIZbpQNsyhuP+jvYY0yjz1c6eKbib3s1d6u5gnB6TeWOb0esYh2rcSShwQmh02BZ7n49oT70JuCiBos2qmPUqh8dbPl4wMiUFXx2Vdz9M+7+ZHc/3t3f5u673P2F7v5Ud39RHMFEfO8Lic89ID4X4nLHu/s57r7N3f8isdyUu5/k7ie6+/9199909121th3nXevuT3T3p9fp8MHdv+juj3f3pyUapicTruVYveyZ7n5C3KfJOO8edz81bveJ7v7hVsQyoS9GUDUj1lM9tne+BbymQZnbbP5eaazqpe1hQMbdP0s49eoZrL6N0qgOdg3hVK/rYh57MGGU3621VhTL+d1mdlpMwwYLd1a8BnhDLD+PIYwYuqHB/j2AcBrtN+L2K22UXayuXV+xkrbPQOiJkT5m9gjCeePPJfSUfp/wb06yZ/2vga+a2Q2EwqKpfyPcfdLM3gZcZGYb4uwzCOfT1/M14AsWbtn4Lnev1UAfNbPHEno8ryD0vm8nDDu7OVbsJoHT6qTrVgvD0H7h7r+ssch5wOOA7WZWIJzv+XELt+T7mIXh1SPAv1HnB9uEU4BNcf1pwkXVDlqiwfh+d7/PzP6YcPrWMz0MX67WD7Gsy91vtjCSoVIonseB/zIdjHcD/2Fh+OwIoUB+R51ll+TtlW7I3W+z8K/TZWY2RPjH4M8J1yHoCDO7iJCXjzaz3YTrT3y6xqLbSPzrRvhn8POxM/BGwsU/IVzr4Jtm9kt3f4GZjRPyxd2EUxFX4zxq5Gd3v8zCcNvrYlswTbhQdmqV22mV5xIqCzssDJ0F+Nt40K62DcW1GQ8FPhM7GIaAS9293q2sq2P1QcJFIQ34hrt/NbHcdgunyf0RoXN7O6HCuNwpGvX8PaEs3B5jugt4BXVivcptdIriunKbga1x/zOEU+Trcve9ZnathdOYvkm4QOlKLPmOqtY9a2afIgzx30UoX1bqPcB/xXpJidABdN0q1rNS/0L4/f8l4bStZl1KuAZI3TpDrTqGh1O7ataPGpSPpSbTVG9kijQQ47Wf8Idox/XLCKomd/cU4NBY70gTOn7qlbnN5u+VxqqepxDaQWVCnfrP3D2/mjaKu2fNrF4d7HrCqXXXxNfbCR1yjUZcvQX4TzP7cEzb6wijkE4itNUc+IC7/8rCnyK1HE5ov1dGeL0vzv8Uq2jXJ6yk7TMQrPF32R3M7DuE8yIviLNOJ1xE6yWdS5WIiIiISGeY2dcJd/G6otNpkdrM7D8If5QkbXH3RqfkSZcys3RlhJhIL+mVTp8JDxe3bDhPRERERKSfWTgV9AbgFnd/XafTIzIo1OkjvaonTu8inJ99OovnLL+RcAHgjjOzvyMMZ0v6vLt/pBPpaTczu55wi7ykt3j9u0asZN0DFctOisM731M1+1p3//NOpGctrfW/bu38zXQTxbX1zOzLhFvMJ/21t+GivhaunVBrtMCL3L0rjretorh2v7X8jnqRu88STktfsNZ5bRDKYOle7a5zNMjfXdvh066YaLRaf+iVkT6PAj5OOEfQCRfHeo+7d+w6ISIiIiIiIiIi3azrR/rEi1q+xt1f2em0iIiIiIiIiIj0iq6/Zbu7lwi3ahMRERERERERkSb1yuldHwGOBC4hccs2d7+5Y4kSEREREREREelivdLpc1WN2e7uL1zzxIiIiIiIiIiI9ICe6PQREREREREREZGV6fpr+kC4DaWZfczMbjazH5nZlnhrShERERERERERqaEnOn2Ai4FJ4DXAa+P0JR1NkYiIiIiIiIhIF+uJ07vM7EfufkLVvJvc/cROpUlEREREREREpJv1ykifq8zsD8xsKD5eD/xvpxMlIiIiIiIiItKtemWkzxxwGFCKs4ZZvHW7u/sRHUmYiIiIiIiIiEiX6olOn+WY2ZPc/dZOp0NEREREREREpFv0yuldy7mg0wkQEREREREREekm/dLpY51OgIiIiIiIiIhIN+mXTp/eP0dNRERERERERKSF+qXTR0REREREREREEvql0yff6QSIiIiIiIiIiHSTnuj0MbPnmtlhcfp0M/uomT268r67P7tzqRMRERERERER6T490ekDfALImNnxwAeAnwH/3dkkiYiIiIiIiIh0r17p9Cm6uwOvAra4+xbg8A6nSURERERERESka410OgFNmjOzDwKnA883s2FgXYfTJCIiIiIiIiLStXplpM8bgBzwx+7+K+DhwGhnkyQiIiIiIiIi0r0snDUlIiIiIiIiIiL9pKtP7zKz77v7yWY2ByR7pwxwdz+iQ0kTEREREREREelqGukjIiIiIiIiItKHeuWaPiIiIiIiIiIisgLq9BERERERERER6UPq9BERERERERER6UPq9BERERERERER6UPq9BERERERERER6UP/P+Wzt0lzcTM0AAAAAElFTkSuQmCC\n",
      "text/plain": [
       "<Figure size 1133.17x1036.8 with 156 Axes>"
      ]
     },
     "metadata": {},
     "output_type": "display_data"
    }
   ],
   "source": [
    "# g = sns.pairplot(train[['current_service','is_mix_service', 'online_time', '1_total_fee',\n",
    "#        '2_total_fee', '3_total_fee', '4_total_fee', 'month_traffic',\n",
    "#        'many_over_bill', 'contract_type', 'contract_time',\n",
    "#        'is_promise_low_consume']],hue='current_service',\n",
    "#                                       palette = 'seismic',size=1.2,diag_kind ='kde',diag_kws=\n",
    "#                                       dict(shade=True),plot_kws=dict(s=10))\n",
    "# g.set(xticklabels=[])"
   ]
  },
  {
   "cell_type": "code",
<<<<<<< HEAD
   "execution_count": 2,
=======
   "execution_count": 3,
>>>>>>> 9fa2b48921550b951c93467d2d0ec077bf8ecbf2
   "metadata": {},
   "outputs": [],
   "source": [
    "pd.options.display.max_columns = 100"
   ]
  },
  {
   "cell_type": "code",
<<<<<<< HEAD
   "execution_count": 12,
=======
   "execution_count": 13,
>>>>>>> 9fa2b48921550b951c93467d2d0ec077bf8ecbf2
   "metadata": {},
   "outputs": [],
   "source": [
    "train = pd.read_csv('../moblie_data/train_clean.csv')\n",
    "test = pd.read_csv('../moblie_data/test_clean.csv')\n",
    "train = train.iloc[:,1:]\n",
    "test = test.iloc[:,1:]"
   ]
  },
  {
   "cell_type": "code",
   "execution_count": 6,
   "metadata": {},
   "outputs": [
    {
     "data": {
      "text/plain": [
       "Index(['service_type', 'is_mix_service', 'online_time', '1_total_fee',\n",
       "       '2_total_fee', '3_total_fee', '4_total_fee', 'month_traffic',\n",
       "       'many_over_bill', 'contract_type', 'contract_time',\n",
       "       'is_promise_low_consume', 'net_service', 'pay_times', 'pay_num',\n",
       "       'last_month_traffic', 'local_trafffic_month', 'local_caller_time',\n",
       "       'service1_caller_time', 'service2_caller_time', 'gender', 'age',\n",
       "       'complaint_level', 'former_complaint_num', 'former_complaint_fee',\n",
       "       'current_service', 'user_id'],\n",
       "      dtype='object')"
      ]
     },
     "execution_count": 6,
     "metadata": {},
     "output_type": "execute_result"
    }
   ],
   "source": [
    "train.columns"
   ]
  },
  {
   "cell_type": "code",
   "execution_count": 7,
   "metadata": {},
   "outputs": [
    {
     "data": {
      "text/html": [
       "<div>\n",
       "<style scoped>\n",
       "    .dataframe tbody tr th:only-of-type {\n",
       "        vertical-align: middle;\n",
       "    }\n",
       "\n",
       "    .dataframe tbody tr th {\n",
       "        vertical-align: top;\n",
       "    }\n",
       "\n",
       "    .dataframe thead th {\n",
       "        text-align: right;\n",
       "    }\n",
       "</style>\n",
       "<table border=\"1\" class=\"dataframe\">\n",
       "  <thead>\n",
       "    <tr style=\"text-align: right;\">\n",
       "      <th></th>\n",
       "      <th>service_type</th>\n",
       "      <th>is_mix_service</th>\n",
       "      <th>online_time</th>\n",
       "      <th>1_total_fee</th>\n",
       "      <th>2_total_fee</th>\n",
       "      <th>3_total_fee</th>\n",
       "      <th>4_total_fee</th>\n",
       "      <th>month_traffic</th>\n",
       "      <th>many_over_bill</th>\n",
       "      <th>contract_type</th>\n",
       "      <th>contract_time</th>\n",
       "      <th>is_promise_low_consume</th>\n",
       "      <th>net_service</th>\n",
       "      <th>pay_times</th>\n",
       "      <th>pay_num</th>\n",
       "      <th>last_month_traffic</th>\n",
       "      <th>local_trafffic_month</th>\n",
       "      <th>local_caller_time</th>\n",
       "      <th>service1_caller_time</th>\n",
       "      <th>service2_caller_time</th>\n",
       "      <th>gender</th>\n",
       "      <th>age</th>\n",
       "      <th>complaint_level</th>\n",
       "      <th>former_complaint_num</th>\n",
       "      <th>former_complaint_fee</th>\n",
       "      <th>current_service</th>\n",
       "    </tr>\n",
       "  </thead>\n",
       "  <tbody>\n",
       "    <tr>\n",
       "      <th>count</th>\n",
       "      <td>612648.000000</td>\n",
       "      <td>612648.000000</td>\n",
       "      <td>612648.000000</td>\n",
       "      <td>612648.000000</td>\n",
       "      <td>612648.000000</td>\n",
       "      <td>612648.000000</td>\n",
       "      <td>612648.000000</td>\n",
       "      <td>612648.000000</td>\n",
       "      <td>612648.000000</td>\n",
       "      <td>612648.000000</td>\n",
       "      <td>611648.000000</td>\n",
       "      <td>612648.000000</td>\n",
       "      <td>612648.00000</td>\n",
       "      <td>612648.000000</td>\n",
       "      <td>612648.000000</td>\n",
       "      <td>6.126480e+05</td>\n",
       "      <td>612648.000000</td>\n",
       "      <td>612648.000000</td>\n",
       "      <td>612648.000000</td>\n",
       "      <td>612648.000000</td>\n",
       "      <td>612648.000000</td>\n",
       "      <td>612648.000000</td>\n",
       "      <td>612648.000000</td>\n",
       "      <td>612648.000000</td>\n",
       "      <td>6.126480e+05</td>\n",
       "      <td>6.126480e+05</td>\n",
       "    </tr>\n",
       "    <tr>\n",
       "      <th>mean</th>\n",
       "      <td>2.748857</td>\n",
       "      <td>0.035844</td>\n",
       "      <td>42.831428</td>\n",
       "      <td>97.412279</td>\n",
       "      <td>102.702075</td>\n",
       "      <td>96.149803</td>\n",
       "      <td>102.870899</td>\n",
       "      <td>1159.340961</td>\n",
       "      <td>0.426860</td>\n",
       "      <td>1.491527</td>\n",
       "      <td>6.679114</td>\n",
       "      <td>0.066905</td>\n",
       "      <td>3.90677</td>\n",
       "      <td>1.908453</td>\n",
       "      <td>115.741977</td>\n",
       "      <td>2.097032e+04</td>\n",
       "      <td>5828.203209</td>\n",
       "      <td>59.028310</td>\n",
       "      <td>42.500291</td>\n",
       "      <td>84.485508</td>\n",
       "      <td>1.277549</td>\n",
       "      <td>32.751111</td>\n",
       "      <td>0.119199</td>\n",
       "      <td>0.139465</td>\n",
       "      <td>5.000715e+06</td>\n",
       "      <td>9.225263e+07</td>\n",
       "    </tr>\n",
       "    <tr>\n",
       "      <th>std</th>\n",
       "      <td>1.438613</td>\n",
       "      <td>0.185902</td>\n",
       "      <td>45.367976</td>\n",
       "      <td>89.426280</td>\n",
       "      <td>97.642034</td>\n",
       "      <td>93.311677</td>\n",
       "      <td>101.235422</td>\n",
       "      <td>2754.767284</td>\n",
       "      <td>0.494622</td>\n",
       "      <td>2.967210</td>\n",
       "      <td>9.938387</td>\n",
       "      <td>0.249857</td>\n",
       "      <td>0.39411</td>\n",
       "      <td>1.490026</td>\n",
       "      <td>192.292860</td>\n",
       "      <td>2.683418e+05</td>\n",
       "      <td>11296.470587</td>\n",
       "      <td>115.763709</td>\n",
       "      <td>110.368344</td>\n",
       "      <td>137.038144</td>\n",
       "      <td>0.510090</td>\n",
       "      <td>11.009921</td>\n",
       "      <td>0.380601</td>\n",
       "      <td>0.491294</td>\n",
       "      <td>2.798660e+09</td>\n",
       "      <td>4.218050e+06</td>\n",
       "    </tr>\n",
       "    <tr>\n",
       "      <th>min</th>\n",
       "      <td>1.000000</td>\n",
       "      <td>0.000000</td>\n",
       "      <td>1.000000</td>\n",
       "      <td>0.000000</td>\n",
       "      <td>-287.300000</td>\n",
       "      <td>-276.030000</td>\n",
       "      <td>-420.270000</td>\n",
       "      <td>0.000000</td>\n",
       "      <td>0.000000</td>\n",
       "      <td>0.000000</td>\n",
       "      <td>0.000000</td>\n",
       "      <td>0.000000</td>\n",
       "      <td>2.00000</td>\n",
       "      <td>1.000000</td>\n",
       "      <td>0.010000</td>\n",
       "      <td>0.000000e+00</td>\n",
       "      <td>0.000000</td>\n",
       "      <td>0.000000</td>\n",
       "      <td>0.000000</td>\n",
       "      <td>0.000000</td>\n",
       "      <td>0.000000</td>\n",
       "      <td>6.000000</td>\n",
       "      <td>0.000000</td>\n",
       "      <td>0.000000</td>\n",
       "      <td>0.000000e+00</td>\n",
       "      <td>8.901625e+07</td>\n",
       "    </tr>\n",
       "    <tr>\n",
       "      <th>25%</th>\n",
       "      <td>1.000000</td>\n",
       "      <td>0.000000</td>\n",
       "      <td>10.000000</td>\n",
       "      <td>46.200000</td>\n",
       "      <td>47.200000</td>\n",
       "      <td>42.000000</td>\n",
       "      <td>44.900000</td>\n",
       "      <td>0.000000</td>\n",
       "      <td>0.000000</td>\n",
       "      <td>0.000000</td>\n",
       "      <td>0.000000</td>\n",
       "      <td>0.000000</td>\n",
       "      <td>4.00000</td>\n",
       "      <td>1.000000</td>\n",
       "      <td>40.000000</td>\n",
       "      <td>0.000000e+00</td>\n",
       "      <td>95.318146</td>\n",
       "      <td>0.000000</td>\n",
       "      <td>0.000000</td>\n",
       "      <td>0.000000</td>\n",
       "      <td>1.000000</td>\n",
       "      <td>24.000000</td>\n",
       "      <td>0.000000</td>\n",
       "      <td>0.000000</td>\n",
       "      <td>0.000000e+00</td>\n",
       "      <td>8.995017e+07</td>\n",
       "    </tr>\n",
       "    <tr>\n",
       "      <th>50%</th>\n",
       "      <td>4.000000</td>\n",
       "      <td>0.000000</td>\n",
       "      <td>21.000000</td>\n",
       "      <td>72.630000</td>\n",
       "      <td>76.000000</td>\n",
       "      <td>69.000000</td>\n",
       "      <td>74.100000</td>\n",
       "      <td>139.230260</td>\n",
       "      <td>0.000000</td>\n",
       "      <td>0.000000</td>\n",
       "      <td>0.000000</td>\n",
       "      <td>0.000000</td>\n",
       "      <td>4.00000</td>\n",
       "      <td>1.000000</td>\n",
       "      <td>80.000000</td>\n",
       "      <td>0.000000e+00</td>\n",
       "      <td>1262.542802</td>\n",
       "      <td>14.066666</td>\n",
       "      <td>0.000000</td>\n",
       "      <td>29.150000</td>\n",
       "      <td>1.000000</td>\n",
       "      <td>30.000000</td>\n",
       "      <td>0.000000</td>\n",
       "      <td>0.000000</td>\n",
       "      <td>0.000000e+00</td>\n",
       "      <td>9.006334e+07</td>\n",
       "    </tr>\n",
       "    <tr>\n",
       "      <th>75%</th>\n",
       "      <td>4.000000</td>\n",
       "      <td>0.000000</td>\n",
       "      <td>64.000000</td>\n",
       "      <td>116.000000</td>\n",
       "      <td>126.000000</td>\n",
       "      <td>119.750000</td>\n",
       "      <td>129.200000</td>\n",
       "      <td>1311.389001</td>\n",
       "      <td>1.000000</td>\n",
       "      <td>1.000000</td>\n",
       "      <td>12.000000</td>\n",
       "      <td>0.000000</td>\n",
       "      <td>4.00000</td>\n",
       "      <td>2.000000</td>\n",
       "      <td>120.000000</td>\n",
       "      <td>4.450800e+02</td>\n",
       "      <td>5185.022679</td>\n",
       "      <td>67.516667</td>\n",
       "      <td>34.466667</td>\n",
       "      <td>123.966667</td>\n",
       "      <td>2.000000</td>\n",
       "      <td>39.000000</td>\n",
       "      <td>0.000000</td>\n",
       "      <td>0.000000</td>\n",
       "      <td>0.000000e+00</td>\n",
       "      <td>9.015595e+07</td>\n",
       "    </tr>\n",
       "    <tr>\n",
       "      <th>max</th>\n",
       "      <td>4.000000</td>\n",
       "      <td>1.000000</td>\n",
       "      <td>274.000000</td>\n",
       "      <td>5940.830000</td>\n",
       "      <td>5825.570000</td>\n",
       "      <td>6965.500000</td>\n",
       "      <td>5141.270000</td>\n",
       "      <td>159057.397788</td>\n",
       "      <td>1.000000</td>\n",
       "      <td>12.000000</td>\n",
       "      <td>52.000000</td>\n",
       "      <td>1.000000</td>\n",
       "      <td>9.00000</td>\n",
       "      <td>127.000000</td>\n",
       "      <td>55395.030000</td>\n",
       "      <td>2.716262e+07</td>\n",
       "      <td>484365.746313</td>\n",
       "      <td>6461.050000</td>\n",
       "      <td>5139.483333</td>\n",
       "      <td>16454.383333</td>\n",
       "      <td>2.000000</td>\n",
       "      <td>94.000000</td>\n",
       "      <td>3.000000</td>\n",
       "      <td>37.000000</td>\n",
       "      <td>1.762166e+12</td>\n",
       "      <td>9.999983e+07</td>\n",
       "    </tr>\n",
       "  </tbody>\n",
       "</table>\n",
       "</div>"
      ],
      "text/plain": [
       "        service_type  is_mix_service    online_time    1_total_fee  \\\n",
       "count  612648.000000   612648.000000  612648.000000  612648.000000   \n",
       "mean        2.748857        0.035844      42.831428      97.412279   \n",
       "std         1.438613        0.185902      45.367976      89.426280   \n",
       "min         1.000000        0.000000       1.000000       0.000000   \n",
       "25%         1.000000        0.000000      10.000000      46.200000   \n",
       "50%         4.000000        0.000000      21.000000      72.630000   \n",
       "75%         4.000000        0.000000      64.000000     116.000000   \n",
       "max         4.000000        1.000000     274.000000    5940.830000   \n",
       "\n",
       "         2_total_fee    3_total_fee    4_total_fee  month_traffic  \\\n",
       "count  612648.000000  612648.000000  612648.000000  612648.000000   \n",
       "mean      102.702075      96.149803     102.870899    1159.340961   \n",
       "std        97.642034      93.311677     101.235422    2754.767284   \n",
       "min      -287.300000    -276.030000    -420.270000       0.000000   \n",
       "25%        47.200000      42.000000      44.900000       0.000000   \n",
       "50%        76.000000      69.000000      74.100000     139.230260   \n",
       "75%       126.000000     119.750000     129.200000    1311.389001   \n",
       "max      5825.570000    6965.500000    5141.270000  159057.397788   \n",
       "\n",
       "       many_over_bill  contract_type  contract_time  is_promise_low_consume  \\\n",
       "count   612648.000000  612648.000000  611648.000000           612648.000000   \n",
       "mean         0.426860       1.491527       6.679114                0.066905   \n",
       "std          0.494622       2.967210       9.938387                0.249857   \n",
       "min          0.000000       0.000000       0.000000                0.000000   \n",
       "25%          0.000000       0.000000       0.000000                0.000000   \n",
       "50%          0.000000       0.000000       0.000000                0.000000   \n",
       "75%          1.000000       1.000000      12.000000                0.000000   \n",
       "max          1.000000      12.000000      52.000000                1.000000   \n",
       "\n",
       "        net_service      pay_times        pay_num  last_month_traffic  \\\n",
       "count  612648.00000  612648.000000  612648.000000        6.126480e+05   \n",
       "mean        3.90677       1.908453     115.741977        2.097032e+04   \n",
       "std         0.39411       1.490026     192.292860        2.683418e+05   \n",
       "min         2.00000       1.000000       0.010000        0.000000e+00   \n",
       "25%         4.00000       1.000000      40.000000        0.000000e+00   \n",
       "50%         4.00000       1.000000      80.000000        0.000000e+00   \n",
       "75%         4.00000       2.000000     120.000000        4.450800e+02   \n",
       "max         9.00000     127.000000   55395.030000        2.716262e+07   \n",
       "\n",
       "       local_trafffic_month  local_caller_time  service1_caller_time  \\\n",
       "count         612648.000000      612648.000000         612648.000000   \n",
       "mean            5828.203209          59.028310             42.500291   \n",
       "std            11296.470587         115.763709            110.368344   \n",
       "min                0.000000           0.000000              0.000000   \n",
       "25%               95.318146           0.000000              0.000000   \n",
       "50%             1262.542802          14.066666              0.000000   \n",
       "75%             5185.022679          67.516667             34.466667   \n",
       "max           484365.746313        6461.050000           5139.483333   \n",
       "\n",
       "       service2_caller_time         gender            age  complaint_level  \\\n",
       "count         612648.000000  612648.000000  612648.000000    612648.000000   \n",
       "mean              84.485508       1.277549      32.751111         0.119199   \n",
       "std              137.038144       0.510090      11.009921         0.380601   \n",
       "min                0.000000       0.000000       6.000000         0.000000   \n",
       "25%                0.000000       1.000000      24.000000         0.000000   \n",
       "50%               29.150000       1.000000      30.000000         0.000000   \n",
       "75%              123.966667       2.000000      39.000000         0.000000   \n",
       "max            16454.383333       2.000000      94.000000         3.000000   \n",
       "\n",
       "       former_complaint_num  former_complaint_fee  current_service  \n",
       "count         612648.000000          6.126480e+05     6.126480e+05  \n",
       "mean               0.139465          5.000715e+06     9.225263e+07  \n",
       "std                0.491294          2.798660e+09     4.218050e+06  \n",
       "min                0.000000          0.000000e+00     8.901625e+07  \n",
       "25%                0.000000          0.000000e+00     8.995017e+07  \n",
       "50%                0.000000          0.000000e+00     9.006334e+07  \n",
       "75%                0.000000          0.000000e+00     9.015595e+07  \n",
       "max               37.000000          1.762166e+12     9.999983e+07  "
      ]
     },
     "execution_count": 7,
     "metadata": {},
     "output_type": "execute_result"
    }
   ],
   "source": [
    "train.describe()"
   ]
  },
  {
   "cell_type": "code",
   "execution_count": 8,
   "metadata": {},
   "outputs": [
    {
     "data": {
      "text/html": [
       "<div>\n",
       "<style scoped>\n",
       "    .dataframe tbody tr th:only-of-type {\n",
       "        vertical-align: middle;\n",
       "    }\n",
       "\n",
       "    .dataframe tbody tr th {\n",
       "        vertical-align: top;\n",
       "    }\n",
       "\n",
       "    .dataframe thead th {\n",
       "        text-align: right;\n",
       "    }\n",
       "</style>\n",
       "<table border=\"1\" class=\"dataframe\">\n",
       "  <thead>\n",
       "    <tr style=\"text-align: right;\">\n",
       "      <th></th>\n",
       "      <th>service_type</th>\n",
       "      <th>is_mix_service</th>\n",
       "      <th>online_time</th>\n",
       "      <th>1_total_fee</th>\n",
       "      <th>2_total_fee</th>\n",
       "      <th>3_total_fee</th>\n",
       "      <th>4_total_fee</th>\n",
       "      <th>month_traffic</th>\n",
       "      <th>many_over_bill</th>\n",
       "      <th>contract_type</th>\n",
       "      <th>contract_time</th>\n",
       "      <th>is_promise_low_consume</th>\n",
       "      <th>net_service</th>\n",
       "      <th>pay_times</th>\n",
       "      <th>pay_num</th>\n",
       "      <th>last_month_traffic</th>\n",
       "      <th>local_trafffic_month</th>\n",
       "      <th>local_caller_time</th>\n",
       "      <th>service1_caller_time</th>\n",
       "      <th>service2_caller_time</th>\n",
       "      <th>gender</th>\n",
       "      <th>age</th>\n",
       "      <th>complaint_level</th>\n",
       "      <th>former_complaint_num</th>\n",
       "      <th>former_complaint_fee</th>\n",
       "      <th>current_service</th>\n",
       "      <th>user_id</th>\n",
       "    </tr>\n",
       "  </thead>\n",
       "  <tbody>\n",
       "    <tr>\n",
       "      <th>0</th>\n",
       "      <td>4</td>\n",
       "      <td>0</td>\n",
       "      <td>85</td>\n",
       "      <td>295.96</td>\n",
       "      <td>296.20</td>\n",
       "      <td>296.00</td>\n",
       "      <td>296.80</td>\n",
       "      <td>3813.614698</td>\n",
       "      <td>0</td>\n",
       "      <td>1</td>\n",
       "      <td>36.0</td>\n",
       "      <td>0</td>\n",
       "      <td>4</td>\n",
       "      <td>2</td>\n",
       "      <td>300.04</td>\n",
       "      <td>4096.000000</td>\n",
       "      <td>1392.038508</td>\n",
       "      <td>108.100000</td>\n",
       "      <td>0.000000</td>\n",
       "      <td>564.366667</td>\n",
       "      <td>1</td>\n",
       "      <td>31.0</td>\n",
       "      <td>0</td>\n",
       "      <td>0</td>\n",
       "      <td>0.0</td>\n",
       "      <td>99999825.0</td>\n",
       "      <td>Gx4sJzcQog01UhZL</td>\n",
       "    </tr>\n",
       "    <tr>\n",
       "      <th>1</th>\n",
       "      <td>1</td>\n",
       "      <td>0</td>\n",
       "      <td>10</td>\n",
       "      <td>265.20</td>\n",
       "      <td>261.20</td>\n",
       "      <td>208.50</td>\n",
       "      <td>174.50</td>\n",
       "      <td>0.000000</td>\n",
       "      <td>1</td>\n",
       "      <td>0</td>\n",
       "      <td>0.0</td>\n",
       "      <td>0</td>\n",
       "      <td>4</td>\n",
       "      <td>3</td>\n",
       "      <td>300.00</td>\n",
       "      <td>0.000000</td>\n",
       "      <td>62852.509718</td>\n",
       "      <td>240.100000</td>\n",
       "      <td>355.166667</td>\n",
       "      <td>0.000000</td>\n",
       "      <td>1</td>\n",
       "      <td>30.0</td>\n",
       "      <td>0</td>\n",
       "      <td>0</td>\n",
       "      <td>0.0</td>\n",
       "      <td>90063345.0</td>\n",
       "      <td>kEXrhTiug93DIcLG</td>\n",
       "    </tr>\n",
       "    <tr>\n",
       "      <th>2</th>\n",
       "      <td>1</td>\n",
       "      <td>0</td>\n",
       "      <td>12</td>\n",
       "      <td>44.50</td>\n",
       "      <td>70.20</td>\n",
       "      <td>69.00</td>\n",
       "      <td>61.40</td>\n",
       "      <td>2598.397406</td>\n",
       "      <td>0</td>\n",
       "      <td>0</td>\n",
       "      <td>0.0</td>\n",
       "      <td>0</td>\n",
       "      <td>4</td>\n",
       "      <td>4</td>\n",
       "      <td>50.00</td>\n",
       "      <td>0.000000</td>\n",
       "      <td>1935.242104</td>\n",
       "      <td>27.666667</td>\n",
       "      <td>0.000000</td>\n",
       "      <td>98.416667</td>\n",
       "      <td>2</td>\n",
       "      <td>25.0</td>\n",
       "      <td>0</td>\n",
       "      <td>0</td>\n",
       "      <td>0.0</td>\n",
       "      <td>90109916.0</td>\n",
       "      <td>AouXr0EOUtSRdiYK</td>\n",
       "    </tr>\n",
       "    <tr>\n",
       "      <th>3</th>\n",
       "      <td>4</td>\n",
       "      <td>0</td>\n",
       "      <td>134</td>\n",
       "      <td>87.95</td>\n",
       "      <td>81.40</td>\n",
       "      <td>76.00</td>\n",
       "      <td>88.30</td>\n",
       "      <td>988.440563</td>\n",
       "      <td>0</td>\n",
       "      <td>0</td>\n",
       "      <td>0.0</td>\n",
       "      <td>0</td>\n",
       "      <td>4</td>\n",
       "      <td>1</td>\n",
       "      <td>100.00</td>\n",
       "      <td>37.336425</td>\n",
       "      <td>988.561075</td>\n",
       "      <td>89.900000</td>\n",
       "      <td>74.483333</td>\n",
       "      <td>121.833333</td>\n",
       "      <td>1</td>\n",
       "      <td>44.0</td>\n",
       "      <td>0</td>\n",
       "      <td>0</td>\n",
       "      <td>0.0</td>\n",
       "      <td>89950166.0</td>\n",
       "      <td>Yds7U30hnRZDiLtb</td>\n",
       "    </tr>\n",
       "    <tr>\n",
       "      <th>4</th>\n",
       "      <td>4</td>\n",
       "      <td>0</td>\n",
       "      <td>84</td>\n",
       "      <td>317.04</td>\n",
       "      <td>314.08</td>\n",
       "      <td>435.51</td>\n",
       "      <td>413.05</td>\n",
       "      <td>5885.800642</td>\n",
       "      <td>0</td>\n",
       "      <td>1</td>\n",
       "      <td>24.0</td>\n",
       "      <td>0</td>\n",
       "      <td>4</td>\n",
       "      <td>12</td>\n",
       "      <td>1000.03</td>\n",
       "      <td>3305.741127</td>\n",
       "      <td>0.000000</td>\n",
       "      <td>0.000000</td>\n",
       "      <td>35.100000</td>\n",
       "      <td>496.733333</td>\n",
       "      <td>1</td>\n",
       "      <td>31.0</td>\n",
       "      <td>2</td>\n",
       "      <td>1</td>\n",
       "      <td>0.0</td>\n",
       "      <td>99999825.0</td>\n",
       "      <td>OFDTSXrhN9Q2mbVw</td>\n",
       "    </tr>\n",
       "  </tbody>\n",
       "</table>\n",
       "</div>"
      ],
      "text/plain": [
       "   service_type  is_mix_service  online_time  1_total_fee  2_total_fee  \\\n",
       "0             4               0           85       295.96       296.20   \n",
       "1             1               0           10       265.20       261.20   \n",
       "2             1               0           12        44.50        70.20   \n",
       "3             4               0          134        87.95        81.40   \n",
       "4             4               0           84       317.04       314.08   \n",
       "\n",
       "   3_total_fee  4_total_fee  month_traffic  many_over_bill  contract_type  \\\n",
       "0       296.00       296.80    3813.614698               0              1   \n",
       "1       208.50       174.50       0.000000               1              0   \n",
       "2        69.00        61.40    2598.397406               0              0   \n",
       "3        76.00        88.30     988.440563               0              0   \n",
       "4       435.51       413.05    5885.800642               0              1   \n",
       "\n",
       "   contract_time  is_promise_low_consume  net_service  pay_times  pay_num  \\\n",
       "0           36.0                       0            4          2   300.04   \n",
       "1            0.0                       0            4          3   300.00   \n",
       "2            0.0                       0            4          4    50.00   \n",
       "3            0.0                       0            4          1   100.00   \n",
       "4           24.0                       0            4         12  1000.03   \n",
       "\n",
       "   last_month_traffic  local_trafffic_month  local_caller_time  \\\n",
       "0         4096.000000           1392.038508         108.100000   \n",
       "1            0.000000          62852.509718         240.100000   \n",
       "2            0.000000           1935.242104          27.666667   \n",
       "3           37.336425            988.561075          89.900000   \n",
       "4         3305.741127              0.000000           0.000000   \n",
       "\n",
       "   service1_caller_time  service2_caller_time  gender   age  complaint_level  \\\n",
       "0              0.000000            564.366667       1  31.0                0   \n",
       "1            355.166667              0.000000       1  30.0                0   \n",
       "2              0.000000             98.416667       2  25.0                0   \n",
       "3             74.483333            121.833333       1  44.0                0   \n",
       "4             35.100000            496.733333       1  31.0                2   \n",
       "\n",
       "   former_complaint_num  former_complaint_fee  current_service  \\\n",
       "0                     0                   0.0       99999825.0   \n",
       "1                     0                   0.0       90063345.0   \n",
       "2                     0                   0.0       90109916.0   \n",
       "3                     0                   0.0       89950166.0   \n",
       "4                     1                   0.0       99999825.0   \n",
       "\n",
       "            user_id  \n",
       "0  Gx4sJzcQog01UhZL  \n",
       "1  kEXrhTiug93DIcLG  \n",
       "2  AouXr0EOUtSRdiYK  \n",
       "3  Yds7U30hnRZDiLtb  \n",
       "4  OFDTSXrhN9Q2mbVw  "
      ]
     },
     "execution_count": 8,
     "metadata": {},
     "output_type": "execute_result"
    }
   ],
   "source": [
    "train.head()"
   ]
  },
  {
   "cell_type": "markdown",
   "metadata": {},
   "source": [
    "## duplicate"
   ]
  },
  {
   "cell_type": "code",
<<<<<<< HEAD
   "execution_count": 4,
=======
   "execution_count": 14,
>>>>>>> 9fa2b48921550b951c93467d2d0ec077bf8ecbf2
   "metadata": {},
   "outputs": [
    {
     "data": {
      "text/plain": [
       "(612648, 27)"
      ]
     },
<<<<<<< HEAD
     "execution_count": 4,
=======
     "execution_count": 14,
>>>>>>> 9fa2b48921550b951c93467d2d0ec077bf8ecbf2
     "metadata": {},
     "output_type": "execute_result"
    }
   ],
   "source": [
    "train.shape"
   ]
  },
  {
   "cell_type": "code",
<<<<<<< HEAD
   "execution_count": 13,
   "metadata": {},
   "outputs": [],
   "source": [
    "#train = train[~train.iloc[:,:-2].duplicated(keep=False)]\n",
    "train = train.drop_duplicates(subset=train.iloc[:,:-2].columns)"
=======
   "execution_count": 15,
   "metadata": {},
   "outputs": [],
   "source": [
    "train = train[~train.iloc[:,:-2].duplicated(keep=False)]"
>>>>>>> 9fa2b48921550b951c93467d2d0ec077bf8ecbf2
   ]
  },
  {
   "cell_type": "code",
<<<<<<< HEAD
   "execution_count": 14,
=======
   "execution_count": 16,
>>>>>>> 9fa2b48921550b951c93467d2d0ec077bf8ecbf2
   "metadata": {},
   "outputs": [
    {
     "data": {
      "text/plain": [
<<<<<<< HEAD
       "(573965, 27)"
      ]
     },
     "execution_count": 14,
=======
       "(536488, 27)"
      ]
     },
     "execution_count": 16,
>>>>>>> 9fa2b48921550b951c93467d2d0ec077bf8ecbf2
     "metadata": {},
     "output_type": "execute_result"
    }
   ],
   "source": [
    "train.shape"
   ]
  },
  {
   "cell_type": "code",
<<<<<<< HEAD
   "execution_count": 15,
=======
   "execution_count": 17,
>>>>>>> 9fa2b48921550b951c93467d2d0ec077bf8ecbf2
   "metadata": {},
   "outputs": [],
   "source": [
    "train_1 = train[train.service_type == 1]\n",
    "train_4 = train[train.service_type == 4]\n",
    "test_1 = test[test.service_type == 1]\n",
    "test_4 = test[test.service_type == 4]"
   ]
  },
  {
   "cell_type": "code",
<<<<<<< HEAD
   "execution_count": 16,
=======
   "execution_count": 19,
>>>>>>> 9fa2b48921550b951c93467d2d0ec077bf8ecbf2
   "metadata": {},
   "outputs": [],
   "source": [
    "train.to_csv('../moblie_data/train_clean_cutdup.csv')"
   ]
  },
  {
   "cell_type": "markdown",
   "metadata": {},
   "source": [
    "## pay_num"
   ]
  },
  {
   "cell_type": "code",
   "execution_count": 142,
   "metadata": {
    "scrolled": true
   },
   "outputs": [
    {
     "data": {
      "text/plain": [
       "100.00     104897\n",
       "50.00       86828\n",
       "30.00       60153\n",
       "200.00      36186\n",
       "60.00       22037\n",
       "20.00       21264\n",
       "10.00       20830\n",
       "80.00       17496\n",
       "300.00      17469\n",
       "40.00       14646\n",
       "150.00      14105\n",
       "0.05        13781\n",
       "70.00        9029\n",
       "90.00        6999\n",
       "130.00       6276\n",
       "110.00       5602\n",
       "100.05       5209\n",
       "500.00       5192\n",
       "400.00       4561\n",
       "120.00       4110\n",
       "200.05       4098\n",
       "5.00         3539\n",
       "250.00       3424\n",
       "0.02         2389\n",
       "0.06         2324\n",
       "0.04         2120\n",
       "300.05       2086\n",
       "0.08         2066\n",
       "0.07         1856\n",
       "25.00        1802\n",
       "            ...  \n",
       "439.80          1\n",
       "1033.90         1\n",
       "512.06          1\n",
       "1003.96         1\n",
       "436.70          1\n",
       "2530.03         1\n",
       "1710.00         1\n",
       "2200.06         1\n",
       "519.56          1\n",
       "72.14           1\n",
       "86.92           1\n",
       "198.04          1\n",
       "198.96          1\n",
       "109.70          1\n",
       "0.18            1\n",
       "22.85           1\n",
       "32.59           1\n",
       "167.92          1\n",
       "438.05          1\n",
       "346.82          1\n",
       "234.98          1\n",
       "845.02          1\n",
       "418.80          1\n",
       "251.49          1\n",
       "439.70          1\n",
       "2640.05         1\n",
       "327.20          1\n",
       "374.91          1\n",
       "198.54          1\n",
       "572.44          1\n",
       "Name: pay_num, Length: 12839, dtype: int64"
      ]
     },
     "execution_count": 142,
     "metadata": {},
     "output_type": "execute_result"
    }
   ],
   "source": [
    "train['pay_num'].value_counts()"
   ]
  },
  {
   "cell_type": "markdown",
   "metadata": {},
   "source": [
    "## is_promise_low_consume"
   ]
  },
  {
   "cell_type": "code",
   "execution_count": 111,
   "metadata": {},
   "outputs": [
    {
     "data": {
      "text/plain": [
       "current_service  is_promise_low_consume\n",
       "90063345.0       0                         201227\n",
       "                 1                             18\n",
       "90109916.0       0                          26675\n",
       "                 1                             10\n",
       "90155946.0       0                          15477\n",
       "Name: is_promise_low_consume, dtype: int64"
      ]
     },
     "execution_count": 111,
     "metadata": {},
     "output_type": "execute_result"
    }
   ],
   "source": [
    "train_1.groupby('current_service').is_promise_low_consume.value_counts()"
   ]
  },
  {
   "cell_type": "code",
   "execution_count": 109,
   "metadata": {},
   "outputs": [
    {
     "data": {
      "text/plain": [
       "0    294053\n",
       "1     38899\n",
       "Name: is_promise_low_consume, dtype: int64"
      ]
     },
     "execution_count": 109,
     "metadata": {},
     "output_type": "execute_result"
    }
   ],
   "source": [
    "train_4.is_promise_low_consume.value_counts()"
   ]
  },
  {
   "cell_type": "code",
   "execution_count": 148,
   "metadata": {
    "scrolled": true
   },
   "outputs": [
    {
     "data": {
      "text/plain": [
       "current_service  1_total_fee\n",
       "89016252.0       16.00           6197\n",
       "                 0.00             961\n",
       "                 16.30            648\n",
       "                 16.10            608\n",
       "                 26.00            573\n",
       "                 6.00             534\n",
       "                 15.95            298\n",
       "                 16.20            280\n",
       "                 21.00            230\n",
       "                 16.60            229\n",
       "                 36.00            219\n",
       "89016253.0       26.00           1463\n",
       "89016259.0       36.00            855\n",
       "89950166.0       76.00          11848\n",
       "                 56.00           5856\n",
       "                 76.10           1635\n",
       "                 75.95           1319\n",
       "                 80.00           1289\n",
       "                 86.00            986\n",
       "                 56.10            952\n",
       "                 81.00            804\n",
       "                 50.00            711\n",
       "                 55.95            710\n",
       "                 136.00           657\n",
       "                 46.00            650\n",
       "                 70.00            600\n",
       "                 76.20            579\n",
       "                 91.00            568\n",
       "                 100.00           560\n",
       "                 96.00            552\n",
       "                                ...  \n",
       "99999825.0       300.00           267\n",
       "                 296.20           201\n",
       "99999826.0       196.00          2162\n",
       "                 196.10           450\n",
       "                 108.00           274\n",
       "                 156.00           234\n",
       "99999827.0       166.00          2657\n",
       "                 126.00           578\n",
       "                 166.10           472\n",
       "                 165.95           232\n",
       "99999828.0       136.00          3790\n",
       "                 96.00           1233\n",
       "                 95.00            736\n",
       "                 136.10           641\n",
       "                 140.00           632\n",
       "                 135.95           414\n",
       "                 196.00           335\n",
       "                 141.00           320\n",
       "                 151.00           297\n",
       "                 146.00           240\n",
       "                 136.20           239\n",
       "                 139.00           239\n",
       "                 156.00           229\n",
       "                 142.00           201\n",
       "99999830.0       76.00           2140\n",
       "                 136.00           341\n",
       "                 75.95            294\n",
       "                 80.00            259\n",
       "                 76.10            256\n",
       "                 100.00           223\n",
       "Name: 1_total_fee, Length: 110, dtype: int64"
      ]
     },
     "execution_count": 148,
     "metadata": {},
     "output_type": "execute_result"
    }
   ],
   "source": [
    "cur_fee = train_4.groupby('current_service')['1_total_fee'].value_counts() \n",
    "cur_fee[cur_fee > 200]"
   ]
  },
  {
   "cell_type": "code",
   "execution_count": 125,
   "metadata": {
    "scrolled": true
   },
   "outputs": [
    {
     "data": {
      "text/plain": [
       "80.00     1668\n",
       "140.00    1218\n",
       "100.00    1137\n",
       "120.00     998\n",
       "106.00     994\n",
       "56.00      859\n",
       "76.00      854\n",
       "136.00     709\n",
       "70.00      678\n",
       "166.00     512\n",
       "36.00      483\n",
       "26.00      344\n",
       "110.00     341\n",
       "150.00     337\n",
       "90.00      314\n",
       "200.00     313\n",
       "300.00     299\n",
       "196.00     282\n",
       "160.00     266\n",
       "180.00     252\n",
       "130.00     232\n",
       "86.00      222\n",
       "69.00      173\n",
       "50.00      165\n",
       "220.00     164\n",
       "96.00      149\n",
       "106.10     144\n",
       "79.95      140\n",
       "76.10      136\n",
       "126.00     136\n",
       "          ... \n",
       "121.67       1\n",
       "270.34       1\n",
       "329.77       1\n",
       "117.78       1\n",
       "263.45       1\n",
       "589.10       1\n",
       "125.55       1\n",
       "455.90       1\n",
       "132.80       1\n",
       "225.20       1\n",
       "225.76       1\n",
       "220.70       1\n",
       "318.42       1\n",
       "338.54       1\n",
       "117.17       1\n",
       "149.01       1\n",
       "120.02       1\n",
       "130.99       1\n",
       "30.95        1\n",
       "247.28       1\n",
       "251.05       1\n",
       "200.91       1\n",
       "69.75        1\n",
       "289.50       1\n",
       "360.43       1\n",
       "224.35       1\n",
       "224.65       1\n",
       "347.99       1\n",
       "266.40       1\n",
       "75.78        1\n",
       "Name: 1_total_fee, Length: 7941, dtype: int64"
      ]
     },
     "execution_count": 125,
     "metadata": {},
     "output_type": "execute_result"
    }
   ],
   "source": [
    "train_4.loc[(train.is_promise_low_consume == 1),'1_total_fee'].value_counts()"
   ]
  },
  {
   "cell_type": "code",
   "execution_count": 134,
   "metadata": {
    "scrolled": true
   },
   "outputs": [
    {
     "data": {
      "text/plain": [
       "89950166.0    13837\n",
       "99999830.0     2733\n",
       "89950168.0      440\n",
       "89016252.0      287\n",
       "89950167.0      151\n",
       "89016259.0      141\n",
       "89016253.0      121\n",
       "99999828.0        7\n",
       "99999827.0        3\n",
       "Name: current_service, dtype: int64"
      ]
     },
     "execution_count": 134,
     "metadata": {},
     "output_type": "execute_result"
    }
   ],
   "source": [
    "train_4.loc[(train['4_total_fee']>=76) & (train['4_total_fee']<79),\n",
    "          'current_service'].value_counts()"
   ]
  },
  {
   "cell_type": "code",
   "execution_count": 122,
   "metadata": {
    "scrolled": true
   },
   "outputs": [
    {
     "data": {
      "text/plain": [
       "89950166.0    938\n",
       "99999830.0     60\n",
       "89950168.0     27\n",
       "89950167.0     17\n",
       "89016259.0     14\n",
       "89016252.0     10\n",
       "89016253.0      2\n",
       "Name: current_service, dtype: int64"
      ]
     },
     "execution_count": 122,
     "metadata": {},
     "output_type": "execute_result"
    }
   ],
   "source": [
    "train_4.loc[(train.is_promise_low_consume == 1) & (train['4_total_fee']>=76) & (train['4_total_fee']<79),\n",
    "          'current_service'].value_counts()"
   ]
  },
  {
   "cell_type": "code",
   "execution_count": 123,
   "metadata": {},
   "outputs": [
    {
     "data": {
      "text/plain": [
       "89016252.0    124\n",
       "89016253.0     34\n",
       "89950166.0     24\n",
       "89016259.0     23\n",
       "89950168.0     21\n",
       "89950167.0      6\n",
       "99999828.0      5\n",
       "99999830.0      5\n",
       "99999826.0      5\n",
       "99999827.0      2\n",
       "Name: current_service, dtype: int64"
      ]
     },
     "execution_count": 123,
     "metadata": {},
     "output_type": "execute_result"
    }
   ],
   "source": [
    "train_4.loc[train_4['4_total_fee']<0,'current_service'].value_counts()"
   ]
  },
  {
   "cell_type": "markdown",
   "metadata": {},
   "source": [
    "## many_over_bill"
   ]
  },
  {
   "cell_type": "code",
   "execution_count": 10,
   "metadata": {},
   "outputs": [
    {
     "data": {
      "text/plain": [
       "0    351133\n",
       "1    261515\n",
       "Name: many_over_bill, dtype: int64"
      ]
     },
     "execution_count": 10,
     "metadata": {},
     "output_type": "execute_result"
    }
   ],
   "source": [
    "train.many_over_bill.value_counts()"
   ]
  },
  {
   "cell_type": "code",
   "execution_count": 35,
   "metadata": {},
   "outputs": [
    {
     "data": {
      "text/plain": [
       "many_over_bill\n",
       "0    0.02\n",
       "1    0.03\n",
       "Name: 1_total_fee, dtype: float64"
      ]
     },
     "execution_count": 35,
     "metadata": {},
     "output_type": "execute_result"
    }
   ],
   "source": [
    "train[train['1_total_fee']>0].groupby('many_over_bill')['1_total_fee'].min()"
   ]
  },
  {
   "cell_type": "markdown",
   "metadata": {},
   "source": [
    "## net_service"
   ]
  },
  {
   "cell_type": "code",
   "execution_count": 7,
   "metadata": {},
   "outputs": [
    {
     "data": {
      "text/plain": [
       "4    569780\n",
       "3     26141\n",
       "2     16373\n",
       "9       354\n",
       "Name: net_service, dtype: int64"
      ]
     },
     "execution_count": 7,
     "metadata": {},
     "output_type": "execute_result"
    }
   ],
   "source": [
    "train.net_service.value_counts()"
   ]
  },
  {
   "cell_type": "code",
   "execution_count": 9,
   "metadata": {
    "scrolled": true
   },
   "outputs": [
    {
     "data": {
      "text/plain": [
       "net_service  current_service\n",
       "2            89016252.0           6132\n",
       "             89950166.0           2545\n",
       "             89950168.0           1713\n",
       "             90063345.0           1693\n",
       "             89950167.0           1009\n",
       "             99999830.0            669\n",
       "             89016253.0            657\n",
       "             99999828.0            625\n",
       "             99104722.0            516\n",
       "             89016259.0            295\n",
       "             90109916.0            188\n",
       "             99999827.0            121\n",
       "             90155946.0             88\n",
       "             99999826.0             82\n",
       "             99999825.0             40\n",
       "3            89950166.0           6365\n",
       "             89016252.0           5318\n",
       "             89950167.0           2338\n",
       "             89950168.0           1920\n",
       "             99999828.0           1848\n",
       "             90063345.0           1780\n",
       "             99104722.0           1726\n",
       "             99999830.0           1523\n",
       "             89016253.0            898\n",
       "             99999827.0            665\n",
       "             89016259.0            611\n",
       "             99999826.0            443\n",
       "             90109916.0            309\n",
       "             99999825.0            258\n",
       "             90155946.0            139\n",
       "4            90063345.0         197751\n",
       "             89950166.0          84275\n",
       "             89950167.0          48066\n",
       "             99999828.0          34635\n",
       "             99104722.0          34027\n",
       "             90109916.0          26186\n",
       "             89016252.0          24837\n",
       "             99999827.0          21953\n",
       "             99999826.0          19864\n",
       "             89950168.0          19647\n",
       "             90155946.0          15248\n",
       "             99999825.0          14022\n",
       "             99999830.0          12626\n",
       "             89016253.0           8458\n",
       "             89016259.0           8185\n",
       "9            89016252.0             88\n",
       "             89950166.0             67\n",
       "             99999828.0             38\n",
       "             89950168.0             36\n",
       "             89950167.0             27\n",
       "             99999830.0             22\n",
       "             90063345.0             21\n",
       "             99104722.0             20\n",
       "             99999827.0             14\n",
       "             89016253.0              6\n",
       "             89016259.0              4\n",
       "             99999826.0              4\n",
       "             99999825.0              3\n",
       "             90109916.0              2\n",
       "             90155946.0              2\n",
       "Name: current_service, dtype: int64"
      ]
     },
     "execution_count": 9,
     "metadata": {},
     "output_type": "execute_result"
    }
   ],
   "source": [
    "train.groupby('net_service').current_service.value_counts()"
   ]
  }
 ],
 "metadata": {
  "kernelspec": {
   "display_name": "Python 3",
   "language": "python",
   "name": "python3"
  },
  "language_info": {
   "codemirror_mode": {
    "name": "ipython",
    "version": 3
   },
   "file_extension": ".py",
   "mimetype": "text/x-python",
   "name": "python",
   "nbconvert_exporter": "python",
   "pygments_lexer": "ipython3",
   "version": "3.6.5"
  }
 },
 "nbformat": 4,
 "nbformat_minor": 2
}
