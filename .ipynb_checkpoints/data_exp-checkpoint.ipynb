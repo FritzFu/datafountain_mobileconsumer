{
 "cells": [
  {
   "cell_type": "code",
   "execution_count": 41,
   "metadata": {},
   "outputs": [],
   "source": [
    "import pandas as pd\n",
    "import numpy as np\n",
    "import re\n",
    "import matplotlib.pyplot as plt"
   ]
  },
  {
   "cell_type": "code",
   "execution_count": 2,
   "metadata": {},
   "outputs": [
    {
     "name": "stderr",
     "output_type": "stream",
     "text": [
      "/Users/fu/anaconda3/lib/python3.6/site-packages/IPython/core/interactiveshell.py:2785: DtypeWarning: Columns (4,5,20,21) have mixed types. Specify dtype option on import or set low_memory=False.\n",
      "  interactivity=interactivity, compiler=compiler, result=result)\n",
      "/Users/fu/anaconda3/lib/python3.6/site-packages/IPython/core/interactiveshell.py:2785: DtypeWarning: Columns (4,5) have mixed types. Specify dtype option on import or set low_memory=False.\n",
      "  interactivity=interactivity, compiler=compiler, result=result)\n"
     ]
    }
   ],
   "source": [
    "train = pd.read_csv('../moblie_data/train.csv')\n",
    "test = pd.read_csv('../moblie_data/test.csv')"
   ]
  },
  {
   "cell_type": "code",
   "execution_count": 3,
   "metadata": {},
   "outputs": [],
   "source": [
    "pd.options.display.max_columns = 100"
   ]
  },
  {
   "cell_type": "markdown",
   "metadata": {},
   "source": [
    "## 数据概览"
   ]
  },
  {
   "cell_type": "code",
   "execution_count": 4,
   "metadata": {},
   "outputs": [],
   "source": [
    "train['current_service'] = train['current_service'].astype(str)"
   ]
  },
  {
   "cell_type": "code",
   "execution_count": 5,
   "metadata": {},
   "outputs": [
    {
     "name": "stdout",
     "output_type": "stream",
     "text": [
      "(612652, 27) (262565, 26)\n"
     ]
    }
   ],
   "source": [
    "print(train.shape, test.shape)"
   ]
  },
  {
   "cell_type": "code",
   "execution_count": 6,
   "metadata": {
    "scrolled": true
   },
   "outputs": [
    {
     "data": {
      "text/plain": [
       "service_type  current_service\n",
       "1             90063345           201245\n",
       "              90109916            26685\n",
       "              90155946            15477\n",
       "3             99104722            36289\n",
       "4             89950166            93252\n",
       "              89950167            51440\n",
       "              99999828            37146\n",
       "              89016252            36379\n",
       "              89950168            23316\n",
       "              99999827            22753\n",
       "              99999826            20393\n",
       "              99999830            14840\n",
       "              99999825            14323\n",
       "              89016253            10019\n",
       "              89016259             9095\n",
       "Name: current_service, dtype: int64"
      ]
     },
     "execution_count": 6,
     "metadata": {},
     "output_type": "execute_result"
    }
   ],
   "source": [
    "train.groupby('service_type').current_service.value_counts()"
   ]
  },
  {
   "cell_type": "code",
   "execution_count": 7,
   "metadata": {},
   "outputs": [
    {
     "data": {
      "text/plain": [
       "4    142914\n",
       "1    103945\n",
       "3     15706\n",
       "Name: service_type, dtype: int64"
      ]
     },
     "execution_count": 7,
     "metadata": {},
     "output_type": "execute_result"
    }
   ],
   "source": [
    "test.service_type.value_counts()"
   ]
  },
  {
   "cell_type": "markdown",
   "metadata": {},
   "source": [
    "## 类型转换"
   ]
  },
  {
   "cell_type": "code",
   "execution_count": 8,
   "metadata": {},
   "outputs": [
    {
     "data": {
      "text/plain": [
       "int64      11\n",
       "float64    10\n",
       "object      6\n",
       "dtype: int64"
      ]
     },
     "execution_count": 8,
     "metadata": {},
     "output_type": "execute_result"
    }
   ],
   "source": [
    "train.dtypes.value_counts()"
   ]
  },
  {
   "cell_type": "code",
   "execution_count": 9,
   "metadata": {},
   "outputs": [
    {
     "data": {
      "text/plain": [
       "int64      14\n",
       "float64     9\n",
       "object      3\n",
       "dtype: int64"
      ]
     },
     "execution_count": 9,
     "metadata": {},
     "output_type": "execute_result"
    }
   ],
   "source": [
    "test.dtypes.value_counts()"
   ]
  },
  {
   "cell_type": "code",
   "execution_count": 11,
   "metadata": {},
   "outputs": [
    {
     "data": {
      "text/html": [
       "<div>\n",
       "<style scoped>\n",
       "    .dataframe tbody tr th:only-of-type {\n",
       "        vertical-align: middle;\n",
       "    }\n",
       "\n",
       "    .dataframe tbody tr th {\n",
       "        vertical-align: top;\n",
       "    }\n",
       "\n",
       "    .dataframe thead th {\n",
       "        text-align: right;\n",
       "    }\n",
       "</style>\n",
       "<table border=\"1\" class=\"dataframe\">\n",
       "  <thead>\n",
       "    <tr style=\"text-align: right;\">\n",
       "      <th></th>\n",
       "      <th>service_type</th>\n",
       "      <th>is_mix_service</th>\n",
       "      <th>online_time</th>\n",
       "      <th>many_over_bill</th>\n",
       "      <th>contract_type</th>\n",
       "      <th>contract_time</th>\n",
       "      <th>is_promise_low_consume</th>\n",
       "      <th>net_service</th>\n",
       "      <th>pay_times</th>\n",
       "      <th>complaint_level</th>\n",
       "      <th>former_complaint_num</th>\n",
       "    </tr>\n",
       "  </thead>\n",
       "  <tbody>\n",
       "    <tr>\n",
       "      <th>0</th>\n",
       "      <td>4</td>\n",
       "      <td>0</td>\n",
       "      <td>85</td>\n",
       "      <td>0</td>\n",
       "      <td>1</td>\n",
       "      <td>36</td>\n",
       "      <td>0</td>\n",
       "      <td>4</td>\n",
       "      <td>2</td>\n",
       "      <td>0</td>\n",
       "      <td>0</td>\n",
       "    </tr>\n",
       "    <tr>\n",
       "      <th>1</th>\n",
       "      <td>1</td>\n",
       "      <td>0</td>\n",
       "      <td>10</td>\n",
       "      <td>1</td>\n",
       "      <td>0</td>\n",
       "      <td>0</td>\n",
       "      <td>0</td>\n",
       "      <td>4</td>\n",
       "      <td>3</td>\n",
       "      <td>0</td>\n",
       "      <td>0</td>\n",
       "    </tr>\n",
       "    <tr>\n",
       "      <th>2</th>\n",
       "      <td>1</td>\n",
       "      <td>0</td>\n",
       "      <td>12</td>\n",
       "      <td>0</td>\n",
       "      <td>0</td>\n",
       "      <td>0</td>\n",
       "      <td>0</td>\n",
       "      <td>4</td>\n",
       "      <td>4</td>\n",
       "      <td>0</td>\n",
       "      <td>0</td>\n",
       "    </tr>\n",
       "    <tr>\n",
       "      <th>3</th>\n",
       "      <td>4</td>\n",
       "      <td>0</td>\n",
       "      <td>134</td>\n",
       "      <td>0</td>\n",
       "      <td>0</td>\n",
       "      <td>0</td>\n",
       "      <td>0</td>\n",
       "      <td>4</td>\n",
       "      <td>1</td>\n",
       "      <td>0</td>\n",
       "      <td>0</td>\n",
       "    </tr>\n",
       "    <tr>\n",
       "      <th>4</th>\n",
       "      <td>4</td>\n",
       "      <td>0</td>\n",
       "      <td>84</td>\n",
       "      <td>0</td>\n",
       "      <td>1</td>\n",
       "      <td>24</td>\n",
       "      <td>0</td>\n",
       "      <td>4</td>\n",
       "      <td>12</td>\n",
       "      <td>2</td>\n",
       "      <td>1</td>\n",
       "    </tr>\n",
       "  </tbody>\n",
       "</table>\n",
       "</div>"
      ],
      "text/plain": [
       "   service_type  is_mix_service  online_time  many_over_bill  contract_type  \\\n",
       "0             4               0           85               0              1   \n",
       "1             1               0           10               1              0   \n",
       "2             1               0           12               0              0   \n",
       "3             4               0          134               0              0   \n",
       "4             4               0           84               0              1   \n",
       "\n",
       "   contract_time  is_promise_low_consume  net_service  pay_times  \\\n",
       "0             36                       0            4          2   \n",
       "1              0                       0            4          3   \n",
       "2              0                       0            4          4   \n",
       "3              0                       0            4          1   \n",
       "4             24                       0            4         12   \n",
       "\n",
       "   complaint_level  former_complaint_num  \n",
       "0                0                     0  \n",
       "1                0                     0  \n",
       "2                0                     0  \n",
       "3                0                     0  \n",
       "4                2                     1  "
      ]
     },
     "execution_count": 11,
     "metadata": {},
     "output_type": "execute_result"
    }
   ],
   "source": [
    "train.select_dtypes('int').head()"
   ]
  },
  {
   "cell_type": "code",
   "execution_count": 12,
   "metadata": {},
   "outputs": [
    {
     "data": {
      "text/html": [
       "<div>\n",
       "<style scoped>\n",
       "    .dataframe tbody tr th:only-of-type {\n",
       "        vertical-align: middle;\n",
       "    }\n",
       "\n",
       "    .dataframe tbody tr th {\n",
       "        vertical-align: top;\n",
       "    }\n",
       "\n",
       "    .dataframe thead th {\n",
       "        text-align: right;\n",
       "    }\n",
       "</style>\n",
       "<table border=\"1\" class=\"dataframe\">\n",
       "  <thead>\n",
       "    <tr style=\"text-align: right;\">\n",
       "      <th></th>\n",
       "      <th>1_total_fee</th>\n",
       "      <th>4_total_fee</th>\n",
       "      <th>month_traffic</th>\n",
       "      <th>pay_num</th>\n",
       "      <th>last_month_traffic</th>\n",
       "      <th>local_trafffic_month</th>\n",
       "      <th>local_caller_time</th>\n",
       "      <th>service1_caller_time</th>\n",
       "      <th>service2_caller_time</th>\n",
       "      <th>former_complaint_fee</th>\n",
       "    </tr>\n",
       "  </thead>\n",
       "  <tbody>\n",
       "    <tr>\n",
       "      <th>0</th>\n",
       "      <td>295.96</td>\n",
       "      <td>296.80</td>\n",
       "      <td>3813.614698</td>\n",
       "      <td>300.04</td>\n",
       "      <td>4096.000000</td>\n",
       "      <td>1392.038508</td>\n",
       "      <td>108.100000</td>\n",
       "      <td>0.000000</td>\n",
       "      <td>564.366667</td>\n",
       "      <td>0.0</td>\n",
       "    </tr>\n",
       "    <tr>\n",
       "      <th>1</th>\n",
       "      <td>265.20</td>\n",
       "      <td>174.50</td>\n",
       "      <td>0.000000</td>\n",
       "      <td>300.00</td>\n",
       "      <td>0.000000</td>\n",
       "      <td>62852.509718</td>\n",
       "      <td>240.100000</td>\n",
       "      <td>355.166667</td>\n",
       "      <td>0.000000</td>\n",
       "      <td>0.0</td>\n",
       "    </tr>\n",
       "    <tr>\n",
       "      <th>2</th>\n",
       "      <td>44.50</td>\n",
       "      <td>61.40</td>\n",
       "      <td>2598.397406</td>\n",
       "      <td>50.00</td>\n",
       "      <td>0.000000</td>\n",
       "      <td>1935.242104</td>\n",
       "      <td>27.666667</td>\n",
       "      <td>0.000000</td>\n",
       "      <td>98.416667</td>\n",
       "      <td>0.0</td>\n",
       "    </tr>\n",
       "    <tr>\n",
       "      <th>3</th>\n",
       "      <td>87.95</td>\n",
       "      <td>88.30</td>\n",
       "      <td>988.440563</td>\n",
       "      <td>100.00</td>\n",
       "      <td>37.336425</td>\n",
       "      <td>988.561075</td>\n",
       "      <td>89.900000</td>\n",
       "      <td>74.483333</td>\n",
       "      <td>121.833333</td>\n",
       "      <td>0.0</td>\n",
       "    </tr>\n",
       "    <tr>\n",
       "      <th>4</th>\n",
       "      <td>317.04</td>\n",
       "      <td>413.05</td>\n",
       "      <td>5885.800642</td>\n",
       "      <td>1000.03</td>\n",
       "      <td>3305.741127</td>\n",
       "      <td>0.000000</td>\n",
       "      <td>0.000000</td>\n",
       "      <td>35.100000</td>\n",
       "      <td>496.733333</td>\n",
       "      <td>0.0</td>\n",
       "    </tr>\n",
       "  </tbody>\n",
       "</table>\n",
       "</div>"
      ],
      "text/plain": [
       "   1_total_fee  4_total_fee  month_traffic  pay_num  last_month_traffic  \\\n",
       "0       295.96       296.80    3813.614698   300.04         4096.000000   \n",
       "1       265.20       174.50       0.000000   300.00            0.000000   \n",
       "2        44.50        61.40    2598.397406    50.00            0.000000   \n",
       "3        87.95        88.30     988.440563   100.00           37.336425   \n",
       "4       317.04       413.05    5885.800642  1000.03         3305.741127   \n",
       "\n",
       "   local_trafffic_month  local_caller_time  service1_caller_time  \\\n",
       "0           1392.038508         108.100000              0.000000   \n",
       "1          62852.509718         240.100000            355.166667   \n",
       "2           1935.242104          27.666667              0.000000   \n",
       "3            988.561075          89.900000             74.483333   \n",
       "4              0.000000           0.000000             35.100000   \n",
       "\n",
       "   service2_caller_time  former_complaint_fee  \n",
       "0            564.366667                   0.0  \n",
       "1              0.000000                   0.0  \n",
       "2             98.416667                   0.0  \n",
       "3            121.833333                   0.0  \n",
       "4            496.733333                   0.0  "
      ]
     },
     "execution_count": 12,
     "metadata": {},
     "output_type": "execute_result"
    }
   ],
   "source": [
    "train.select_dtypes('float').head()"
   ]
  },
  {
   "cell_type": "code",
   "execution_count": 13,
   "metadata": {
    "scrolled": true
   },
   "outputs": [
    {
     "data": {
      "text/html": [
       "<div>\n",
       "<style scoped>\n",
       "    .dataframe tbody tr th:only-of-type {\n",
       "        vertical-align: middle;\n",
       "    }\n",
       "\n",
       "    .dataframe tbody tr th {\n",
       "        vertical-align: top;\n",
       "    }\n",
       "\n",
       "    .dataframe thead th {\n",
       "        text-align: right;\n",
       "    }\n",
       "</style>\n",
       "<table border=\"1\" class=\"dataframe\">\n",
       "  <thead>\n",
       "    <tr style=\"text-align: right;\">\n",
       "      <th></th>\n",
       "      <th>2_total_fee</th>\n",
       "      <th>3_total_fee</th>\n",
       "      <th>gender</th>\n",
       "      <th>age</th>\n",
       "      <th>current_service</th>\n",
       "      <th>user_id</th>\n",
       "    </tr>\n",
       "  </thead>\n",
       "  <tbody>\n",
       "    <tr>\n",
       "      <th>0</th>\n",
       "      <td>296.2</td>\n",
       "      <td>296</td>\n",
       "      <td>1</td>\n",
       "      <td>31</td>\n",
       "      <td>99999825</td>\n",
       "      <td>Gx4sJzcQog01UhZL</td>\n",
       "    </tr>\n",
       "    <tr>\n",
       "      <th>1</th>\n",
       "      <td>261.2</td>\n",
       "      <td>208.5</td>\n",
       "      <td>1</td>\n",
       "      <td>30</td>\n",
       "      <td>90063345</td>\n",
       "      <td>kEXrhTiug93DIcLG</td>\n",
       "    </tr>\n",
       "    <tr>\n",
       "      <th>2</th>\n",
       "      <td>70.2</td>\n",
       "      <td>69</td>\n",
       "      <td>2</td>\n",
       "      <td>25</td>\n",
       "      <td>90109916</td>\n",
       "      <td>AouXr0EOUtSRdiYK</td>\n",
       "    </tr>\n",
       "    <tr>\n",
       "      <th>3</th>\n",
       "      <td>81.4</td>\n",
       "      <td>76</td>\n",
       "      <td>1</td>\n",
       "      <td>44</td>\n",
       "      <td>89950166</td>\n",
       "      <td>Yds7U30hnRZDiLtb</td>\n",
       "    </tr>\n",
       "    <tr>\n",
       "      <th>4</th>\n",
       "      <td>314.08</td>\n",
       "      <td>435.51</td>\n",
       "      <td>1</td>\n",
       "      <td>31</td>\n",
       "      <td>99999825</td>\n",
       "      <td>OFDTSXrhN9Q2mbVw</td>\n",
       "    </tr>\n",
       "  </tbody>\n",
       "</table>\n",
       "</div>"
      ],
      "text/plain": [
       "  2_total_fee 3_total_fee gender age current_service           user_id\n",
       "0       296.2         296      1  31        99999825  Gx4sJzcQog01UhZL\n",
       "1       261.2       208.5      1  30        90063345  kEXrhTiug93DIcLG\n",
       "2        70.2          69      2  25        90109916  AouXr0EOUtSRdiYK\n",
       "3        81.4          76      1  44        89950166  Yds7U30hnRZDiLtb\n",
       "4      314.08      435.51      1  31        99999825  OFDTSXrhN9Q2mbVw"
      ]
     },
     "execution_count": 13,
     "metadata": {},
     "output_type": "execute_result"
    }
   ],
   "source": [
    "train.select_dtypes('object').head()"
   ]
  },
  {
   "cell_type": "code",
   "execution_count": 14,
   "metadata": {},
   "outputs": [],
   "source": [
    "train['gender'] = train['gender'].astype('str')"
   ]
  },
  {
   "cell_type": "code",
   "execution_count": 15,
   "metadata": {},
   "outputs": [],
   "source": [
    "train['gender'] = train['gender'].replace('\\\\N','0')"
   ]
  },
  {
   "cell_type": "code",
   "execution_count": 16,
   "metadata": {},
   "outputs": [],
   "source": [
    "train['gender'] = train['gender'].replace('00','0')\n",
    "train['gender'] = train['gender'].replace('01','1')\n",
    "train['gender'] = train['gender'].replace('02','2')"
   ]
  },
  {
   "cell_type": "code",
   "execution_count": 29,
   "metadata": {},
   "outputs": [],
   "source": [
    "test['gender'] = test['gender'].astype(str)"
   ]
  },
  {
   "cell_type": "code",
   "execution_count": 17,
   "metadata": {},
   "outputs": [
    {
     "data": {
      "text/plain": [
       "1    406048\n",
       "2    188323\n",
       "0     18281\n",
       "Name: gender, dtype: int64"
      ]
     },
     "execution_count": 17,
     "metadata": {},
     "output_type": "execute_result"
    }
   ],
   "source": [
    "train['gender'].value_counts()"
   ]
  },
  {
   "cell_type": "code",
   "execution_count": 18,
   "metadata": {},
   "outputs": [
    {
     "data": {
      "text/plain": [
       "1    174034\n",
       "2     80729\n",
       "0      7802\n",
       "Name: gender, dtype: int64"
      ]
     },
     "execution_count": 18,
     "metadata": {},
     "output_type": "execute_result"
    }
   ],
   "source": [
    "test.gender.value_counts()"
   ]
  },
  {
   "cell_type": "code",
   "execution_count": 19,
   "metadata": {},
   "outputs": [],
   "source": [
    "## test follows same operation\n",
    "train['2_total_fee'] = train['2_total_fee'].replace('\\\\N',np.nan)\n",
    "train['3_total_fee'] = train['3_total_fee'].replace('\\\\N',np.nan)\n",
    "test['2_total_fee'] = test['2_total_fee'].replace('\\\\N',np.nan)\n",
    "test['3_total_fee'] = test['3_total_fee'].replace('\\\\N',np.nan)\n",
    "\n",
    "train[['2_total_fee','3_total_fee']] = train[['2_total_fee','3_total_fee']].astype(float)\n",
    "test[['2_total_fee','3_total_fee']] = test[['2_total_fee','3_total_fee']].astype(float)"
   ]
  },
  {
   "cell_type": "code",
   "execution_count": 20,
   "metadata": {},
   "outputs": [],
   "source": [
    "train['age'] = train['age'].replace('\\\\N',-1)"
   ]
  },
  {
   "cell_type": "code",
   "execution_count": 21,
   "metadata": {},
   "outputs": [],
   "source": [
    "train['age'] = train['age'].astype(int)"
   ]
  },
  {
   "cell_type": "code",
   "execution_count": 25,
   "metadata": {},
   "outputs": [
    {
     "data": {
      "text/html": [
       "<div>\n",
       "<style scoped>\n",
       "    .dataframe tbody tr th:only-of-type {\n",
       "        vertical-align: middle;\n",
       "    }\n",
       "\n",
       "    .dataframe tbody tr th {\n",
       "        vertical-align: top;\n",
       "    }\n",
       "\n",
       "    .dataframe thead th {\n",
       "        text-align: right;\n",
       "    }\n",
       "</style>\n",
       "<table border=\"1\" class=\"dataframe\">\n",
       "  <thead>\n",
       "    <tr style=\"text-align: right;\">\n",
       "      <th></th>\n",
       "      <th>gender</th>\n",
       "      <th>current_service</th>\n",
       "      <th>user_id</th>\n",
       "    </tr>\n",
       "  </thead>\n",
       "  <tbody>\n",
       "    <tr>\n",
       "      <th>0</th>\n",
       "      <td>1</td>\n",
       "      <td>99999825</td>\n",
       "      <td>Gx4sJzcQog01UhZL</td>\n",
       "    </tr>\n",
       "    <tr>\n",
       "      <th>1</th>\n",
       "      <td>1</td>\n",
       "      <td>90063345</td>\n",
       "      <td>kEXrhTiug93DIcLG</td>\n",
       "    </tr>\n",
       "    <tr>\n",
       "      <th>2</th>\n",
       "      <td>2</td>\n",
       "      <td>90109916</td>\n",
       "      <td>AouXr0EOUtSRdiYK</td>\n",
       "    </tr>\n",
       "    <tr>\n",
       "      <th>3</th>\n",
       "      <td>1</td>\n",
       "      <td>89950166</td>\n",
       "      <td>Yds7U30hnRZDiLtb</td>\n",
       "    </tr>\n",
       "    <tr>\n",
       "      <th>4</th>\n",
       "      <td>1</td>\n",
       "      <td>99999825</td>\n",
       "      <td>OFDTSXrhN9Q2mbVw</td>\n",
       "    </tr>\n",
       "  </tbody>\n",
       "</table>\n",
       "</div>"
      ],
      "text/plain": [
       "  gender current_service           user_id\n",
       "0      1        99999825  Gx4sJzcQog01UhZL\n",
       "1      1        90063345  kEXrhTiug93DIcLG\n",
       "2      2        90109916  AouXr0EOUtSRdiYK\n",
       "3      1        89950166  Yds7U30hnRZDiLtb\n",
       "4      1        99999825  OFDTSXrhN9Q2mbVw"
      ]
     },
     "execution_count": 25,
     "metadata": {},
     "output_type": "execute_result"
    }
   ],
   "source": [
    "train.select_dtypes(object).head()"
   ]
  },
  {
   "cell_type": "code",
   "execution_count": 30,
   "metadata": {},
   "outputs": [
    {
     "data": {
      "text/html": [
       "<div>\n",
       "<style scoped>\n",
       "    .dataframe tbody tr th:only-of-type {\n",
       "        vertical-align: middle;\n",
       "    }\n",
       "\n",
       "    .dataframe tbody tr th {\n",
       "        vertical-align: top;\n",
       "    }\n",
       "\n",
       "    .dataframe thead th {\n",
       "        text-align: right;\n",
       "    }\n",
       "</style>\n",
       "<table border=\"1\" class=\"dataframe\">\n",
       "  <thead>\n",
       "    <tr style=\"text-align: right;\">\n",
       "      <th></th>\n",
       "      <th>gender</th>\n",
       "      <th>user_id</th>\n",
       "    </tr>\n",
       "  </thead>\n",
       "  <tbody>\n",
       "    <tr>\n",
       "      <th>0</th>\n",
       "      <td>1</td>\n",
       "      <td>iC37kmjDBqrctznl</td>\n",
       "    </tr>\n",
       "    <tr>\n",
       "      <th>1</th>\n",
       "      <td>1</td>\n",
       "      <td>jSf9GCWynNVFwOtQ</td>\n",
       "    </tr>\n",
       "    <tr>\n",
       "      <th>2</th>\n",
       "      <td>1</td>\n",
       "      <td>j5hsAm8YagTcRXiB</td>\n",
       "    </tr>\n",
       "    <tr>\n",
       "      <th>3</th>\n",
       "      <td>2</td>\n",
       "      <td>6EC1H9IjDYcGFP4v</td>\n",
       "    </tr>\n",
       "    <tr>\n",
       "      <th>4</th>\n",
       "      <td>2</td>\n",
       "      <td>a0utDgZkXvJ1oFOs</td>\n",
       "    </tr>\n",
       "  </tbody>\n",
       "</table>\n",
       "</div>"
      ],
      "text/plain": [
       "  gender           user_id\n",
       "0      1  iC37kmjDBqrctznl\n",
       "1      1  jSf9GCWynNVFwOtQ\n",
       "2      1  j5hsAm8YagTcRXiB\n",
       "3      2  6EC1H9IjDYcGFP4v\n",
       "4      2  a0utDgZkXvJ1oFOs"
      ]
     },
     "execution_count": 30,
     "metadata": {},
     "output_type": "execute_result"
    }
   ],
   "source": [
    "test.select_dtypes(object).head()"
   ]
  },
  {
   "cell_type": "code",
   "execution_count": 38,
   "metadata": {},
   "outputs": [],
   "source": [
    "# 哑变量处理\n",
    "#train.contract_type.value_counts()\n",
    "#train.groupby('service_type').contract_type.value_counts()\n",
    "\n",
    "train[['contract_type','net_service']] = train[['contract_type','net_service']].astype(str)\n",
    "test[['contract_type','net_service']] = test[['contract_type','net_service']].astype(str)"
   ]
  },
  {
   "cell_type": "markdown",
   "metadata": {},
   "source": [
    "## NA及异常值"
   ]
  },
  {
   "cell_type": "code",
   "execution_count": 39,
   "metadata": {},
   "outputs": [
    {
     "data": {
      "text/html": [
       "<div>\n",
       "<style scoped>\n",
       "    .dataframe tbody tr th:only-of-type {\n",
       "        vertical-align: middle;\n",
       "    }\n",
       "\n",
       "    .dataframe tbody tr th {\n",
       "        vertical-align: top;\n",
       "    }\n",
       "\n",
       "    .dataframe thead th {\n",
       "        text-align: right;\n",
       "    }\n",
       "</style>\n",
       "<table border=\"1\" class=\"dataframe\">\n",
       "  <thead>\n",
       "    <tr style=\"text-align: right;\">\n",
       "      <th></th>\n",
       "      <th>service_type</th>\n",
       "      <th>is_mix_service</th>\n",
       "      <th>online_time</th>\n",
       "      <th>1_total_fee</th>\n",
       "      <th>2_total_fee</th>\n",
       "      <th>3_total_fee</th>\n",
       "      <th>4_total_fee</th>\n",
       "      <th>month_traffic</th>\n",
       "      <th>many_over_bill</th>\n",
       "      <th>contract_type</th>\n",
       "      <th>contract_time</th>\n",
       "      <th>is_promise_low_consume</th>\n",
       "      <th>net_service</th>\n",
       "      <th>pay_times</th>\n",
       "      <th>pay_num</th>\n",
       "      <th>last_month_traffic</th>\n",
       "      <th>local_trafffic_month</th>\n",
       "      <th>local_caller_time</th>\n",
       "      <th>service1_caller_time</th>\n",
       "      <th>service2_caller_time</th>\n",
       "      <th>gender</th>\n",
       "      <th>age</th>\n",
       "      <th>complaint_level</th>\n",
       "      <th>former_complaint_num</th>\n",
       "      <th>former_complaint_fee</th>\n",
       "      <th>current_service</th>\n",
       "      <th>user_id</th>\n",
       "    </tr>\n",
       "  </thead>\n",
       "  <tbody>\n",
       "    <tr>\n",
       "      <th>316212</th>\n",
       "      <td>4</td>\n",
       "      <td>0</td>\n",
       "      <td>1</td>\n",
       "      <td>120.75</td>\n",
       "      <td>NaN</td>\n",
       "      <td>NaN</td>\n",
       "      <td>0.0</td>\n",
       "      <td>1845.138838</td>\n",
       "      <td>0</td>\n",
       "      <td>0</td>\n",
       "      <td>0</td>\n",
       "      <td>0</td>\n",
       "      <td>4</td>\n",
       "      <td>1</td>\n",
       "      <td>200.0</td>\n",
       "      <td>0.0</td>\n",
       "      <td>1835.55331</td>\n",
       "      <td>3.283333</td>\n",
       "      <td>3.283333</td>\n",
       "      <td>0.0</td>\n",
       "      <td>0</td>\n",
       "      <td>28</td>\n",
       "      <td>3</td>\n",
       "      <td>1</td>\n",
       "      <td>0.0</td>\n",
       "      <td>89016252</td>\n",
       "      <td>uDSCTih2JNkLc7Oj</td>\n",
       "    </tr>\n",
       "    <tr>\n",
       "      <th>316212</th>\n",
       "      <td>4</td>\n",
       "      <td>0</td>\n",
       "      <td>1</td>\n",
       "      <td>120.75</td>\n",
       "      <td>NaN</td>\n",
       "      <td>NaN</td>\n",
       "      <td>0.0</td>\n",
       "      <td>1845.138838</td>\n",
       "      <td>0</td>\n",
       "      <td>0</td>\n",
       "      <td>0</td>\n",
       "      <td>0</td>\n",
       "      <td>4</td>\n",
       "      <td>1</td>\n",
       "      <td>200.0</td>\n",
       "      <td>0.0</td>\n",
       "      <td>1835.55331</td>\n",
       "      <td>3.283333</td>\n",
       "      <td>3.283333</td>\n",
       "      <td>0.0</td>\n",
       "      <td>0</td>\n",
       "      <td>28</td>\n",
       "      <td>3</td>\n",
       "      <td>1</td>\n",
       "      <td>0.0</td>\n",
       "      <td>89016252</td>\n",
       "      <td>uDSCTih2JNkLc7Oj</td>\n",
       "    </tr>\n",
       "    <tr>\n",
       "      <th>349037</th>\n",
       "      <td>4</td>\n",
       "      <td>0</td>\n",
       "      <td>1</td>\n",
       "      <td>0.00</td>\n",
       "      <td>NaN</td>\n",
       "      <td>0.0</td>\n",
       "      <td>0.0</td>\n",
       "      <td>0.000000</td>\n",
       "      <td>0</td>\n",
       "      <td>0</td>\n",
       "      <td>0</td>\n",
       "      <td>0</td>\n",
       "      <td>9</td>\n",
       "      <td>1</td>\n",
       "      <td>100.0</td>\n",
       "      <td>0.0</td>\n",
       "      <td>0.00000</td>\n",
       "      <td>0.000000</td>\n",
       "      <td>0.000000</td>\n",
       "      <td>0.0</td>\n",
       "      <td>2</td>\n",
       "      <td>37</td>\n",
       "      <td>1</td>\n",
       "      <td>1</td>\n",
       "      <td>0.0</td>\n",
       "      <td>89016252</td>\n",
       "      <td>ViM5gyqYfFerszhB</td>\n",
       "    </tr>\n",
       "    <tr>\n",
       "      <th>456036</th>\n",
       "      <td>4</td>\n",
       "      <td>0</td>\n",
       "      <td>1</td>\n",
       "      <td>0.40</td>\n",
       "      <td>NaN</td>\n",
       "      <td>0.0</td>\n",
       "      <td>0.0</td>\n",
       "      <td>0.000000</td>\n",
       "      <td>0</td>\n",
       "      <td>0</td>\n",
       "      <td>0</td>\n",
       "      <td>0</td>\n",
       "      <td>3</td>\n",
       "      <td>2</td>\n",
       "      <td>20.0</td>\n",
       "      <td>0.0</td>\n",
       "      <td>0.00000</td>\n",
       "      <td>1.883333</td>\n",
       "      <td>1.883333</td>\n",
       "      <td>0.0</td>\n",
       "      <td>2</td>\n",
       "      <td>39</td>\n",
       "      <td>3</td>\n",
       "      <td>1</td>\n",
       "      <td>0.0</td>\n",
       "      <td>89016252</td>\n",
       "      <td>e284yCaZhurgs5Q6</td>\n",
       "    </tr>\n",
       "    <tr>\n",
       "      <th>459053</th>\n",
       "      <td>4</td>\n",
       "      <td>0</td>\n",
       "      <td>1</td>\n",
       "      <td>0.00</td>\n",
       "      <td>NaN</td>\n",
       "      <td>0.0</td>\n",
       "      <td>0.0</td>\n",
       "      <td>0.000000</td>\n",
       "      <td>0</td>\n",
       "      <td>0</td>\n",
       "      <td>0</td>\n",
       "      <td>0</td>\n",
       "      <td>9</td>\n",
       "      <td>1</td>\n",
       "      <td>100.0</td>\n",
       "      <td>0.0</td>\n",
       "      <td>0.00000</td>\n",
       "      <td>0.000000</td>\n",
       "      <td>0.000000</td>\n",
       "      <td>0.0</td>\n",
       "      <td>2</td>\n",
       "      <td>37</td>\n",
       "      <td>3</td>\n",
       "      <td>2</td>\n",
       "      <td>0.0</td>\n",
       "      <td>89016252</td>\n",
       "      <td>xalirwuonACcN6BX</td>\n",
       "    </tr>\n",
       "  </tbody>\n",
       "</table>\n",
       "</div>"
      ],
      "text/plain": [
       "        service_type  is_mix_service  online_time  1_total_fee  2_total_fee  \\\n",
       "316212             4               0            1       120.75          NaN   \n",
       "316212             4               0            1       120.75          NaN   \n",
       "349037             4               0            1         0.00          NaN   \n",
       "456036             4               0            1         0.40          NaN   \n",
       "459053             4               0            1         0.00          NaN   \n",
       "\n",
       "        3_total_fee  4_total_fee  month_traffic  many_over_bill contract_type  \\\n",
       "316212          NaN          0.0    1845.138838               0             0   \n",
       "316212          NaN          0.0    1845.138838               0             0   \n",
       "349037          0.0          0.0       0.000000               0             0   \n",
       "456036          0.0          0.0       0.000000               0             0   \n",
       "459053          0.0          0.0       0.000000               0             0   \n",
       "\n",
       "        contract_time  is_promise_low_consume net_service  pay_times  pay_num  \\\n",
       "316212              0                       0           4          1    200.0   \n",
       "316212              0                       0           4          1    200.0   \n",
       "349037              0                       0           9          1    100.0   \n",
       "456036              0                       0           3          2     20.0   \n",
       "459053              0                       0           9          1    100.0   \n",
       "\n",
       "        last_month_traffic  local_trafffic_month  local_caller_time  \\\n",
       "316212                 0.0            1835.55331           3.283333   \n",
       "316212                 0.0            1835.55331           3.283333   \n",
       "349037                 0.0               0.00000           0.000000   \n",
       "456036                 0.0               0.00000           1.883333   \n",
       "459053                 0.0               0.00000           0.000000   \n",
       "\n",
       "        service1_caller_time  service2_caller_time gender  age  \\\n",
       "316212              3.283333                   0.0      0   28   \n",
       "316212              3.283333                   0.0      0   28   \n",
       "349037              0.000000                   0.0      2   37   \n",
       "456036              1.883333                   0.0      2   39   \n",
       "459053              0.000000                   0.0      2   37   \n",
       "\n",
       "        complaint_level  former_complaint_num  former_complaint_fee  \\\n",
       "316212                3                     1                   0.0   \n",
       "316212                3                     1                   0.0   \n",
       "349037                1                     1                   0.0   \n",
       "456036                3                     1                   0.0   \n",
       "459053                3                     2                   0.0   \n",
       "\n",
       "       current_service           user_id  \n",
       "316212        89016252  uDSCTih2JNkLc7Oj  \n",
       "316212        89016252  uDSCTih2JNkLc7Oj  \n",
       "349037        89016252  ViM5gyqYfFerszhB  \n",
       "456036        89016252  e284yCaZhurgs5Q6  \n",
       "459053        89016252  xalirwuonACcN6BX  "
      ]
     },
     "execution_count": 39,
     "metadata": {},
     "output_type": "execute_result"
    }
   ],
   "source": [
    "#train.isnull().any()\n",
    "train[train.isnull().values==True]"
   ]
  },
  {
   "cell_type": "code",
   "execution_count": 40,
   "metadata": {},
   "outputs": [
    {
     "data": {
      "text/html": [
       "<div>\n",
       "<style scoped>\n",
       "    .dataframe tbody tr th:only-of-type {\n",
       "        vertical-align: middle;\n",
       "    }\n",
       "\n",
       "    .dataframe tbody tr th {\n",
       "        vertical-align: top;\n",
       "    }\n",
       "\n",
       "    .dataframe thead th {\n",
       "        text-align: right;\n",
       "    }\n",
       "</style>\n",
       "<table border=\"1\" class=\"dataframe\">\n",
       "  <thead>\n",
       "    <tr style=\"text-align: right;\">\n",
       "      <th></th>\n",
       "      <th>service_type</th>\n",
       "      <th>is_mix_service</th>\n",
       "      <th>online_time</th>\n",
       "      <th>1_total_fee</th>\n",
       "      <th>2_total_fee</th>\n",
       "      <th>3_total_fee</th>\n",
       "      <th>4_total_fee</th>\n",
       "      <th>month_traffic</th>\n",
       "      <th>many_over_bill</th>\n",
       "      <th>contract_time</th>\n",
       "      <th>is_promise_low_consume</th>\n",
       "      <th>pay_times</th>\n",
       "      <th>pay_num</th>\n",
       "      <th>last_month_traffic</th>\n",
       "      <th>local_trafffic_month</th>\n",
       "      <th>local_caller_time</th>\n",
       "      <th>service1_caller_time</th>\n",
       "      <th>service2_caller_time</th>\n",
       "      <th>age</th>\n",
       "      <th>complaint_level</th>\n",
       "      <th>former_complaint_num</th>\n",
       "      <th>former_complaint_fee</th>\n",
       "    </tr>\n",
       "  </thead>\n",
       "  <tbody>\n",
       "    <tr>\n",
       "      <th>count</th>\n",
       "      <td>612652.000000</td>\n",
       "      <td>612652.000000</td>\n",
       "      <td>612652.000000</td>\n",
       "      <td>612652.000000</td>\n",
       "      <td>612648.000000</td>\n",
       "      <td>612651.000000</td>\n",
       "      <td>612652.000000</td>\n",
       "      <td>612652.000000</td>\n",
       "      <td>612652.000000</td>\n",
       "      <td>612652.000000</td>\n",
       "      <td>612652.000000</td>\n",
       "      <td>612652.000000</td>\n",
       "      <td>612652.000000</td>\n",
       "      <td>6.126520e+05</td>\n",
       "      <td>612652.000000</td>\n",
       "      <td>612652.000000</td>\n",
       "      <td>612652.000000</td>\n",
       "      <td>612652.000000</td>\n",
       "      <td>612652.000000</td>\n",
       "      <td>612652.000000</td>\n",
       "      <td>612652.000000</td>\n",
       "      <td>6.126520e+05</td>\n",
       "    </tr>\n",
       "    <tr>\n",
       "      <th>mean</th>\n",
       "      <td>2.748866</td>\n",
       "      <td>0.035844</td>\n",
       "      <td>42.831155</td>\n",
       "      <td>97.411841</td>\n",
       "      <td>102.702075</td>\n",
       "      <td>96.149332</td>\n",
       "      <td>102.870227</td>\n",
       "      <td>1159.336403</td>\n",
       "      <td>0.426857</td>\n",
       "      <td>6.666537</td>\n",
       "      <td>0.066904</td>\n",
       "      <td>1.908449</td>\n",
       "      <td>115.741906</td>\n",
       "      <td>2.097019e+04</td>\n",
       "      <td>5828.168153</td>\n",
       "      <td>59.027933</td>\n",
       "      <td>42.500022</td>\n",
       "      <td>84.484956</td>\n",
       "      <td>31.727070</td>\n",
       "      <td>0.119214</td>\n",
       "      <td>0.139472</td>\n",
       "      <td>5.000682e+06</td>\n",
       "    </tr>\n",
       "    <tr>\n",
       "      <th>std</th>\n",
       "      <td>1.438612</td>\n",
       "      <td>0.185902</td>\n",
       "      <td>45.367953</td>\n",
       "      <td>89.426252</td>\n",
       "      <td>97.642034</td>\n",
       "      <td>93.311691</td>\n",
       "      <td>101.235433</td>\n",
       "      <td>2754.759625</td>\n",
       "      <td>0.494622</td>\n",
       "      <td>9.935092</td>\n",
       "      <td>0.249856</td>\n",
       "      <td>1.490023</td>\n",
       "      <td>192.292304</td>\n",
       "      <td>2.683409e+05</td>\n",
       "      <td>11296.442223</td>\n",
       "      <td>115.763426</td>\n",
       "      <td>110.368034</td>\n",
       "      <td>137.037867</td>\n",
       "      <td>12.289461</td>\n",
       "      <td>0.380655</td>\n",
       "      <td>0.491302</td>\n",
       "      <td>2.798651e+09</td>\n",
       "    </tr>\n",
       "    <tr>\n",
       "      <th>min</th>\n",
       "      <td>1.000000</td>\n",
       "      <td>0.000000</td>\n",
       "      <td>1.000000</td>\n",
       "      <td>0.000000</td>\n",
       "      <td>-287.300000</td>\n",
       "      <td>-276.030000</td>\n",
       "      <td>-420.270000</td>\n",
       "      <td>0.000000</td>\n",
       "      <td>0.000000</td>\n",
       "      <td>-1.000000</td>\n",
       "      <td>0.000000</td>\n",
       "      <td>1.000000</td>\n",
       "      <td>0.010000</td>\n",
       "      <td>0.000000e+00</td>\n",
       "      <td>0.000000</td>\n",
       "      <td>0.000000</td>\n",
       "      <td>0.000000</td>\n",
       "      <td>0.000000</td>\n",
       "      <td>-1.000000</td>\n",
       "      <td>0.000000</td>\n",
       "      <td>0.000000</td>\n",
       "      <td>0.000000e+00</td>\n",
       "    </tr>\n",
       "    <tr>\n",
       "      <th>25%</th>\n",
       "      <td>1.000000</td>\n",
       "      <td>0.000000</td>\n",
       "      <td>10.000000</td>\n",
       "      <td>46.200000</td>\n",
       "      <td>47.200000</td>\n",
       "      <td>42.000000</td>\n",
       "      <td>44.900000</td>\n",
       "      <td>0.000000</td>\n",
       "      <td>0.000000</td>\n",
       "      <td>0.000000</td>\n",
       "      <td>0.000000</td>\n",
       "      <td>1.000000</td>\n",
       "      <td>40.000000</td>\n",
       "      <td>0.000000e+00</td>\n",
       "      <td>95.315849</td>\n",
       "      <td>0.000000</td>\n",
       "      <td>0.000000</td>\n",
       "      <td>0.000000</td>\n",
       "      <td>24.000000</td>\n",
       "      <td>0.000000</td>\n",
       "      <td>0.000000</td>\n",
       "      <td>0.000000e+00</td>\n",
       "    </tr>\n",
       "    <tr>\n",
       "      <th>50%</th>\n",
       "      <td>4.000000</td>\n",
       "      <td>0.000000</td>\n",
       "      <td>21.000000</td>\n",
       "      <td>72.630000</td>\n",
       "      <td>76.000000</td>\n",
       "      <td>69.000000</td>\n",
       "      <td>74.100000</td>\n",
       "      <td>139.220979</td>\n",
       "      <td>0.000000</td>\n",
       "      <td>0.000000</td>\n",
       "      <td>0.000000</td>\n",
       "      <td>1.000000</td>\n",
       "      <td>80.000000</td>\n",
       "      <td>0.000000e+00</td>\n",
       "      <td>1262.520067</td>\n",
       "      <td>14.066665</td>\n",
       "      <td>0.000000</td>\n",
       "      <td>29.150000</td>\n",
       "      <td>29.000000</td>\n",
       "      <td>0.000000</td>\n",
       "      <td>0.000000</td>\n",
       "      <td>0.000000e+00</td>\n",
       "    </tr>\n",
       "    <tr>\n",
       "      <th>75%</th>\n",
       "      <td>4.000000</td>\n",
       "      <td>0.000000</td>\n",
       "      <td>64.000000</td>\n",
       "      <td>116.000000</td>\n",
       "      <td>126.000000</td>\n",
       "      <td>119.750000</td>\n",
       "      <td>129.200000</td>\n",
       "      <td>1311.389001</td>\n",
       "      <td>1.000000</td>\n",
       "      <td>12.000000</td>\n",
       "      <td>0.000000</td>\n",
       "      <td>2.000000</td>\n",
       "      <td>120.000000</td>\n",
       "      <td>4.450649e+02</td>\n",
       "      <td>5184.926331</td>\n",
       "      <td>67.516667</td>\n",
       "      <td>34.466667</td>\n",
       "      <td>123.966667</td>\n",
       "      <td>39.000000</td>\n",
       "      <td>0.000000</td>\n",
       "      <td>0.000000</td>\n",
       "      <td>0.000000e+00</td>\n",
       "    </tr>\n",
       "    <tr>\n",
       "      <th>max</th>\n",
       "      <td>4.000000</td>\n",
       "      <td>1.000000</td>\n",
       "      <td>274.000000</td>\n",
       "      <td>5940.830000</td>\n",
       "      <td>5825.570000</td>\n",
       "      <td>6965.500000</td>\n",
       "      <td>5141.270000</td>\n",
       "      <td>159057.397788</td>\n",
       "      <td>1.000000</td>\n",
       "      <td>52.000000</td>\n",
       "      <td>1.000000</td>\n",
       "      <td>127.000000</td>\n",
       "      <td>55395.030000</td>\n",
       "      <td>2.716262e+07</td>\n",
       "      <td>484365.746313</td>\n",
       "      <td>6461.050000</td>\n",
       "      <td>5139.483333</td>\n",
       "      <td>16454.383333</td>\n",
       "      <td>99.000000</td>\n",
       "      <td>3.000000</td>\n",
       "      <td>37.000000</td>\n",
       "      <td>1.762166e+12</td>\n",
       "    </tr>\n",
       "  </tbody>\n",
       "</table>\n",
       "</div>"
      ],
      "text/plain": [
       "        service_type  is_mix_service    online_time    1_total_fee  \\\n",
       "count  612652.000000   612652.000000  612652.000000  612652.000000   \n",
       "mean        2.748866        0.035844      42.831155      97.411841   \n",
       "std         1.438612        0.185902      45.367953      89.426252   \n",
       "min         1.000000        0.000000       1.000000       0.000000   \n",
       "25%         1.000000        0.000000      10.000000      46.200000   \n",
       "50%         4.000000        0.000000      21.000000      72.630000   \n",
       "75%         4.000000        0.000000      64.000000     116.000000   \n",
       "max         4.000000        1.000000     274.000000    5940.830000   \n",
       "\n",
       "         2_total_fee    3_total_fee    4_total_fee  month_traffic  \\\n",
       "count  612648.000000  612651.000000  612652.000000  612652.000000   \n",
       "mean      102.702075      96.149332     102.870227    1159.336403   \n",
       "std        97.642034      93.311691     101.235433    2754.759625   \n",
       "min      -287.300000    -276.030000    -420.270000       0.000000   \n",
       "25%        47.200000      42.000000      44.900000       0.000000   \n",
       "50%        76.000000      69.000000      74.100000     139.220979   \n",
       "75%       126.000000     119.750000     129.200000    1311.389001   \n",
       "max      5825.570000    6965.500000    5141.270000  159057.397788   \n",
       "\n",
       "       many_over_bill  contract_time  is_promise_low_consume      pay_times  \\\n",
       "count   612652.000000  612652.000000           612652.000000  612652.000000   \n",
       "mean         0.426857       6.666537                0.066904       1.908449   \n",
       "std          0.494622       9.935092                0.249856       1.490023   \n",
       "min          0.000000      -1.000000                0.000000       1.000000   \n",
       "25%          0.000000       0.000000                0.000000       1.000000   \n",
       "50%          0.000000       0.000000                0.000000       1.000000   \n",
       "75%          1.000000      12.000000                0.000000       2.000000   \n",
       "max          1.000000      52.000000                1.000000     127.000000   \n",
       "\n",
       "             pay_num  last_month_traffic  local_trafffic_month  \\\n",
       "count  612652.000000        6.126520e+05         612652.000000   \n",
       "mean      115.741906        2.097019e+04           5828.168153   \n",
       "std       192.292304        2.683409e+05          11296.442223   \n",
       "min         0.010000        0.000000e+00              0.000000   \n",
       "25%        40.000000        0.000000e+00             95.315849   \n",
       "50%        80.000000        0.000000e+00           1262.520067   \n",
       "75%       120.000000        4.450649e+02           5184.926331   \n",
       "max     55395.030000        2.716262e+07         484365.746313   \n",
       "\n",
       "       local_caller_time  service1_caller_time  service2_caller_time  \\\n",
       "count      612652.000000         612652.000000         612652.000000   \n",
       "mean           59.027933             42.500022             84.484956   \n",
       "std           115.763426            110.368034            137.037867   \n",
       "min             0.000000              0.000000              0.000000   \n",
       "25%             0.000000              0.000000              0.000000   \n",
       "50%            14.066665              0.000000             29.150000   \n",
       "75%            67.516667             34.466667            123.966667   \n",
       "max          6461.050000           5139.483333          16454.383333   \n",
       "\n",
       "                 age  complaint_level  former_complaint_num  \\\n",
       "count  612652.000000    612652.000000         612652.000000   \n",
       "mean       31.727070         0.119214              0.139472   \n",
       "std        12.289461         0.380655              0.491302   \n",
       "min        -1.000000         0.000000              0.000000   \n",
       "25%        24.000000         0.000000              0.000000   \n",
       "50%        29.000000         0.000000              0.000000   \n",
       "75%        39.000000         0.000000              0.000000   \n",
       "max        99.000000         3.000000             37.000000   \n",
       "\n",
       "       former_complaint_fee  \n",
       "count          6.126520e+05  \n",
       "mean           5.000682e+06  \n",
       "std            2.798651e+09  \n",
       "min            0.000000e+00  \n",
       "25%            0.000000e+00  \n",
       "50%            0.000000e+00  \n",
       "75%            0.000000e+00  \n",
       "max            1.762166e+12  "
      ]
     },
     "execution_count": 40,
     "metadata": {},
     "output_type": "execute_result"
    }
   ],
   "source": [
    "train.describe()"
   ]
  },
  {
   "cell_type": "markdown",
   "metadata": {},
   "source": [
    "### 总结\n",
    "NA值：\n",
    "无NA值，但有\\\\N值，进行替换后\n",
    "gender包括0\n",
    "2,3,4_total_fee:NA值\n",
    "\n",
    "异常值：  \n",
    "各种//N  \n",
    "2,3,4_total_fee:neg num(欠费)  \n",
    "contract_time: -1  \n",
    "age:0以及99\n",
    "age为6的两个人居然是一个人，不改了\n"
   ]
  },
  {
   "cell_type": "code",
   "execution_count": 46,
   "metadata": {},
   "outputs": [
    {
     "data": {
      "text/plain": [
       "<matplotlib.axes._subplots.AxesSubplot at 0x113747780>"
      ]
     },
     "execution_count": 46,
     "metadata": {},
     "output_type": "execute_result"
    },
    {
     "data": {
      "image/png": "[encoded data removed]",
      "text/plain": [
       "<Figure size 432x288 with 1 Axes>"
      ]
     },
     "metadata": {},
     "output_type": "display_data"
    }
   ],
   "source": [
    "train.age.plot.hist(bins=10)"
   ]
  },
  {
   "cell_type": "markdown",
   "metadata": {},
   "source": [
    "### 处理age"
   ]
  },
  {
   "cell_type": "code",
   "execution_count": 51,
   "metadata": {},
   "outputs": [
    {
     "name": "stderr",
     "output_type": "stream",
     "text": [
      "/Users/fu/anaconda3/lib/python3.6/site-packages/ipykernel_launcher.py:1: SettingWithCopyWarning: \n",
      "A value is trying to be set on a copy of a slice from a DataFrame\n",
      "\n",
      "See the caveats in the documentation: http://pandas.pydata.org/pandas-docs/stable/indexing.html#indexing-view-versus-copy\n",
      "  \"\"\"Entry point for launching an IPython kernel.\n",
      "/Users/fu/anaconda3/lib/python3.6/site-packages/ipykernel_launcher.py:2: SettingWithCopyWarning: \n",
      "A value is trying to be set on a copy of a slice from a DataFrame\n",
      "\n",
      "See the caveats in the documentation: http://pandas.pydata.org/pandas-docs/stable/indexing.html#indexing-view-versus-copy\n",
      "  \n"
     ]
    }
   ],
   "source": [
    "#将age为0的人变为-1，最后统一变为nan\n",
    "train.age[train.age == 0] = -1\n",
    "test.age[test.age == 0] = -1"
   ]
  },
  {
   "cell_type": "code",
   "execution_count": 60,
   "metadata": {},
   "outputs": [
    {
     "data": {
      "text/plain": [
       "211139    6\n",
       "Name: age, dtype: int64"
      ]
     },
     "execution_count": 60,
     "metadata": {},
     "output_type": "execute_result"
    }
   ],
   "source": [
    "test.age[(test.age <= 10) & (test.age > 0)]"
   ]
  },
  {
   "cell_type": "code",
   "execution_count": 61,
   "metadata": {},
   "outputs": [
    {
     "data": {
      "text/plain": [
       "63014    6\n",
       "Name: age, dtype: int64"
      ]
     },
     "execution_count": 61,
     "metadata": {},
     "output_type": "execute_result"
    }
   ],
   "source": [
    "train.age[(train.age <= 10) & (train.age > 0)]"
   ]
  },
  {
   "cell_type": "code",
   "execution_count": 62,
   "metadata": {},
   "outputs": [
    {
     "data": {
      "text/html": [
       "<div>\n",
       "<style scoped>\n",
       "    .dataframe tbody tr th:only-of-type {\n",
       "        vertical-align: middle;\n",
       "    }\n",
       "\n",
       "    .dataframe tbody tr th {\n",
       "        vertical-align: top;\n",
       "    }\n",
       "\n",
       "    .dataframe thead th {\n",
       "        text-align: right;\n",
       "    }\n",
       "</style>\n",
       "<table border=\"1\" class=\"dataframe\">\n",
       "  <thead>\n",
       "    <tr style=\"text-align: right;\">\n",
       "      <th></th>\n",
       "      <th>service_type</th>\n",
       "      <th>is_mix_service</th>\n",
       "      <th>online_time</th>\n",
       "      <th>1_total_fee</th>\n",
       "      <th>2_total_fee</th>\n",
       "      <th>3_total_fee</th>\n",
       "      <th>4_total_fee</th>\n",
       "      <th>month_traffic</th>\n",
       "      <th>many_over_bill</th>\n",
       "      <th>contract_type</th>\n",
       "      <th>contract_time</th>\n",
       "      <th>is_promise_low_consume</th>\n",
       "      <th>net_service</th>\n",
       "      <th>pay_times</th>\n",
       "      <th>pay_num</th>\n",
       "      <th>last_month_traffic</th>\n",
       "      <th>local_trafffic_month</th>\n",
       "      <th>local_caller_time</th>\n",
       "      <th>service1_caller_time</th>\n",
       "      <th>service2_caller_time</th>\n",
       "      <th>gender</th>\n",
       "      <th>age</th>\n",
       "      <th>complaint_level</th>\n",
       "      <th>former_complaint_num</th>\n",
       "      <th>former_complaint_fee</th>\n",
       "      <th>user_id</th>\n",
       "    </tr>\n",
       "  </thead>\n",
       "  <tbody>\n",
       "    <tr>\n",
       "      <th>211139</th>\n",
       "      <td>3</td>\n",
       "      <td>0</td>\n",
       "      <td>44</td>\n",
       "      <td>113.18</td>\n",
       "      <td>101.14</td>\n",
       "      <td>39.36</td>\n",
       "      <td>126.35</td>\n",
       "      <td>0.0</td>\n",
       "      <td>1</td>\n",
       "      <td>0</td>\n",
       "      <td>0</td>\n",
       "      <td>0</td>\n",
       "      <td>4</td>\n",
       "      <td>1</td>\n",
       "      <td>50.0</td>\n",
       "      <td>0.0</td>\n",
       "      <td>0.356445</td>\n",
       "      <td>0.0</td>\n",
       "      <td>0.0</td>\n",
       "      <td>0.071111</td>\n",
       "      <td>2</td>\n",
       "      <td>6</td>\n",
       "      <td>0</td>\n",
       "      <td>0</td>\n",
       "      <td>0</td>\n",
       "      <td>K0TkW3pcgyqIJljh</td>\n",
       "    </tr>\n",
       "  </tbody>\n",
       "</table>\n",
       "</div>"
      ],
      "text/plain": [
       "        service_type  is_mix_service  online_time  1_total_fee  2_total_fee  \\\n",
       "211139             3               0           44       113.18       101.14   \n",
       "\n",
       "        3_total_fee  4_total_fee  month_traffic  many_over_bill contract_type  \\\n",
       "211139        39.36       126.35            0.0               1             0   \n",
       "\n",
       "        contract_time  is_promise_low_consume net_service  pay_times  pay_num  \\\n",
       "211139              0                       0           4          1     50.0   \n",
       "\n",
       "        last_month_traffic  local_trafffic_month  local_caller_time  \\\n",
       "211139                 0.0              0.356445                0.0   \n",
       "\n",
       "        service1_caller_time  service2_caller_time gender  age  \\\n",
       "211139                   0.0              0.071111      2    6   \n",
       "\n",
       "        complaint_level  former_complaint_num  former_complaint_fee  \\\n",
       "211139                0                     0                     0   \n",
       "\n",
       "                 user_id  \n",
       "211139  K0TkW3pcgyqIJljh  "
      ]
     },
     "execution_count": 62,
     "metadata": {},
     "output_type": "execute_result"
    }
   ],
   "source": [
    "test[test.age == 6]"
   ]
  },
  {
   "cell_type": "code",
   "execution_count": 63,
   "metadata": {},
   "outputs": [
    {
     "data": {
      "text/html": [
       "<div>\n",
       "<style scoped>\n",
       "    .dataframe tbody tr th:only-of-type {\n",
       "        vertical-align: middle;\n",
       "    }\n",
       "\n",
       "    .dataframe tbody tr th {\n",
       "        vertical-align: top;\n",
       "    }\n",
       "\n",
       "    .dataframe thead th {\n",
       "        text-align: right;\n",
       "    }\n",
       "</style>\n",
       "<table border=\"1\" class=\"dataframe\">\n",
       "  <thead>\n",
       "    <tr style=\"text-align: right;\">\n",
       "      <th></th>\n",
       "      <th>service_type</th>\n",
       "      <th>is_mix_service</th>\n",
       "      <th>online_time</th>\n",
       "      <th>1_total_fee</th>\n",
       "      <th>2_total_fee</th>\n",
       "      <th>3_total_fee</th>\n",
       "      <th>4_total_fee</th>\n",
       "      <th>month_traffic</th>\n",
       "      <th>many_over_bill</th>\n",
       "      <th>contract_type</th>\n",
       "      <th>contract_time</th>\n",
       "      <th>is_promise_low_consume</th>\n",
       "      <th>net_service</th>\n",
       "      <th>pay_times</th>\n",
       "      <th>pay_num</th>\n",
       "      <th>last_month_traffic</th>\n",
       "      <th>local_trafffic_month</th>\n",
       "      <th>local_caller_time</th>\n",
       "      <th>service1_caller_time</th>\n",
       "      <th>service2_caller_time</th>\n",
       "      <th>gender</th>\n",
       "      <th>age</th>\n",
       "      <th>complaint_level</th>\n",
       "      <th>former_complaint_num</th>\n",
       "      <th>former_complaint_fee</th>\n",
       "      <th>current_service</th>\n",
       "      <th>user_id</th>\n",
       "    </tr>\n",
       "  </thead>\n",
       "  <tbody>\n",
       "    <tr>\n",
       "      <th>63014</th>\n",
       "      <td>3</td>\n",
       "      <td>0</td>\n",
       "      <td>44</td>\n",
       "      <td>113.18</td>\n",
       "      <td>101.14</td>\n",
       "      <td>39.36</td>\n",
       "      <td>126.35</td>\n",
       "      <td>0.0</td>\n",
       "      <td>1</td>\n",
       "      <td>0</td>\n",
       "      <td>0</td>\n",
       "      <td>0</td>\n",
       "      <td>4</td>\n",
       "      <td>1</td>\n",
       "      <td>50.0</td>\n",
       "      <td>0.0</td>\n",
       "      <td>0.356445</td>\n",
       "      <td>0.0</td>\n",
       "      <td>0.0</td>\n",
       "      <td>0.071111</td>\n",
       "      <td>2</td>\n",
       "      <td>6</td>\n",
       "      <td>0</td>\n",
       "      <td>0</td>\n",
       "      <td>0.0</td>\n",
       "      <td>99104722</td>\n",
       "      <td>xWsM670Z5cdTDCf1</td>\n",
       "    </tr>\n",
       "  </tbody>\n",
       "</table>\n",
       "</div>"
      ],
      "text/plain": [
       "       service_type  is_mix_service  online_time  1_total_fee  2_total_fee  \\\n",
       "63014             3               0           44       113.18       101.14   \n",
       "\n",
       "       3_total_fee  4_total_fee  month_traffic  many_over_bill contract_type  \\\n",
       "63014        39.36       126.35            0.0               1             0   \n",
       "\n",
       "       contract_time  is_promise_low_consume net_service  pay_times  pay_num  \\\n",
       "63014              0                       0           4          1     50.0   \n",
       "\n",
       "       last_month_traffic  local_trafffic_month  local_caller_time  \\\n",
       "63014                 0.0              0.356445                0.0   \n",
       "\n",
       "       service1_caller_time  service2_caller_time gender  age  \\\n",
       "63014                   0.0              0.071111      2    6   \n",
       "\n",
       "       complaint_level  former_complaint_num  former_complaint_fee  \\\n",
       "63014                0                     0                   0.0   \n",
       "\n",
       "      current_service           user_id  \n",
       "63014        99104722  xWsM670Z5cdTDCf1  "
      ]
     },
     "execution_count": 63,
     "metadata": {},
     "output_type": "execute_result"
    }
   ],
   "source": [
    "train[train.age == 6]"
   ]
  },
  {
   "cell_type": "code",
   "execution_count": 67,
   "metadata": {},
   "outputs": [],
   "source": [
    "train.age[(train.age == -1) | (train.age == 99)] = np.nan"
   ]
  },
  {
   "cell_type": "markdown",
   "metadata": {},
   "source": [
    "### 处理contract_time"
   ]
  },
  {
   "cell_type": "code",
   "execution_count": 76,
   "metadata": {
    "scrolled": true
   },
   "outputs": [
    {
     "data": {
      "text/plain": [
       "service_type\n",
       "4    1000\n",
       "dtype: int64"
      ]
     },
     "execution_count": 76,
     "metadata": {},
     "output_type": "execute_result"
    }
   ],
   "source": [
    "train[train.contract_time == -1].groupby('service_type').size()"
   ]
  },
  {
   "cell_type": "code",
   "execution_count": 77,
   "metadata": {},
   "outputs": [
    {
     "name": "stderr",
     "output_type": "stream",
     "text": [
      "/Users/fu/anaconda3/lib/python3.6/site-packages/ipykernel_launcher.py:1: SettingWithCopyWarning: \n",
      "A value is trying to be set on a copy of a slice from a DataFrame\n",
      "\n",
      "See the caveats in the documentation: http://pandas.pydata.org/pandas-docs/stable/indexing.html#indexing-view-versus-copy\n",
      "  \"\"\"Entry point for launching an IPython kernel.\n"
     ]
    }
   ],
   "source": [
    "train.contract_time[train.contract_time == -1] = np.nan"
   ]
  },
  {
   "cell_type": "code",
   "execution_count": 79,
   "metadata": {},
   "outputs": [
    {
     "data": {
      "text/plain": [
       "service_type\n",
       "4    445\n",
       "dtype: int64"
      ]
     },
     "execution_count": 79,
     "metadata": {},
     "output_type": "execute_result"
    }
   ],
   "source": [
    "test[test.contract_time == -1].groupby('service_type').size()"
   ]
  },
  {
   "cell_type": "code",
   "execution_count": 81,
   "metadata": {},
   "outputs": [
    {
     "name": "stderr",
     "output_type": "stream",
     "text": [
      "/Users/fu/anaconda3/lib/python3.6/site-packages/ipykernel_launcher.py:1: SettingWithCopyWarning: \n",
      "A value is trying to be set on a copy of a slice from a DataFrame\n",
      "\n",
      "See the caveats in the documentation: http://pandas.pydata.org/pandas-docs/stable/indexing.html#indexing-view-versus-copy\n",
      "  \"\"\"Entry point for launching an IPython kernel.\n"
     ]
    }
   ],
   "source": [
    "test.contract_time[test.contract_time == -1] = np.nan"
   ]
  },
  {
   "cell_type": "code",
   "execution_count": 82,
   "metadata": {},
   "outputs": [
    {
     "name": "stdout",
     "output_type": "stream",
     "text": [
      "(612652, 27) (262565, 26)\n"
     ]
    }
   ],
   "source": [
    "print(train.shape,test.shape)"
   ]
  },
  {
   "cell_type": "code",
   "execution_count": 83,
   "metadata": {},
   "outputs": [],
   "source": [
    "#导出数据\n",
    "train.to_csv('../moblie_data/train_clean.csv')\n",
    "test.to_csv('../moblie_data/test_clean.csv')"
   ]
  },
  {
   "cell_type": "markdown",
   "metadata": {},
   "source": [
    "## 按类型分组"
   ]
  },
  {
   "cell_type": "code",
   "execution_count": 42,
   "metadata": {},
   "outputs": [],
   "source": [
    "train_1 = train[train.service_type == 1]\n",
    "train_3 = train[train.service_type == 3]\n",
    "train_4 = train[train.service_type == 4]\n",
    "\n",
    "test_1 = test[test.service_type == 1]\n",
    "test_3 = test[test.service_type == 3]\n",
    "test_4 = test[test.service_type == 4]"
   ]
  }
 ],
 "metadata": {
  "kernelspec": {
   "display_name": "Python 3",
   "language": "python",
   "name": "python3"
  },
  "language_info": {
   "codemirror_mode": {
    "name": "ipython",
    "version": 3
   },
   "file_extension": ".py",
   "mimetype": "text/x-python",
   "name": "python",
   "nbconvert_exporter": "python",
   "pygments_lexer": "ipython3",
   "version": "3.6.5"
  }
 },
 "nbformat": 4,
 "nbformat_minor": 2
}
