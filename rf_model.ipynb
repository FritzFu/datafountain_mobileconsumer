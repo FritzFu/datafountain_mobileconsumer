{
 "cells": [
  {
   "cell_type": "code",
   "execution_count": 1,
   "metadata": {},
   "outputs": [],
   "source": [
    "import pandas as pd\n",
    "import numpy as np"
   ]
  },
  {
   "cell_type": "code",
   "execution_count": 2,
   "metadata": {},
   "outputs": [],
   "source": [
    "train = pd.read_csv('../moblie_data/train_clean_cutdup.csv')\n",
    "test = pd.read_csv('../moblie_data/test_clean.csv')\n",
    "train = train.iloc[:,1:]\n",
    "test = test.iloc[:,1:]"
   ]
  },
  {
   "cell_type": "code",
   "execution_count": 3,
   "metadata": {},
   "outputs": [],
   "source": [
    "train['current_service'] = train['current_service'].astype(int).astype(str)\n",
    "train['gender'] = train['gender'].astype(str)\n",
    "test['gender'] = test['gender'].astype(str)\n",
    "train[['contract_type','net_service','complaint_level']] = train[['contract_type','net_service','complaint_level']].astype(str)\n",
    "test[['contract_type','net_service','complaint_level']] = test[['contract_type','net_service','complaint_level']].astype(str)"
   ]
  },
  {
   "cell_type": "code",
   "execution_count": 4,
   "metadata": {},
   "outputs": [
    {
     "data": {
      "text/html": [
       "<div>\n",
       "<style scoped>\n",
       "    .dataframe tbody tr th:only-of-type {\n",
       "        vertical-align: middle;\n",
       "    }\n",
       "\n",
       "    .dataframe tbody tr th {\n",
       "        vertical-align: top;\n",
       "    }\n",
       "\n",
       "    .dataframe thead th {\n",
       "        text-align: right;\n",
       "    }\n",
       "</style>\n",
       "<table border=\"1\" class=\"dataframe\">\n",
       "  <thead>\n",
       "    <tr style=\"text-align: right;\">\n",
       "      <th></th>\n",
       "      <th>service_type</th>\n",
       "      <th>is_mix_service</th>\n",
       "      <th>online_time</th>\n",
       "      <th>1_total_fee</th>\n",
       "      <th>2_total_fee</th>\n",
       "      <th>3_total_fee</th>\n",
       "      <th>4_total_fee</th>\n",
       "      <th>month_traffic</th>\n",
       "      <th>many_over_bill</th>\n",
       "      <th>contract_time</th>\n",
       "      <th>...</th>\n",
       "      <th>pay_times</th>\n",
       "      <th>pay_num</th>\n",
       "      <th>last_month_traffic</th>\n",
       "      <th>local_trafffic_month</th>\n",
       "      <th>local_caller_time</th>\n",
       "      <th>service1_caller_time</th>\n",
       "      <th>service2_caller_time</th>\n",
       "      <th>age</th>\n",
       "      <th>former_complaint_num</th>\n",
       "      <th>former_complaint_fee</th>\n",
       "    </tr>\n",
       "  </thead>\n",
       "  <tbody>\n",
       "    <tr>\n",
       "      <th>count</th>\n",
       "      <td>573965.000000</td>\n",
       "      <td>573965.000000</td>\n",
       "      <td>573965.000000</td>\n",
       "      <td>573965.000000</td>\n",
       "      <td>573965.000000</td>\n",
       "      <td>573965.000000</td>\n",
       "      <td>573965.000000</td>\n",
       "      <td>573965.000000</td>\n",
       "      <td>573965.000000</td>\n",
       "      <td>572975.000000</td>\n",
       "      <td>...</td>\n",
       "      <td>573965.000000</td>\n",
       "      <td>573965.000000</td>\n",
       "      <td>5.739650e+05</td>\n",
       "      <td>573965.000000</td>\n",
       "      <td>573965.000000</td>\n",
       "      <td>573965.000000</td>\n",
       "      <td>573965.000000</td>\n",
       "      <td>573965.000000</td>\n",
       "      <td>573965.000000</td>\n",
       "      <td>5.739650e+05</td>\n",
       "    </tr>\n",
       "    <tr>\n",
       "      <th>mean</th>\n",
       "      <td>2.705421</td>\n",
       "      <td>0.032960</td>\n",
       "      <td>41.743634</td>\n",
       "      <td>96.010558</td>\n",
       "      <td>100.896883</td>\n",
       "      <td>94.289659</td>\n",
       "      <td>100.458942</td>\n",
       "      <td>1135.172460</td>\n",
       "      <td>0.436201</td>\n",
       "      <td>6.434084</td>\n",
       "      <td>...</td>\n",
       "      <td>1.903888</td>\n",
       "      <td>114.733953</td>\n",
       "      <td>2.065783e+04</td>\n",
       "      <td>5946.367888</td>\n",
       "      <td>57.322835</td>\n",
       "      <td>42.251370</td>\n",
       "      <td>81.963226</td>\n",
       "      <td>32.607146</td>\n",
       "      <td>0.127576</td>\n",
       "      <td>5.337697e+06</td>\n",
       "    </tr>\n",
       "    <tr>\n",
       "      <th>std</th>\n",
       "      <td>1.445468</td>\n",
       "      <td>0.178533</td>\n",
       "      <td>44.785645</td>\n",
       "      <td>89.089141</td>\n",
       "      <td>96.454593</td>\n",
       "      <td>91.970825</td>\n",
       "      <td>99.063119</td>\n",
       "      <td>2719.585580</td>\n",
       "      <td>0.495913</td>\n",
       "      <td>9.814382</td>\n",
       "      <td>...</td>\n",
       "      <td>1.491034</td>\n",
       "      <td>192.859468</td>\n",
       "      <td>2.637609e+05</td>\n",
       "      <td>11421.909977</td>\n",
       "      <td>114.203407</td>\n",
       "      <td>109.811456</td>\n",
       "      <td>135.809788</td>\n",
       "      <td>10.982498</td>\n",
       "      <td>0.474545</td>\n",
       "      <td>2.891432e+09</td>\n",
       "    </tr>\n",
       "    <tr>\n",
       "      <th>min</th>\n",
       "      <td>1.000000</td>\n",
       "      <td>0.000000</td>\n",
       "      <td>1.000000</td>\n",
       "      <td>0.000000</td>\n",
       "      <td>-287.300000</td>\n",
       "      <td>-276.030000</td>\n",
       "      <td>-420.270000</td>\n",
       "      <td>0.000000</td>\n",
       "      <td>0.000000</td>\n",
       "      <td>0.000000</td>\n",
       "      <td>...</td>\n",
       "      <td>1.000000</td>\n",
       "      <td>0.010000</td>\n",
       "      <td>0.000000e+00</td>\n",
       "      <td>0.000000</td>\n",
       "      <td>0.000000</td>\n",
       "      <td>0.000000</td>\n",
       "      <td>0.000000</td>\n",
       "      <td>6.000000</td>\n",
       "      <td>0.000000</td>\n",
       "      <td>0.000000e+00</td>\n",
       "    </tr>\n",
       "    <tr>\n",
       "      <th>25%</th>\n",
       "      <td>1.000000</td>\n",
       "      <td>0.000000</td>\n",
       "      <td>10.000000</td>\n",
       "      <td>45.800000</td>\n",
       "      <td>46.500000</td>\n",
       "      <td>41.500000</td>\n",
       "      <td>44.300000</td>\n",
       "      <td>0.000000</td>\n",
       "      <td>0.000000</td>\n",
       "      <td>0.000000</td>\n",
       "      <td>...</td>\n",
       "      <td>1.000000</td>\n",
       "      <td>40.000000</td>\n",
       "      <td>0.000000e+00</td>\n",
       "      <td>91.397704</td>\n",
       "      <td>0.000000</td>\n",
       "      <td>0.000000</td>\n",
       "      <td>0.000000</td>\n",
       "      <td>24.000000</td>\n",
       "      <td>0.000000</td>\n",
       "      <td>0.000000e+00</td>\n",
       "    </tr>\n",
       "    <tr>\n",
       "      <th>50%</th>\n",
       "      <td>4.000000</td>\n",
       "      <td>0.000000</td>\n",
       "      <td>19.000000</td>\n",
       "      <td>70.710000</td>\n",
       "      <td>74.500000</td>\n",
       "      <td>66.500000</td>\n",
       "      <td>71.350000</td>\n",
       "      <td>104.302644</td>\n",
       "      <td>0.000000</td>\n",
       "      <td>0.000000</td>\n",
       "      <td>...</td>\n",
       "      <td>1.000000</td>\n",
       "      <td>80.000000</td>\n",
       "      <td>0.000000e+00</td>\n",
       "      <td>1285.942818</td>\n",
       "      <td>13.183333</td>\n",
       "      <td>0.000000</td>\n",
       "      <td>26.250000</td>\n",
       "      <td>30.000000</td>\n",
       "      <td>0.000000</td>\n",
       "      <td>0.000000e+00</td>\n",
       "    </tr>\n",
       "    <tr>\n",
       "      <th>75%</th>\n",
       "      <td>4.000000</td>\n",
       "      <td>0.000000</td>\n",
       "      <td>62.000000</td>\n",
       "      <td>113.730000</td>\n",
       "      <td>122.200000</td>\n",
       "      <td>116.000000</td>\n",
       "      <td>125.000000</td>\n",
       "      <td>1278.332352</td>\n",
       "      <td>1.000000</td>\n",
       "      <td>12.000000</td>\n",
       "      <td>...</td>\n",
       "      <td>2.000000</td>\n",
       "      <td>120.000000</td>\n",
       "      <td>4.100302e+02</td>\n",
       "      <td>5393.669922</td>\n",
       "      <td>64.616667</td>\n",
       "      <td>34.400000</td>\n",
       "      <td>118.066667</td>\n",
       "      <td>39.000000</td>\n",
       "      <td>0.000000</td>\n",
       "      <td>0.000000e+00</td>\n",
       "    </tr>\n",
       "    <tr>\n",
       "      <th>max</th>\n",
       "      <td>4.000000</td>\n",
       "      <td>1.000000</td>\n",
       "      <td>274.000000</td>\n",
       "      <td>5940.830000</td>\n",
       "      <td>5825.570000</td>\n",
       "      <td>6965.500000</td>\n",
       "      <td>5141.270000</td>\n",
       "      <td>159057.397788</td>\n",
       "      <td>1.000000</td>\n",
       "      <td>52.000000</td>\n",
       "      <td>...</td>\n",
       "      <td>127.000000</td>\n",
       "      <td>55395.030000</td>\n",
       "      <td>2.716262e+07</td>\n",
       "      <td>484365.746313</td>\n",
       "      <td>6461.050000</td>\n",
       "      <td>5139.483333</td>\n",
       "      <td>16454.383333</td>\n",
       "      <td>94.000000</td>\n",
       "      <td>37.000000</td>\n",
       "      <td>1.762166e+12</td>\n",
       "    </tr>\n",
       "  </tbody>\n",
       "</table>\n",
       "<p>8 rows × 21 columns</p>\n",
       "</div>"
      ],
      "text/plain": [
       "        service_type  is_mix_service    online_time    1_total_fee  \\\n",
       "count  573965.000000   573965.000000  573965.000000  573965.000000   \n",
       "mean        2.705421        0.032960      41.743634      96.010558   \n",
       "std         1.445468        0.178533      44.785645      89.089141   \n",
       "min         1.000000        0.000000       1.000000       0.000000   \n",
       "25%         1.000000        0.000000      10.000000      45.800000   \n",
       "50%         4.000000        0.000000      19.000000      70.710000   \n",
       "75%         4.000000        0.000000      62.000000     113.730000   \n",
       "max         4.000000        1.000000     274.000000    5940.830000   \n",
       "\n",
       "         2_total_fee    3_total_fee    4_total_fee  month_traffic  \\\n",
       "count  573965.000000  573965.000000  573965.000000  573965.000000   \n",
       "mean      100.896883      94.289659     100.458942    1135.172460   \n",
       "std        96.454593      91.970825      99.063119    2719.585580   \n",
       "min      -287.300000    -276.030000    -420.270000       0.000000   \n",
       "25%        46.500000      41.500000      44.300000       0.000000   \n",
       "50%        74.500000      66.500000      71.350000     104.302644   \n",
       "75%       122.200000     116.000000     125.000000    1278.332352   \n",
       "max      5825.570000    6965.500000    5141.270000  159057.397788   \n",
       "\n",
       "       many_over_bill  contract_time          ...               pay_times  \\\n",
       "count   573965.000000  572975.000000          ...           573965.000000   \n",
       "mean         0.436201       6.434084          ...                1.903888   \n",
       "std          0.495913       9.814382          ...                1.491034   \n",
       "min          0.000000       0.000000          ...                1.000000   \n",
       "25%          0.000000       0.000000          ...                1.000000   \n",
       "50%          0.000000       0.000000          ...                1.000000   \n",
       "75%          1.000000      12.000000          ...                2.000000   \n",
       "max          1.000000      52.000000          ...              127.000000   \n",
       "\n",
       "             pay_num  last_month_traffic  local_trafffic_month  \\\n",
       "count  573965.000000        5.739650e+05         573965.000000   \n",
       "mean      114.733953        2.065783e+04           5946.367888   \n",
       "std       192.859468        2.637609e+05          11421.909977   \n",
       "min         0.010000        0.000000e+00              0.000000   \n",
       "25%        40.000000        0.000000e+00             91.397704   \n",
       "50%        80.000000        0.000000e+00           1285.942818   \n",
       "75%       120.000000        4.100302e+02           5393.669922   \n",
       "max     55395.030000        2.716262e+07         484365.746313   \n",
       "\n",
       "       local_caller_time  service1_caller_time  service2_caller_time  \\\n",
       "count      573965.000000         573965.000000         573965.000000   \n",
       "mean           57.322835             42.251370             81.963226   \n",
       "std           114.203407            109.811456            135.809788   \n",
       "min             0.000000              0.000000              0.000000   \n",
       "25%             0.000000              0.000000              0.000000   \n",
       "50%            13.183333              0.000000             26.250000   \n",
       "75%            64.616667             34.400000            118.066667   \n",
       "max          6461.050000           5139.483333          16454.383333   \n",
       "\n",
       "                 age  former_complaint_num  former_complaint_fee  \n",
       "count  573965.000000         573965.000000          5.739650e+05  \n",
       "mean       32.607146              0.127576          5.337697e+06  \n",
       "std        10.982498              0.474545          2.891432e+09  \n",
       "min         6.000000              0.000000          0.000000e+00  \n",
       "25%        24.000000              0.000000          0.000000e+00  \n",
       "50%        30.000000              0.000000          0.000000e+00  \n",
       "75%        39.000000              0.000000          0.000000e+00  \n",
       "max        94.000000             37.000000          1.762166e+12  \n",
       "\n",
       "[8 rows x 21 columns]"
      ]
     },
     "execution_count": 4,
     "metadata": {},
     "output_type": "execute_result"
    }
   ],
   "source": [
    "train.describe()"
   ]
  },
  {
   "cell_type": "code",
   "execution_count": 5,
   "metadata": {},
   "outputs": [
    {
     "name": "stdout",
     "output_type": "stream",
     "text": [
      "<class 'pandas.core.frame.DataFrame'>\n",
      "RangeIndex: 262565 entries, 0 to 262564\n",
      "Data columns (total 26 columns):\n",
      "service_type              262565 non-null int64\n",
      "is_mix_service            262565 non-null int64\n",
      "online_time               262565 non-null int64\n",
      "1_total_fee               262565 non-null float64\n",
      "2_total_fee               262564 non-null float64\n",
      "3_total_fee               262563 non-null float64\n",
      "4_total_fee               262565 non-null float64\n",
      "month_traffic             262565 non-null float64\n",
      "many_over_bill            262565 non-null int64\n",
      "contract_type             262565 non-null object\n",
      "contract_time             262120 non-null float64\n",
      "is_promise_low_consume    262565 non-null int64\n",
      "net_service               262565 non-null object\n",
      "pay_times                 262565 non-null int64\n",
      "pay_num                   262565 non-null float64\n",
      "last_month_traffic        262565 non-null float64\n",
      "local_trafffic_month      262565 non-null float64\n",
      "local_caller_time         262565 non-null float64\n",
      "service1_caller_time      262565 non-null float64\n",
      "service2_caller_time      262565 non-null float64\n",
      "gender                    262565 non-null object\n",
      "age                       262565 non-null float64\n",
      "complaint_level           262565 non-null object\n",
      "former_complaint_num      262565 non-null int64\n",
      "former_complaint_fee      262565 non-null float64\n",
      "user_id                   262565 non-null object\n",
      "dtypes: float64(14), int64(7), object(5)\n",
      "memory usage: 52.1+ MB\n"
     ]
    }
   ],
   "source": [
    "test.info()"
   ]
  },
  {
   "cell_type": "code",
   "execution_count": 6,
   "metadata": {},
   "outputs": [],
   "source": [
    "train['contract_time'] = train['contract_time'].fillna(-1)\n",
    "test['contract_time'] = test['contract_time'].fillna(-1)"
   ]
  },
  {
   "cell_type": "code",
   "execution_count": 7,
   "metadata": {},
   "outputs": [],
   "source": [
    "test.fillna(inplace=True, value = 0)"
   ]
  },
  {
   "cell_type": "code",
   "execution_count": 8,
   "metadata": {},
   "outputs": [],
   "source": [
    "xgb_train = pd.get_dummies(train.iloc[:,:-2])\n",
    "xgb_label = train.current_service\n",
    "xgb_train = pd.concat([xgb_train,xgb_label],axis=1)\n",
    "xgb_test = pd.get_dummies(test.iloc[:,:-1])\n",
    "\n",
    "train_1 = xgb_train[train.service_type == 1].iloc[:,1:]\n",
    "train_3 = xgb_train[train.service_type == 3].iloc[:,1:]\n",
    "train_4 = xgb_train[train.service_type == 4].iloc[:,1:]\n",
    "\n",
    "test_1 = xgb_test[test.service_type == 1].iloc[:,1:]\n",
    "test_3 = xgb_test[test.service_type == 3].iloc[:,1:]\n",
    "test_4 = xgb_test[test.service_type == 4].iloc[:,1:]\n",
    "\n",
    "del xgb_train,xgb_label,xgb_test"
   ]
  },
  {
   "cell_type": "code",
   "execution_count": 9,
   "metadata": {},
   "outputs": [
    {
     "data": {
      "text/plain": [
       "89950166    85136\n",
       "89950167    45991\n",
       "89016252    33965\n",
       "99999828    33609\n",
       "89950168    21758\n",
       "99999827    20471\n",
       "99999826    18424\n",
       "99999830    13487\n",
       "99999825    12930\n",
       "89016253     9378\n",
       "89016259     8477\n",
       "Name: current_service, dtype: int64"
      ]
     },
     "execution_count": 9,
     "metadata": {},
     "output_type": "execute_result"
    }
   ],
   "source": [
    "train_4.current_service.value_counts()"
   ]
  },
  {
   "cell_type": "code",
   "execution_count": 25,
   "metadata": {},
   "outputs": [],
   "source": [
    "from sklearn import ensemble\n",
    "from sklearn import model_selection\n",
    "#from sklearn.ensemble import GradientBoostingRegressor\n",
    "from sklearn.ensemble import RandomForestClassifier\n",
    "\n",
    "def predict_type(train, test):\n",
    "    X_train = train.drop('current_service', axis=1)\n",
    "    y_train = train['current_service'].astype('int')\n",
    "    X_test = test\n",
    "    \n",
    "    rf_reg = RandomForestClassifier()\n",
    "    rf_reg_param_grid = {'n_estimators': [200], 'max_depth': [18], 'random_state': [0],\n",
    "                        'min_samples_split': [2], 'min_samples_leaf': [1], 'max_features':[0.8]}\n",
    "    rf_reg_grid = model_selection.GridSearchCV(rf_reg, rf_reg_param_grid, cv=3,\n",
    "                                               n_jobs=-1, verbose=3,\n",
    "                                               scoring='accuracy')\n",
    "    rf_reg_grid.fit(X_train, y_train.astype('int'))\n",
    "    print('Age feature Best RF Params:' + str(rf_reg_grid.best_params_))\n",
    "    print('Age feature Best RF Score:' + str(rf_reg_grid.best_score_))\n",
    "    #print('RF Train Error for \"Age\" Feature Regressor' + str(rf_reg_grid.score(X_train, y_train)))\n",
    "    #rf_type_test = rf_reg_grid.predict_proba(X_test)\n",
    "    rf_type_test = rf_reg_grid.predict(X_test)\n",
    "    \n",
    "    return rf_type_test,rf_reg_grid.best_score_"
   ]
  },
  {
   "cell_type": "markdown",
   "metadata": {},
   "source": [
    "## type4 prediction"
   ]
  },
  {
   "cell_type": "code",
   "execution_count": 16,
   "metadata": {
    "scrolled": true
   },
   "outputs": [
    {
     "name": "stdout",
     "output_type": "stream",
     "text": [
      "Fitting 3 folds for each of 1 candidates, totalling 3 fits\n",
      "[CV] max_depth=15, max_features=0.8, min_samples_leaf=1, min_samples_split=2, n_estimators=200, random_state=0 \n",
      "[CV] max_depth=15, max_features=0.8, min_samples_leaf=1, min_samples_split=2, n_estimators=200, random_state=0 \n"
     ]
    },
    {
     "ename": "KeyboardInterrupt",
     "evalue": "",
     "output_type": "error",
     "traceback": [
      "\u001b[0;31m---------------------------------------------------------------------------\u001b[0m",
      "\u001b[0;31mKeyboardInterrupt\u001b[0m                         Traceback (most recent call last)",
      "\u001b[0;32m<ipython-input-16-c5737d80431b>\u001b[0m in \u001b[0;36m<module>\u001b[0;34m()\u001b[0m\n\u001b[0;32m----> 1\u001b[0;31m \u001b[0my_pred_4\u001b[0m\u001b[0;34m,\u001b[0m \u001b[0mbest_score\u001b[0m \u001b[0;34m=\u001b[0m \u001b[0mpredict_type\u001b[0m\u001b[0;34m(\u001b[0m\u001b[0mtrain_1\u001b[0m\u001b[0;34m,\u001b[0m \u001b[0mtest_1\u001b[0m\u001b[0;34m)\u001b[0m\u001b[0;34m\u001b[0m\u001b[0m\n\u001b[0m",
      "\u001b[0;32m<ipython-input-15-3258739bffdb>\u001b[0m in \u001b[0;36mpredict_type\u001b[0;34m(train, test)\u001b[0m\n\u001b[1;32m     15\u001b[0m                                                \u001b[0mn_jobs\u001b[0m\u001b[0;34m=\u001b[0m\u001b[0;34m-\u001b[0m\u001b[0;36m1\u001b[0m\u001b[0;34m,\u001b[0m \u001b[0mverbose\u001b[0m\u001b[0;34m=\u001b[0m\u001b[0;36m3\u001b[0m\u001b[0;34m,\u001b[0m\u001b[0;34m\u001b[0m\u001b[0m\n\u001b[1;32m     16\u001b[0m                                                scoring='accuracy')\n\u001b[0;32m---> 17\u001b[0;31m     \u001b[0mrf_reg_grid\u001b[0m\u001b[0;34m.\u001b[0m\u001b[0mfit\u001b[0m\u001b[0;34m(\u001b[0m\u001b[0mX_train\u001b[0m\u001b[0;34m,\u001b[0m \u001b[0my_train\u001b[0m\u001b[0;34m.\u001b[0m\u001b[0mastype\u001b[0m\u001b[0;34m(\u001b[0m\u001b[0;34m'int'\u001b[0m\u001b[0;34m)\u001b[0m\u001b[0;34m)\u001b[0m\u001b[0;34m\u001b[0m\u001b[0m\n\u001b[0m\u001b[1;32m     18\u001b[0m     \u001b[0mprint\u001b[0m\u001b[0;34m(\u001b[0m\u001b[0;34m'Age feature Best RF Params:'\u001b[0m \u001b[0;34m+\u001b[0m \u001b[0mstr\u001b[0m\u001b[0;34m(\u001b[0m\u001b[0mrf_reg_grid\u001b[0m\u001b[0;34m.\u001b[0m\u001b[0mbest_params_\u001b[0m\u001b[0;34m)\u001b[0m\u001b[0;34m)\u001b[0m\u001b[0;34m\u001b[0m\u001b[0m\n\u001b[1;32m     19\u001b[0m     \u001b[0mprint\u001b[0m\u001b[0;34m(\u001b[0m\u001b[0;34m'Age feature Best RF Score:'\u001b[0m \u001b[0;34m+\u001b[0m \u001b[0mstr\u001b[0m\u001b[0;34m(\u001b[0m\u001b[0mrf_reg_grid\u001b[0m\u001b[0;34m.\u001b[0m\u001b[0mbest_score_\u001b[0m\u001b[0;34m)\u001b[0m\u001b[0;34m)\u001b[0m\u001b[0;34m\u001b[0m\u001b[0m\n",
      "\u001b[0;32m~/anaconda3/lib/python3.6/site-packages/sklearn/model_selection/_search.py\u001b[0m in \u001b[0;36mfit\u001b[0;34m(self, X, y, groups, **fit_params)\u001b[0m\n\u001b[1;32m    637\u001b[0m                                   error_score=self.error_score)\n\u001b[1;32m    638\u001b[0m           for parameters, (train, test) in product(candidate_params,\n\u001b[0;32m--> 639\u001b[0;31m                                                    cv.split(X, y, groups)))\n\u001b[0m\u001b[1;32m    640\u001b[0m \u001b[0;34m\u001b[0m\u001b[0m\n\u001b[1;32m    641\u001b[0m         \u001b[0;31m# if one choose to see train score, \"out\" will contain train score info\u001b[0m\u001b[0;34m\u001b[0m\u001b[0;34m\u001b[0m\u001b[0m\n",
      "\u001b[0;32m~/anaconda3/lib/python3.6/site-packages/sklearn/externals/joblib/parallel.py\u001b[0m in \u001b[0;36m__call__\u001b[0;34m(self, iterable)\u001b[0m\n\u001b[1;32m    787\u001b[0m                 \u001b[0;31m# consumption.\u001b[0m\u001b[0;34m\u001b[0m\u001b[0;34m\u001b[0m\u001b[0m\n\u001b[1;32m    788\u001b[0m                 \u001b[0mself\u001b[0m\u001b[0;34m.\u001b[0m\u001b[0m_iterating\u001b[0m \u001b[0;34m=\u001b[0m \u001b[0;32mFalse\u001b[0m\u001b[0;34m\u001b[0m\u001b[0m\n\u001b[0;32m--> 789\u001b[0;31m             \u001b[0mself\u001b[0m\u001b[0;34m.\u001b[0m\u001b[0mretrieve\u001b[0m\u001b[0;34m(\u001b[0m\u001b[0;34m)\u001b[0m\u001b[0;34m\u001b[0m\u001b[0m\n\u001b[0m\u001b[1;32m    790\u001b[0m             \u001b[0;31m# Make sure that we get a last message telling us we are done\u001b[0m\u001b[0;34m\u001b[0m\u001b[0;34m\u001b[0m\u001b[0m\n\u001b[1;32m    791\u001b[0m             \u001b[0melapsed_time\u001b[0m \u001b[0;34m=\u001b[0m \u001b[0mtime\u001b[0m\u001b[0;34m.\u001b[0m\u001b[0mtime\u001b[0m\u001b[0;34m(\u001b[0m\u001b[0;34m)\u001b[0m \u001b[0;34m-\u001b[0m \u001b[0mself\u001b[0m\u001b[0;34m.\u001b[0m\u001b[0m_start_time\u001b[0m\u001b[0;34m\u001b[0m\u001b[0m\n",
      "\u001b[0;32m~/anaconda3/lib/python3.6/site-packages/sklearn/externals/joblib/parallel.py\u001b[0m in \u001b[0;36mretrieve\u001b[0;34m(self)\u001b[0m\n\u001b[1;32m    697\u001b[0m             \u001b[0;32mtry\u001b[0m\u001b[0;34m:\u001b[0m\u001b[0;34m\u001b[0m\u001b[0m\n\u001b[1;32m    698\u001b[0m                 \u001b[0;32mif\u001b[0m \u001b[0mgetattr\u001b[0m\u001b[0;34m(\u001b[0m\u001b[0mself\u001b[0m\u001b[0;34m.\u001b[0m\u001b[0m_backend\u001b[0m\u001b[0;34m,\u001b[0m \u001b[0;34m'supports_timeout'\u001b[0m\u001b[0;34m,\u001b[0m \u001b[0;32mFalse\u001b[0m\u001b[0;34m)\u001b[0m\u001b[0;34m:\u001b[0m\u001b[0;34m\u001b[0m\u001b[0m\n\u001b[0;32m--> 699\u001b[0;31m                     \u001b[0mself\u001b[0m\u001b[0;34m.\u001b[0m\u001b[0m_output\u001b[0m\u001b[0;34m.\u001b[0m\u001b[0mextend\u001b[0m\u001b[0;34m(\u001b[0m\u001b[0mjob\u001b[0m\u001b[0;34m.\u001b[0m\u001b[0mget\u001b[0m\u001b[0;34m(\u001b[0m\u001b[0mtimeout\u001b[0m\u001b[0;34m=\u001b[0m\u001b[0mself\u001b[0m\u001b[0;34m.\u001b[0m\u001b[0mtimeout\u001b[0m\u001b[0;34m)\u001b[0m\u001b[0;34m)\u001b[0m\u001b[0;34m\u001b[0m\u001b[0m\n\u001b[0m\u001b[1;32m    700\u001b[0m                 \u001b[0;32melse\u001b[0m\u001b[0;34m:\u001b[0m\u001b[0;34m\u001b[0m\u001b[0m\n\u001b[1;32m    701\u001b[0m                     \u001b[0mself\u001b[0m\u001b[0;34m.\u001b[0m\u001b[0m_output\u001b[0m\u001b[0;34m.\u001b[0m\u001b[0mextend\u001b[0m\u001b[0;34m(\u001b[0m\u001b[0mjob\u001b[0m\u001b[0;34m.\u001b[0m\u001b[0mget\u001b[0m\u001b[0;34m(\u001b[0m\u001b[0;34m)\u001b[0m\u001b[0;34m)\u001b[0m\u001b[0;34m\u001b[0m\u001b[0m\n",
      "\u001b[0;32m~/anaconda3/lib/python3.6/multiprocessing/pool.py\u001b[0m in \u001b[0;36mget\u001b[0;34m(self, timeout)\u001b[0m\n\u001b[1;32m    636\u001b[0m \u001b[0;34m\u001b[0m\u001b[0m\n\u001b[1;32m    637\u001b[0m     \u001b[0;32mdef\u001b[0m \u001b[0mget\u001b[0m\u001b[0;34m(\u001b[0m\u001b[0mself\u001b[0m\u001b[0;34m,\u001b[0m \u001b[0mtimeout\u001b[0m\u001b[0;34m=\u001b[0m\u001b[0;32mNone\u001b[0m\u001b[0;34m)\u001b[0m\u001b[0;34m:\u001b[0m\u001b[0;34m\u001b[0m\u001b[0m\n\u001b[0;32m--> 638\u001b[0;31m         \u001b[0mself\u001b[0m\u001b[0;34m.\u001b[0m\u001b[0mwait\u001b[0m\u001b[0;34m(\u001b[0m\u001b[0mtimeout\u001b[0m\u001b[0;34m)\u001b[0m\u001b[0;34m\u001b[0m\u001b[0m\n\u001b[0m\u001b[1;32m    639\u001b[0m         \u001b[0;32mif\u001b[0m \u001b[0;32mnot\u001b[0m \u001b[0mself\u001b[0m\u001b[0;34m.\u001b[0m\u001b[0mready\u001b[0m\u001b[0;34m(\u001b[0m\u001b[0;34m)\u001b[0m\u001b[0;34m:\u001b[0m\u001b[0;34m\u001b[0m\u001b[0m\n\u001b[1;32m    640\u001b[0m             \u001b[0;32mraise\u001b[0m \u001b[0mTimeoutError\u001b[0m\u001b[0;34m\u001b[0m\u001b[0m\n",
      "\u001b[0;32m~/anaconda3/lib/python3.6/multiprocessing/pool.py\u001b[0m in \u001b[0;36mwait\u001b[0;34m(self, timeout)\u001b[0m\n\u001b[1;32m    633\u001b[0m \u001b[0;34m\u001b[0m\u001b[0m\n\u001b[1;32m    634\u001b[0m     \u001b[0;32mdef\u001b[0m \u001b[0mwait\u001b[0m\u001b[0;34m(\u001b[0m\u001b[0mself\u001b[0m\u001b[0;34m,\u001b[0m \u001b[0mtimeout\u001b[0m\u001b[0;34m=\u001b[0m\u001b[0;32mNone\u001b[0m\u001b[0;34m)\u001b[0m\u001b[0;34m:\u001b[0m\u001b[0;34m\u001b[0m\u001b[0m\n\u001b[0;32m--> 635\u001b[0;31m         \u001b[0mself\u001b[0m\u001b[0;34m.\u001b[0m\u001b[0m_event\u001b[0m\u001b[0;34m.\u001b[0m\u001b[0mwait\u001b[0m\u001b[0;34m(\u001b[0m\u001b[0mtimeout\u001b[0m\u001b[0;34m)\u001b[0m\u001b[0;34m\u001b[0m\u001b[0m\n\u001b[0m\u001b[1;32m    636\u001b[0m \u001b[0;34m\u001b[0m\u001b[0m\n\u001b[1;32m    637\u001b[0m     \u001b[0;32mdef\u001b[0m \u001b[0mget\u001b[0m\u001b[0;34m(\u001b[0m\u001b[0mself\u001b[0m\u001b[0;34m,\u001b[0m \u001b[0mtimeout\u001b[0m\u001b[0;34m=\u001b[0m\u001b[0;32mNone\u001b[0m\u001b[0;34m)\u001b[0m\u001b[0;34m:\u001b[0m\u001b[0;34m\u001b[0m\u001b[0m\n",
      "\u001b[0;32m~/anaconda3/lib/python3.6/threading.py\u001b[0m in \u001b[0;36mwait\u001b[0;34m(self, timeout)\u001b[0m\n\u001b[1;32m    549\u001b[0m             \u001b[0msignaled\u001b[0m \u001b[0;34m=\u001b[0m \u001b[0mself\u001b[0m\u001b[0;34m.\u001b[0m\u001b[0m_flag\u001b[0m\u001b[0;34m\u001b[0m\u001b[0m\n\u001b[1;32m    550\u001b[0m             \u001b[0;32mif\u001b[0m \u001b[0;32mnot\u001b[0m \u001b[0msignaled\u001b[0m\u001b[0;34m:\u001b[0m\u001b[0;34m\u001b[0m\u001b[0m\n\u001b[0;32m--> 551\u001b[0;31m                 \u001b[0msignaled\u001b[0m \u001b[0;34m=\u001b[0m \u001b[0mself\u001b[0m\u001b[0;34m.\u001b[0m\u001b[0m_cond\u001b[0m\u001b[0;34m.\u001b[0m\u001b[0mwait\u001b[0m\u001b[0;34m(\u001b[0m\u001b[0mtimeout\u001b[0m\u001b[0;34m)\u001b[0m\u001b[0;34m\u001b[0m\u001b[0m\n\u001b[0m\u001b[1;32m    552\u001b[0m             \u001b[0;32mreturn\u001b[0m \u001b[0msignaled\u001b[0m\u001b[0;34m\u001b[0m\u001b[0m\n\u001b[1;32m    553\u001b[0m \u001b[0;34m\u001b[0m\u001b[0m\n",
      "\u001b[0;32m~/anaconda3/lib/python3.6/threading.py\u001b[0m in \u001b[0;36mwait\u001b[0;34m(self, timeout)\u001b[0m\n\u001b[1;32m    293\u001b[0m         \u001b[0;32mtry\u001b[0m\u001b[0;34m:\u001b[0m    \u001b[0;31m# restore state no matter what (e.g., KeyboardInterrupt)\u001b[0m\u001b[0;34m\u001b[0m\u001b[0m\n\u001b[1;32m    294\u001b[0m             \u001b[0;32mif\u001b[0m \u001b[0mtimeout\u001b[0m \u001b[0;32mis\u001b[0m \u001b[0;32mNone\u001b[0m\u001b[0;34m:\u001b[0m\u001b[0;34m\u001b[0m\u001b[0m\n\u001b[0;32m--> 295\u001b[0;31m                 \u001b[0mwaiter\u001b[0m\u001b[0;34m.\u001b[0m\u001b[0macquire\u001b[0m\u001b[0;34m(\u001b[0m\u001b[0;34m)\u001b[0m\u001b[0;34m\u001b[0m\u001b[0m\n\u001b[0m\u001b[1;32m    296\u001b[0m                 \u001b[0mgotit\u001b[0m \u001b[0;34m=\u001b[0m \u001b[0;32mTrue\u001b[0m\u001b[0;34m\u001b[0m\u001b[0m\n\u001b[1;32m    297\u001b[0m             \u001b[0;32melse\u001b[0m\u001b[0;34m:\u001b[0m\u001b[0;34m\u001b[0m\u001b[0m\n",
      "\u001b[0;31mKeyboardInterrupt\u001b[0m: "
     ]
    }
   ],
   "source": [
    "y_pred_4, best_score = predict_type(train_4, test_4)"
   ]
  },
  {
   "cell_type": "code",
   "execution_count": 56,
   "metadata": {},
   "outputs": [
    {
     "data": {
      "text/plain": [
       "array([[0.00000000e+00, 0.00000000e+00, 0.00000000e+00, ...,\n",
       "        0.00000000e+00, 0.00000000e+00, 5.62844928e-02],\n",
       "       [0.00000000e+00, 0.00000000e+00, 0.00000000e+00, ...,\n",
       "        0.00000000e+00, 2.79549410e-04, 6.84170489e-03],\n",
       "       [0.00000000e+00, 0.00000000e+00, 0.00000000e+00, ...,\n",
       "        5.00000000e-03, 1.75000000e-02, 4.90663558e-01],\n",
       "       ...,\n",
       "       [0.00000000e+00, 0.00000000e+00, 0.00000000e+00, ...,\n",
       "        1.39600793e-05, 2.31224621e-04, 1.01607367e-02],\n",
       "       [0.00000000e+00, 0.00000000e+00, 0.00000000e+00, ...,\n",
       "        0.00000000e+00, 1.54984376e-04, 2.09003696e-03],\n",
       "       [0.00000000e+00, 0.00000000e+00, 0.00000000e+00, ...,\n",
       "        2.08681135e-06, 1.44939217e-04, 6.37886769e-03]])"
      ]
     },
     "execution_count": 56,
     "metadata": {},
     "output_type": "execute_result"
    }
   ],
   "source": [
    "y_pred_4"
   ]
  },
  {
   "cell_type": "code",
   "execution_count": 58,
   "metadata": {},
   "outputs": [],
   "source": [
    "#pd.DataFrame(y_pred_4).to_csv('rf_softmax_4.csv')"
   ]
  },
  {
   "cell_type": "code",
   "execution_count": 30,
   "metadata": {},
   "outputs": [],
   "source": [
    "final_pred_4 = pd.DataFrame(test[test.service_type == 4].user_id).reset_index(drop=True)"
   ]
  },
  {
   "cell_type": "code",
   "execution_count": 31,
   "metadata": {},
   "outputs": [],
   "source": [
    "final_pred_4['predict'] = pd.DataFrame(y_pred_4).iloc[:,0]"
   ]
  },
  {
   "cell_type": "code",
   "execution_count": 34,
   "metadata": {},
   "outputs": [
    {
     "data": {
      "text/plain": [
       "89950166    41437\n",
       "89950167    22016\n",
       "99999828    15598\n",
       "89016252    15359\n",
       "99999827     9699\n",
       "89950168     9647\n",
       "99999826     9526\n",
       "99999825     6206\n",
       "99999830     5326\n",
       "89016259     4196\n",
       "89016253     3904\n",
       "Name: predict, dtype: int64"
      ]
     },
     "execution_count": 34,
     "metadata": {},
     "output_type": "execute_result"
    }
   ],
   "source": [
    "final_pred_4.predict.value_counts()"
   ]
  },
  {
   "cell_type": "markdown",
   "metadata": {},
   "source": [
    "## type1 prediction"
   ]
  },
  {
   "cell_type": "code",
   "execution_count": 26,
   "metadata": {},
   "outputs": [
    {
     "ename": "KeyError",
     "evalue": "\"labels ['former_complaint_num' 'former_complaint_fee'] not contained in axis\"",
     "output_type": "error",
     "traceback": [
      "\u001b[0;31m---------------------------------------------------------------------------\u001b[0m",
      "\u001b[0;31mKeyError\u001b[0m                                  Traceback (most recent call last)",
      "\u001b[0;32m<ipython-input-26-acc1a014f3f9>\u001b[0m in \u001b[0;36m<module>\u001b[0;34m()\u001b[0m\n\u001b[0;32m----> 1\u001b[0;31m \u001b[0mtrain_1\u001b[0m \u001b[0;34m=\u001b[0m \u001b[0mtrain_1\u001b[0m\u001b[0;34m.\u001b[0m\u001b[0mdrop\u001b[0m\u001b[0;34m(\u001b[0m\u001b[0;34m[\u001b[0m\u001b[0;34m'former_complaint_num'\u001b[0m\u001b[0;34m,\u001b[0m \u001b[0;34m'former_complaint_fee'\u001b[0m\u001b[0;34m]\u001b[0m\u001b[0;34m,\u001b[0m\u001b[0maxis\u001b[0m\u001b[0;34m=\u001b[0m\u001b[0;36m1\u001b[0m\u001b[0;34m)\u001b[0m\u001b[0;34m\u001b[0m\u001b[0m\n\u001b[0m\u001b[1;32m      2\u001b[0m \u001b[0mtest_1\u001b[0m \u001b[0;34m=\u001b[0m \u001b[0mtest_1\u001b[0m\u001b[0;34m.\u001b[0m\u001b[0mdrop\u001b[0m\u001b[0;34m(\u001b[0m\u001b[0;34m[\u001b[0m\u001b[0;34m'former_complaint_num'\u001b[0m\u001b[0;34m,\u001b[0m \u001b[0;34m'former_complaint_fee'\u001b[0m\u001b[0;34m]\u001b[0m\u001b[0;34m,\u001b[0m\u001b[0maxis\u001b[0m\u001b[0;34m=\u001b[0m\u001b[0;36m1\u001b[0m\u001b[0;34m)\u001b[0m\u001b[0;34m\u001b[0m\u001b[0m\n",
      "\u001b[0;32m~/anaconda3/lib/python3.6/site-packages/pandas/core/frame.py\u001b[0m in \u001b[0;36mdrop\u001b[0;34m(self, labels, axis, index, columns, level, inplace, errors)\u001b[0m\n\u001b[1;32m   3692\u001b[0m                                            \u001b[0mindex\u001b[0m\u001b[0;34m=\u001b[0m\u001b[0mindex\u001b[0m\u001b[0;34m,\u001b[0m \u001b[0mcolumns\u001b[0m\u001b[0;34m=\u001b[0m\u001b[0mcolumns\u001b[0m\u001b[0;34m,\u001b[0m\u001b[0;34m\u001b[0m\u001b[0m\n\u001b[1;32m   3693\u001b[0m                                            \u001b[0mlevel\u001b[0m\u001b[0;34m=\u001b[0m\u001b[0mlevel\u001b[0m\u001b[0;34m,\u001b[0m \u001b[0minplace\u001b[0m\u001b[0;34m=\u001b[0m\u001b[0minplace\u001b[0m\u001b[0;34m,\u001b[0m\u001b[0;34m\u001b[0m\u001b[0m\n\u001b[0;32m-> 3694\u001b[0;31m                                            errors=errors)\n\u001b[0m\u001b[1;32m   3695\u001b[0m \u001b[0;34m\u001b[0m\u001b[0m\n\u001b[1;32m   3696\u001b[0m     @rewrite_axis_style_signature('mapper', [('copy', True),\n",
      "\u001b[0;32m~/anaconda3/lib/python3.6/site-packages/pandas/core/generic.py\u001b[0m in \u001b[0;36mdrop\u001b[0;34m(self, labels, axis, index, columns, level, inplace, errors)\u001b[0m\n\u001b[1;32m   3106\u001b[0m         \u001b[0;32mfor\u001b[0m \u001b[0maxis\u001b[0m\u001b[0;34m,\u001b[0m \u001b[0mlabels\u001b[0m \u001b[0;32min\u001b[0m \u001b[0maxes\u001b[0m\u001b[0;34m.\u001b[0m\u001b[0mitems\u001b[0m\u001b[0;34m(\u001b[0m\u001b[0;34m)\u001b[0m\u001b[0;34m:\u001b[0m\u001b[0;34m\u001b[0m\u001b[0m\n\u001b[1;32m   3107\u001b[0m             \u001b[0;32mif\u001b[0m \u001b[0mlabels\u001b[0m \u001b[0;32mis\u001b[0m \u001b[0;32mnot\u001b[0m \u001b[0;32mNone\u001b[0m\u001b[0;34m:\u001b[0m\u001b[0;34m\u001b[0m\u001b[0m\n\u001b[0;32m-> 3108\u001b[0;31m                 \u001b[0mobj\u001b[0m \u001b[0;34m=\u001b[0m \u001b[0mobj\u001b[0m\u001b[0;34m.\u001b[0m\u001b[0m_drop_axis\u001b[0m\u001b[0;34m(\u001b[0m\u001b[0mlabels\u001b[0m\u001b[0;34m,\u001b[0m \u001b[0maxis\u001b[0m\u001b[0;34m,\u001b[0m \u001b[0mlevel\u001b[0m\u001b[0;34m=\u001b[0m\u001b[0mlevel\u001b[0m\u001b[0;34m,\u001b[0m \u001b[0merrors\u001b[0m\u001b[0;34m=\u001b[0m\u001b[0merrors\u001b[0m\u001b[0;34m)\u001b[0m\u001b[0;34m\u001b[0m\u001b[0m\n\u001b[0m\u001b[1;32m   3109\u001b[0m \u001b[0;34m\u001b[0m\u001b[0m\n\u001b[1;32m   3110\u001b[0m         \u001b[0;32mif\u001b[0m \u001b[0minplace\u001b[0m\u001b[0;34m:\u001b[0m\u001b[0;34m\u001b[0m\u001b[0m\n",
      "\u001b[0;32m~/anaconda3/lib/python3.6/site-packages/pandas/core/generic.py\u001b[0m in \u001b[0;36m_drop_axis\u001b[0;34m(self, labels, axis, level, errors)\u001b[0m\n\u001b[1;32m   3138\u001b[0m                 \u001b[0mnew_axis\u001b[0m \u001b[0;34m=\u001b[0m \u001b[0maxis\u001b[0m\u001b[0;34m.\u001b[0m\u001b[0mdrop\u001b[0m\u001b[0;34m(\u001b[0m\u001b[0mlabels\u001b[0m\u001b[0;34m,\u001b[0m \u001b[0mlevel\u001b[0m\u001b[0;34m=\u001b[0m\u001b[0mlevel\u001b[0m\u001b[0;34m,\u001b[0m \u001b[0merrors\u001b[0m\u001b[0;34m=\u001b[0m\u001b[0merrors\u001b[0m\u001b[0;34m)\u001b[0m\u001b[0;34m\u001b[0m\u001b[0m\n\u001b[1;32m   3139\u001b[0m             \u001b[0;32melse\u001b[0m\u001b[0;34m:\u001b[0m\u001b[0;34m\u001b[0m\u001b[0m\n\u001b[0;32m-> 3140\u001b[0;31m                 \u001b[0mnew_axis\u001b[0m \u001b[0;34m=\u001b[0m \u001b[0maxis\u001b[0m\u001b[0;34m.\u001b[0m\u001b[0mdrop\u001b[0m\u001b[0;34m(\u001b[0m\u001b[0mlabels\u001b[0m\u001b[0;34m,\u001b[0m \u001b[0merrors\u001b[0m\u001b[0;34m=\u001b[0m\u001b[0merrors\u001b[0m\u001b[0;34m)\u001b[0m\u001b[0;34m\u001b[0m\u001b[0m\n\u001b[0m\u001b[1;32m   3141\u001b[0m             \u001b[0mdropped\u001b[0m \u001b[0;34m=\u001b[0m \u001b[0mself\u001b[0m\u001b[0;34m.\u001b[0m\u001b[0mreindex\u001b[0m\u001b[0;34m(\u001b[0m\u001b[0;34m**\u001b[0m\u001b[0;34m{\u001b[0m\u001b[0maxis_name\u001b[0m\u001b[0;34m:\u001b[0m \u001b[0mnew_axis\u001b[0m\u001b[0;34m}\u001b[0m\u001b[0;34m)\u001b[0m\u001b[0;34m\u001b[0m\u001b[0m\n\u001b[1;32m   3142\u001b[0m             \u001b[0;32mtry\u001b[0m\u001b[0;34m:\u001b[0m\u001b[0;34m\u001b[0m\u001b[0m\n",
      "\u001b[0;32m~/anaconda3/lib/python3.6/site-packages/pandas/core/indexes/base.py\u001b[0m in \u001b[0;36mdrop\u001b[0;34m(self, labels, errors)\u001b[0m\n\u001b[1;32m   4385\u001b[0m             \u001b[0;32mif\u001b[0m \u001b[0merrors\u001b[0m \u001b[0;34m!=\u001b[0m \u001b[0;34m'ignore'\u001b[0m\u001b[0;34m:\u001b[0m\u001b[0;34m\u001b[0m\u001b[0m\n\u001b[1;32m   4386\u001b[0m                 raise KeyError(\n\u001b[0;32m-> 4387\u001b[0;31m                     'labels %s not contained in axis' % labels[mask])\n\u001b[0m\u001b[1;32m   4388\u001b[0m             \u001b[0mindexer\u001b[0m \u001b[0;34m=\u001b[0m \u001b[0mindexer\u001b[0m\u001b[0;34m[\u001b[0m\u001b[0;34m~\u001b[0m\u001b[0mmask\u001b[0m\u001b[0;34m]\u001b[0m\u001b[0;34m\u001b[0m\u001b[0m\n\u001b[1;32m   4389\u001b[0m         \u001b[0;32mreturn\u001b[0m \u001b[0mself\u001b[0m\u001b[0;34m.\u001b[0m\u001b[0mdelete\u001b[0m\u001b[0;34m(\u001b[0m\u001b[0mindexer\u001b[0m\u001b[0;34m)\u001b[0m\u001b[0;34m\u001b[0m\u001b[0m\n",
      "\u001b[0;31mKeyError\u001b[0m: \"labels ['former_complaint_num' 'former_complaint_fee'] not contained in axis\""
     ]
    }
   ],
   "source": [
    "train_1 = train_1.drop(['former_complaint_num', 'former_complaint_fee'],axis=1)\n",
    "test_1 = test_1.drop(['former_complaint_num', 'former_complaint_fee'],axis=1)"
   ]
  },
  {
   "cell_type": "code",
   "execution_count": 27,
   "metadata": {},
   "outputs": [
    {
     "name": "stdout",
     "output_type": "stream",
     "text": [
      "Fitting 3 folds for each of 1 candidates, totalling 3 fits\n",
      "[CV] max_depth=18, max_features=0.8, min_samples_leaf=1, min_samples_split=2, n_estimators=200, random_state=0 \n",
      "[CV] max_depth=18, max_features=0.8, min_samples_leaf=1, min_samples_split=2, n_estimators=200, random_state=0 \n",
      "[CV]  max_depth=18, max_features=0.8, min_samples_leaf=1, min_samples_split=2, n_estimators=200, random_state=0, score=0.9936916125101544, total= 3.6min\n",
      "[CV] max_depth=18, max_features=0.8, min_samples_leaf=1, min_samples_split=2, n_estimators=200, random_state=0 \n",
      "[CV]  max_depth=18, max_features=0.8, min_samples_leaf=1, min_samples_split=2, n_estimators=200, random_state=0, score=0.9938186202957415, total= 3.7min\n",
      "[CV]  max_depth=18, max_features=0.8, min_samples_leaf=1, min_samples_split=2, n_estimators=200, random_state=0, score=0.9936407600624501, total= 2.4min\n"
     ]
    },
    {
     "name": "stderr",
     "output_type": "stream",
     "text": [
      "[Parallel(n_jobs=-1)]: Done   3 out of   3 | elapsed:  6.2min finished\n"
     ]
    },
    {
     "name": "stdout",
     "output_type": "stream",
     "text": [
      "Age feature Best RF Params:{'max_depth': 18, 'max_features': 0.8, 'min_samples_leaf': 1, 'min_samples_split': 2, 'n_estimators': 200, 'random_state': 0}\n",
      "Age feature Best RF Score:0.9937169983753046\n"
     ]
    }
   ],
   "source": [
    "y_pred_1, best_score = predict_type(train_1, test_1)"
   ]
  },
  {
   "cell_type": "code",
   "execution_count": 59,
   "metadata": {},
   "outputs": [],
   "source": [
    "#pd.DataFrame(y_pred_1).to_csv('rf_softmax_1.csv')"
   ]
  },
  {
   "cell_type": "code",
   "execution_count": 20,
   "metadata": {},
   "outputs": [],
   "source": [
    "final_pred_1 = pd.DataFrame(test[test.service_type == 1].user_id).reset_index(drop=True)"
   ]
  },
  {
   "cell_type": "code",
   "execution_count": 21,
   "metadata": {},
   "outputs": [],
   "source": [
    "final_pred_1['predict'] = pd.DataFrame(y_pred_1).iloc[:,0]"
   ]
  },
  {
   "cell_type": "code",
   "execution_count": 22,
   "metadata": {},
   "outputs": [
    {
     "data": {
      "text/plain": [
       "90063345    85943\n",
       "90109916    11438\n",
       "90155946     6564\n",
       "Name: predict, dtype: int64"
      ]
     },
     "execution_count": 22,
     "metadata": {},
     "output_type": "execute_result"
    }
   ],
   "source": [
    "final_pred_1.predict.value_counts()"
   ]
  },
  {
   "cell_type": "code",
   "execution_count": 42,
   "metadata": {},
   "outputs": [],
   "source": [
    "final_pred_3 = test[test.service_type == 3][['user_id']]\n",
    "final_pred_3['predict'] = 99104722\n",
    "pred_total = pd.concat([final_pred_1,final_pred_3,final_pred_4],axis=0)\n",
    "\n",
    "submit = pd.read_csv('../moblie_data/submit_sample.csv')\n",
    "\n",
    "final_submit = pd.merge(submit,pred_total,how='left', on='user_id')\n",
    "final_submit['predict'] = final_submit['predict_y']\n",
    "final_submit = final_submit.drop(['predict_x','predict_y'], axis=1)"
   ]
  },
  {
   "cell_type": "code",
   "execution_count": 43,
   "metadata": {},
   "outputs": [],
   "source": [
    "final_submit.to_csv('../moblie_data/first_rf_09231900.csv', index=False)"
   ]
  },
  {
   "cell_type": "code",
   "execution_count": 44,
   "metadata": {},
   "outputs": [
    {
     "data": {
      "text/plain": [
       "90063345    85956\n",
       "89950166    41437\n",
       "89950167    22016\n",
       "99104722    15706\n",
       "99999828    15598\n",
       "89016252    15359\n",
       "90109916    11436\n",
       "99999827     9699\n",
       "89950168     9647\n",
       "99999826     9526\n",
       "90155946     6553\n",
       "99999825     6206\n",
       "99999830     5326\n",
       "89016259     4196\n",
       "89016253     3904\n",
       "Name: predict, dtype: int64"
      ]
     },
     "execution_count": 44,
     "metadata": {},
     "output_type": "execute_result"
    }
   ],
   "source": [
    "final_submit.predict.value_counts()"
   ]
  },
  {
   "cell_type": "markdown",
   "metadata": {},
   "source": [
    "## train test 重复替换"
   ]
  },
  {
   "cell_type": "code",
   "execution_count": null,
   "metadata": {},
   "outputs": [],
   "source": []
  }
 ],
 "metadata": {
  "kernelspec": {
   "display_name": "Python 3",
   "language": "python",
   "name": "python3"
  },
  "language_info": {
   "codemirror_mode": {
    "name": "ipython",
    "version": 3
   },
   "file_extension": ".py",
   "mimetype": "text/x-python",
   "name": "python",
   "nbconvert_exporter": "python",
   "pygments_lexer": "ipython3",
   "version": "3.6.5"
  }
 },
 "nbformat": 4,
 "nbformat_minor": 2
}
